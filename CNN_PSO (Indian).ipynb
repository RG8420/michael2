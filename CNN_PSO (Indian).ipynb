{
 "cells": [
  {
   "cell_type": "markdown",
   "metadata": {
    "id": "vTtEB5I2Qxwe"
   },
   "source": [
    "# Mounting Drive"
   ]
  },
  {
   "cell_type": "code",
   "execution_count": 1,
   "metadata": {
    "id": "A7Zu-kdjQnwn",
    "jupyter": {
     "is_executing": true
    }
   },
   "outputs": [],
   "source": [
    "#  #from google.colab import drive\n",
    "# #\n",
    "#  drive.mount(\"./gdrive\", force_remount=True)\n",
    "# #\n",
    "# # %cd \"./gd   rive/My Drive/Colab_Notebooks/PSO/\"\n",
    "# #\n",
    "# # !ls -l"
   ]
  },
  {
   "cell_type": "markdown",
   "metadata": {
    "id": "__I0o1iyQuaO"
   },
   "source": []
  },
  {
   "cell_type": "markdown",
   "metadata": {
    "id": "jwpFl1XHQ2TL"
   },
   "source": [
    "# Importing Libraries"
   ]
  },
  {
   "cell_type": "code",
   "execution_count": 2,
   "metadata": {
    "id": "qAOKEHmERIXN"
   },
   "outputs": [],
   "source": [
    "#library\n",
    "import pandas as pd\n",
    "import numpy as np\n",
    "import random as rnd\n",
    "import os\n",
    "import re\n",
    "import time\n",
    "import seaborn as sns\n",
    "import matplotlib.pyplot as plt\n",
    "%matplotlib inline\n",
    "\n",
    "#Visualization\n",
    "import matplotlib as mpl\n",
    "import matplotlib.pyplot as plt\n",
    "import matplotlib.pylab as pylab\n",
    "import seaborn as sns\n",
    "from pandas.plotting import scatter_matrix\n",
    "\n",
    "# Importing other tools\n",
    "from sklearn import model_selection\n",
    "from sklearn.metrics import confusion_matrix, classification_report, make_scorer\n",
    "from sklearn.metrics import accuracy_score, recall_score, precision_recall_curve\n",
    "\n",
    "import warnings\n",
    "warnings.filterwarnings('ignore')"
   ]
  },
  {
   "cell_type": "markdown",
   "metadata": {
    "id": "gJWGzH-QRI2b"
   },
   "source": [
    "## Data cleaning and preprocessing"
   ]
  },
  {
   "cell_type": "code",
   "execution_count": 5,
   "metadata": {
    "id": "YdEV3iNBRS8Q"
   },
   "outputs": [],
   "source": [
    "coordinate_file_path = 'dataset/VietnamCoordinateFile.xlsx'\n",
    "daluong_file_path = 'dataset/VietnamDatasets.xlsx'\n",
    "\n",
    "df_coordinate = pd.read_excel(coordinate_file_path)\n",
    "df_daluong = pd.read_excel(daluong_file_path)"
   ]
  },
  {
   "cell_type": "code",
   "execution_count": 6,
   "metadata": {
    "collapsed": false,
    "jupyter": {
     "outputs_hidden": false
    }
   },
   "outputs": [],
   "source": [
    "coordinate_columns = ['Well Point Number', 'Longitude and Latitude']\n",
    "daluong_columns = ['well_code', 'na', 'k', 'ca2', 'mg2', 'fe3', 'fe2', 'cl', 'so4', 'hco3',\n",
    "                   'co3', 'no2', 'hardness_general', 'no3', 'hardness_temporal',\n",
    "                   'hardness_permanent', 'ph', 'co2_free', 'co2_depend', 'co2_infiltrate',\n",
    "                   'sio2', 'tds105']\n",
    "\n",
    "df_coordinate = df_coordinate[coordinate_columns]\n",
    "df_daluong = df_daluong[daluong_columns]"
   ]
  },
  {
   "cell_type": "markdown",
   "metadata": {
    "id": "6oCRqMpcRa4i"
   },
   "source": [
    "## Removing Duplicates"
   ]
  },
  {
   "cell_type": "code",
   "execution_count": 7,
   "metadata": {
    "id": "UVICL8eVReNr"
   },
   "outputs": [],
   "source": [
    "# Check for missing values and display the report\n",
    "daluong_mean_columns = ['fe2', 'fe3', 'no2', 'no3', 'co2_infiltrate', 'sio2']\n",
    "for col in daluong_mean_columns:\n",
    "    df_daluong[col].fillna(df_daluong[col].mean(), inplace=True)\n",
    "    \n",
    "# Drop rows with missing values show the results with indicative rows that are dropped.\n",
    "df_daluong.dropna(subset=daluong_columns, inplace=True)\n",
    "\n",
    "df_daluong.drop_duplicates(inplace=True)"
   ]
  },
  {
   "cell_type": "markdown",
   "metadata": {
    "id": "RvvFsQLjRe2a"
   },
   "source": [
    "## Data Validation and Encoding"
   ]
  },
  {
   "cell_type": "code",
   "execution_count": 8,
   "metadata": {
    "id": "LxGXuh4ARmJo"
   },
   "outputs": [],
   "source": [
    "df_coordinate[['Longitude', 'Latitude']] = df_coordinate['Longitude and Latitude'].str.split(',', expand=True)\n",
    "df_coordinate.drop('Longitude and Latitude', axis=1, inplace=True)\n",
    "df_coordinate.rename({'Well Point Number': 'well_code'}, axis=1, inplace=True)"
   ]
  },
  {
   "cell_type": "code",
   "execution_count": 9,
   "metadata": {
    "collapsed": false,
    "jupyter": {
     "outputs_hidden": false
    }
   },
   "outputs": [],
   "source": [
    "def remove_outliers_iqr(dataframe, column):\n",
    "    '''\n",
    "    Remove outliers using the IQR method\n",
    "    :param dataframe: \n",
    "    :param column: \n",
    "    :return: \n",
    "    '''\n",
    "    Q1 = dataframe[column].quantile(0.05)\n",
    "    Q3 = dataframe[column].quantile(0.95)\n",
    "    IQR = Q3 - Q1\n",
    "    df = dataframe[~((dataframe[column] < (Q1 - 1.5 * IQR)) | (dataframe[column] > (Q3 + 1.5 * IQR)))]\n",
    "    return df\n",
    "\n",
    "\n",
    "df_daluong = remove_outliers_iqr(df_daluong, 'cl')"
   ]
  },
  {
   "cell_type": "code",
   "execution_count": 10,
   "metadata": {
    "collapsed": false,
    "jupyter": {
     "outputs_hidden": false
    }
   },
   "outputs": [],
   "source": [
    "df_daluong_tmp = df_daluong.copy(deep=True)\n",
    "def binarize(column, threshold):\n",
    "    '''\n",
    "    Binarize the column based on the threshold\n",
    "    :param column: \n",
    "    :param threshold: \n",
    "    :return: \n",
    "    '''\n",
    "    return column.apply(lambda x: 1 if x <= threshold else 0)\n",
    "\n",
    "\n",
    "def binarize_inclusive(column, lower_bound, upper_bound):\n",
    "    '''\n",
    "    Binarize the column based on the lower and upper bounds\n",
    "    :param column: \n",
    "    :param lower_bound: \n",
    "    :param upper_bound: \n",
    "    :return: \n",
    "    '''\n",
    "    return column.apply(lambda x: 1 if (x >= lower_bound and x <= upper_bound) else 0)\n",
    "\n",
    "df_daluong_tmp['ph'] = binarize_inclusive(df_daluong_tmp['ph'], 5.5, 8.5)\n",
    "df_daluong_tmp['fe2'] = binarize(df_daluong_tmp['fe2'], 5)\n",
    "df_daluong_tmp['fe3'] = binarize(df_daluong_tmp['fe3'], 5)\n",
    "df_daluong_tmp['cl'] = binarize(df_daluong_tmp['cl'], 250)\n",
    "df_daluong_tmp['so4'] = binarize(df_daluong_tmp['so4'], 400)\n",
    "df_daluong_tmp['tds105'] = binarize(df_daluong_tmp['tds105'], 400)\n",
    "df_daluong_tmp['hardness_general'] = binarize(df_daluong_tmp['hardness_general'], 500)\n",
    "df_daluong_tmp['na'] = binarize(df_daluong_tmp['na'], 200)\n",
    "df_daluong_tmp['k'] = binarize(df_daluong_tmp['k'], 12)\n",
    "df_daluong_tmp['mg2'] = binarize(df_daluong_tmp['mg2'], 50)\n",
    "df_daluong_tmp['ca2'] = binarize(df_daluong_tmp['ca2'], 75)\n",
    "df_daluong_tmp['no3'] = binarize(df_daluong_tmp['no3'], 15)\n",
    "df_daluong_tmp['no2'] = binarize(df_daluong_tmp['no2'], 1)\n",
    "df_daluong_tmp['hco3'] = binarize(df_daluong_tmp['hco3'], 350)\n",
    "df_daluong_tmp['co3'] = binarize(df_daluong_tmp['co3'], 1)\n",
    "df_daluong_tmp['hardness_temporal'] = 1\n",
    "df_daluong_tmp['hardness_permanent'] = 1\n",
    "df_daluong_tmp['co2_free'] = 1\n",
    "df_daluong_tmp['co2_depend'] = 1\n",
    "df_daluong_tmp['co2_infiltrate'] = 1\n",
    "df_daluong_tmp['sio2'] = 1\n",
    "\n",
    "df_daluong['is_drinkable'] = df_daluong_tmp.drop('well_code', axis=1).apply(lambda row: int(row.nunique() == 1), axis=1)"
   ]
  },
  {
   "cell_type": "code",
   "execution_count": 11,
   "metadata": {
    "collapsed": false,
    "jupyter": {
     "outputs_hidden": false
    }
   },
   "outputs": [],
   "source": [
    "values = [200, 12, 75, 50, 5, 5, 250, 400, 350, 1, 1, 15, 8.5, 400, 500, 242, 393, 51, 127, 16, 5]\n",
    "wi = [((1 / sum(values)) / value) for value in values]\n",
    "\n",
    "\n",
    "def calculate_norm(dataframe, column, scale):\n",
    "    if column == 'ph':\n",
    "        return [100 * ((i - scale) / (8.5 - scale)) for i in dataframe[column]]\n",
    "    else:\n",
    "        return [100 * (i / scale) for i in dataframe[column]]\n",
    "\n",
    "\n",
    "norm_values = dict()  # Empty dictionary to hold all the norm values\n",
    "\n",
    "columns = ['ph', 'fe2', 'fe3', 'so4', 'tds105', 'hardness_general', 'no2', 'no3', 'ca2', 'mg2', 'co2_free',\n",
    "           'co2_depend', 'co2_infiltrate', 'sio2', 'na', 'k', 'hco3', 'co3', 'cl', 'hardness_temporal',\n",
    "           'hardness_permanent']\n",
    "\n",
    "scales = [7, 5, 5, 400, 400, 500, 1, 15, 75, 50, 51, 127, 16, 42, 200, 12, 350, 1, 250, 242, 393]\n",
    "\n",
    "for column, scale in zip(columns, scales):\n",
    "    norm_values[column] = calculate_norm(df_daluong, column, scale)\n",
    "\n",
    "df_daluong['wqi'] = 0\n",
    "for i in range(len(df_daluong)):\n",
    "    df_daluong['wqi'].iloc[i] = sum(norm_values[column][i] * weight for column, weight in zip(columns, wi)) / sum(wi)\n",
    "# Scaling the wqi values between 0 and 100\n",
    "df_daluong['wqi'] = (df_daluong['wqi'] - df_daluong['wqi'].min()) / (df_daluong['wqi'].max() - df_daluong['wqi'].min()) * 100"
   ]
  },
  {
   "cell_type": "code",
   "execution_count": 12,
   "metadata": {
    "collapsed": false,
    "jupyter": {
     "outputs_hidden": false
    }
   },
   "outputs": [],
   "source": [
    "# Quantile to classify the water quality\n",
    "quantiles = df_daluong['wqi'].quantile([0, 0.2, 0.4, 0.6, 0.8, 1]).values\n",
    "\n",
    "# Function to classify based on dynamic quantile ranges\n",
    "def water_quality_class_quantile(x):\n",
    "    if x <= quantiles[1]:\n",
    "        return \"Poor\"\n",
    "    elif quantiles[1] < x <= quantiles[2]:\n",
    "        return \"Fair\"\n",
    "    elif quantiles[2] < x <= quantiles[3]:\n",
    "        return \"Medium\"\n",
    "    elif quantiles[3] < x <= quantiles[4]:\n",
    "        return \"Good\"\n",
    "    elif quantiles[4] < x:\n",
    "        return \"Excellent\"\n",
    "\n",
    "df_daluong['wqc'] = df_daluong['wqi'].apply(water_quality_class_quantile)"
   ]
  },
  {
   "cell_type": "code",
   "execution_count": 13,
   "metadata": {
    "collapsed": false,
    "jupyter": {
     "outputs_hidden": false
    }
   },
   "outputs": [],
   "source": [
    "features_df = df_daluong[['well_code', 'na', 'hco3', 'hardness_permanent', 'co2_free', 'sio2', 'wqc']]\n",
    "df_final = pd.merge(features_df, df_coordinate, on='well_code', how='inner')\n",
    "\n",
    "df_final['Longitude'] = df_final['Longitude'].astype('float')\n",
    "df_final['Latitude'] = df_final['Latitude'].astype('float')\n",
    "\n",
    "df_final.dropna(inplace=True)"
   ]
  },
  {
   "cell_type": "code",
   "execution_count": 14,
   "metadata": {
    "collapsed": false,
    "jupyter": {
     "outputs_hidden": false
    }
   },
   "outputs": [],
   "source": [
    "# Encode the target variable\n",
    "from sklearn.preprocessing import LabelEncoder\n",
    "from keras.utils import to_categorical\n",
    "\n",
    "label_encoder_well_code = LabelEncoder()\n",
    "df_final['well_code'] = label_encoder_well_code.fit_transform(df_final['well_code'])\n",
    "\n",
    "X = df_final.drop(['wqc'], axis=1)\n",
    "y_target = df_final['wqc']"
   ]
  },
  {
   "cell_type": "code",
   "execution_count": 15,
   "metadata": {
    "collapsed": false,
    "jupyter": {
     "outputs_hidden": false
    }
   },
   "outputs": [],
   "source": [
    "label_encoder = LabelEncoder()\n",
    "y_target = label_encoder.fit_transform(y_target)\n",
    "y_target = to_categorical(y_target)\n",
    "\n",
    "label_cls = label_encoder.classes_"
   ]
  },
  {
   "cell_type": "markdown",
   "metadata": {
    "id": "v5GBWgJERo-S"
   },
   "source": [
    "## Data Split"
   ]
  },
  {
   "cell_type": "code",
   "execution_count": 16,
   "metadata": {
    "id": "y5F_RrjTRxen"
   },
   "outputs": [],
   "source": [
    "# Split the data into training and testing sets\n",
    "from sklearn.model_selection import train_test_split\n",
    "\n",
    "X_train, X_test, y_train, y_test = train_test_split(X, y_target, test_size=0.1, random_state=0, stratify=y_target)"
   ]
  },
  {
   "cell_type": "markdown",
   "metadata": {
    "id": "W3zkFRv6RxyZ"
   },
   "source": [
    "## Data Normalization"
   ]
  },
  {
   "cell_type": "code",
   "execution_count": 17,
   "metadata": {
    "id": "axPkQhw8R02n"
   },
   "outputs": [],
   "source": [
    "# Normalize the features\n",
    "from sklearn.preprocessing import MinMaxScaler\n",
    "\n",
    "scaler_feature = MinMaxScaler()\n",
    "X_train = scaler_feature.fit_transform(X_train)\n",
    "X_test = scaler_feature.transform(X_test)"
   ]
  },
  {
   "cell_type": "markdown",
   "metadata": {
    "id": "PCN2pdSpR1H7"
   },
   "source": [
    "# Model Inputs"
   ]
  },
  {
   "cell_type": "code",
   "execution_count": 18,
   "metadata": {
    "collapsed": false,
    "jupyter": {
     "outputs_hidden": false
    }
   },
   "outputs": [],
   "source": [
    "X_train = X_train.reshape(X_train.shape[0], X_train.shape[1], 1) \n",
    "X_test = X_test.reshape(X_test.shape[0], X_test.shape[1], 1)"
   ]
  },
  {
   "cell_type": "markdown",
   "metadata": {
    "id": "vrsX9m8sS9wy"
   },
   "source": [
    "# Model Creation"
   ]
  },
  {
   "cell_type": "code",
   "execution_count": 24,
   "metadata": {},
   "outputs": [
    {
     "name": "stdout",
     "output_type": "stream",
     "text": [
      "Collecting pyswarm\n",
      "  Downloading pyswarm-0.6.tar.gz (4.3 kB)\n",
      "  Preparing metadata (setup.py): started\n",
      "  Preparing metadata (setup.py): finished with status 'done'\n",
      "Requirement already satisfied: numpy in c:\\users\\dell\\anaconda3\\lib\\site-packages (from pyswarm) (1.23.5)\n",
      "Building wheels for collected packages: pyswarm\n",
      "  Building wheel for pyswarm (setup.py): started\n",
      "  Building wheel for pyswarm (setup.py): finished with status 'done'\n",
      "  Created wheel for pyswarm: filename=pyswarm-0.6-py3-none-any.whl size=4485 sha256=d1e2a3316bf399bcb912a69b82a102cdbca97c145805f5fdcd7d7ee5a907cb01\n",
      "  Stored in directory: c:\\users\\dell\\appdata\\local\\pip\\cache\\wheels\\9b\\77\\c0\\e3b4023291441faf014df115e6e9a02d1ba6f61e668261479d\n",
      "Successfully built pyswarm\n",
      "Installing collected packages: pyswarm\n",
      "Successfully installed pyswarm-0.6\n"
     ]
    }
   ],
   "source": [
    "!pip install pyswarm"
   ]
  },
  {
   "cell_type": "code",
   "execution_count": 25,
   "metadata": {
    "collapsed": false,
    "jupyter": {
     "outputs_hidden": false
    }
   },
   "outputs": [],
   "source": [
    "import tensorflow as tf\n",
    "from pyswarm import pso\n",
    "\n",
    "def create_model(layer_params):\n",
    "    model = tf.keras.models.Sequential()\n",
    "    model.add(tf.keras.layers.Conv1D(layer_params[0], 3))\n",
    "    model.add(tf.keras.layers.MaxPooling1D(pool_size=2, padding='same'))\n",
    "    model.add(tf.keras.layers.Conv1D(layer_params[1]*2, 3))\n",
    "    model.add(tf.keras.layers.MaxPooling1D(pool_size=2, padding='same'))\n",
    "    model.add(tf.keras.layers.Flatten())\n",
    "    model.add(tf.keras.layers.Dense(units=int(layer_params[2]), activation='relu'))\n",
    "    model.add(tf.keras.layers.Dense(units=5, activation='softmax'))\n",
    "    \n",
    "    optimizer = tf.keras.optimizers.Adam(learning_rate=0.0001)\n",
    "    model.compile(optimizer=optimizer, loss='categorical_crossentropy', metrics=['accuracy'])\n",
    "    return model"
   ]
  },
  {
   "cell_type": "markdown",
   "metadata": {
    "jupyter": {
     "outputs_hidden": false
    }
   },
   "source": [
    "# PSO Optimization"
   ]
  },
  {
   "cell_type": "code",
   "execution_count": 26,
   "metadata": {
    "collapsed": false,
    "jupyter": {
     "outputs_hidden": false
    }
   },
   "outputs": [],
   "source": [
    "def train_network(layer_params):\n",
    "    mlp = create_model(layer_params)\n",
    "    hst = mlp.fit(X_train, y_train, validation_data=(X_test, y_test), batch_size=32, epochs=20, verbose=0)\n",
    "    return 1 - hst.history['accuracy'][-1]"
   ]
  },
  {
   "cell_type": "code",
   "execution_count": 27,
   "metadata": {
    "id": "PBKr8Z9hS1k6"
   },
   "outputs": [
    {
     "name": "stdout",
     "output_type": "stream",
     "text": [
      "Stopping search: Swarm best position change less than 1\n"
     ]
    }
   ],
   "source": [
    "lb = [16, 32, 64]\n",
    "ub = [64, 128, 128]\n",
    "\n",
    "xopt, fopt = pso(train_network, lb, ub, swarmsize=5, omega=0.5, phip=0.5, phig=1.0, maxiter=30, minstep=1)"
   ]
  },
  {
   "cell_type": "code",
   "execution_count": 28,
   "metadata": {
    "id": "LqRrMIpYWaTt"
   },
   "outputs": [
    {
     "name": "stdout",
     "output_type": "stream",
     "text": [
      "The otpimized parameters are:\n",
      "first filter 1D:  64\n",
      "second filter 1D:  102\n",
      "dense units:  121\n"
     ]
    }
   ],
   "source": [
    "# The optimized parameters\n",
    "print(\"The otpimized parameters are:\")\n",
    "print(\"first filter 1D: \", int(xopt[0]))\n",
    "print(\"second filter 1D: \", int(xopt[1]))\n",
    "print(\"dense units: \", int(xopt[2]))"
   ]
  },
  {
   "cell_type": "markdown",
   "metadata": {
    "id": "BufKymZwTJyK"
   },
   "source": [
    "# Training the Model on a given particle (Hyperparmeters of the model)"
   ]
  },
  {
   "cell_type": "code",
   "execution_count": 29,
   "metadata": {
    "collapsed": true,
    "id": "5YPXJJSdS_8d",
    "jupyter": {
     "outputs_hidden": true
    },
    "tags": []
   },
   "outputs": [
    {
     "name": "stdout",
     "output_type": "stream",
     "text": [
      "Epoch 1/200\n",
      "23/23 [==============================] - 1s 12ms/step - loss: 1.5882 - accuracy: 0.2949 - val_loss: 1.5715 - val_accuracy: 0.3375\n",
      "Epoch 2/200\n",
      "23/23 [==============================] - 0s 4ms/step - loss: 1.5569 - accuracy: 0.3839 - val_loss: 1.5405 - val_accuracy: 0.4125\n",
      "Epoch 3/200\n",
      "23/23 [==============================] - 0s 4ms/step - loss: 1.5230 - accuracy: 0.4298 - val_loss: 1.5011 - val_accuracy: 0.5000\n",
      "Epoch 4/200\n",
      "23/23 [==============================] - 0s 4ms/step - loss: 1.4831 - accuracy: 0.4631 - val_loss: 1.4562 - val_accuracy: 0.5000\n",
      "Epoch 5/200\n",
      "23/23 [==============================] - 0s 4ms/step - loss: 1.4379 - accuracy: 0.4882 - val_loss: 1.4079 - val_accuracy: 0.5125\n",
      "Epoch 6/200\n",
      "23/23 [==============================] - 0s 4ms/step - loss: 1.3884 - accuracy: 0.4951 - val_loss: 1.3546 - val_accuracy: 0.4750\n",
      "Epoch 7/200\n",
      "23/23 [==============================] - 0s 4ms/step - loss: 1.3375 - accuracy: 0.5035 - val_loss: 1.3008 - val_accuracy: 0.4750\n",
      "Epoch 8/200\n",
      "23/23 [==============================] - 0s 4ms/step - loss: 1.2851 - accuracy: 0.5341 - val_loss: 1.2500 - val_accuracy: 0.4875\n",
      "Epoch 9/200\n",
      "23/23 [==============================] - 0s 4ms/step - loss: 1.2356 - accuracy: 0.5160 - val_loss: 1.2027 - val_accuracy: 0.4875\n",
      "Epoch 10/200\n",
      "23/23 [==============================] - 0s 4ms/step - loss: 1.1888 - accuracy: 0.5410 - val_loss: 1.1584 - val_accuracy: 0.5000\n",
      "Epoch 11/200\n",
      "23/23 [==============================] - 0s 4ms/step - loss: 1.1477 - accuracy: 0.5341 - val_loss: 1.1210 - val_accuracy: 0.5125\n",
      "Epoch 12/200\n",
      "23/23 [==============================] - 0s 4ms/step - loss: 1.1083 - accuracy: 0.5605 - val_loss: 1.0850 - val_accuracy: 0.5750\n",
      "Epoch 13/200\n",
      "23/23 [==============================] - 0s 5ms/step - loss: 1.0734 - accuracy: 0.5800 - val_loss: 1.0546 - val_accuracy: 0.5625\n",
      "Epoch 14/200\n",
      "23/23 [==============================] - 0s 4ms/step - loss: 1.0408 - accuracy: 0.5814 - val_loss: 1.0225 - val_accuracy: 0.5750\n",
      "Epoch 15/200\n",
      "23/23 [==============================] - 0s 5ms/step - loss: 1.0087 - accuracy: 0.6092 - val_loss: 0.9946 - val_accuracy: 0.5875\n",
      "Epoch 16/200\n",
      "23/23 [==============================] - 0s 7ms/step - loss: 0.9799 - accuracy: 0.6134 - val_loss: 0.9713 - val_accuracy: 0.5750\n",
      "Epoch 17/200\n",
      "23/23 [==============================] - 0s 5ms/step - loss: 0.9540 - accuracy: 0.6245 - val_loss: 0.9466 - val_accuracy: 0.6500\n",
      "Epoch 18/200\n",
      "23/23 [==============================] - 0s 4ms/step - loss: 0.9310 - accuracy: 0.6467 - val_loss: 0.9240 - val_accuracy: 0.6125\n",
      "Epoch 19/200\n",
      "23/23 [==============================] - 0s 4ms/step - loss: 0.9077 - accuracy: 0.6592 - val_loss: 0.9063 - val_accuracy: 0.6000\n",
      "Epoch 20/200\n",
      "23/23 [==============================] - 0s 3ms/step - loss: 0.8848 - accuracy: 0.6509 - val_loss: 0.8814 - val_accuracy: 0.6500\n",
      "Epoch 21/200\n",
      "23/23 [==============================] - 0s 3ms/step - loss: 0.8638 - accuracy: 0.6676 - val_loss: 0.8643 - val_accuracy: 0.6375\n",
      "Epoch 22/200\n",
      "23/23 [==============================] - 0s 3ms/step - loss: 0.8424 - accuracy: 0.6732 - val_loss: 0.8444 - val_accuracy: 0.6625\n",
      "Epoch 23/200\n",
      "23/23 [==============================] - 0s 4ms/step - loss: 0.8226 - accuracy: 0.6885 - val_loss: 0.8296 - val_accuracy: 0.6625\n",
      "Epoch 24/200\n",
      "23/23 [==============================] - 0s 3ms/step - loss: 0.8083 - accuracy: 0.6843 - val_loss: 0.8098 - val_accuracy: 0.7125\n",
      "Epoch 25/200\n",
      "23/23 [==============================] - 0s 3ms/step - loss: 0.7884 - accuracy: 0.7038 - val_loss: 0.7926 - val_accuracy: 0.7375\n",
      "Epoch 26/200\n",
      "23/23 [==============================] - 0s 3ms/step - loss: 0.7708 - accuracy: 0.7149 - val_loss: 0.7826 - val_accuracy: 0.7125\n",
      "Epoch 27/200\n",
      "23/23 [==============================] - 0s 4ms/step - loss: 0.7564 - accuracy: 0.7232 - val_loss: 0.7619 - val_accuracy: 0.7250\n",
      "Epoch 28/200\n",
      "23/23 [==============================] - 0s 4ms/step - loss: 0.7422 - accuracy: 0.7316 - val_loss: 0.7485 - val_accuracy: 0.7375\n",
      "Epoch 29/200\n",
      "23/23 [==============================] - 0s 4ms/step - loss: 0.7291 - accuracy: 0.7246 - val_loss: 0.7439 - val_accuracy: 0.7250\n",
      "Epoch 30/200\n",
      "23/23 [==============================] - 0s 4ms/step - loss: 0.7143 - accuracy: 0.7427 - val_loss: 0.7257 - val_accuracy: 0.7375\n",
      "Epoch 31/200\n",
      "23/23 [==============================] - 0s 4ms/step - loss: 0.7017 - accuracy: 0.7385 - val_loss: 0.7107 - val_accuracy: 0.7625\n",
      "Epoch 32/200\n",
      "23/23 [==============================] - 0s 4ms/step - loss: 0.6885 - accuracy: 0.7497 - val_loss: 0.7080 - val_accuracy: 0.7500\n",
      "Epoch 33/200\n",
      "23/23 [==============================] - 0s 4ms/step - loss: 0.6771 - accuracy: 0.7594 - val_loss: 0.7010 - val_accuracy: 0.7500\n",
      "Epoch 34/200\n",
      "23/23 [==============================] - 0s 4ms/step - loss: 0.6644 - accuracy: 0.7524 - val_loss: 0.6802 - val_accuracy: 0.7500\n",
      "Epoch 35/200\n",
      "23/23 [==============================] - 0s 4ms/step - loss: 0.6565 - accuracy: 0.7524 - val_loss: 0.6729 - val_accuracy: 0.7625\n",
      "Epoch 36/200\n",
      "23/23 [==============================] - 0s 4ms/step - loss: 0.6443 - accuracy: 0.7594 - val_loss: 0.6631 - val_accuracy: 0.7625\n",
      "Epoch 37/200\n",
      "23/23 [==============================] - 0s 3ms/step - loss: 0.6352 - accuracy: 0.7622 - val_loss: 0.6682 - val_accuracy: 0.7375\n",
      "Epoch 38/200\n",
      "23/23 [==============================] - 0s 4ms/step - loss: 0.6262 - accuracy: 0.7677 - val_loss: 0.6560 - val_accuracy: 0.7500\n",
      "Epoch 39/200\n",
      "23/23 [==============================] - 0s 4ms/step - loss: 0.6176 - accuracy: 0.7733 - val_loss: 0.6390 - val_accuracy: 0.7875\n",
      "Epoch 40/200\n",
      "23/23 [==============================] - 0s 4ms/step - loss: 0.6160 - accuracy: 0.7761 - val_loss: 0.6512 - val_accuracy: 0.7500\n",
      "Epoch 41/200\n",
      "23/23 [==============================] - 0s 4ms/step - loss: 0.6028 - accuracy: 0.7733 - val_loss: 0.6409 - val_accuracy: 0.7500\n",
      "Epoch 42/200\n",
      "23/23 [==============================] - 0s 4ms/step - loss: 0.5962 - accuracy: 0.7858 - val_loss: 0.6272 - val_accuracy: 0.7625\n",
      "Epoch 43/200\n",
      "23/23 [==============================] - 0s 4ms/step - loss: 0.5891 - accuracy: 0.7844 - val_loss: 0.6357 - val_accuracy: 0.7500\n",
      "Epoch 44/200\n",
      "23/23 [==============================] - 0s 4ms/step - loss: 0.5848 - accuracy: 0.7830 - val_loss: 0.6220 - val_accuracy: 0.7625\n",
      "Epoch 45/200\n",
      "23/23 [==============================] - 0s 4ms/step - loss: 0.5753 - accuracy: 0.7872 - val_loss: 0.6138 - val_accuracy: 0.7500\n",
      "Epoch 46/200\n",
      "23/23 [==============================] - 0s 4ms/step - loss: 0.5685 - accuracy: 0.7886 - val_loss: 0.6019 - val_accuracy: 0.7750\n",
      "Epoch 47/200\n",
      "23/23 [==============================] - 0s 4ms/step - loss: 0.5630 - accuracy: 0.7816 - val_loss: 0.6030 - val_accuracy: 0.7375\n",
      "Epoch 48/200\n",
      "23/23 [==============================] - 0s 4ms/step - loss: 0.5636 - accuracy: 0.7830 - val_loss: 0.6109 - val_accuracy: 0.7500\n",
      "Epoch 49/200\n",
      "23/23 [==============================] - 0s 4ms/step - loss: 0.5538 - accuracy: 0.7942 - val_loss: 0.5926 - val_accuracy: 0.7500\n",
      "Epoch 50/200\n",
      "23/23 [==============================] - 0s 4ms/step - loss: 0.5525 - accuracy: 0.7844 - val_loss: 0.5826 - val_accuracy: 0.8125\n",
      "Epoch 51/200\n",
      "23/23 [==============================] - 0s 4ms/step - loss: 0.5477 - accuracy: 0.7942 - val_loss: 0.5957 - val_accuracy: 0.7500\n",
      "Epoch 52/200\n",
      "23/23 [==============================] - 0s 4ms/step - loss: 0.5412 - accuracy: 0.7900 - val_loss: 0.5855 - val_accuracy: 0.7750\n",
      "Epoch 53/200\n",
      "23/23 [==============================] - 0s 4ms/step - loss: 0.5401 - accuracy: 0.7983 - val_loss: 0.5755 - val_accuracy: 0.8000\n",
      "Epoch 54/200\n",
      "23/23 [==============================] - 0s 4ms/step - loss: 0.5316 - accuracy: 0.7955 - val_loss: 0.5860 - val_accuracy: 0.7750\n",
      "Epoch 55/200\n",
      "23/23 [==============================] - 0s 4ms/step - loss: 0.5265 - accuracy: 0.8053 - val_loss: 0.5642 - val_accuracy: 0.8375\n",
      "Epoch 56/200\n",
      "23/23 [==============================] - 0s 4ms/step - loss: 0.5275 - accuracy: 0.7969 - val_loss: 0.5801 - val_accuracy: 0.7500\n",
      "Epoch 57/200\n",
      "23/23 [==============================] - 0s 4ms/step - loss: 0.5210 - accuracy: 0.8011 - val_loss: 0.5751 - val_accuracy: 0.7750\n",
      "Epoch 58/200\n",
      "23/23 [==============================] - 0s 4ms/step - loss: 0.5179 - accuracy: 0.8095 - val_loss: 0.5708 - val_accuracy: 0.7750\n",
      "Epoch 59/200\n",
      "23/23 [==============================] - 0s 4ms/step - loss: 0.5130 - accuracy: 0.7983 - val_loss: 0.5768 - val_accuracy: 0.7500\n",
      "Epoch 60/200\n",
      "23/23 [==============================] - 0s 4ms/step - loss: 0.5110 - accuracy: 0.8081 - val_loss: 0.5607 - val_accuracy: 0.8000\n",
      "Epoch 61/200\n",
      "23/23 [==============================] - 0s 4ms/step - loss: 0.5115 - accuracy: 0.8053 - val_loss: 0.5496 - val_accuracy: 0.8250\n",
      "Epoch 62/200\n",
      "23/23 [==============================] - 0s 3ms/step - loss: 0.5026 - accuracy: 0.8136 - val_loss: 0.6047 - val_accuracy: 0.7500\n",
      "Epoch 63/200\n",
      "23/23 [==============================] - 0s 4ms/step - loss: 0.5067 - accuracy: 0.8039 - val_loss: 0.5588 - val_accuracy: 0.7875\n",
      "Epoch 64/200\n",
      "23/23 [==============================] - 0s 3ms/step - loss: 0.5042 - accuracy: 0.8039 - val_loss: 0.5485 - val_accuracy: 0.8000\n",
      "Epoch 65/200\n",
      "23/23 [==============================] - 0s 4ms/step - loss: 0.4984 - accuracy: 0.8039 - val_loss: 0.5644 - val_accuracy: 0.7750\n",
      "Epoch 66/200\n",
      "23/23 [==============================] - 0s 3ms/step - loss: 0.4972 - accuracy: 0.8108 - val_loss: 0.5596 - val_accuracy: 0.7750\n",
      "Epoch 67/200\n",
      "23/23 [==============================] - 0s 3ms/step - loss: 0.5041 - accuracy: 0.7969 - val_loss: 0.5557 - val_accuracy: 0.7875\n",
      "Epoch 68/200\n",
      "23/23 [==============================] - 0s 3ms/step - loss: 0.4905 - accuracy: 0.8081 - val_loss: 0.5846 - val_accuracy: 0.7625\n",
      "Epoch 69/200\n",
      "23/23 [==============================] - 0s 4ms/step - loss: 0.4942 - accuracy: 0.7900 - val_loss: 0.5425 - val_accuracy: 0.8000\n",
      "Epoch 70/200\n",
      "23/23 [==============================] - 0s 4ms/step - loss: 0.4900 - accuracy: 0.8067 - val_loss: 0.5435 - val_accuracy: 0.8125\n",
      "Epoch 71/200\n",
      "23/23 [==============================] - 0s 3ms/step - loss: 0.4847 - accuracy: 0.8164 - val_loss: 0.5518 - val_accuracy: 0.7750\n",
      "Epoch 72/200\n",
      "23/23 [==============================] - 0s 3ms/step - loss: 0.4819 - accuracy: 0.8164 - val_loss: 0.5554 - val_accuracy: 0.7750\n",
      "Epoch 73/200\n",
      "23/23 [==============================] - 0s 4ms/step - loss: 0.4869 - accuracy: 0.8136 - val_loss: 0.5744 - val_accuracy: 0.7750\n",
      "Epoch 74/200\n",
      "23/23 [==============================] - 0s 3ms/step - loss: 0.4815 - accuracy: 0.8067 - val_loss: 0.5700 - val_accuracy: 0.7750\n",
      "Epoch 75/200\n",
      "23/23 [==============================] - 0s 4ms/step - loss: 0.4800 - accuracy: 0.8081 - val_loss: 0.5455 - val_accuracy: 0.8250\n",
      "Epoch 76/200\n",
      "23/23 [==============================] - 0s 4ms/step - loss: 0.4757 - accuracy: 0.8206 - val_loss: 0.5630 - val_accuracy: 0.7750\n",
      "Epoch 77/200\n",
      "23/23 [==============================] - 0s 4ms/step - loss: 0.4760 - accuracy: 0.8108 - val_loss: 0.5439 - val_accuracy: 0.8125\n",
      "Epoch 78/200\n",
      "23/23 [==============================] - 0s 4ms/step - loss: 0.4719 - accuracy: 0.8234 - val_loss: 0.5313 - val_accuracy: 0.8375\n",
      "Epoch 79/200\n",
      "23/23 [==============================] - 0s 4ms/step - loss: 0.4743 - accuracy: 0.8081 - val_loss: 0.5437 - val_accuracy: 0.8125\n",
      "Epoch 80/200\n",
      "23/23 [==============================] - 0s 4ms/step - loss: 0.4695 - accuracy: 0.8192 - val_loss: 0.5558 - val_accuracy: 0.7750\n",
      "Epoch 81/200\n",
      "23/23 [==============================] - 0s 4ms/step - loss: 0.4683 - accuracy: 0.8136 - val_loss: 0.5297 - val_accuracy: 0.8375\n",
      "Epoch 82/200\n",
      "23/23 [==============================] - 0s 4ms/step - loss: 0.4706 - accuracy: 0.8164 - val_loss: 0.5476 - val_accuracy: 0.8125\n",
      "Epoch 83/200\n",
      "23/23 [==============================] - 0s 4ms/step - loss: 0.4702 - accuracy: 0.8136 - val_loss: 0.5679 - val_accuracy: 0.7750\n",
      "Epoch 84/200\n",
      "23/23 [==============================] - 0s 4ms/step - loss: 0.4644 - accuracy: 0.8206 - val_loss: 0.5277 - val_accuracy: 0.8375\n",
      "Epoch 85/200\n",
      "23/23 [==============================] - 0s 3ms/step - loss: 0.4706 - accuracy: 0.8095 - val_loss: 0.5545 - val_accuracy: 0.7875\n",
      "Epoch 86/200\n",
      "23/23 [==============================] - 0s 3ms/step - loss: 0.4626 - accuracy: 0.8220 - val_loss: 0.5459 - val_accuracy: 0.8000\n",
      "Epoch 87/200\n",
      "23/23 [==============================] - 0s 4ms/step - loss: 0.4621 - accuracy: 0.8178 - val_loss: 0.5456 - val_accuracy: 0.7875\n",
      "Epoch 88/200\n",
      "23/23 [==============================] - 0s 4ms/step - loss: 0.4606 - accuracy: 0.8178 - val_loss: 0.5375 - val_accuracy: 0.8250\n",
      "Epoch 89/200\n",
      "23/23 [==============================] - 0s 4ms/step - loss: 0.4567 - accuracy: 0.8261 - val_loss: 0.5432 - val_accuracy: 0.8125\n",
      "Epoch 90/200\n",
      "23/23 [==============================] - 0s 4ms/step - loss: 0.4566 - accuracy: 0.8234 - val_loss: 0.5361 - val_accuracy: 0.8375\n",
      "Epoch 91/200\n",
      "23/23 [==============================] - 0s 4ms/step - loss: 0.4583 - accuracy: 0.8178 - val_loss: 0.5496 - val_accuracy: 0.7875\n",
      "Epoch 92/200\n",
      "23/23 [==============================] - 0s 4ms/step - loss: 0.4554 - accuracy: 0.8220 - val_loss: 0.5602 - val_accuracy: 0.7625\n",
      "Epoch 93/200\n",
      "23/23 [==============================] - 0s 4ms/step - loss: 0.4570 - accuracy: 0.8164 - val_loss: 0.5478 - val_accuracy: 0.7875\n",
      "Epoch 94/200\n",
      "23/23 [==============================] - 0s 4ms/step - loss: 0.4595 - accuracy: 0.8164 - val_loss: 0.5449 - val_accuracy: 0.8000\n",
      "Epoch 95/200\n",
      "23/23 [==============================] - 0s 4ms/step - loss: 0.4586 - accuracy: 0.8122 - val_loss: 0.5241 - val_accuracy: 0.8250\n",
      "Epoch 96/200\n",
      "23/23 [==============================] - 0s 4ms/step - loss: 0.4507 - accuracy: 0.8206 - val_loss: 0.5541 - val_accuracy: 0.7750\n",
      "Epoch 97/200\n",
      "23/23 [==============================] - 0s 4ms/step - loss: 0.4508 - accuracy: 0.8248 - val_loss: 0.5237 - val_accuracy: 0.8250\n",
      "Epoch 98/200\n",
      "23/23 [==============================] - 0s 4ms/step - loss: 0.4541 - accuracy: 0.8108 - val_loss: 0.5363 - val_accuracy: 0.8125\n",
      "Epoch 99/200\n",
      "23/23 [==============================] - 0s 4ms/step - loss: 0.4516 - accuracy: 0.8303 - val_loss: 0.5574 - val_accuracy: 0.7625\n",
      "Epoch 100/200\n",
      "23/23 [==============================] - 0s 4ms/step - loss: 0.4564 - accuracy: 0.8108 - val_loss: 0.5431 - val_accuracy: 0.8000\n",
      "Epoch 101/200\n",
      "23/23 [==============================] - 0s 4ms/step - loss: 0.4544 - accuracy: 0.8150 - val_loss: 0.5303 - val_accuracy: 0.8250\n",
      "Epoch 102/200\n",
      "23/23 [==============================] - 0s 4ms/step - loss: 0.4462 - accuracy: 0.8206 - val_loss: 0.5276 - val_accuracy: 0.8250\n",
      "Epoch 103/200\n",
      "23/23 [==============================] - 0s 4ms/step - loss: 0.4472 - accuracy: 0.8234 - val_loss: 0.5256 - val_accuracy: 0.8375\n",
      "Epoch 104/200\n",
      "23/23 [==============================] - 0s 4ms/step - loss: 0.4488 - accuracy: 0.8192 - val_loss: 0.5391 - val_accuracy: 0.7875\n",
      "Epoch 105/200\n",
      "23/23 [==============================] - 0s 4ms/step - loss: 0.4478 - accuracy: 0.8248 - val_loss: 0.5224 - val_accuracy: 0.8500\n",
      "Epoch 106/200\n",
      "23/23 [==============================] - 0s 4ms/step - loss: 0.4472 - accuracy: 0.8234 - val_loss: 0.5364 - val_accuracy: 0.8125\n",
      "Epoch 107/200\n",
      "23/23 [==============================] - 0s 4ms/step - loss: 0.4438 - accuracy: 0.8234 - val_loss: 0.5483 - val_accuracy: 0.7875\n",
      "Epoch 108/200\n",
      "23/23 [==============================] - 0s 4ms/step - loss: 0.4419 - accuracy: 0.8248 - val_loss: 0.5330 - val_accuracy: 0.8250\n",
      "Epoch 109/200\n",
      "23/23 [==============================] - 0s 4ms/step - loss: 0.4440 - accuracy: 0.8275 - val_loss: 0.5278 - val_accuracy: 0.8375\n",
      "Epoch 110/200\n",
      "23/23 [==============================] - 0s 4ms/step - loss: 0.4397 - accuracy: 0.8164 - val_loss: 0.5585 - val_accuracy: 0.7875\n",
      "Epoch 111/200\n",
      "23/23 [==============================] - 0s 3ms/step - loss: 0.4391 - accuracy: 0.8289 - val_loss: 0.5370 - val_accuracy: 0.8000\n",
      "Epoch 112/200\n",
      "23/23 [==============================] - 0s 4ms/step - loss: 0.4394 - accuracy: 0.8359 - val_loss: 0.5413 - val_accuracy: 0.8000\n",
      "Epoch 113/200\n",
      "23/23 [==============================] - 0s 3ms/step - loss: 0.4389 - accuracy: 0.8206 - val_loss: 0.5281 - val_accuracy: 0.8375\n",
      "Epoch 114/200\n",
      "23/23 [==============================] - 0s 4ms/step - loss: 0.4397 - accuracy: 0.8275 - val_loss: 0.5261 - val_accuracy: 0.8250\n",
      "Epoch 115/200\n",
      "23/23 [==============================] - 0s 4ms/step - loss: 0.4418 - accuracy: 0.8178 - val_loss: 0.5838 - val_accuracy: 0.7750\n",
      "Epoch 116/200\n",
      "23/23 [==============================] - 0s 3ms/step - loss: 0.4383 - accuracy: 0.8289 - val_loss: 0.5504 - val_accuracy: 0.7875\n",
      "Epoch 117/200\n",
      "23/23 [==============================] - 0s 3ms/step - loss: 0.4345 - accuracy: 0.8220 - val_loss: 0.5278 - val_accuracy: 0.8375\n",
      "Epoch 118/200\n",
      "23/23 [==============================] - 0s 4ms/step - loss: 0.4370 - accuracy: 0.8303 - val_loss: 0.5449 - val_accuracy: 0.7875\n",
      "Epoch 119/200\n",
      "23/23 [==============================] - 0s 4ms/step - loss: 0.4365 - accuracy: 0.8248 - val_loss: 0.5360 - val_accuracy: 0.8000\n",
      "Epoch 120/200\n",
      "23/23 [==============================] - 0s 4ms/step - loss: 0.4342 - accuracy: 0.8206 - val_loss: 0.5315 - val_accuracy: 0.8250\n",
      "Epoch 121/200\n",
      "23/23 [==============================] - 0s 4ms/step - loss: 0.4354 - accuracy: 0.8275 - val_loss: 0.5391 - val_accuracy: 0.8125\n",
      "Epoch 122/200\n",
      "23/23 [==============================] - 0s 4ms/step - loss: 0.4356 - accuracy: 0.8331 - val_loss: 0.5759 - val_accuracy: 0.7625\n",
      "Epoch 123/200\n",
      "23/23 [==============================] - 0s 5ms/step - loss: 0.4344 - accuracy: 0.8261 - val_loss: 0.5332 - val_accuracy: 0.8125\n",
      "Epoch 124/200\n",
      "23/23 [==============================] - 0s 4ms/step - loss: 0.4320 - accuracy: 0.8261 - val_loss: 0.5588 - val_accuracy: 0.7750\n",
      "Epoch 125/200\n",
      "23/23 [==============================] - 0s 4ms/step - loss: 0.4328 - accuracy: 0.8289 - val_loss: 0.5333 - val_accuracy: 0.8125\n",
      "Epoch 126/200\n",
      "23/23 [==============================] - 0s 5ms/step - loss: 0.4356 - accuracy: 0.8234 - val_loss: 0.5530 - val_accuracy: 0.7875\n",
      "Epoch 127/200\n",
      "23/23 [==============================] - 0s 5ms/step - loss: 0.4323 - accuracy: 0.8220 - val_loss: 0.5573 - val_accuracy: 0.7875\n",
      "Epoch 128/200\n",
      "23/23 [==============================] - 0s 4ms/step - loss: 0.4295 - accuracy: 0.8289 - val_loss: 0.5269 - val_accuracy: 0.8500\n",
      "Epoch 129/200\n",
      "23/23 [==============================] - 0s 4ms/step - loss: 0.4312 - accuracy: 0.8289 - val_loss: 0.5355 - val_accuracy: 0.8125\n",
      "Epoch 130/200\n",
      "23/23 [==============================] - 0s 4ms/step - loss: 0.4334 - accuracy: 0.8150 - val_loss: 0.5291 - val_accuracy: 0.8250\n",
      "Epoch 131/200\n",
      "23/23 [==============================] - 0s 4ms/step - loss: 0.4326 - accuracy: 0.8234 - val_loss: 0.5436 - val_accuracy: 0.7875\n",
      "Epoch 132/200\n",
      "23/23 [==============================] - 0s 4ms/step - loss: 0.4314 - accuracy: 0.8387 - val_loss: 0.5794 - val_accuracy: 0.7625\n",
      "Epoch 133/200\n",
      "23/23 [==============================] - 0s 4ms/step - loss: 0.4311 - accuracy: 0.8234 - val_loss: 0.5589 - val_accuracy: 0.7750\n",
      "Epoch 134/200\n",
      "23/23 [==============================] - 0s 4ms/step - loss: 0.4322 - accuracy: 0.8206 - val_loss: 0.5584 - val_accuracy: 0.7875\n",
      "Epoch 135/200\n",
      "23/23 [==============================] - 0s 4ms/step - loss: 0.4279 - accuracy: 0.8317 - val_loss: 0.5376 - val_accuracy: 0.8125\n",
      "Epoch 136/200\n",
      "23/23 [==============================] - 0s 4ms/step - loss: 0.4263 - accuracy: 0.8261 - val_loss: 0.5361 - val_accuracy: 0.8250\n",
      "Epoch 137/200\n",
      "23/23 [==============================] - 0s 4ms/step - loss: 0.4243 - accuracy: 0.8317 - val_loss: 0.5304 - val_accuracy: 0.8125\n",
      "Epoch 138/200\n",
      "23/23 [==============================] - 0s 4ms/step - loss: 0.4302 - accuracy: 0.8192 - val_loss: 0.5520 - val_accuracy: 0.7750\n",
      "Epoch 139/200\n",
      "23/23 [==============================] - 0s 4ms/step - loss: 0.4306 - accuracy: 0.8206 - val_loss: 0.5880 - val_accuracy: 0.7500\n",
      "Epoch 140/200\n",
      "23/23 [==============================] - 0s 4ms/step - loss: 0.4277 - accuracy: 0.8289 - val_loss: 0.5359 - val_accuracy: 0.8125\n",
      "Epoch 141/200\n",
      "23/23 [==============================] - 0s 4ms/step - loss: 0.4264 - accuracy: 0.8317 - val_loss: 0.5240 - val_accuracy: 0.8500\n",
      "Epoch 142/200\n",
      "23/23 [==============================] - 0s 4ms/step - loss: 0.4251 - accuracy: 0.8261 - val_loss: 0.5636 - val_accuracy: 0.7750\n",
      "Epoch 143/200\n",
      "23/23 [==============================] - 0s 4ms/step - loss: 0.4213 - accuracy: 0.8317 - val_loss: 0.5326 - val_accuracy: 0.8125\n",
      "Epoch 144/200\n",
      "23/23 [==============================] - 0s 4ms/step - loss: 0.4220 - accuracy: 0.8248 - val_loss: 0.5364 - val_accuracy: 0.8125\n",
      "Epoch 145/200\n",
      "23/23 [==============================] - 0s 4ms/step - loss: 0.4256 - accuracy: 0.8289 - val_loss: 0.5418 - val_accuracy: 0.8125\n",
      "Epoch 146/200\n",
      "23/23 [==============================] - 0s 4ms/step - loss: 0.4215 - accuracy: 0.8303 - val_loss: 0.5322 - val_accuracy: 0.8125\n",
      "Epoch 147/200\n",
      "23/23 [==============================] - 0s 4ms/step - loss: 0.4216 - accuracy: 0.8234 - val_loss: 0.5373 - val_accuracy: 0.8125\n",
      "Epoch 148/200\n",
      "23/23 [==============================] - 0s 4ms/step - loss: 0.4195 - accuracy: 0.8261 - val_loss: 0.5529 - val_accuracy: 0.7875\n",
      "Epoch 149/200\n",
      "23/23 [==============================] - 0s 4ms/step - loss: 0.4195 - accuracy: 0.8275 - val_loss: 0.5226 - val_accuracy: 0.8500\n",
      "Epoch 150/200\n",
      "23/23 [==============================] - 0s 4ms/step - loss: 0.4239 - accuracy: 0.8206 - val_loss: 0.5513 - val_accuracy: 0.8000\n",
      "Epoch 151/200\n",
      "23/23 [==============================] - 0s 4ms/step - loss: 0.4195 - accuracy: 0.8345 - val_loss: 0.5628 - val_accuracy: 0.7625\n",
      "Epoch 152/200\n",
      "23/23 [==============================] - 0s 6ms/step - loss: 0.4204 - accuracy: 0.8317 - val_loss: 0.5314 - val_accuracy: 0.8125\n",
      "Epoch 153/200\n",
      "23/23 [==============================] - 0s 4ms/step - loss: 0.4206 - accuracy: 0.8331 - val_loss: 0.5315 - val_accuracy: 0.8125\n",
      "Epoch 154/200\n",
      "23/23 [==============================] - 0s 4ms/step - loss: 0.4184 - accuracy: 0.8275 - val_loss: 0.5434 - val_accuracy: 0.8000\n",
      "Epoch 155/200\n",
      "23/23 [==============================] - 0s 4ms/step - loss: 0.4184 - accuracy: 0.8303 - val_loss: 0.5375 - val_accuracy: 0.8125\n",
      "Epoch 156/200\n",
      "23/23 [==============================] - 0s 4ms/step - loss: 0.4186 - accuracy: 0.8303 - val_loss: 0.5257 - val_accuracy: 0.8250\n",
      "Epoch 157/200\n",
      "23/23 [==============================] - 0s 3ms/step - loss: 0.4207 - accuracy: 0.8234 - val_loss: 0.5364 - val_accuracy: 0.8125\n",
      "Epoch 158/200\n",
      "23/23 [==============================] - 0s 4ms/step - loss: 0.4162 - accuracy: 0.8331 - val_loss: 0.5496 - val_accuracy: 0.7750\n",
      "Epoch 159/200\n",
      "23/23 [==============================] - 0s 4ms/step - loss: 0.4160 - accuracy: 0.8331 - val_loss: 0.5495 - val_accuracy: 0.7875\n",
      "Epoch 160/200\n",
      "23/23 [==============================] - 0s 4ms/step - loss: 0.4144 - accuracy: 0.8331 - val_loss: 0.5269 - val_accuracy: 0.8250\n",
      "Epoch 161/200\n",
      "23/23 [==============================] - 0s 4ms/step - loss: 0.4187 - accuracy: 0.8289 - val_loss: 0.5610 - val_accuracy: 0.7875\n",
      "Epoch 162/200\n",
      "23/23 [==============================] - 0s 4ms/step - loss: 0.4169 - accuracy: 0.8331 - val_loss: 0.5608 - val_accuracy: 0.7625\n",
      "Epoch 163/200\n",
      "23/23 [==============================] - 0s 4ms/step - loss: 0.4154 - accuracy: 0.8359 - val_loss: 0.5395 - val_accuracy: 0.7875\n",
      "Epoch 164/200\n",
      "23/23 [==============================] - 0s 4ms/step - loss: 0.4149 - accuracy: 0.8317 - val_loss: 0.5309 - val_accuracy: 0.8125\n",
      "Epoch 165/200\n",
      "23/23 [==============================] - 0s 4ms/step - loss: 0.4188 - accuracy: 0.8331 - val_loss: 0.5298 - val_accuracy: 0.8125\n",
      "Epoch 166/200\n",
      "23/23 [==============================] - 0s 4ms/step - loss: 0.4148 - accuracy: 0.8345 - val_loss: 0.5332 - val_accuracy: 0.8125\n",
      "Epoch 167/200\n",
      "23/23 [==============================] - 0s 4ms/step - loss: 0.4131 - accuracy: 0.8331 - val_loss: 0.5595 - val_accuracy: 0.7750\n",
      "Epoch 168/200\n",
      "23/23 [==============================] - 0s 4ms/step - loss: 0.4151 - accuracy: 0.8387 - val_loss: 0.5276 - val_accuracy: 0.8250\n",
      "Epoch 169/200\n",
      "23/23 [==============================] - 0s 4ms/step - loss: 0.4135 - accuracy: 0.8303 - val_loss: 0.5416 - val_accuracy: 0.8000\n",
      "Epoch 170/200\n",
      "23/23 [==============================] - 0s 4ms/step - loss: 0.4167 - accuracy: 0.8303 - val_loss: 0.5276 - val_accuracy: 0.8125\n",
      "Epoch 171/200\n",
      "23/23 [==============================] - 0s 4ms/step - loss: 0.4142 - accuracy: 0.8303 - val_loss: 0.5254 - val_accuracy: 0.8375\n",
      "Epoch 172/200\n",
      "23/23 [==============================] - 0s 4ms/step - loss: 0.4136 - accuracy: 0.8234 - val_loss: 0.5887 - val_accuracy: 0.7500\n",
      "Epoch 173/200\n",
      "23/23 [==============================] - 0s 5ms/step - loss: 0.4103 - accuracy: 0.8289 - val_loss: 0.5312 - val_accuracy: 0.8125\n",
      "Epoch 174/200\n",
      "23/23 [==============================] - 0s 5ms/step - loss: 0.4126 - accuracy: 0.8331 - val_loss: 0.5318 - val_accuracy: 0.8250\n",
      "Epoch 175/200\n",
      "23/23 [==============================] - 0s 4ms/step - loss: 0.4168 - accuracy: 0.8289 - val_loss: 0.5303 - val_accuracy: 0.8000\n",
      "Epoch 176/200\n",
      "23/23 [==============================] - 0s 4ms/step - loss: 0.4105 - accuracy: 0.8373 - val_loss: 0.5404 - val_accuracy: 0.8000\n",
      "Epoch 177/200\n",
      "23/23 [==============================] - 0s 4ms/step - loss: 0.4128 - accuracy: 0.8275 - val_loss: 0.5564 - val_accuracy: 0.7625\n",
      "Epoch 178/200\n",
      "23/23 [==============================] - 0s 4ms/step - loss: 0.4093 - accuracy: 0.8345 - val_loss: 0.5335 - val_accuracy: 0.8000\n",
      "Epoch 179/200\n",
      "23/23 [==============================] - 0s 4ms/step - loss: 0.4108 - accuracy: 0.8345 - val_loss: 0.5403 - val_accuracy: 0.8000\n",
      "Epoch 180/200\n",
      "23/23 [==============================] - 0s 4ms/step - loss: 0.4109 - accuracy: 0.8345 - val_loss: 0.5424 - val_accuracy: 0.8000\n",
      "Epoch 181/200\n",
      "23/23 [==============================] - 0s 4ms/step - loss: 0.4094 - accuracy: 0.8317 - val_loss: 0.5360 - val_accuracy: 0.8000\n",
      "Epoch 182/200\n",
      "23/23 [==============================] - 0s 4ms/step - loss: 0.4081 - accuracy: 0.8387 - val_loss: 0.5458 - val_accuracy: 0.7875\n",
      "Epoch 183/200\n",
      "23/23 [==============================] - 0s 4ms/step - loss: 0.4107 - accuracy: 0.8317 - val_loss: 0.5740 - val_accuracy: 0.7500\n",
      "Epoch 184/200\n",
      "23/23 [==============================] - 0s 4ms/step - loss: 0.4202 - accuracy: 0.8261 - val_loss: 0.5960 - val_accuracy: 0.7375\n",
      "Epoch 185/200\n",
      "23/23 [==============================] - 0s 4ms/step - loss: 0.4135 - accuracy: 0.8234 - val_loss: 0.5547 - val_accuracy: 0.7750\n",
      "Epoch 186/200\n",
      "23/23 [==============================] - 0s 4ms/step - loss: 0.4097 - accuracy: 0.8414 - val_loss: 0.5511 - val_accuracy: 0.7875\n",
      "Epoch 187/200\n",
      "23/23 [==============================] - 0s 4ms/step - loss: 0.4172 - accuracy: 0.8248 - val_loss: 0.5436 - val_accuracy: 0.8000\n",
      "Epoch 188/200\n",
      "23/23 [==============================] - 0s 4ms/step - loss: 0.4078 - accuracy: 0.8387 - val_loss: 0.5523 - val_accuracy: 0.7875\n",
      "Epoch 189/200\n",
      "23/23 [==============================] - 0s 4ms/step - loss: 0.4093 - accuracy: 0.8317 - val_loss: 0.5280 - val_accuracy: 0.8125\n",
      "Epoch 190/200\n",
      "23/23 [==============================] - 0s 4ms/step - loss: 0.4119 - accuracy: 0.8275 - val_loss: 0.5496 - val_accuracy: 0.7875\n",
      "Epoch 191/200\n",
      "23/23 [==============================] - 0s 4ms/step - loss: 0.4064 - accuracy: 0.8345 - val_loss: 0.5440 - val_accuracy: 0.8000\n",
      "Epoch 192/200\n",
      "23/23 [==============================] - 0s 5ms/step - loss: 0.4067 - accuracy: 0.8387 - val_loss: 0.5299 - val_accuracy: 0.8125\n",
      "Epoch 193/200\n",
      "23/23 [==============================] - 0s 4ms/step - loss: 0.4078 - accuracy: 0.8345 - val_loss: 0.5451 - val_accuracy: 0.8000\n",
      "Epoch 194/200\n",
      "23/23 [==============================] - 0s 4ms/step - loss: 0.4053 - accuracy: 0.8387 - val_loss: 0.5519 - val_accuracy: 0.8000\n",
      "Epoch 195/200\n",
      "23/23 [==============================] - 0s 4ms/step - loss: 0.4039 - accuracy: 0.8331 - val_loss: 0.5535 - val_accuracy: 0.7875\n",
      "Epoch 196/200\n",
      "23/23 [==============================] - 0s 4ms/step - loss: 0.4071 - accuracy: 0.8373 - val_loss: 0.5566 - val_accuracy: 0.7750\n",
      "Epoch 197/200\n",
      "23/23 [==============================] - 0s 4ms/step - loss: 0.4255 - accuracy: 0.8192 - val_loss: 0.5295 - val_accuracy: 0.8375\n",
      "Epoch 198/200\n",
      "23/23 [==============================] - 0s 4ms/step - loss: 0.4068 - accuracy: 0.8373 - val_loss: 0.5419 - val_accuracy: 0.7750\n",
      "Epoch 199/200\n",
      "23/23 [==============================] - 0s 4ms/step - loss: 0.4053 - accuracy: 0.8303 - val_loss: 0.5291 - val_accuracy: 0.8250\n",
      "Epoch 200/200\n",
      "23/23 [==============================] - 0s 4ms/step - loss: 0.4048 - accuracy: 0.8373 - val_loss: 0.5521 - val_accuracy: 0.7750\n"
     ]
    }
   ],
   "source": [
    "# Train the network with the optimized parameters\n",
    "model = create_model(xopt)\n",
    "history = model.fit(X_train, y_train, validation_data=(X_test, y_test), batch_size=32, epochs=200)"
   ]
  },
  {
   "cell_type": "markdown",
   "metadata": {
    "id": "bXuez8n6TSrv"
   },
   "source": [
    "# Evaluation of the model"
   ]
  },
  {
   "cell_type": "code",
   "execution_count": 30,
   "metadata": {
    "id": "89maIFccTW_D"
   },
   "outputs": [
    {
     "data": {
      "text/plain": [
       "Text(0.5, 1.0, 'Model Accuracy')"
      ]
     },
     "execution_count": 30,
     "metadata": {},
     "output_type": "execute_result"
    },
    {
     "data": {
      "image/png": "[encoded data removed]",
      "text/plain": [
       "<Figure size 640x480 with 1 Axes>"
      ]
     },
     "metadata": {},
     "output_type": "display_data"
    }
   ],
   "source": [
    "import matplotlib.pyplot as plt\n",
    "\n",
    "plt.plot(history.history['accuracy'], label='accuracy')\n",
    "plt.plot(history.history['val_accuracy'], label='val_accuracy')\n",
    "plt.xlabel('Epoch')\n",
    "plt.ylabel('Accuracy')\n",
    "plt.title('Model Accuracy')"
   ]
  },
  {
   "cell_type": "code",
   "execution_count": 31,
   "metadata": {
    "collapsed": false,
    "jupyter": {
     "outputs_hidden": false
    }
   },
   "outputs": [
    {
     "name": "stdout",
     "output_type": "stream",
     "text": [
      "3/3 [==============================] - 0s 2ms/step - loss: 0.5521 - accuracy: 0.7750\n",
      "Accuracy: 77.50%\n"
     ]
    }
   ],
   "source": [
    "loss, accuracy = model.evaluate(X_test, y_test)\n",
    "print(f'Accuracy: {accuracy * 100:.2f}%')"
   ]
  },
  {
   "cell_type": "code",
   "execution_count": 32,
   "metadata": {
    "collapsed": false,
    "jupyter": {
     "outputs_hidden": false
    }
   },
   "outputs": [
    {
     "name": "stdout",
     "output_type": "stream",
     "text": [
      "3/3 [==============================] - 0s 2ms/step\n"
     ]
    }
   ],
   "source": [
    "# Predictions\n",
    "y_pred = model.predict(X_test)\n",
    "y_pred = np.argmax(y_pred, axis=1)\n",
    "y_test = np.argmax(y_test, axis=1)"
   ]
  },
  {
   "cell_type": "code",
   "execution_count": 33,
   "metadata": {
    "collapsed": false,
    "jupyter": {
     "outputs_hidden": false
    }
   },
   "outputs": [
    {
     "data": {
      "text/plain": [
       "[Text(0, 0.5, 'Excellent'),\n",
       " Text(0, 1.5, 'Fair'),\n",
       " Text(0, 2.5, 'Good'),\n",
       " Text(0, 3.5, 'Medium'),\n",
       " Text(0, 4.5, 'Poor')]"
      ]
     },
     "execution_count": 33,
     "metadata": {},
     "output_type": "execute_result"
    },
    {
     "data": {
      "image/png": "[encoded data removed]",
      "text/plain": [
       "<Figure size 640x480 with 2 Axes>"
      ]
     },
     "metadata": {},
     "output_type": "display_data"
    }
   ],
   "source": [
    "# Confusion matrix\n",
    "from sklearn.metrics import confusion_matrix, classification_report\n",
    "import seaborn as sns\n",
    "import matplotlib.pyplot as plt\n",
    "\n",
    "cm = confusion_matrix(y_test, y_pred)\n",
    "\n",
    "ax = plt.subplot()\n",
    "sns.heatmap(cm, annot=True, fmt='g', ax=ax)\n",
    "ax.set_xlabel('Predicted labels')\n",
    "ax.set_ylabel('True labels')\n",
    "ax.set_title('Confusion Matrix')\n",
    "ax.xaxis.set_ticklabels(label_cls)\n",
    "ax.yaxis.set_ticklabels(label_cls)"
   ]
  },
  {
   "cell_type": "code",
   "execution_count": 34,
   "metadata": {
    "collapsed": false,
    "jupyter": {
     "outputs_hidden": false
    }
   },
   "outputs": [
    {
     "name": "stdout",
     "output_type": "stream",
     "text": [
      "              precision    recall  f1-score   support\n",
      "\n",
      "   Excellent       1.00      0.93      0.96        14\n",
      "        Fair       0.73      0.69      0.71        16\n",
      "        Good       0.79      0.61      0.69        18\n",
      "      Medium       0.61      0.69      0.65        16\n",
      "        Poor       0.80      1.00      0.89        16\n",
      "\n",
      "    accuracy                           0.78        80\n",
      "   macro avg       0.79      0.78      0.78        80\n",
      "weighted avg       0.78      0.78      0.77        80\n",
      "\n"
     ]
    }
   ],
   "source": [
    "# Classification report\n",
    "print(classification_report(y_test, y_pred, target_names=label_cls))"
   ]
  },
  {
   "cell_type": "markdown",
   "metadata": {
    "jupyter": {
     "outputs_hidden": false
    }
   },
   "source": [
    "# **Predictions**"
   ]
  },
  {
   "cell_type": "code",
   "execution_count": 35,
   "metadata": {
    "collapsed": false,
    "jupyter": {
     "outputs_hidden": false
    }
   },
   "outputs": [],
   "source": [
    "# from tqdm import tqdm\n",
    "# \n",
    "# df_final['predicted_wqc'] = ''\n",
    "# \n",
    "# for idx, row in tqdm(df_final.iterrows(), total=df_final.shape[0]):\n",
    "#     features = row.drop(['wqc', 'predicted_wqc'])\n",
    "#     features = scaler_feature.transform([features])\n",
    "#     prediction = model.predict(features, verbose=0)\n",
    "#     prediction = np.argmax(prediction, axis=1)\n",
    "#     label = label_cls[prediction[0]]\n",
    "#     df_final.at[idx, 'predicted_wqc'] = label"
   ]
  },
  {
   "cell_type": "markdown",
   "metadata": {
    "jupyter": {
     "outputs_hidden": false
    }
   },
   "source": [
    "# Indian Water Quality Dataset"
   ]
  },
  {
   "cell_type": "markdown",
   "metadata": {
    "jupyter": {
     "outputs_hidden": false
    }
   },
   "source": [
    "## Data cleaning and preprocessing"
   ]
  },
  {
   "cell_type": "code",
   "execution_count": 37,
   "metadata": {
    "ExecuteTime": {
     "end_time": "2024-04-07T11:06:38.096404Z",
     "start_time": "2024-04-07T11:06:38.079404Z"
    },
    "collapsed": false,
    "jupyter": {
     "outputs_hidden": false
    }
   },
   "outputs": [],
   "source": [
    "india_file_path = 'dataset/Indian-Dataset.csv'\n",
    "\n",
    "df_india = pd.read_csv(india_file_path)"
   ]
  },
  {
   "cell_type": "code",
   "execution_count": 38,
   "metadata": {
    "ExecuteTime": {
     "end_time": "2024-04-07T11:06:38.422646Z",
     "start_time": "2024-04-07T11:06:38.398647Z"
    },
    "collapsed": false,
    "jupyter": {
     "outputs_hidden": false
    }
   },
   "outputs": [
    {
     "data": {
      "text/html": [
       "<div>\n",
       "<style scoped>\n",
       "    .dataframe tbody tr th:only-of-type {\n",
       "        vertical-align: middle;\n",
       "    }\n",
       "\n",
       "    .dataframe tbody tr th {\n",
       "        vertical-align: top;\n",
       "    }\n",
       "\n",
       "    .dataframe thead th {\n",
       "        text-align: right;\n",
       "    }\n",
       "</style>\n",
       "<table border=\"1\" class=\"dataframe\">\n",
       "  <thead>\n",
       "    <tr style=\"text-align: right;\">\n",
       "      <th></th>\n",
       "      <th>Unnamed: 0</th>\n",
       "      <th>District</th>\n",
       "      <th>Village</th>\n",
       "      <th>pH</th>\n",
       "      <th>EC</th>\n",
       "      <th>TDS</th>\n",
       "      <th>TH</th>\n",
       "      <th>Alkalinity</th>\n",
       "      <th>Calcium</th>\n",
       "      <th>Magnesium</th>\n",
       "      <th>Sodium</th>\n",
       "      <th>Potassium</th>\n",
       "      <th>Bicarbonate</th>\n",
       "      <th>Chloride</th>\n",
       "      <th>Sulphate</th>\n",
       "      <th>Fluoride</th>\n",
       "      <th>Latitude (N)</th>\n",
       "      <th>Longitude(E)</th>\n",
       "      <th>Elavation(M)</th>\n",
       "    </tr>\n",
       "  </thead>\n",
       "  <tbody>\n",
       "    <tr>\n",
       "      <th>0</th>\n",
       "      <td>0</td>\n",
       "      <td>Angul</td>\n",
       "      <td>Chauliakata</td>\n",
       "      <td>7.22</td>\n",
       "      <td>210.0</td>\n",
       "      <td>105</td>\n",
       "      <td>85</td>\n",
       "      <td>60</td>\n",
       "      <td>22</td>\n",
       "      <td>7</td>\n",
       "      <td>5</td>\n",
       "      <td>4.2</td>\n",
       "      <td>73</td>\n",
       "      <td>21</td>\n",
       "      <td>10</td>\n",
       "      <td>0.27</td>\n",
       "      <td>NaN</td>\n",
       "      <td>NaN</td>\n",
       "      <td>NaN</td>\n",
       "    </tr>\n",
       "    <tr>\n",
       "      <th>1</th>\n",
       "      <td>1</td>\n",
       "      <td>Angul</td>\n",
       "      <td>Godibandha</td>\n",
       "      <td>7.54</td>\n",
       "      <td>310.0</td>\n",
       "      <td>157</td>\n",
       "      <td>100</td>\n",
       "      <td>85</td>\n",
       "      <td>20</td>\n",
       "      <td>12</td>\n",
       "      <td>21</td>\n",
       "      <td>4.8</td>\n",
       "      <td>104</td>\n",
       "      <td>43</td>\n",
       "      <td>5</td>\n",
       "      <td>0.12</td>\n",
       "      <td>NaN</td>\n",
       "      <td>NaN</td>\n",
       "      <td>NaN</td>\n",
       "    </tr>\n",
       "    <tr>\n",
       "      <th>2</th>\n",
       "      <td>2</td>\n",
       "      <td>Angul</td>\n",
       "      <td>Samal</td>\n",
       "      <td>8.08</td>\n",
       "      <td>580.0</td>\n",
       "      <td>282</td>\n",
       "      <td>125</td>\n",
       "      <td>200</td>\n",
       "      <td>20</td>\n",
       "      <td>18</td>\n",
       "      <td>72</td>\n",
       "      <td>3.5</td>\n",
       "      <td>244</td>\n",
       "      <td>21</td>\n",
       "      <td>28</td>\n",
       "      <td>1.52</td>\n",
       "      <td>NaN</td>\n",
       "      <td>NaN</td>\n",
       "      <td>NaN</td>\n",
       "    </tr>\n",
       "    <tr>\n",
       "      <th>3</th>\n",
       "      <td>3</td>\n",
       "      <td>Angul</td>\n",
       "      <td>Sipur</td>\n",
       "      <td>8.25</td>\n",
       "      <td>390.0</td>\n",
       "      <td>191</td>\n",
       "      <td>150</td>\n",
       "      <td>145</td>\n",
       "      <td>34</td>\n",
       "      <td>16</td>\n",
       "      <td>16</td>\n",
       "      <td>5.7</td>\n",
       "      <td>177</td>\n",
       "      <td>30</td>\n",
       "      <td>3</td>\n",
       "      <td>0.31</td>\n",
       "      <td>NaN</td>\n",
       "      <td>NaN</td>\n",
       "      <td>NaN</td>\n",
       "    </tr>\n",
       "    <tr>\n",
       "      <th>4</th>\n",
       "      <td>4</td>\n",
       "      <td>Angul</td>\n",
       "      <td>Khamar-1</td>\n",
       "      <td>7.64</td>\n",
       "      <td>460.0</td>\n",
       "      <td>234</td>\n",
       "      <td>165</td>\n",
       "      <td>125</td>\n",
       "      <td>42</td>\n",
       "      <td>15</td>\n",
       "      <td>26</td>\n",
       "      <td>5.0</td>\n",
       "      <td>153</td>\n",
       "      <td>71</td>\n",
       "      <td>0</td>\n",
       "      <td>0.15</td>\n",
       "      <td>NaN</td>\n",
       "      <td>NaN</td>\n",
       "      <td>NaN</td>\n",
       "    </tr>\n",
       "  </tbody>\n",
       "</table>\n",
       "</div>"
      ],
      "text/plain": [
       "   Unnamed: 0 District      Village    pH     EC  TDS   TH  Alkalinity  \\\n",
       "0           0    Angul  Chauliakata  7.22  210.0  105   85          60   \n",
       "1           1    Angul   Godibandha  7.54  310.0  157  100          85   \n",
       "2           2    Angul        Samal  8.08  580.0  282  125         200   \n",
       "3           3    Angul        Sipur  8.25  390.0  191  150         145   \n",
       "4           4    Angul     Khamar-1  7.64  460.0  234  165         125   \n",
       "\n",
       "   Calcium  Magnesium  Sodium  Potassium  Bicarbonate  Chloride  Sulphate  \\\n",
       "0       22          7       5        4.2           73        21        10   \n",
       "1       20         12      21        4.8          104        43         5   \n",
       "2       20         18      72        3.5          244        21        28   \n",
       "3       34         16      16        5.7          177        30         3   \n",
       "4       42         15      26        5.0          153        71         0   \n",
       "\n",
       "   Fluoride  Latitude (N)  Longitude(E)  Elavation(M)  \n",
       "0      0.27           NaN           NaN           NaN  \n",
       "1      0.12           NaN           NaN           NaN  \n",
       "2      1.52           NaN           NaN           NaN  \n",
       "3      0.31           NaN           NaN           NaN  \n",
       "4      0.15           NaN           NaN           NaN  "
      ]
     },
     "execution_count": 38,
     "metadata": {},
     "output_type": "execute_result"
    }
   ],
   "source": [
    "df_india.head()"
   ]
  },
  {
   "cell_type": "code",
   "execution_count": 40,
   "metadata": {
    "ExecuteTime": {
     "end_time": "2024-04-07T11:06:38.486292Z",
     "start_time": "2024-04-07T11:06:38.454505Z"
    }
   },
   "outputs": [],
   "source": [
    "df_india.drop(df_india.columns[0], axis = 1, inplace=True)\n",
    "df_india.dropna(inplace=True)\n",
    "df_india.drop_duplicates(inplace=True)\n",
    "df_india.reset_index(drop=True, inplace=True)"
   ]
  },
  {
   "cell_type": "code",
   "execution_count": 41,
   "metadata": {
    "ExecuteTime": {
     "end_time": "2024-04-07T11:06:38.627780Z",
     "start_time": "2024-04-07T11:06:38.536780Z"
    }
   },
   "outputs": [],
   "source": [
    "df_india['is_pH'] = df_india['pH'].apply(lambda x: 1 if (x >= 6.5 and x <= 8.5) else 0)\n",
    "df_india['is_ec'] = df_india['EC'].apply(lambda x: 1 if x <= 1000 else 0)\n",
    "df_india['is_tds'] = df_india['TDS'].apply(lambda x: 1 if x <= 500 else 0)\n",
    "df_india['is_th'] = df_india['TH'].apply(lambda x: 1 if x <= 300 else 0)\n",
    "df_india['is_alkalinity'] = df_india['Alkalinity'].apply(lambda x: 1 if x <= 200 else 0)\n",
    "df_india['is_calcium'] = df_india['Calcium'].apply(lambda x: 1 if x <= 75 else 0)\n",
    "df_india['is_magnesium'] = df_india['Magnesium'].apply(lambda x: 1 if x <= 50 else 0)\n",
    "df_india['is_sodium'] = df_india['Sodium'].apply(lambda x: 1 if x <= 200 else 0)\n",
    "df_india['is_potassium'] = df_india['Potassium'].apply(lambda x: 1 if x <= 12 else 0)\n",
    "df_india['is_bicarbonate'] = df_india['Bicarbonate'].apply(lambda x: 1 if x <= 350 else 0)\n",
    "df_india['is_chloride'] = df_india['Chloride'].apply(lambda x: 1 if x <= 250 else 0)\n",
    "df_india['is_sulphate'] = df_india['Sulphate'].apply(lambda x: 1 if x <= 200 else 0)\n",
    "df_india['is_fluoride'] = df_india['Fluoride'].apply(lambda x: 1 if x <= 1.5 else 0)\n",
    "\n",
    "df_india['is_drinkable'] = df_india[['is_pH', 'is_ec', 'is_tds', 'is_th', 'is_alkalinity', 'is_calcium', 'is_magnesium',\n",
    "                                     'is_sodium', 'is_potassium', 'is_bicarbonate', 'is_chloride', 'is_sulphate', 'is_fluoride']].apply(lambda row: 1 if row.nunique() == 1 else 0, axis=1)"
   ]
  },
  {
   "cell_type": "code",
   "execution_count": 42,
   "metadata": {
    "ExecuteTime": {
     "end_time": "2024-04-07T11:06:38.835784Z",
     "start_time": "2024-04-07T11:06:38.666780Z"
    }
   },
   "outputs": [],
   "source": [
    "values = [8.5, 1000, 500, 300, 200, 75, 50, 200, 12, 350, 250, 200, 1.5]\n",
    "wi = [((1 / sum(values)) / value) for value in values]\n",
    "\n",
    "def calculate_norm(dataframe, column, scale):\n",
    "    if column == 'pH':\n",
    "        return [100 * ((i - scale) / (8.5 - scale)) for i in dataframe[column]]\n",
    "    else:\n",
    "        return [100 * (i / scale) for i in dataframe[column]]\n",
    "    \n",
    "norm_values = dict()  # Empty dictionary to hold all the norm values\n",
    "\n",
    "columns = ['pH', 'EC', 'TDS', 'TH', 'Alkalinity', 'Calcium', 'Magnesium', 'Sodium', 'Potassium', 'Bicarbonate',\n",
    "           'Chloride', 'Sulphate', 'Fluoride']\n",
    "\n",
    "scales = [7, 1000, 500, 300, 200, 75, 50, 200, 12, 350, 250, 200, 1.5]\n",
    "\n",
    "for column, scale in zip(columns, scales):\n",
    "    norm_values[column] = calculate_norm(df_india, column, scale)\n",
    "    \n",
    "df_india['wqi'] = 0\n",
    "\n",
    "for i in range(len(df_india)):\n",
    "    df_india['wqi'].iloc[i] = sum(norm_values[column][i] * weight for column, weight in zip(columns, wi)) / sum(wi)\n",
    "    \n",
    "# Scaling the wqi values between 0 and 100\n",
    "df_india['wqi'] = (df_india['wqi'] - df_india['wqi'].min()) / (df_india['wqi'].max() - df_india['wqi'].min()) * 100"
   ]
  },
  {
   "cell_type": "code",
   "execution_count": 43,
   "metadata": {
    "ExecuteTime": {
     "end_time": "2024-04-07T11:06:38.914783Z",
     "start_time": "2024-04-07T11:06:38.902782Z"
    }
   },
   "outputs": [],
   "source": [
    "# Quantile to classify the water quality\n",
    "quantiles = df_india['wqi'].quantile([0, 0.2, 0.4, 0.6, 0.8, 1]).values\n",
    "\n",
    "# Function to classify based on dynamic quantile ranges\n",
    "def water_quality_class_quantile(x):\n",
    "    if x <= quantiles[1]:\n",
    "        return \"Poor\"\n",
    "    elif quantiles[1] < x <= quantiles[2]:\n",
    "        return \"Fair\"\n",
    "    elif quantiles[2] < x <= quantiles[3]:\n",
    "        return \"Medium\"\n",
    "    elif quantiles[3] < x <= quantiles[4]:\n",
    "        return \"Good\"\n",
    "    elif quantiles[4] < x:\n",
    "        return \"Excellent\""
   ]
  },
  {
   "cell_type": "code",
   "execution_count": 44,
   "metadata": {
    "ExecuteTime": {
     "end_time": "2024-04-07T11:06:39.055780Z",
     "start_time": "2024-04-07T11:06:39.033783Z"
    }
   },
   "outputs": [],
   "source": [
    "df_india['wqc'] = df_india['wqi'].apply(water_quality_class_quantile)"
   ]
  },
  {
   "cell_type": "code",
   "execution_count": 45,
   "metadata": {
    "ExecuteTime": {
     "end_time": "2024-04-07T11:06:39.230781Z",
     "start_time": "2024-04-07T11:06:39.111784Z"
    }
   },
   "outputs": [],
   "source": [
    "# df_india.head()"
   ]
  },
  {
   "cell_type": "code",
   "execution_count": 46,
   "metadata": {
    "ExecuteTime": {
     "end_time": "2024-04-07T11:06:44.775204Z",
     "start_time": "2024-04-07T11:06:39.235782Z"
    },
    "collapsed": false,
    "jupyter": {
     "outputs_hidden": false
    }
   },
   "outputs": [],
   "source": [
    "# Encode the target variable\n",
    "from sklearn.preprocessing import LabelEncoder\n",
    "from keras.utils import to_categorical\n",
    "\n",
    "\n",
    "X = df_india[['pH', 'EC', 'TDS', 'TH', 'Alkalinity', 'Calcium', 'Magnesium', 'Sodium', 'Potassium', 'Bicarbonate',\n",
    "              'Chloride', 'Sulphate', 'Fluoride']]\n",
    "y_target = df_india['wqc']"
   ]
  },
  {
   "cell_type": "code",
   "execution_count": 47,
   "metadata": {
    "ExecuteTime": {
     "end_time": "2024-04-07T11:06:44.791141Z",
     "start_time": "2024-04-07T11:06:44.782145Z"
    },
    "collapsed": false,
    "jupyter": {
     "outputs_hidden": false
    }
   },
   "outputs": [
    {
     "ename": "ValueError",
     "evalue": "zero-size array to reduction operation maximum which has no identity",
     "output_type": "error",
     "traceback": [
      "\u001b[1;31m---------------------------------------------------------------------------\u001b[0m",
      "\u001b[1;31mValueError\u001b[0m                                Traceback (most recent call last)",
      "Cell \u001b[1;32mIn[47], line 3\u001b[0m\n\u001b[0;32m      1\u001b[0m label_encoder \u001b[38;5;241m=\u001b[39m LabelEncoder()\n\u001b[0;32m      2\u001b[0m y_target \u001b[38;5;241m=\u001b[39m label_encoder\u001b[38;5;241m.\u001b[39mfit_transform(y_target)\n\u001b[1;32m----> 3\u001b[0m y_target \u001b[38;5;241m=\u001b[39m \u001b[43mto_categorical\u001b[49m\u001b[43m(\u001b[49m\u001b[43my_target\u001b[49m\u001b[43m)\u001b[49m\n\u001b[0;32m      5\u001b[0m label_cls \u001b[38;5;241m=\u001b[39m label_encoder\u001b[38;5;241m.\u001b[39mclasses_\n",
      "File \u001b[1;32m~\\anaconda3\\lib\\site-packages\\keras\\utils\\np_utils.py:70\u001b[0m, in \u001b[0;36mto_categorical\u001b[1;34m(y, num_classes, dtype)\u001b[0m\n\u001b[0;32m     68\u001b[0m y \u001b[38;5;241m=\u001b[39m y\u001b[38;5;241m.\u001b[39mravel()\n\u001b[0;32m     69\u001b[0m \u001b[38;5;28;01mif\u001b[39;00m \u001b[38;5;129;01mnot\u001b[39;00m num_classes:\n\u001b[1;32m---> 70\u001b[0m     num_classes \u001b[38;5;241m=\u001b[39m \u001b[43mnp\u001b[49m\u001b[38;5;241;43m.\u001b[39;49m\u001b[43mmax\u001b[49m\u001b[43m(\u001b[49m\u001b[43my\u001b[49m\u001b[43m)\u001b[49m \u001b[38;5;241m+\u001b[39m \u001b[38;5;241m1\u001b[39m\n\u001b[0;32m     71\u001b[0m n \u001b[38;5;241m=\u001b[39m y\u001b[38;5;241m.\u001b[39mshape[\u001b[38;5;241m0\u001b[39m]\n\u001b[0;32m     72\u001b[0m categorical \u001b[38;5;241m=\u001b[39m np\u001b[38;5;241m.\u001b[39mzeros((n, num_classes), dtype\u001b[38;5;241m=\u001b[39mdtype)\n",
      "File \u001b[1;32m<__array_function__ internals>:180\u001b[0m, in \u001b[0;36mamax\u001b[1;34m(*args, **kwargs)\u001b[0m\n",
      "File \u001b[1;32m~\\anaconda3\\lib\\site-packages\\numpy\\core\\fromnumeric.py:2793\u001b[0m, in \u001b[0;36mamax\u001b[1;34m(a, axis, out, keepdims, initial, where)\u001b[0m\n\u001b[0;32m   2677\u001b[0m \u001b[38;5;129m@array_function_dispatch\u001b[39m(_amax_dispatcher)\n\u001b[0;32m   2678\u001b[0m \u001b[38;5;28;01mdef\u001b[39;00m \u001b[38;5;21mamax\u001b[39m(a, axis\u001b[38;5;241m=\u001b[39m\u001b[38;5;28;01mNone\u001b[39;00m, out\u001b[38;5;241m=\u001b[39m\u001b[38;5;28;01mNone\u001b[39;00m, keepdims\u001b[38;5;241m=\u001b[39mnp\u001b[38;5;241m.\u001b[39m_NoValue, initial\u001b[38;5;241m=\u001b[39mnp\u001b[38;5;241m.\u001b[39m_NoValue,\n\u001b[0;32m   2679\u001b[0m          where\u001b[38;5;241m=\u001b[39mnp\u001b[38;5;241m.\u001b[39m_NoValue):\n\u001b[0;32m   2680\u001b[0m     \u001b[38;5;124;03m\"\"\"\u001b[39;00m\n\u001b[0;32m   2681\u001b[0m \u001b[38;5;124;03m    Return the maximum of an array or maximum along an axis.\u001b[39;00m\n\u001b[0;32m   2682\u001b[0m \n\u001b[1;32m   (...)\u001b[0m\n\u001b[0;32m   2791\u001b[0m \u001b[38;5;124;03m    5\u001b[39;00m\n\u001b[0;32m   2792\u001b[0m \u001b[38;5;124;03m    \"\"\"\u001b[39;00m\n\u001b[1;32m-> 2793\u001b[0m     \u001b[38;5;28;01mreturn\u001b[39;00m \u001b[43m_wrapreduction\u001b[49m\u001b[43m(\u001b[49m\u001b[43ma\u001b[49m\u001b[43m,\u001b[49m\u001b[43m \u001b[49m\u001b[43mnp\u001b[49m\u001b[38;5;241;43m.\u001b[39;49m\u001b[43mmaximum\u001b[49m\u001b[43m,\u001b[49m\u001b[43m \u001b[49m\u001b[38;5;124;43m'\u001b[39;49m\u001b[38;5;124;43mmax\u001b[39;49m\u001b[38;5;124;43m'\u001b[39;49m\u001b[43m,\u001b[49m\u001b[43m \u001b[49m\u001b[43maxis\u001b[49m\u001b[43m,\u001b[49m\u001b[43m \u001b[49m\u001b[38;5;28;43;01mNone\u001b[39;49;00m\u001b[43m,\u001b[49m\u001b[43m \u001b[49m\u001b[43mout\u001b[49m\u001b[43m,\u001b[49m\n\u001b[0;32m   2794\u001b[0m \u001b[43m                          \u001b[49m\u001b[43mkeepdims\u001b[49m\u001b[38;5;241;43m=\u001b[39;49m\u001b[43mkeepdims\u001b[49m\u001b[43m,\u001b[49m\u001b[43m \u001b[49m\u001b[43minitial\u001b[49m\u001b[38;5;241;43m=\u001b[39;49m\u001b[43minitial\u001b[49m\u001b[43m,\u001b[49m\u001b[43m \u001b[49m\u001b[43mwhere\u001b[49m\u001b[38;5;241;43m=\u001b[39;49m\u001b[43mwhere\u001b[49m\u001b[43m)\u001b[49m\n",
      "File \u001b[1;32m~\\anaconda3\\lib\\site-packages\\numpy\\core\\fromnumeric.py:86\u001b[0m, in \u001b[0;36m_wrapreduction\u001b[1;34m(obj, ufunc, method, axis, dtype, out, **kwargs)\u001b[0m\n\u001b[0;32m     83\u001b[0m         \u001b[38;5;28;01melse\u001b[39;00m:\n\u001b[0;32m     84\u001b[0m             \u001b[38;5;28;01mreturn\u001b[39;00m reduction(axis\u001b[38;5;241m=\u001b[39maxis, out\u001b[38;5;241m=\u001b[39mout, \u001b[38;5;241m*\u001b[39m\u001b[38;5;241m*\u001b[39mpasskwargs)\n\u001b[1;32m---> 86\u001b[0m \u001b[38;5;28;01mreturn\u001b[39;00m ufunc\u001b[38;5;241m.\u001b[39mreduce(obj, axis, dtype, out, \u001b[38;5;241m*\u001b[39m\u001b[38;5;241m*\u001b[39mpasskwargs)\n",
      "\u001b[1;31mValueError\u001b[0m: zero-size array to reduction operation maximum which has no identity"
     ]
    }
   ],
   "source": [
    "label_encoder = LabelEncoder()\n",
    "y_target = label_encoder.fit_transform(y_target)\n",
    "y_target = to_categorical(y_target)\n",
    "\n",
    "label_cls = label_encoder.classes_"
   ]
  },
  {
   "cell_type": "markdown",
   "metadata": {
    "jupyter": {
     "outputs_hidden": false
    }
   },
   "source": [
    "## Data Split"
   ]
  },
  {
   "cell_type": "code",
   "execution_count": null,
   "metadata": {
    "ExecuteTime": {
     "end_time": "2024-04-07T11:06:44.823162Z",
     "start_time": "2024-04-07T11:06:44.794140Z"
    },
    "collapsed": false,
    "jupyter": {
     "outputs_hidden": false
    }
   },
   "outputs": [],
   "source": [
    "# Split the data into training and testing sets\n",
    "from sklearn.model_selection import train_test_split\n",
    "\n",
    "X_train, X_test, y_train, y_test = train_test_split(X, y_target, test_size=0.1, random_state=0, stratify=y_target)"
   ]
  },
  {
   "cell_type": "markdown",
   "metadata": {
    "jupyter": {
     "outputs_hidden": false
    }
   },
   "source": [
    "## Data Normalization"
   ]
  },
  {
   "cell_type": "code",
   "execution_count": null,
   "metadata": {
    "ExecuteTime": {
     "end_time": "2024-04-07T11:06:44.839162Z",
     "start_time": "2024-04-07T11:06:44.825138Z"
    },
    "collapsed": false,
    "jupyter": {
     "outputs_hidden": false
    }
   },
   "outputs": [],
   "source": [
    "# Normalize the features\n",
    "from sklearn.preprocessing import MinMaxScaler\n",
    "\n",
    "scaler_feature = MinMaxScaler()\n",
    "X_train = scaler_feature.fit_transform(X_train)\n",
    "X_test = scaler_feature.transform(X_test)"
   ]
  },
  {
   "cell_type": "markdown",
   "metadata": {
    "jupyter": {
     "outputs_hidden": false
    }
   },
   "source": [
    "# Model Inputs"
   ]
  },
  {
   "cell_type": "code",
   "execution_count": null,
   "metadata": {
    "ExecuteTime": {
     "end_time": "2024-04-07T11:06:44.855163Z",
     "start_time": "2024-04-07T11:06:44.840139Z"
    },
    "collapsed": false,
    "jupyter": {
     "outputs_hidden": false
    }
   },
   "outputs": [],
   "source": [
    "X_train = X_train.reshape(X_train.shape[0], X_train.shape[1], 1) \n",
    "X_test = X_test.reshape(X_test.shape[0], X_test.shape[1], 1)"
   ]
  },
  {
   "cell_type": "code",
   "execution_count": null,
   "metadata": {
    "ExecuteTime": {
     "end_time": "2024-04-07T11:06:44.871162Z",
     "start_time": "2024-04-07T11:06:44.857137Z"
    }
   },
   "outputs": [],
   "source": [
    "import tensorflow as tf\n",
    "from pyswarm import pso\n",
    "\n",
    "def create_model(layer_params):\n",
    "    model = tf.keras.models.Sequential()\n",
    "    model.add(tf.keras.layers.Conv1D(layer_params[0], 3))\n",
    "    model.add(tf.keras.layers.MaxPooling1D(pool_size=2, padding='same'))\n",
    "    model.add(tf.keras.layers.Conv1D(layer_params[1]*2, 3))\n",
    "    model.add(tf.keras.layers.MaxPooling1D(pool_size=2, padding='same'))\n",
    "    model.add(tf.keras.layers.Flatten())\n",
    "    model.add(tf.keras.layers.Dense(units=int(layer_params[2]), activation='relu'))\n",
    "    model.add(tf.keras.layers.Dense(units=5, activation='softmax'))\n",
    "    \n",
    "    optimizer = tf.keras.optimizers.Adam(learning_rate=0.0001)\n",
    "    model.compile(optimizer=optimizer, loss='categorical_crossentropy', metrics=['accuracy'])\n",
    "    return model"
   ]
  },
  {
   "cell_type": "markdown",
   "metadata": {},
   "source": [
    "# PSO Optimization"
   ]
  },
  {
   "cell_type": "code",
   "execution_count": null,
   "metadata": {
    "ExecuteTime": {
     "end_time": "2024-04-07T11:06:44.887168Z",
     "start_time": "2024-04-07T11:06:44.873138Z"
    }
   },
   "outputs": [],
   "source": [
    "def train_network(layer_params):\n",
    "    mlp = create_model(layer_params)\n",
    "    hst = mlp.fit(X_train, y_train, validation_data=(X_test, y_test), batch_size=32, epochs=20, verbose=0)\n",
    "    return 1 - hst.history['accuracy'][-1]"
   ]
  },
  {
   "cell_type": "code",
   "execution_count": null,
   "metadata": {
    "ExecuteTime": {
     "end_time": "2024-04-07T11:16:04.122012Z",
     "start_time": "2024-04-07T11:06:44.889142Z"
    }
   },
   "outputs": [],
   "source": [
    "lb = [16, 32, 64]\n",
    "ub = [64, 128, 128]\n",
    "\n",
    "xopt, fopt = pso(train_network, lb, ub, swarmsize=5, omega=0.5, phip=0.5, phig=1.0, maxiter=30, minstep=1)"
   ]
  },
  {
   "cell_type": "code",
   "execution_count": null,
   "metadata": {
    "ExecuteTime": {
     "end_time": "2024-04-07T11:16:04.137988Z",
     "start_time": "2024-04-07T11:16:04.123988Z"
    }
   },
   "outputs": [],
   "source": [
    "# The optimized parameters\n",
    "print(\"The otpimized parameters are:\")\n",
    "print(\"first filter 1D: \", int(xopt[0]))\n",
    "print(\"second filter 1D: \", int(xopt[1]))\n",
    "print(\"dense units: \", int(xopt[2]))"
   ]
  },
  {
   "cell_type": "markdown",
   "metadata": {},
   "source": [
    "# Training the Model on a given particle (Hyperparmeters of the model)"
   ]
  },
  {
   "cell_type": "code",
   "execution_count": null,
   "metadata": {
    "ExecuteTime": {
     "end_time": "2024-04-07T11:17:21.423437Z",
     "start_time": "2024-04-07T11:16:04.140988Z"
    }
   },
   "outputs": [],
   "source": [
    "# Train the network with the optimized parameters\n",
    "model = create_model(xopt)\n",
    "history = model.fit(X_train, y_train, validation_data=(X_test, y_test), batch_size=32, epochs=200)"
   ]
  },
  {
   "cell_type": "markdown",
   "metadata": {},
   "source": [
    "# Evaluation of the model"
   ]
  },
  {
   "cell_type": "code",
   "execution_count": null,
   "metadata": {
    "ExecuteTime": {
     "end_time": "2024-04-07T11:17:21.738279Z",
     "start_time": "2024-04-07T11:17:21.423437Z"
    }
   },
   "outputs": [],
   "source": [
    "import matplotlib.pyplot as plt\n",
    "\n",
    "plt.plot(history.history['accuracy'], label='accuracy')\n",
    "plt.plot(history.history['val_accuracy'], label='val_accuracy')\n",
    "plt.xlabel('Epoch')\n",
    "plt.ylabel('Accuracy')\n",
    "plt.title('Model Accuracy')"
   ]
  },
  {
   "cell_type": "code",
   "execution_count": null,
   "metadata": {
    "ExecuteTime": {
     "end_time": "2024-04-07T11:17:21.850278Z",
     "start_time": "2024-04-07T11:17:21.740279Z"
    }
   },
   "outputs": [],
   "source": [
    "loss, accuracy = model.evaluate(X_test, y_test)\n",
    "print(f'Accuracy: {accuracy * 100:.2f}%')"
   ]
  },
  {
   "cell_type": "code",
   "execution_count": null,
   "metadata": {
    "ExecuteTime": {
     "end_time": "2024-04-07T11:17:22.071283Z",
     "start_time": "2024-04-07T11:17:21.852279Z"
    }
   },
   "outputs": [],
   "source": [
    "# Predictions\n",
    "y_pred = model.predict(X_test)\n",
    "y_pred = np.argmax(y_pred, axis=1)\n",
    "y_test = np.argmax(y_test, axis=1)"
   ]
  },
  {
   "cell_type": "code",
   "execution_count": null,
   "metadata": {
    "ExecuteTime": {
     "end_time": "2024-04-07T11:17:22.338279Z",
     "start_time": "2024-04-07T11:17:22.073281Z"
    }
   },
   "outputs": [],
   "source": [
    "# Confusion matrix\n",
    "from sklearn.metrics import confusion_matrix, classification_report\n",
    "import seaborn as sns\n",
    "import matplotlib.pyplot as plt\n",
    "\n",
    "cm = confusion_matrix(y_test, y_pred)\n",
    "\n",
    "ax = plt.subplot()\n",
    "sns.heatmap(cm, annot=True, fmt='g', ax=ax)\n",
    "ax.set_title('India Water Quality Dataset')\n",
    "ax.set_xlabel('Predicted labels')\n",
    "ax.set_ylabel('True labels')\n",
    "ax.set_title('Confusion Matrix')\n",
    "ax.xaxis.set_ticklabels(label_cls)\n",
    "ax.yaxis.set_ticklabels(label_cls)"
   ]
  },
  {
   "cell_type": "code",
   "execution_count": null,
   "metadata": {
    "ExecuteTime": {
     "end_time": "2024-04-07T11:17:22.354305Z",
     "start_time": "2024-04-07T11:17:22.340279Z"
    }
   },
   "outputs": [],
   "source": [
    "# Classification report\n",
    "print(classification_report(y_test, y_pred, target_names=label_cls))"
   ]
  },
  {
   "cell_type": "markdown",
   "metadata": {},
   "source": [
    "# **Predictions**"
   ]
  },
  {
   "cell_type": "code",
   "execution_count": null,
   "metadata": {
    "ExecuteTime": {
     "end_time": "2024-04-07T11:17:22.386284Z",
     "start_time": "2024-04-07T11:17:22.356281Z"
    }
   },
   "outputs": [],
   "source": [
    "# from tqdm import tqdm\n",
    "# \n",
    "# df_india['predicted_wqc'] = ''\n",
    "# \n",
    "# for idx, row in tqdm(df_india.iterrows(), total=df_final.shape[0]):\n",
    "#     features = row.drop(['wqc', 'predicted_wqc'])\n",
    "#     features = scaler_feature.transform([features])\n",
    "#     prediction = model.predict(features, verbose=0)\n",
    "#     prediction = np.argmax(prediction, axis=1)\n",
    "#     label = label_cls[prediction[0]]\n",
    "#     df_india.at[idx, 'predicted_wqc'] = label"
   ]
  },
  {
   "cell_type": "code",
   "execution_count": null,
   "metadata": {},
   "outputs": [],
   "source": []
  }
 ],
 "metadata": {
  "colab": {
   "provenance": []
  },
  "kernelspec": {
   "display_name": "Python 3 (ipykernel)",
   "language": "python",
   "name": "python3"
  },
  "language_info": {
   "codemirror_mode": {
    "name": "ipython",
    "version": 3
   },
   "file_extension": ".py",
   "mimetype": "text/x-python",
   "name": "python",
   "nbconvert_exporter": "python",
   "pygments_lexer": "ipython3",
   "version": "3.9.16"
  }
 },
 "nbformat": 4,
 "nbformat_minor": 4
}
