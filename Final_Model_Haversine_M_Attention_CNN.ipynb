{
 "cells": [
  {
   "cell_type": "markdown",
   "metadata": {
    "id": "t5ifYbvIBxjG"
   },
   "source": [
    "# **Importing Libraries**"
   ]
  },
  {
   "cell_type": "code",
   "execution_count": 1,
   "metadata": {
    "ExecuteTime": {
     "end_time": "2024-03-22T04:13:42.074541Z",
     "start_time": "2024-03-22T04:13:41.874545Z"
    },
    "id": "-lsYef-5B1a0"
   },
   "outputs": [],
   "source": [
    "#library\n",
    "import pandas as pd\n",
    "import numpy as np\n",
    "import random as rnd\n",
    "import os\n",
    "import re\n",
    "import time\n",
    "import seaborn as sns\n",
    "import matplotlib.pyplot as plt\n",
    "%matplotlib inline\n",
    "\n",
    "#Visualization\n",
    "import matplotlib as mpl\n",
    "import matplotlib.pyplot as plt\n",
    "import matplotlib.pylab as pylab\n",
    "import seaborn as sns\n",
    "from pandas.plotting import scatter_matrix\n",
    "\n",
    "# Importing other tools\n",
    "from sklearn import model_selection\n",
    "from sklearn.metrics import confusion_matrix, classification_report, make_scorer\n",
    "from sklearn.metrics import accuracy_score, recall_score, precision_recall_curve\n",
    "\n",
    "import warnings\n",
    "warnings.filterwarnings('ignore')"
   ]
  },
  {
   "cell_type": "markdown",
   "metadata": {
    "id": "XZzJAvD38eGz"
   },
   "source": [
    "# **Data Cleaning and Preprocessing**"
   ]
  },
  {
   "cell_type": "code",
   "execution_count": 2,
   "metadata": {
    "ExecuteTime": {
     "end_time": "2024-03-22T04:13:44.098977Z",
     "start_time": "2024-03-22T04:13:42.076542Z"
    },
    "id": "MLBzi9lh8dKB"
   },
   "outputs": [
    {
     "ename": "FileNotFoundError",
     "evalue": "[Errno 2] No such file or directory: 'Vietnam CordinateFile.xlsx'",
     "output_type": "error",
     "traceback": [
      "\u001b[1;31m---------------------------------------------------------------------------\u001b[0m",
      "\u001b[1;31mFileNotFoundError\u001b[0m                         Traceback (most recent call last)",
      "Cell \u001b[1;32mIn[2], line 4\u001b[0m\n\u001b[0;32m      1\u001b[0m coordinate_file_path \u001b[38;5;241m=\u001b[39m \u001b[38;5;124m'\u001b[39m\u001b[38;5;124mVietnam CordinateFile.xlsx\u001b[39m\u001b[38;5;124m'\u001b[39m\n\u001b[0;32m      2\u001b[0m daluong_file_path \u001b[38;5;241m=\u001b[39m \u001b[38;5;124m'\u001b[39m\u001b[38;5;124mVietnamDatasets.xlsx\u001b[39m\u001b[38;5;124m'\u001b[39m\n\u001b[1;32m----> 4\u001b[0m df_coordinate \u001b[38;5;241m=\u001b[39m \u001b[43mpd\u001b[49m\u001b[38;5;241;43m.\u001b[39;49m\u001b[43mread_excel\u001b[49m\u001b[43m(\u001b[49m\u001b[43mcoordinate_file_path\u001b[49m\u001b[43m)\u001b[49m\n\u001b[0;32m      5\u001b[0m df_daluong \u001b[38;5;241m=\u001b[39m pd\u001b[38;5;241m.\u001b[39mread_excel(daluong_file_path)\n",
      "File \u001b[1;32m~\\anaconda3\\lib\\site-packages\\pandas\\util\\_decorators.py:211\u001b[0m, in \u001b[0;36mdeprecate_kwarg.<locals>._deprecate_kwarg.<locals>.wrapper\u001b[1;34m(*args, **kwargs)\u001b[0m\n\u001b[0;32m    209\u001b[0m     \u001b[38;5;28;01melse\u001b[39;00m:\n\u001b[0;32m    210\u001b[0m         kwargs[new_arg_name] \u001b[38;5;241m=\u001b[39m new_arg_value\n\u001b[1;32m--> 211\u001b[0m \u001b[38;5;28;01mreturn\u001b[39;00m func(\u001b[38;5;241m*\u001b[39margs, \u001b[38;5;241m*\u001b[39m\u001b[38;5;241m*\u001b[39mkwargs)\n",
      "File \u001b[1;32m~\\anaconda3\\lib\\site-packages\\pandas\\util\\_decorators.py:331\u001b[0m, in \u001b[0;36mdeprecate_nonkeyword_arguments.<locals>.decorate.<locals>.wrapper\u001b[1;34m(*args, **kwargs)\u001b[0m\n\u001b[0;32m    325\u001b[0m \u001b[38;5;28;01mif\u001b[39;00m \u001b[38;5;28mlen\u001b[39m(args) \u001b[38;5;241m>\u001b[39m num_allow_args:\n\u001b[0;32m    326\u001b[0m     warnings\u001b[38;5;241m.\u001b[39mwarn(\n\u001b[0;32m    327\u001b[0m         msg\u001b[38;5;241m.\u001b[39mformat(arguments\u001b[38;5;241m=\u001b[39m_format_argument_list(allow_args)),\n\u001b[0;32m    328\u001b[0m         \u001b[38;5;167;01mFutureWarning\u001b[39;00m,\n\u001b[0;32m    329\u001b[0m         stacklevel\u001b[38;5;241m=\u001b[39mfind_stack_level(),\n\u001b[0;32m    330\u001b[0m     )\n\u001b[1;32m--> 331\u001b[0m \u001b[38;5;28;01mreturn\u001b[39;00m func(\u001b[38;5;241m*\u001b[39margs, \u001b[38;5;241m*\u001b[39m\u001b[38;5;241m*\u001b[39mkwargs)\n",
      "File \u001b[1;32m~\\anaconda3\\lib\\site-packages\\pandas\\io\\excel\\_base.py:482\u001b[0m, in \u001b[0;36mread_excel\u001b[1;34m(io, sheet_name, header, names, index_col, usecols, squeeze, dtype, engine, converters, true_values, false_values, skiprows, nrows, na_values, keep_default_na, na_filter, verbose, parse_dates, date_parser, thousands, decimal, comment, skipfooter, convert_float, mangle_dupe_cols, storage_options)\u001b[0m\n\u001b[0;32m    480\u001b[0m \u001b[38;5;28;01mif\u001b[39;00m \u001b[38;5;129;01mnot\u001b[39;00m \u001b[38;5;28misinstance\u001b[39m(io, ExcelFile):\n\u001b[0;32m    481\u001b[0m     should_close \u001b[38;5;241m=\u001b[39m \u001b[38;5;28;01mTrue\u001b[39;00m\n\u001b[1;32m--> 482\u001b[0m     io \u001b[38;5;241m=\u001b[39m \u001b[43mExcelFile\u001b[49m\u001b[43m(\u001b[49m\u001b[43mio\u001b[49m\u001b[43m,\u001b[49m\u001b[43m \u001b[49m\u001b[43mstorage_options\u001b[49m\u001b[38;5;241;43m=\u001b[39;49m\u001b[43mstorage_options\u001b[49m\u001b[43m,\u001b[49m\u001b[43m \u001b[49m\u001b[43mengine\u001b[49m\u001b[38;5;241;43m=\u001b[39;49m\u001b[43mengine\u001b[49m\u001b[43m)\u001b[49m\n\u001b[0;32m    483\u001b[0m \u001b[38;5;28;01melif\u001b[39;00m engine \u001b[38;5;129;01mand\u001b[39;00m engine \u001b[38;5;241m!=\u001b[39m io\u001b[38;5;241m.\u001b[39mengine:\n\u001b[0;32m    484\u001b[0m     \u001b[38;5;28;01mraise\u001b[39;00m \u001b[38;5;167;01mValueError\u001b[39;00m(\n\u001b[0;32m    485\u001b[0m         \u001b[38;5;124m\"\u001b[39m\u001b[38;5;124mEngine should not be specified when passing \u001b[39m\u001b[38;5;124m\"\u001b[39m\n\u001b[0;32m    486\u001b[0m         \u001b[38;5;124m\"\u001b[39m\u001b[38;5;124man ExcelFile - ExcelFile already has the engine set\u001b[39m\u001b[38;5;124m\"\u001b[39m\n\u001b[0;32m    487\u001b[0m     )\n",
      "File \u001b[1;32m~\\anaconda3\\lib\\site-packages\\pandas\\io\\excel\\_base.py:1652\u001b[0m, in \u001b[0;36mExcelFile.__init__\u001b[1;34m(self, path_or_buffer, engine, storage_options)\u001b[0m\n\u001b[0;32m   1650\u001b[0m     ext \u001b[38;5;241m=\u001b[39m \u001b[38;5;124m\"\u001b[39m\u001b[38;5;124mxls\u001b[39m\u001b[38;5;124m\"\u001b[39m\n\u001b[0;32m   1651\u001b[0m \u001b[38;5;28;01melse\u001b[39;00m:\n\u001b[1;32m-> 1652\u001b[0m     ext \u001b[38;5;241m=\u001b[39m \u001b[43minspect_excel_format\u001b[49m\u001b[43m(\u001b[49m\n\u001b[0;32m   1653\u001b[0m \u001b[43m        \u001b[49m\u001b[43mcontent_or_path\u001b[49m\u001b[38;5;241;43m=\u001b[39;49m\u001b[43mpath_or_buffer\u001b[49m\u001b[43m,\u001b[49m\u001b[43m \u001b[49m\u001b[43mstorage_options\u001b[49m\u001b[38;5;241;43m=\u001b[39;49m\u001b[43mstorage_options\u001b[49m\n\u001b[0;32m   1654\u001b[0m \u001b[43m    \u001b[49m\u001b[43m)\u001b[49m\n\u001b[0;32m   1655\u001b[0m     \u001b[38;5;28;01mif\u001b[39;00m ext \u001b[38;5;129;01mis\u001b[39;00m \u001b[38;5;28;01mNone\u001b[39;00m:\n\u001b[0;32m   1656\u001b[0m         \u001b[38;5;28;01mraise\u001b[39;00m \u001b[38;5;167;01mValueError\u001b[39;00m(\n\u001b[0;32m   1657\u001b[0m             \u001b[38;5;124m\"\u001b[39m\u001b[38;5;124mExcel file format cannot be determined, you must specify \u001b[39m\u001b[38;5;124m\"\u001b[39m\n\u001b[0;32m   1658\u001b[0m             \u001b[38;5;124m\"\u001b[39m\u001b[38;5;124man engine manually.\u001b[39m\u001b[38;5;124m\"\u001b[39m\n\u001b[0;32m   1659\u001b[0m         )\n",
      "File \u001b[1;32m~\\anaconda3\\lib\\site-packages\\pandas\\io\\excel\\_base.py:1525\u001b[0m, in \u001b[0;36minspect_excel_format\u001b[1;34m(content_or_path, storage_options)\u001b[0m\n\u001b[0;32m   1522\u001b[0m \u001b[38;5;28;01mif\u001b[39;00m \u001b[38;5;28misinstance\u001b[39m(content_or_path, \u001b[38;5;28mbytes\u001b[39m):\n\u001b[0;32m   1523\u001b[0m     content_or_path \u001b[38;5;241m=\u001b[39m BytesIO(content_or_path)\n\u001b[1;32m-> 1525\u001b[0m \u001b[38;5;28;01mwith\u001b[39;00m \u001b[43mget_handle\u001b[49m\u001b[43m(\u001b[49m\n\u001b[0;32m   1526\u001b[0m \u001b[43m    \u001b[49m\u001b[43mcontent_or_path\u001b[49m\u001b[43m,\u001b[49m\u001b[43m \u001b[49m\u001b[38;5;124;43m\"\u001b[39;49m\u001b[38;5;124;43mrb\u001b[39;49m\u001b[38;5;124;43m\"\u001b[39;49m\u001b[43m,\u001b[49m\u001b[43m \u001b[49m\u001b[43mstorage_options\u001b[49m\u001b[38;5;241;43m=\u001b[39;49m\u001b[43mstorage_options\u001b[49m\u001b[43m,\u001b[49m\u001b[43m \u001b[49m\u001b[43mis_text\u001b[49m\u001b[38;5;241;43m=\u001b[39;49m\u001b[38;5;28;43;01mFalse\u001b[39;49;00m\n\u001b[0;32m   1527\u001b[0m \u001b[43m\u001b[49m\u001b[43m)\u001b[49m \u001b[38;5;28;01mas\u001b[39;00m handle:\n\u001b[0;32m   1528\u001b[0m     stream \u001b[38;5;241m=\u001b[39m handle\u001b[38;5;241m.\u001b[39mhandle\n\u001b[0;32m   1529\u001b[0m     stream\u001b[38;5;241m.\u001b[39mseek(\u001b[38;5;241m0\u001b[39m)\n",
      "File \u001b[1;32m~\\anaconda3\\lib\\site-packages\\pandas\\io\\common.py:865\u001b[0m, in \u001b[0;36mget_handle\u001b[1;34m(path_or_buf, mode, encoding, compression, memory_map, is_text, errors, storage_options)\u001b[0m\n\u001b[0;32m    856\u001b[0m         handle \u001b[38;5;241m=\u001b[39m \u001b[38;5;28mopen\u001b[39m(\n\u001b[0;32m    857\u001b[0m             handle,\n\u001b[0;32m    858\u001b[0m             ioargs\u001b[38;5;241m.\u001b[39mmode,\n\u001b[1;32m   (...)\u001b[0m\n\u001b[0;32m    861\u001b[0m             newline\u001b[38;5;241m=\u001b[39m\u001b[38;5;124m\"\u001b[39m\u001b[38;5;124m\"\u001b[39m,\n\u001b[0;32m    862\u001b[0m         )\n\u001b[0;32m    863\u001b[0m     \u001b[38;5;28;01melse\u001b[39;00m:\n\u001b[0;32m    864\u001b[0m         \u001b[38;5;66;03m# Binary mode\u001b[39;00m\n\u001b[1;32m--> 865\u001b[0m         handle \u001b[38;5;241m=\u001b[39m \u001b[38;5;28;43mopen\u001b[39;49m\u001b[43m(\u001b[49m\u001b[43mhandle\u001b[49m\u001b[43m,\u001b[49m\u001b[43m \u001b[49m\u001b[43mioargs\u001b[49m\u001b[38;5;241;43m.\u001b[39;49m\u001b[43mmode\u001b[49m\u001b[43m)\u001b[49m\n\u001b[0;32m    866\u001b[0m     handles\u001b[38;5;241m.\u001b[39mappend(handle)\n\u001b[0;32m    868\u001b[0m \u001b[38;5;66;03m# Convert BytesIO or file objects passed with an encoding\u001b[39;00m\n",
      "\u001b[1;31mFileNotFoundError\u001b[0m: [Errno 2] No such file or directory: 'Vietnam CordinateFile.xlsx'"
     ]
    }
   ],
   "source": [
    "coordinate_file_path = 'Vietnam CordinateFile.xlsx'\n",
    "daluong_file_path = 'VietnamDatasets.xlsx'\n",
    "\n",
    "df_coordinate = pd.read_excel(coordinate_file_path)\n",
    "df_daluong = pd.read_excel(daluong_file_path)"
   ]
  },
  {
   "cell_type": "code",
   "execution_count": null,
   "metadata": {
    "ExecuteTime": {
     "end_time": "2024-03-22T04:13:44.131113Z",
     "start_time": "2024-03-22T04:13:44.103984Z"
    },
    "id": "POhNX7SxCVyG"
   },
   "outputs": [],
   "source": [
    "coordinate_columns = ['Well Point Number', 'Longitude and Latitude']\n",
    "daluong_columns = ['well_code', 'na', 'k', 'ca2', 'mg2', 'fe3', 'fe2', 'cl', 'so4', 'hco3',\n",
    "                   'co3', 'no2', 'hardness_general', 'no3', 'hardness_temporal',\n",
    "                   'hardness_permanent', 'ph', 'co2_free', 'co2_depend', 'co2_infiltrate',\n",
    "                   'sio2', 'tds105']\n",
    "\n",
    "df_coordinate = df_coordinate[coordinate_columns]\n",
    "df_daluong = df_daluong[daluong_columns]"
   ]
  },
  {
   "cell_type": "markdown",
   "metadata": {
    "id": "pON51PI9Eox-"
   },
   "source": [
    "### Handling Missing Values:"
   ]
  },
  {
   "cell_type": "code",
   "execution_count": null,
   "metadata": {
    "ExecuteTime": {
     "end_time": "2024-03-22T04:13:44.162973Z",
     "start_time": "2024-03-22T04:13:44.134976Z"
    },
    "id": "iRau8b0tCs0H"
   },
   "outputs": [],
   "source": [
    "# Check for missing values and display the report\n",
    "daluong_mean_columns = ['fe2', 'fe3', 'no2', 'no3', 'co2_infiltrate', 'sio2']\n",
    "for col in daluong_mean_columns:\n",
    "    df_daluong[col].fillna(df_daluong[col].mean(), inplace=True)\n",
    "\n",
    "# Drop rows with missing values show the results with indicative rows that are dropped.\n",
    "df_daluong.dropna(subset=daluong_columns, inplace=True)"
   ]
  },
  {
   "cell_type": "markdown",
   "metadata": {
    "id": "kunmvn-KEx25"
   },
   "source": [
    "### Removing Duplicates:"
   ]
  },
  {
   "cell_type": "code",
   "execution_count": null,
   "metadata": {
    "ExecuteTime": {
     "end_time": "2024-03-22T04:13:44.178973Z",
     "start_time": "2024-03-22T04:13:44.164975Z"
    },
    "id": "cuB0TrhQE1ZQ"
   },
   "outputs": [],
   "source": [
    "df_daluong.drop_duplicates(inplace=True)"
   ]
  },
  {
   "cell_type": "markdown",
   "metadata": {
    "id": "3QFMP3tfE7aK"
   },
   "source": [
    "### Data Formatting:\n",
    "\n",
    "1.   Standardize data formats across the dataset, such as date formats, numeric formats, and text formats.\n",
    "2.   Convert categorical variables to a consistent format (e.g., lowercase, title case) using string manipulation functions.\n",
    "\n"
   ]
  },
  {
   "cell_type": "code",
   "execution_count": null,
   "metadata": {
    "ExecuteTime": {
     "end_time": "2024-03-22T04:13:44.194974Z",
     "start_time": "2024-03-22T04:13:44.182983Z"
    },
    "id": "gSV2zEHEFi6N"
   },
   "outputs": [],
   "source": [
    "df_coordinate[['Longitude', 'Latitude']] = df_coordinate['Longitude and Latitude'].str.split(',', expand=True)\n",
    "df_coordinate.drop('Longitude and Latitude', axis=1, inplace=True)\n",
    "df_coordinate.rename({'Well Point Number': 'well_code'}, axis=1, inplace=True)"
   ]
  },
  {
   "cell_type": "markdown",
   "metadata": {
    "id": "NYnW-A3hFP-g"
   },
   "source": [
    "### Handling Outliers:\n",
    "\n",
    "1.   Identify outliers in numerical data using statistical methods like z-score, IQR (Interquartile Range), or visualization techniques like box plots.\n",
    "2.   Decide on a strategy to handle outliers, such as capping, winsorization, or removal.\n",
    "\n"
   ]
  },
  {
   "cell_type": "code",
   "execution_count": null,
   "metadata": {
    "ExecuteTime": {
     "end_time": "2024-03-22T04:13:44.225973Z",
     "start_time": "2024-03-22T04:13:44.196974Z"
    },
    "id": "ojKkwYoSFWvt"
   },
   "outputs": [],
   "source": [
    "def remove_outliers_iqr(dataframe, column):\n",
    "    '''\n",
    "    Remove outliers using the IQR method\n",
    "    :param dataframe:\n",
    "    :param column:\n",
    "    :return:\n",
    "    '''\n",
    "    Q1 = dataframe[column].quantile(0.05)\n",
    "    Q3 = dataframe[column].quantile(0.95)\n",
    "    IQR = Q3 - Q1\n",
    "    df = dataframe[~((dataframe[column] < (Q1 - 1.5 * IQR)) | (dataframe[column] > (Q3 + 1.5 * IQR)))]\n",
    "    return df\n",
    "\n",
    "\n",
    "df_daluong = remove_outliers_iqr(df_daluong, 'cl')"
   ]
  },
  {
   "cell_type": "markdown",
   "metadata": {
    "id": "eJijg6ZLFtDj"
   },
   "source": [
    "### Correcting Inconsistent Data:\n",
    "\n",
    "1.   Identify and correct inconsistencies in the data, such as misspellings, inconsistent naming conventions, or conflicting information.\n",
    "2.   Use string manipulation functions or regular expressions to correct inconsistencies in textual data.\n",
    "\n"
   ]
  },
  {
   "cell_type": "code",
   "execution_count": null,
   "metadata": {
    "ExecuteTime": {
     "end_time": "2024-03-22T04:13:44.366982Z",
     "start_time": "2024-03-22T04:13:44.228975Z"
    },
    "id": "5L-u7lK0F5-B"
   },
   "outputs": [],
   "source": [
    "df_daluong_tmp = df_daluong.copy(deep=True)\n",
    "def binarize(column, threshold):\n",
    "    '''\n",
    "    Binarize the column based on the threshold\n",
    "    :param column:\n",
    "    :param threshold:\n",
    "    :return:\n",
    "    '''\n",
    "    return column.apply(lambda x: 1 if x <= threshold else 0)\n",
    "\n",
    "\n",
    "def binarize_inclusive(column, lower_bound, upper_bound):\n",
    "    '''\n",
    "    Binarize the column based on the lower and upper bounds\n",
    "    :param column:\n",
    "    :param lower_bound:\n",
    "    :param upper_bound:\n",
    "    :return:\n",
    "    '''\n",
    "    return column.apply(lambda x: 1 if (x >= lower_bound and x <= upper_bound) else 0)\n",
    "\n",
    "df_daluong_tmp['ph'] = binarize_inclusive(df_daluong_tmp['ph'], 5.5, 8.5)\n",
    "df_daluong_tmp['fe2'] = binarize(df_daluong_tmp['fe2'], 5)\n",
    "df_daluong_tmp['fe3'] = binarize(df_daluong_tmp['fe3'], 5)\n",
    "df_daluong_tmp['cl'] = binarize(df_daluong_tmp['cl'], 250)\n",
    "df_daluong_tmp['so4'] = binarize(df_daluong_tmp['so4'], 400)\n",
    "df_daluong_tmp['tds105'] = binarize(df_daluong_tmp['tds105'], 400)\n",
    "df_daluong_tmp['hardness_general'] = binarize(df_daluong_tmp['hardness_general'], 500)\n",
    "df_daluong_tmp['na'] = binarize(df_daluong_tmp['na'], 200)\n",
    "df_daluong_tmp['k'] = binarize(df_daluong_tmp['k'], 12)\n",
    "df_daluong_tmp['mg2'] = binarize(df_daluong_tmp['mg2'], 50)\n",
    "df_daluong_tmp['ca2'] = binarize(df_daluong_tmp['ca2'], 75)\n",
    "df_daluong_tmp['no3'] = binarize(df_daluong_tmp['no3'], 15)\n",
    "df_daluong_tmp['no2'] = binarize(df_daluong_tmp['no2'], 1)\n",
    "df_daluong_tmp['hco3'] = binarize(df_daluong_tmp['hco3'], 350)\n",
    "df_daluong_tmp['co3'] = binarize(df_daluong_tmp['co3'], 1)\n",
    "df_daluong_tmp['hardness_temporal'] = 1\n",
    "df_daluong_tmp['hardness_permanent'] = 1\n",
    "df_daluong_tmp['co2_free'] = 1\n",
    "df_daluong_tmp['co2_depend'] = 1\n",
    "df_daluong_tmp['co2_infiltrate'] = 1\n",
    "df_daluong_tmp['sio2'] = 1\n",
    "\n",
    "df_daluong['is_drinkable'] = df_daluong_tmp.drop('well_code', axis=1).apply(lambda row: int(row.nunique() == 1), axis=1)"
   ]
  },
  {
   "cell_type": "markdown",
   "metadata": {
    "id": "mdVi8O4JGBuK"
   },
   "source": [
    "### Data Transformation:\n",
    "\n",
    "1.   Transform data to a suitable scale or distribution, such as logarithmic transformation for skewed data.\n",
    "2.   Perform feature scaling or normalization to ensure that variables are on a similar scale.\n",
    "\n"
   ]
  },
  {
   "cell_type": "code",
   "execution_count": null,
   "metadata": {
    "ExecuteTime": {
     "end_time": "2024-03-22T04:13:44.660974Z",
     "start_time": "2024-03-22T04:13:44.373996Z"
    },
    "id": "RPQitbxdGIbX"
   },
   "outputs": [],
   "source": [
    "values = [200, 12, 75, 50, 5, 5, 250, 400, 350, 1, 1, 15, 8.5, 400, 500, 242, 393, 51, 127, 16, 5]\n",
    "wi = [((1 / sum(values)) / value) for value in values]\n",
    "\n",
    "\n",
    "def calculate_norm(dataframe, column, scale):\n",
    "    if column == 'ph':\n",
    "        return [100 * ((i - scale) / (8.5 - scale)) for i in dataframe[column]]\n",
    "    else:\n",
    "        return [100 * (i / scale) for i in dataframe[column]]\n",
    "\n",
    "\n",
    "norm_values = dict()  # Empty dictionary to hold all the norm values\n",
    "\n",
    "columns = ['ph', 'fe2', 'fe3', 'so4', 'tds105', 'hardness_general', 'no2', 'no3', 'ca2', 'mg2', 'co2_free',\n",
    "           'co2_depend', 'co2_infiltrate', 'sio2', 'na', 'k', 'hco3', 'co3', 'cl', 'hardness_temporal',\n",
    "           'hardness_permanent']\n",
    "\n",
    "scales = [7, 5, 5, 400, 400, 500, 1, 15, 75, 50, 51, 127, 16, 42, 200, 12, 350, 1, 250, 242, 393]\n",
    "\n",
    "for column, scale in zip(columns, scales):\n",
    "    norm_values[column] = calculate_norm(df_daluong, column, scale)\n",
    "\n",
    "df_daluong['wqi'] = 0\n",
    "for i in range(len(df_daluong)):\n",
    "    df_daluong['wqi'].iloc[i] = sum(norm_values[column][i] * weight for column, weight in zip(columns, wi)) / sum(wi)\n",
    "# Scaling the wqi values between 0 and 100\n",
    "df_daluong['wqi'] = (df_daluong['wqi'] - df_daluong['wqi'].min()) / (df_daluong['wqi'].max() - df_daluong['wqi'].min()) * 100"
   ]
  },
  {
   "cell_type": "markdown",
   "metadata": {
    "id": "BJcKWl1WGSlE"
   },
   "source": [
    "### Handling Encoding Issues:\n",
    "\n",
    "1.   Use appropriate encoding techniques to ensure that textual data is encoded correctly (e.g., UTF-8).\n",
    "2.   Handle encoding issues that may arise due to different character encodings in the data.\n",
    "\n"
   ]
  },
  {
   "cell_type": "code",
   "execution_count": null,
   "metadata": {
    "ExecuteTime": {
     "end_time": "2024-03-22T04:13:44.675972Z",
     "start_time": "2024-03-22T04:13:44.662975Z"
    },
    "id": "TI1NSGhIGkVO"
   },
   "outputs": [],
   "source": [
    "# Quantile to classify the water quality\n",
    "quantiles = df_daluong['wqi'].quantile([0, 0.2, 0.4, 0.6, 0.8, 1]).values\n",
    "\n",
    "# Function to classify based on dynamic quantile ranges\n",
    "def water_quality_class_quantile(x):\n",
    "    if x <= quantiles[1]:\n",
    "        return \"Poor\"\n",
    "    elif quantiles[1] < x <= quantiles[2]:\n",
    "        return \"Fair\"\n",
    "    elif quantiles[2] < x <= quantiles[3]:\n",
    "        return \"Medium\"\n",
    "    elif quantiles[3] < x <= quantiles[4]:\n",
    "        return \"Good\"\n",
    "    elif quantiles[4] < x:\n",
    "        return \"Excellent\"\n",
    "\n",
    "df_daluong['wqc'] = df_daluong['wqi'].apply(water_quality_class_quantile)"
   ]
  },
  {
   "cell_type": "markdown",
   "metadata": {
    "id": "3Xpt--itGgpK"
   },
   "source": [
    "### Dealing with Irrelevant Data\n",
    "\n",
    "1.   Identify and remove irrelevant or redundant columns or rows from the dataset.\n",
    "2.   Ensure that only relevant data for the analysis is retained.\n",
    "\n"
   ]
  },
  {
   "cell_type": "code",
   "execution_count": null,
   "metadata": {
    "ExecuteTime": {
     "end_time": "2024-03-22T04:13:44.739972Z",
     "start_time": "2024-03-22T04:13:44.677976Z"
    },
    "id": "8i0NPUY6GxgV"
   },
   "outputs": [],
   "source": [
    "features_df = df_daluong[['well_code', 'na', 'hco3', 'hardness_permanent', 'co2_free', 'sio2', 'wqc']]\n",
    "df_final = pd.merge(features_df, df_coordinate, on='well_code', how='inner')\n",
    "\n",
    "df_final['Longitude'] = df_final['Longitude'].astype('float')\n",
    "df_final['Latitude'] = df_final['Latitude'].astype('float')\n",
    "\n",
    "df_final.dropna(inplace=True)"
   ]
  },
  {
   "cell_type": "markdown",
   "metadata": {
    "id": "1RvFMYA5GyaZ"
   },
   "source": [
    "### Data Validation:\n",
    "\n",
    "1.   Validate data against predefined rules or constraints to ensure data integrity and consistency.\n",
    "2.  Implement data validation checks to identify and flag data that does not meet specified criteria.\n",
    "\n"
   ]
  },
  {
   "cell_type": "code",
   "execution_count": null,
   "metadata": {
    "ExecuteTime": {
     "end_time": "2024-03-22T04:13:44.960973Z",
     "start_time": "2024-03-22T04:13:44.741973Z"
    },
    "colab": {
     "base_uri": "https://localhost:8080/",
     "height": 497
    },
    "id": "AgfBg7kFG8T3",
    "outputId": "fb52002b-5810-4870-90ba-d1b321da8501"
   },
   "outputs": [
    {
     "data": {
      "text/plain": [
       "<Axes: >"
      ]
     },
     "execution_count": 13,
     "metadata": {},
     "output_type": "execute_result"
    },
    {
     "data": {
      "image/png": "[encoded data removed]",
      "text/plain": [
       "<Figure size 640x480 with 1 Axes>"
      ]
     },
     "metadata": {},
     "output_type": "display_data"
    }
   ],
   "source": [
    "df_final['wqc'].value_counts().plot(kind='bar')"
   ]
  },
  {
   "cell_type": "markdown",
   "metadata": {
    "id": "whakWHZ8DQr8"
   },
   "source": [
    "# **Data Encode**"
   ]
  },
  {
   "cell_type": "code",
   "execution_count": null,
   "metadata": {
    "ExecuteTime": {
     "end_time": "2024-03-22T04:13:48.131751Z",
     "start_time": "2024-03-22T04:13:44.962974Z"
    },
    "id": "htCYXmwsDQr8"
   },
   "outputs": [],
   "source": [
    "# Encode the target variable\n",
    "from sklearn.preprocessing import LabelEncoder\n",
    "\n",
    "label_encoder_well_code = LabelEncoder()\n",
    "df_final['well_code'] = label_encoder_well_code.fit_transform(df_final['well_code'])\n",
    "\n",
    "X_features = df_final.drop(['wqc', 'Longitude', 'Latitude'], axis=1)\n",
    "X_coordinates = df_final[['Longitude', 'Latitude']]\n",
    "y_target = df_final['wqc']\n",
    "\n",
    "from keras.utils import to_categorical\n",
    "\n",
    "label_encoder = LabelEncoder()\n",
    "y_target = label_encoder.fit_transform(y_target)\n",
    "y_target = to_categorical(y_target)\n",
    "\n",
    "label_cls = label_encoder.classes_"
   ]
  },
  {
   "cell_type": "markdown",
   "metadata": {
    "id": "6NuOxSLcDQr8"
   },
   "source": [
    "# **Data Split**"
   ]
  },
  {
   "cell_type": "code",
   "execution_count": null,
   "metadata": {
    "ExecuteTime": {
     "end_time": "2024-03-22T04:13:48.162753Z",
     "start_time": "2024-03-22T04:13:48.138754Z"
    },
    "id": "JTL0x9c1DQr8"
   },
   "outputs": [],
   "source": [
    "# Split the data into training and testing sets\n",
    "from sklearn.model_selection import train_test_split\n",
    "\n",
    "X_train_features, X_test_features, X_train_coordinates, X_test_coordinates, y_train, y_test = train_test_split(X_features, X_coordinates, y_target, test_size=0.1, random_state=0, stratify=y_target)"
   ]
  },
  {
   "cell_type": "markdown",
   "metadata": {
    "id": "xDFBxNKSDQr8"
   },
   "source": [
    "# **Data Normalization**"
   ]
  },
  {
   "cell_type": "code",
   "execution_count": null,
   "metadata": {
    "ExecuteTime": {
     "end_time": "2024-03-22T04:13:48.193788Z",
     "start_time": "2024-03-22T04:13:48.164754Z"
    },
    "id": "OOvVf0--DQr8"
   },
   "outputs": [],
   "source": [
    "# Normalize the features\n",
    "from sklearn.preprocessing import MinMaxScaler\n",
    "\n",
    "scaler_feature = MinMaxScaler()\n",
    "X_train_features = scaler_feature.fit_transform(X_train_features)\n",
    "X_test_features = scaler_feature.transform(X_test_features)\n",
    "\n",
    "scaler_coordinate = MinMaxScaler()\n",
    "X_train_coordinates = scaler_coordinate.fit_transform(X_train_coordinates)\n",
    "X_test_coordinates = scaler_coordinate.transform(X_test_coordinates)\n",
    "\n",
    "X_train = [X_train_features, X_train_coordinates]\n",
    "X_test = [X_test_features, X_test_coordinates]"
   ]
  },
  {
   "cell_type": "markdown",
   "metadata": {
    "id": "2IZHS9efKbSi"
   },
   "source": [
    "\n",
    "# **Models Input Layer**"
   ]
  },
  {
   "cell_type": "code",
   "execution_count": null,
   "metadata": {
    "ExecuteTime": {
     "end_time": "2024-03-22T04:13:48.433789Z",
     "start_time": "2024-03-22T04:13:48.197791Z"
    },
    "id": "7mxssWObKczn"
   },
   "outputs": [],
   "source": [
    "import tensorflow as tf\n",
    "from tensorflow.keras import layers, models, Input\n",
    "\n",
    "input_features = Input(shape=(6,), name='input_features') # 6 features\n",
    "input_coordinates = Input(shape=(2,), name='input_coordinates') # 2 coordinates"
   ]
  },
  {
   "cell_type": "markdown",
   "metadata": {
    "id": "VZLlKhGY862j"
   },
   "source": [
    "# **Spatial Harversine Distance Calculation**"
   ]
  },
  {
   "cell_type": "code",
   "execution_count": null,
   "metadata": {
    "ExecuteTime": {
     "end_time": "2024-03-22T04:13:48.448789Z",
     "start_time": "2024-03-22T04:13:48.435789Z"
    },
    "id": "MYfeH-dr9DCC"
   },
   "outputs": [],
   "source": [
    "class HaversineLayer(layers.Layer):\n",
    "    def call(self, inputs):\n",
    "        lat, lon = inputs[..., 0], inputs[..., 1]\n",
    "        return tf.expand_dims(tf.sqrt(lat ** 2 + lon ** 2), -1)"
   ]
  },
  {
   "cell_type": "markdown",
   "metadata": {
    "id": "74zQFm7j8of_"
   },
   "source": [
    "# **Embedding layer of Spatial Features E**"
   ]
  },
  {
   "cell_type": "code",
   "execution_count": null,
   "metadata": {
    "ExecuteTime": {
     "end_time": "2024-03-22T04:13:48.559788Z",
     "start_time": "2024-03-22T04:13:48.450788Z"
    },
    "id": "X4_AKEtM84yc"
   },
   "outputs": [],
   "source": [
    "haversine_layer = HaversineLayer()(input_coordinates)\n",
    "combined_features = layers.Concatenate()([input_features, haversine_layer])"
   ]
  },
  {
   "cell_type": "markdown",
   "metadata": {
    "id": "dhoikyTO9FkS"
   },
   "source": [
    "# **Reshape**"
   ]
  },
  {
   "cell_type": "code",
   "execution_count": null,
   "metadata": {
    "ExecuteTime": {
     "end_time": "2024-03-22T04:13:48.590792Z",
     "start_time": "2024-03-22T04:13:48.561789Z"
    },
    "id": "xOFXWsCx9Jvz"
   },
   "outputs": [],
   "source": [
    "reshaped_features_for_attention = layers.Reshape((1, combined_features.shape[1]))(combined_features)"
   ]
  },
  {
   "cell_type": "markdown",
   "metadata": {
    "id": "Jdq52PxW9KH5"
   },
   "source": [
    "# **Attention-based Network for modality Fussion (Multi-Head Attention)**"
   ]
  },
  {
   "cell_type": "code",
   "execution_count": null,
   "metadata": {
    "ExecuteTime": {
     "end_time": "2024-03-22T04:13:50.891785Z",
     "start_time": "2024-03-22T04:13:48.592787Z"
    },
    "id": "CXaW69iK9UQY"
   },
   "outputs": [],
   "source": [
    "multi_head_attention = layers.MultiHeadAttention(num_heads=2, key_dim=2)(reshaped_features_for_attention, reshaped_features_for_attention)\n",
    "flattened_attention = layers.Flatten()(multi_head_attention)"
   ]
  },
  {
   "cell_type": "markdown",
   "metadata": {
    "id": "N1W-iD8M9auz"
   },
   "source": [
    "# **Concatenation**"
   ]
  },
  {
   "cell_type": "code",
   "execution_count": null,
   "metadata": {
    "ExecuteTime": {
     "end_time": "2024-03-22T04:13:50.907786Z",
     "start_time": "2024-03-22T04:13:50.896786Z"
    },
    "id": "uC2bs1T09gFe"
   },
   "outputs": [],
   "source": [
    "concat_features = layers.Concatenate()([flattened_attention, combined_features])"
   ]
  },
  {
   "cell_type": "markdown",
   "metadata": {
    "id": "uzA3F7ps9hTV"
   },
   "source": [
    "# **Spatial 1D Convolution**"
   ]
  },
  {
   "cell_type": "code",
   "execution_count": null,
   "metadata": {
    "ExecuteTime": {
     "end_time": "2024-03-22T04:13:50.999785Z",
     "start_time": "2024-03-22T04:13:50.911790Z"
    },
    "id": "ccHNi-hz9vrv"
   },
   "outputs": [],
   "source": [
    "concat_features = tf.expand_dims(concat_features, axis=-1)\n",
    "space_conv = layers.Conv1D(64, 3, activation='LeakyReLU')(concat_features)"
   ]
  },
  {
   "cell_type": "markdown",
   "metadata": {
    "id": "ADesyG-u9wD2"
   },
   "source": [
    "# **Spatial 1D Pooling**"
   ]
  },
  {
   "cell_type": "code",
   "execution_count": null,
   "metadata": {
    "ExecuteTime": {
     "end_time": "2024-03-22T04:13:51.015786Z",
     "start_time": "2024-03-22T04:13:51.001786Z"
    },
    "id": "IQrxL-WZ927_"
   },
   "outputs": [],
   "source": [
    "pooled = layers.GlobalMaxPooling1D()(space_conv)"
   ]
  },
  {
   "cell_type": "markdown",
   "metadata": {
    "id": "7anWwkBV965-"
   },
   "source": [
    "# **Fully Connected Layer (Dense Layer)**"
   ]
  },
  {
   "cell_type": "code",
   "execution_count": null,
   "metadata": {
    "ExecuteTime": {
     "end_time": "2024-03-22T04:13:51.077785Z",
     "start_time": "2024-03-22T04:13:51.022787Z"
    },
    "id": "STxAKH_y_Ga6"
   },
   "outputs": [],
   "source": [
    "dense_layer = layers.Dense(128, activation='LeakyReLU')(pooled)\n",
    "dense_layer = layers.Dense(64, activation='LeakyReLU')(dense_layer)"
   ]
  },
  {
   "cell_type": "markdown",
   "metadata": {
    "id": "gYlATcOw_QJ6"
   },
   "source": [
    "# **OutPut - Results and Analysis**"
   ]
  },
  {
   "cell_type": "code",
   "execution_count": null,
   "metadata": {
    "ExecuteTime": {
     "end_time": "2024-03-22T04:13:51.122785Z",
     "start_time": "2024-03-22T04:13:51.080787Z"
    },
    "id": "x2eMdwzDBTus"
   },
   "outputs": [],
   "source": [
    "output = layers.Dense(y_train.shape[1], activation='softmax')(dense_layer)"
   ]
  },
  {
   "cell_type": "markdown",
   "metadata": {
    "id": "0qYvv6xqDQsA"
   },
   "source": [
    "# **Model Compilation**"
   ]
  },
  {
   "cell_type": "code",
   "execution_count": null,
   "metadata": {
    "ExecuteTime": {
     "end_time": "2024-03-22T04:13:51.169785Z",
     "start_time": "2024-03-22T04:13:51.127787Z"
    },
    "id": "WlzP59PzDQsA"
   },
   "outputs": [],
   "source": [
    "model = models.Model(inputs=[input_features, input_coordinates], outputs=output)\n",
    "optimizer = tf.keras.optimizers.Adam(learning_rate=0.0001)\n",
    "model.compile(optimizer=optimizer, loss='categorical_crossentropy', metrics=['accuracy'])"
   ]
  },
  {
   "cell_type": "markdown",
   "metadata": {
    "id": "FLLbEBRkDQsA"
   },
   "source": [
    "# **Model Training**"
   ]
  },
  {
   "cell_type": "code",
   "execution_count": null,
   "metadata": {
    "ExecuteTime": {
     "end_time": "2024-03-22T04:16:11.515838Z",
     "start_time": "2024-03-22T04:13:51.171785Z"
    },
    "colab": {
     "base_uri": "https://localhost:8080/"
    },
    "id": "pv3ZQunDDQsA",
    "outputId": "400d19d8-f96d-44e0-c252-a53df344e451",
    "tags": []
   },
   "outputs": [
    {
     "name": "stdout",
     "output_type": "stream",
     "text": [
      "Epoch 1/300\n",
      "20/20 [==============================] - 3s 25ms/step - loss: 1.6077 - accuracy: 0.2406 - val_loss: 1.6059 - val_accuracy: 0.2500\n",
      "Epoch 2/300\n",
      "20/20 [==============================] - 0s 9ms/step - loss: 1.6052 - accuracy: 0.2324 - val_loss: 1.6042 - val_accuracy: 0.1944\n",
      "Epoch 3/300\n",
      "20/20 [==============================] - 0s 7ms/step - loss: 1.6027 - accuracy: 0.2520 - val_loss: 1.6028 - val_accuracy: 0.2315\n",
      "Epoch 4/300\n",
      "20/20 [==============================] - 0s 7ms/step - loss: 1.6001 - accuracy: 0.2766 - val_loss: 1.6005 - val_accuracy: 0.2500\n",
      "Epoch 5/300\n",
      "20/20 [==============================] - 0s 6ms/step - loss: 1.5974 - accuracy: 0.2700 - val_loss: 1.5989 - val_accuracy: 0.2500\n",
      "Epoch 6/300\n",
      "20/20 [==============================] - 0s 7ms/step - loss: 1.5944 - accuracy: 0.2750 - val_loss: 1.5970 - val_accuracy: 0.2500\n",
      "Epoch 7/300\n",
      "20/20 [==============================] - 0s 6ms/step - loss: 1.5915 - accuracy: 0.2684 - val_loss: 1.5952 - val_accuracy: 0.2500\n",
      "Epoch 8/300\n",
      "20/20 [==============================] - 0s 7ms/step - loss: 1.5885 - accuracy: 0.2782 - val_loss: 1.5922 - val_accuracy: 0.2500\n",
      "Epoch 9/300\n",
      "20/20 [==============================] - 0s 7ms/step - loss: 1.5846 - accuracy: 0.2831 - val_loss: 1.5884 - val_accuracy: 0.2685\n",
      "Epoch 10/300\n",
      "20/20 [==============================] - 0s 9ms/step - loss: 1.5804 - accuracy: 0.2782 - val_loss: 1.5843 - val_accuracy: 0.2500\n",
      "Epoch 11/300\n",
      "20/20 [==============================] - 0s 9ms/step - loss: 1.5755 - accuracy: 0.2799 - val_loss: 1.5799 - val_accuracy: 0.2593\n",
      "Epoch 12/300\n",
      "20/20 [==============================] - 0s 9ms/step - loss: 1.5703 - accuracy: 0.2815 - val_loss: 1.5751 - val_accuracy: 0.2778\n",
      "Epoch 13/300\n",
      "20/20 [==============================] - 0s 10ms/step - loss: 1.5643 - accuracy: 0.2799 - val_loss: 1.5679 - val_accuracy: 0.2593\n",
      "Epoch 14/300\n",
      "20/20 [==============================] - 0s 10ms/step - loss: 1.5577 - accuracy: 0.2700 - val_loss: 1.5615 - val_accuracy: 0.2593\n",
      "Epoch 15/300\n",
      "20/20 [==============================] - 0s 10ms/step - loss: 1.5499 - accuracy: 0.2995 - val_loss: 1.5544 - val_accuracy: 0.3426\n",
      "Epoch 16/300\n",
      "20/20 [==============================] - 0s 11ms/step - loss: 1.5402 - accuracy: 0.3175 - val_loss: 1.5436 - val_accuracy: 0.3056\n",
      "Epoch 17/300\n",
      "20/20 [==============================] - 0s 10ms/step - loss: 1.5306 - accuracy: 0.3208 - val_loss: 1.5336 - val_accuracy: 0.3241\n",
      "Epoch 18/300\n",
      "20/20 [==============================] - 0s 9ms/step - loss: 1.5190 - accuracy: 0.3306 - val_loss: 1.5228 - val_accuracy: 0.3426\n",
      "Epoch 19/300\n",
      "20/20 [==============================] - 0s 10ms/step - loss: 1.5061 - accuracy: 0.3633 - val_loss: 1.5099 - val_accuracy: 0.3704\n",
      "Epoch 20/300\n",
      "20/20 [==============================] - 0s 10ms/step - loss: 1.4918 - accuracy: 0.3748 - val_loss: 1.4959 - val_accuracy: 0.3704\n",
      "Epoch 21/300\n",
      "20/20 [==============================] - 0s 10ms/step - loss: 1.4771 - accuracy: 0.3928 - val_loss: 1.4815 - val_accuracy: 0.3796\n",
      "Epoch 22/300\n",
      "20/20 [==============================] - 0s 11ms/step - loss: 1.4624 - accuracy: 0.3830 - val_loss: 1.4663 - val_accuracy: 0.3704\n",
      "Epoch 23/300\n",
      "20/20 [==============================] - 0s 11ms/step - loss: 1.4441 - accuracy: 0.4173 - val_loss: 1.4531 - val_accuracy: 0.3981\n",
      "Epoch 24/300\n",
      "20/20 [==============================] - 0s 12ms/step - loss: 1.4257 - accuracy: 0.4223 - val_loss: 1.4332 - val_accuracy: 0.3889\n",
      "Epoch 25/300\n",
      "20/20 [==============================] - 0s 13ms/step - loss: 1.4069 - accuracy: 0.4304 - val_loss: 1.4155 - val_accuracy: 0.4259\n",
      "Epoch 26/300\n",
      "20/20 [==============================] - 0s 11ms/step - loss: 1.3902 - accuracy: 0.4354 - val_loss: 1.3993 - val_accuracy: 0.4167\n",
      "Epoch 27/300\n",
      "20/20 [==============================] - 0s 14ms/step - loss: 1.3683 - accuracy: 0.4419 - val_loss: 1.3787 - val_accuracy: 0.4167\n",
      "Epoch 28/300\n",
      "20/20 [==============================] - 0s 9ms/step - loss: 1.3488 - accuracy: 0.4501 - val_loss: 1.3615 - val_accuracy: 0.4167\n",
      "Epoch 29/300\n",
      "20/20 [==============================] - 0s 7ms/step - loss: 1.3282 - accuracy: 0.4648 - val_loss: 1.3401 - val_accuracy: 0.4167\n",
      "Epoch 30/300\n",
      "20/20 [==============================] - 0s 8ms/step - loss: 1.3074 - accuracy: 0.4599 - val_loss: 1.3230 - val_accuracy: 0.3981\n",
      "Epoch 31/300\n",
      "20/20 [==============================] - 0s 7ms/step - loss: 1.2880 - accuracy: 0.4746 - val_loss: 1.3004 - val_accuracy: 0.4352\n",
      "Epoch 32/300\n",
      "20/20 [==============================] - 0s 6ms/step - loss: 1.2649 - accuracy: 0.4681 - val_loss: 1.2819 - val_accuracy: 0.4537\n",
      "Epoch 33/300\n",
      "20/20 [==============================] - 0s 7ms/step - loss: 1.2443 - accuracy: 0.4943 - val_loss: 1.2633 - val_accuracy: 0.4815\n",
      "Epoch 34/300\n",
      "20/20 [==============================] - 0s 7ms/step - loss: 1.2227 - accuracy: 0.4861 - val_loss: 1.2449 - val_accuracy: 0.4630\n",
      "Epoch 35/300\n",
      "20/20 [==============================] - 0s 7ms/step - loss: 1.2018 - accuracy: 0.4992 - val_loss: 1.2277 - val_accuracy: 0.4630\n",
      "Epoch 36/300\n",
      "20/20 [==============================] - 0s 6ms/step - loss: 1.1826 - accuracy: 0.5008 - val_loss: 1.2092 - val_accuracy: 0.4815\n",
      "Epoch 37/300\n",
      "20/20 [==============================] - 0s 7ms/step - loss: 1.1637 - accuracy: 0.5123 - val_loss: 1.1927 - val_accuracy: 0.5093\n",
      "Epoch 38/300\n",
      "20/20 [==============================] - 0s 6ms/step - loss: 1.1468 - accuracy: 0.5106 - val_loss: 1.1777 - val_accuracy: 0.4815\n",
      "Epoch 39/300\n",
      "20/20 [==============================] - 0s 8ms/step - loss: 1.1285 - accuracy: 0.5368 - val_loss: 1.1617 - val_accuracy: 0.4907\n",
      "Epoch 40/300\n",
      "20/20 [==============================] - 0s 6ms/step - loss: 1.1125 - accuracy: 0.5434 - val_loss: 1.1446 - val_accuracy: 0.5093\n",
      "Epoch 41/300\n",
      "20/20 [==============================] - 0s 6ms/step - loss: 1.0955 - accuracy: 0.5679 - val_loss: 1.1343 - val_accuracy: 0.5185\n",
      "Epoch 42/300\n",
      "20/20 [==============================] - 0s 7ms/step - loss: 1.0814 - accuracy: 0.5827 - val_loss: 1.1164 - val_accuracy: 0.4907\n",
      "Epoch 43/300\n",
      "20/20 [==============================] - 0s 7ms/step - loss: 1.0654 - accuracy: 0.5646 - val_loss: 1.1042 - val_accuracy: 0.5000\n",
      "Epoch 44/300\n",
      "20/20 [==============================] - 0s 7ms/step - loss: 1.0505 - accuracy: 0.5696 - val_loss: 1.0923 - val_accuracy: 0.5000\n",
      "Epoch 45/300\n",
      "20/20 [==============================] - 0s 7ms/step - loss: 1.0366 - accuracy: 0.5974 - val_loss: 1.0790 - val_accuracy: 0.5278\n",
      "Epoch 46/300\n",
      "20/20 [==============================] - 0s 6ms/step - loss: 1.0248 - accuracy: 0.6039 - val_loss: 1.0619 - val_accuracy: 0.5556\n",
      "Epoch 47/300\n",
      "20/20 [==============================] - 0s 6ms/step - loss: 1.0120 - accuracy: 0.6252 - val_loss: 1.0484 - val_accuracy: 0.5370\n",
      "Epoch 48/300\n",
      "20/20 [==============================] - 0s 6ms/step - loss: 0.9995 - accuracy: 0.6039 - val_loss: 1.0353 - val_accuracy: 0.5463\n",
      "Epoch 49/300\n",
      "20/20 [==============================] - 0s 6ms/step - loss: 0.9851 - accuracy: 0.6236 - val_loss: 1.0249 - val_accuracy: 0.5556\n",
      "Epoch 50/300\n",
      "20/20 [==============================] - 0s 6ms/step - loss: 0.9737 - accuracy: 0.6268 - val_loss: 1.0138 - val_accuracy: 0.5556\n",
      "Epoch 51/300\n",
      "20/20 [==============================] - 0s 7ms/step - loss: 0.9608 - accuracy: 0.6268 - val_loss: 1.0019 - val_accuracy: 0.5741\n",
      "Epoch 52/300\n",
      "20/20 [==============================] - 0s 7ms/step - loss: 0.9530 - accuracy: 0.6318 - val_loss: 0.9893 - val_accuracy: 0.6019\n",
      "Epoch 53/300\n",
      "20/20 [==============================] - 0s 6ms/step - loss: 0.9413 - accuracy: 0.6285 - val_loss: 0.9804 - val_accuracy: 0.5833\n",
      "Epoch 54/300\n",
      "20/20 [==============================] - 0s 7ms/step - loss: 0.9322 - accuracy: 0.6268 - val_loss: 0.9648 - val_accuracy: 0.6204\n",
      "Epoch 55/300\n",
      "20/20 [==============================] - 0s 5ms/step - loss: 0.9217 - accuracy: 0.6448 - val_loss: 0.9515 - val_accuracy: 0.6204\n",
      "Epoch 56/300\n",
      "20/20 [==============================] - 0s 6ms/step - loss: 0.9135 - accuracy: 0.6432 - val_loss: 0.9469 - val_accuracy: 0.6111\n",
      "Epoch 57/300\n",
      "20/20 [==============================] - 0s 6ms/step - loss: 0.9033 - accuracy: 0.6514 - val_loss: 0.9328 - val_accuracy: 0.6574\n",
      "Epoch 58/300\n",
      "20/20 [==============================] - 0s 6ms/step - loss: 0.8939 - accuracy: 0.6432 - val_loss: 0.9253 - val_accuracy: 0.6389\n",
      "Epoch 59/300\n",
      "20/20 [==============================] - 0s 6ms/step - loss: 0.8849 - accuracy: 0.6481 - val_loss: 0.9155 - val_accuracy: 0.6481\n",
      "Epoch 60/300\n",
      "20/20 [==============================] - 0s 6ms/step - loss: 0.8811 - accuracy: 0.6759 - val_loss: 0.9054 - val_accuracy: 0.6481\n",
      "Epoch 61/300\n",
      "20/20 [==============================] - 0s 6ms/step - loss: 0.8673 - accuracy: 0.6628 - val_loss: 0.8958 - val_accuracy: 0.6481\n",
      "Epoch 62/300\n",
      "20/20 [==============================] - 0s 6ms/step - loss: 0.8586 - accuracy: 0.6759 - val_loss: 0.8863 - val_accuracy: 0.6574\n",
      "Epoch 63/300\n",
      "20/20 [==============================] - 0s 6ms/step - loss: 0.8537 - accuracy: 0.6612 - val_loss: 0.8758 - val_accuracy: 0.6481\n",
      "Epoch 64/300\n",
      "20/20 [==============================] - 0s 5ms/step - loss: 0.8431 - accuracy: 0.6809 - val_loss: 0.8659 - val_accuracy: 0.6944\n",
      "Epoch 65/300\n",
      "20/20 [==============================] - 0s 7ms/step - loss: 0.8372 - accuracy: 0.6858 - val_loss: 0.8584 - val_accuracy: 0.6852\n",
      "Epoch 66/300\n",
      "20/20 [==============================] - 0s 7ms/step - loss: 0.8293 - accuracy: 0.6841 - val_loss: 0.8511 - val_accuracy: 0.6944\n",
      "Epoch 67/300\n",
      "20/20 [==============================] - 0s 7ms/step - loss: 0.8211 - accuracy: 0.6858 - val_loss: 0.8427 - val_accuracy: 0.6944\n",
      "Epoch 68/300\n",
      "20/20 [==============================] - 0s 6ms/step - loss: 0.8141 - accuracy: 0.6939 - val_loss: 0.8334 - val_accuracy: 0.7500\n",
      "Epoch 69/300\n",
      "20/20 [==============================] - 0s 6ms/step - loss: 0.8076 - accuracy: 0.7021 - val_loss: 0.8280 - val_accuracy: 0.7222\n",
      "Epoch 70/300\n",
      "20/20 [==============================] - 0s 7ms/step - loss: 0.8015 - accuracy: 0.6972 - val_loss: 0.8169 - val_accuracy: 0.7500\n",
      "Epoch 71/300\n",
      "20/20 [==============================] - 0s 7ms/step - loss: 0.7967 - accuracy: 0.7136 - val_loss: 0.8086 - val_accuracy: 0.7222\n",
      "Epoch 72/300\n",
      "20/20 [==============================] - 0s 7ms/step - loss: 0.7881 - accuracy: 0.7169 - val_loss: 0.8010 - val_accuracy: 0.7222\n",
      "Epoch 73/300\n",
      "20/20 [==============================] - 0s 7ms/step - loss: 0.7802 - accuracy: 0.7119 - val_loss: 0.7948 - val_accuracy: 0.7315\n",
      "Epoch 74/300\n",
      "20/20 [==============================] - 0s 7ms/step - loss: 0.7744 - accuracy: 0.7169 - val_loss: 0.7855 - val_accuracy: 0.7315\n",
      "Epoch 75/300\n",
      "20/20 [==============================] - 0s 8ms/step - loss: 0.7688 - accuracy: 0.7087 - val_loss: 0.7776 - val_accuracy: 0.7315\n",
      "Epoch 76/300\n",
      "20/20 [==============================] - 0s 6ms/step - loss: 0.7621 - accuracy: 0.7119 - val_loss: 0.7743 - val_accuracy: 0.7685\n",
      "Epoch 77/300\n",
      "20/20 [==============================] - 0s 7ms/step - loss: 0.7566 - accuracy: 0.7201 - val_loss: 0.7659 - val_accuracy: 0.7037\n",
      "Epoch 78/300\n",
      "20/20 [==============================] - 0s 7ms/step - loss: 0.7592 - accuracy: 0.7136 - val_loss: 0.7727 - val_accuracy: 0.7500\n",
      "Epoch 79/300\n",
      "20/20 [==============================] - 0s 7ms/step - loss: 0.7483 - accuracy: 0.7218 - val_loss: 0.7523 - val_accuracy: 0.7500\n",
      "Epoch 80/300\n",
      "20/20 [==============================] - 0s 7ms/step - loss: 0.7432 - accuracy: 0.7283 - val_loss: 0.7425 - val_accuracy: 0.7593\n",
      "Epoch 81/300\n",
      "20/20 [==============================] - 0s 6ms/step - loss: 0.7391 - accuracy: 0.7332 - val_loss: 0.7333 - val_accuracy: 0.7407\n",
      "Epoch 82/300\n",
      "20/20 [==============================] - 0s 7ms/step - loss: 0.7306 - accuracy: 0.7414 - val_loss: 0.7337 - val_accuracy: 0.7500\n",
      "Epoch 83/300\n",
      "20/20 [==============================] - 0s 6ms/step - loss: 0.7279 - accuracy: 0.7332 - val_loss: 0.7250 - val_accuracy: 0.7407\n",
      "Epoch 84/300\n",
      "20/20 [==============================] - 0s 6ms/step - loss: 0.7261 - accuracy: 0.7185 - val_loss: 0.7263 - val_accuracy: 0.7500\n",
      "Epoch 85/300\n",
      "20/20 [==============================] - 0s 7ms/step - loss: 0.7200 - accuracy: 0.7365 - val_loss: 0.7124 - val_accuracy: 0.7685\n",
      "Epoch 86/300\n",
      "20/20 [==============================] - 0s 6ms/step - loss: 0.7085 - accuracy: 0.7447 - val_loss: 0.7098 - val_accuracy: 0.7778\n",
      "Epoch 87/300\n",
      "20/20 [==============================] - 0s 6ms/step - loss: 0.7075 - accuracy: 0.7463 - val_loss: 0.7002 - val_accuracy: 0.7870\n",
      "Epoch 88/300\n",
      "20/20 [==============================] - 0s 7ms/step - loss: 0.7021 - accuracy: 0.7496 - val_loss: 0.6947 - val_accuracy: 0.7870\n",
      "Epoch 89/300\n",
      "20/20 [==============================] - 0s 7ms/step - loss: 0.6995 - accuracy: 0.7349 - val_loss: 0.6938 - val_accuracy: 0.7963\n",
      "Epoch 90/300\n",
      "20/20 [==============================] - 0s 8ms/step - loss: 0.6934 - accuracy: 0.7349 - val_loss: 0.6877 - val_accuracy: 0.7963\n",
      "Epoch 91/300\n",
      "20/20 [==============================] - 0s 7ms/step - loss: 0.6893 - accuracy: 0.7447 - val_loss: 0.6822 - val_accuracy: 0.7870\n",
      "Epoch 92/300\n",
      "20/20 [==============================] - 0s 7ms/step - loss: 0.6879 - accuracy: 0.7430 - val_loss: 0.6763 - val_accuracy: 0.7870\n",
      "Epoch 93/300\n",
      "20/20 [==============================] - 0s 7ms/step - loss: 0.6797 - accuracy: 0.7349 - val_loss: 0.6754 - val_accuracy: 0.7963\n",
      "Epoch 94/300\n",
      "20/20 [==============================] - 0s 8ms/step - loss: 0.6774 - accuracy: 0.7496 - val_loss: 0.6649 - val_accuracy: 0.7778\n",
      "Epoch 95/300\n",
      "20/20 [==============================] - 0s 7ms/step - loss: 0.6751 - accuracy: 0.7496 - val_loss: 0.6583 - val_accuracy: 0.7870\n",
      "Epoch 96/300\n",
      "20/20 [==============================] - 0s 7ms/step - loss: 0.6700 - accuracy: 0.7496 - val_loss: 0.6567 - val_accuracy: 0.7778\n",
      "Epoch 97/300\n",
      "20/20 [==============================] - 0s 7ms/step - loss: 0.6661 - accuracy: 0.7447 - val_loss: 0.6539 - val_accuracy: 0.7870\n",
      "Epoch 98/300\n",
      "20/20 [==============================] - 0s 7ms/step - loss: 0.6647 - accuracy: 0.7545 - val_loss: 0.6450 - val_accuracy: 0.7685\n",
      "Epoch 99/300\n",
      "20/20 [==============================] - 0s 12ms/step - loss: 0.6581 - accuracy: 0.7545 - val_loss: 0.6441 - val_accuracy: 0.7870\n",
      "Epoch 100/300\n",
      "20/20 [==============================] - 0s 11ms/step - loss: 0.6595 - accuracy: 0.7480 - val_loss: 0.6405 - val_accuracy: 0.7870\n",
      "Epoch 101/300\n",
      "20/20 [==============================] - 0s 10ms/step - loss: 0.6515 - accuracy: 0.7512 - val_loss: 0.6408 - val_accuracy: 0.7963\n",
      "Epoch 102/300\n",
      "20/20 [==============================] - 0s 10ms/step - loss: 0.6516 - accuracy: 0.7660 - val_loss: 0.6337 - val_accuracy: 0.7870\n",
      "Epoch 103/300\n",
      "20/20 [==============================] - 0s 11ms/step - loss: 0.6465 - accuracy: 0.7529 - val_loss: 0.6272 - val_accuracy: 0.7963\n",
      "Epoch 104/300\n",
      "20/20 [==============================] - 0s 9ms/step - loss: 0.6407 - accuracy: 0.7561 - val_loss: 0.6217 - val_accuracy: 0.7778\n",
      "Epoch 105/300\n",
      "20/20 [==============================] - 0s 11ms/step - loss: 0.6408 - accuracy: 0.7545 - val_loss: 0.6172 - val_accuracy: 0.7870\n",
      "Epoch 106/300\n",
      "20/20 [==============================] - 0s 12ms/step - loss: 0.6354 - accuracy: 0.7545 - val_loss: 0.6159 - val_accuracy: 0.7963\n",
      "Epoch 107/300\n",
      "20/20 [==============================] - 0s 11ms/step - loss: 0.6332 - accuracy: 0.7725 - val_loss: 0.6115 - val_accuracy: 0.7870\n",
      "Epoch 108/300\n",
      "20/20 [==============================] - 0s 10ms/step - loss: 0.6322 - accuracy: 0.7512 - val_loss: 0.6143 - val_accuracy: 0.8148\n",
      "Epoch 109/300\n",
      "20/20 [==============================] - 0s 10ms/step - loss: 0.6262 - accuracy: 0.7610 - val_loss: 0.6071 - val_accuracy: 0.7870\n",
      "Epoch 110/300\n",
      "20/20 [==============================] - 0s 10ms/step - loss: 0.6223 - accuracy: 0.7627 - val_loss: 0.6048 - val_accuracy: 0.8056\n",
      "Epoch 111/300\n",
      "20/20 [==============================] - 0s 12ms/step - loss: 0.6211 - accuracy: 0.7774 - val_loss: 0.5972 - val_accuracy: 0.7778\n",
      "Epoch 112/300\n",
      "20/20 [==============================] - 0s 12ms/step - loss: 0.6174 - accuracy: 0.7643 - val_loss: 0.6073 - val_accuracy: 0.7778\n",
      "Epoch 113/300\n",
      "20/20 [==============================] - 0s 12ms/step - loss: 0.6281 - accuracy: 0.7709 - val_loss: 0.5967 - val_accuracy: 0.7963\n",
      "Epoch 114/300\n",
      "20/20 [==============================] - 0s 12ms/step - loss: 0.6172 - accuracy: 0.7758 - val_loss: 0.5898 - val_accuracy: 0.7870\n",
      "Epoch 115/300\n",
      "20/20 [==============================] - 0s 11ms/step - loss: 0.6093 - accuracy: 0.7660 - val_loss: 0.5887 - val_accuracy: 0.7963\n",
      "Epoch 116/300\n",
      "20/20 [==============================] - 0s 12ms/step - loss: 0.6078 - accuracy: 0.7807 - val_loss: 0.5851 - val_accuracy: 0.7593\n",
      "Epoch 117/300\n",
      "20/20 [==============================] - 0s 12ms/step - loss: 0.6100 - accuracy: 0.7643 - val_loss: 0.5850 - val_accuracy: 0.7963\n",
      "Epoch 118/300\n",
      "20/20 [==============================] - 0s 7ms/step - loss: 0.6028 - accuracy: 0.7692 - val_loss: 0.5863 - val_accuracy: 0.7870\n",
      "Epoch 119/300\n",
      "20/20 [==============================] - 0s 7ms/step - loss: 0.6009 - accuracy: 0.7758 - val_loss: 0.5793 - val_accuracy: 0.7870\n",
      "Epoch 120/300\n",
      "20/20 [==============================] - 0s 6ms/step - loss: 0.5986 - accuracy: 0.7741 - val_loss: 0.5795 - val_accuracy: 0.8056\n",
      "Epoch 121/300\n",
      "20/20 [==============================] - 0s 7ms/step - loss: 0.5982 - accuracy: 0.7725 - val_loss: 0.5743 - val_accuracy: 0.7778\n",
      "Epoch 122/300\n",
      "20/20 [==============================] - 0s 9ms/step - loss: 0.5958 - accuracy: 0.7741 - val_loss: 0.5715 - val_accuracy: 0.7870\n",
      "Epoch 123/300\n",
      "20/20 [==============================] - 0s 8ms/step - loss: 0.5936 - accuracy: 0.7741 - val_loss: 0.5720 - val_accuracy: 0.7778\n",
      "Epoch 124/300\n",
      "20/20 [==============================] - 0s 8ms/step - loss: 0.5902 - accuracy: 0.7758 - val_loss: 0.5644 - val_accuracy: 0.7778\n",
      "Epoch 125/300\n",
      "20/20 [==============================] - 0s 7ms/step - loss: 0.5873 - accuracy: 0.7774 - val_loss: 0.5638 - val_accuracy: 0.7778\n",
      "Epoch 126/300\n",
      "20/20 [==============================] - 0s 7ms/step - loss: 0.5894 - accuracy: 0.7807 - val_loss: 0.5686 - val_accuracy: 0.7870\n",
      "Epoch 127/300\n",
      "20/20 [==============================] - 0s 8ms/step - loss: 0.5845 - accuracy: 0.7758 - val_loss: 0.5646 - val_accuracy: 0.7778\n",
      "Epoch 128/300\n",
      "20/20 [==============================] - 0s 9ms/step - loss: 0.5900 - accuracy: 0.7921 - val_loss: 0.5605 - val_accuracy: 0.7593\n",
      "Epoch 129/300\n",
      "20/20 [==============================] - 0s 7ms/step - loss: 0.5868 - accuracy: 0.7709 - val_loss: 0.5565 - val_accuracy: 0.7778\n",
      "Epoch 130/300\n",
      "20/20 [==============================] - 0s 9ms/step - loss: 0.5804 - accuracy: 0.7889 - val_loss: 0.5524 - val_accuracy: 0.7870\n",
      "Epoch 131/300\n",
      "20/20 [==============================] - 0s 8ms/step - loss: 0.5780 - accuracy: 0.7889 - val_loss: 0.5521 - val_accuracy: 0.7870\n",
      "Epoch 132/300\n",
      "20/20 [==============================] - 0s 7ms/step - loss: 0.5752 - accuracy: 0.7840 - val_loss: 0.5467 - val_accuracy: 0.7778\n",
      "Epoch 133/300\n",
      "20/20 [==============================] - 0s 6ms/step - loss: 0.5723 - accuracy: 0.7856 - val_loss: 0.5483 - val_accuracy: 0.7870\n",
      "Epoch 134/300\n",
      "20/20 [==============================] - 0s 7ms/step - loss: 0.5721 - accuracy: 0.7856 - val_loss: 0.5436 - val_accuracy: 0.7685\n",
      "Epoch 135/300\n",
      "20/20 [==============================] - 0s 8ms/step - loss: 0.5684 - accuracy: 0.7905 - val_loss: 0.5422 - val_accuracy: 0.7778\n",
      "Epoch 136/300\n",
      "20/20 [==============================] - 0s 8ms/step - loss: 0.5729 - accuracy: 0.7758 - val_loss: 0.5522 - val_accuracy: 0.8056\n",
      "Epoch 137/300\n",
      "20/20 [==============================] - 0s 7ms/step - loss: 0.5700 - accuracy: 0.7921 - val_loss: 0.5369 - val_accuracy: 0.7778\n",
      "Epoch 138/300\n",
      "20/20 [==============================] - 0s 7ms/step - loss: 0.5646 - accuracy: 0.7807 - val_loss: 0.5369 - val_accuracy: 0.7778\n",
      "Epoch 139/300\n",
      "20/20 [==============================] - 0s 6ms/step - loss: 0.5630 - accuracy: 0.7856 - val_loss: 0.5359 - val_accuracy: 0.7778\n",
      "Epoch 140/300\n",
      "20/20 [==============================] - 0s 7ms/step - loss: 0.5626 - accuracy: 0.7823 - val_loss: 0.5466 - val_accuracy: 0.8241\n",
      "Epoch 141/300\n",
      "20/20 [==============================] - 0s 6ms/step - loss: 0.5732 - accuracy: 0.7938 - val_loss: 0.5335 - val_accuracy: 0.7870\n",
      "Epoch 142/300\n",
      "20/20 [==============================] - 0s 7ms/step - loss: 0.5712 - accuracy: 0.7774 - val_loss: 0.5344 - val_accuracy: 0.7870\n",
      "Epoch 143/300\n",
      "20/20 [==============================] - 0s 7ms/step - loss: 0.5608 - accuracy: 0.7938 - val_loss: 0.5300 - val_accuracy: 0.7778\n",
      "Epoch 144/300\n",
      "20/20 [==============================] - 0s 7ms/step - loss: 0.5545 - accuracy: 0.7921 - val_loss: 0.5264 - val_accuracy: 0.7778\n",
      "Epoch 145/300\n",
      "20/20 [==============================] - 0s 8ms/step - loss: 0.5532 - accuracy: 0.7921 - val_loss: 0.5271 - val_accuracy: 0.7870\n",
      "Epoch 146/300\n",
      "20/20 [==============================] - 0s 9ms/step - loss: 0.5527 - accuracy: 0.7921 - val_loss: 0.5282 - val_accuracy: 0.7778\n",
      "Epoch 147/300\n",
      "20/20 [==============================] - 0s 7ms/step - loss: 0.5519 - accuracy: 0.7921 - val_loss: 0.5250 - val_accuracy: 0.7778\n",
      "Epoch 148/300\n",
      "20/20 [==============================] - 0s 7ms/step - loss: 0.5567 - accuracy: 0.7758 - val_loss: 0.5338 - val_accuracy: 0.7778\n",
      "Epoch 149/300\n",
      "20/20 [==============================] - 0s 7ms/step - loss: 0.5481 - accuracy: 0.7971 - val_loss: 0.5214 - val_accuracy: 0.7778\n",
      "Epoch 150/300\n",
      "20/20 [==============================] - 0s 8ms/step - loss: 0.5480 - accuracy: 0.7954 - val_loss: 0.5188 - val_accuracy: 0.7778\n",
      "Epoch 151/300\n",
      "20/20 [==============================] - 0s 8ms/step - loss: 0.5494 - accuracy: 0.7987 - val_loss: 0.5194 - val_accuracy: 0.7778\n",
      "Epoch 152/300\n",
      "20/20 [==============================] - 0s 6ms/step - loss: 0.5448 - accuracy: 0.7971 - val_loss: 0.5191 - val_accuracy: 0.7870\n",
      "Epoch 153/300\n",
      "20/20 [==============================] - 0s 7ms/step - loss: 0.5434 - accuracy: 0.7905 - val_loss: 0.5109 - val_accuracy: 0.7685\n",
      "Epoch 154/300\n",
      "20/20 [==============================] - 0s 7ms/step - loss: 0.5436 - accuracy: 0.7954 - val_loss: 0.5116 - val_accuracy: 0.7870\n",
      "Epoch 155/300\n",
      "20/20 [==============================] - 0s 7ms/step - loss: 0.5421 - accuracy: 0.7921 - val_loss: 0.5123 - val_accuracy: 0.7963\n",
      "Epoch 156/300\n",
      "20/20 [==============================] - 0s 6ms/step - loss: 0.5395 - accuracy: 0.7954 - val_loss: 0.5062 - val_accuracy: 0.7778\n",
      "Epoch 157/300\n",
      "20/20 [==============================] - 0s 7ms/step - loss: 0.5407 - accuracy: 0.7938 - val_loss: 0.5063 - val_accuracy: 0.7778\n",
      "Epoch 158/300\n",
      "20/20 [==============================] - 0s 7ms/step - loss: 0.5380 - accuracy: 0.7905 - val_loss: 0.5189 - val_accuracy: 0.7963\n",
      "Epoch 159/300\n",
      "20/20 [==============================] - 0s 6ms/step - loss: 0.5396 - accuracy: 0.7921 - val_loss: 0.5036 - val_accuracy: 0.7778\n",
      "Epoch 160/300\n",
      "20/20 [==============================] - 0s 7ms/step - loss: 0.5357 - accuracy: 0.7954 - val_loss: 0.5087 - val_accuracy: 0.7870\n",
      "Epoch 161/300\n",
      "20/20 [==============================] - 0s 7ms/step - loss: 0.5348 - accuracy: 0.7905 - val_loss: 0.5023 - val_accuracy: 0.7778\n",
      "Epoch 162/300\n",
      "20/20 [==============================] - 0s 7ms/step - loss: 0.5355 - accuracy: 0.7921 - val_loss: 0.5215 - val_accuracy: 0.8241\n",
      "Epoch 163/300\n",
      "20/20 [==============================] - 0s 6ms/step - loss: 0.5424 - accuracy: 0.7971 - val_loss: 0.4988 - val_accuracy: 0.7685\n",
      "Epoch 164/300\n",
      "20/20 [==============================] - 0s 6ms/step - loss: 0.5346 - accuracy: 0.7938 - val_loss: 0.5027 - val_accuracy: 0.8056\n",
      "Epoch 165/300\n",
      "20/20 [==============================] - 0s 8ms/step - loss: 0.5301 - accuracy: 0.8003 - val_loss: 0.4956 - val_accuracy: 0.7870\n",
      "Epoch 166/300\n",
      "20/20 [==============================] - 0s 8ms/step - loss: 0.5326 - accuracy: 0.7905 - val_loss: 0.4990 - val_accuracy: 0.7963\n",
      "Epoch 167/300\n",
      "20/20 [==============================] - 0s 7ms/step - loss: 0.5294 - accuracy: 0.7938 - val_loss: 0.4924 - val_accuracy: 0.7778\n",
      "Epoch 168/300\n",
      "20/20 [==============================] - 0s 7ms/step - loss: 0.5320 - accuracy: 0.8003 - val_loss: 0.5059 - val_accuracy: 0.7870\n",
      "Epoch 169/300\n",
      "20/20 [==============================] - 0s 7ms/step - loss: 0.5265 - accuracy: 0.7954 - val_loss: 0.4951 - val_accuracy: 0.7870\n",
      "Epoch 170/300\n",
      "20/20 [==============================] - 0s 7ms/step - loss: 0.5256 - accuracy: 0.7971 - val_loss: 0.4898 - val_accuracy: 0.7778\n",
      "Epoch 171/300\n",
      "20/20 [==============================] - 0s 7ms/step - loss: 0.5253 - accuracy: 0.7987 - val_loss: 0.4945 - val_accuracy: 0.7963\n",
      "Epoch 172/300\n",
      "20/20 [==============================] - 0s 7ms/step - loss: 0.5254 - accuracy: 0.7938 - val_loss: 0.4966 - val_accuracy: 0.7963\n",
      "Epoch 173/300\n",
      "20/20 [==============================] - 0s 6ms/step - loss: 0.5234 - accuracy: 0.7954 - val_loss: 0.4903 - val_accuracy: 0.7870\n",
      "Epoch 174/300\n",
      "20/20 [==============================] - 0s 6ms/step - loss: 0.5235 - accuracy: 0.8036 - val_loss: 0.5002 - val_accuracy: 0.7870\n",
      "Epoch 175/300\n",
      "20/20 [==============================] - 0s 7ms/step - loss: 0.5213 - accuracy: 0.8036 - val_loss: 0.4867 - val_accuracy: 0.7778\n",
      "Epoch 176/300\n",
      "20/20 [==============================] - 0s 6ms/step - loss: 0.5210 - accuracy: 0.8003 - val_loss: 0.4984 - val_accuracy: 0.7963\n",
      "Epoch 177/300\n",
      "20/20 [==============================] - 0s 8ms/step - loss: 0.5222 - accuracy: 0.7938 - val_loss: 0.4825 - val_accuracy: 0.7778\n",
      "Epoch 178/300\n",
      "20/20 [==============================] - 0s 7ms/step - loss: 0.5199 - accuracy: 0.7905 - val_loss: 0.4847 - val_accuracy: 0.7870\n",
      "Epoch 179/300\n",
      "20/20 [==============================] - 0s 7ms/step - loss: 0.5215 - accuracy: 0.7938 - val_loss: 0.4975 - val_accuracy: 0.8241\n",
      "Epoch 180/300\n",
      "20/20 [==============================] - 0s 6ms/step - loss: 0.5204 - accuracy: 0.7987 - val_loss: 0.4833 - val_accuracy: 0.7870\n",
      "Epoch 181/300\n",
      "20/20 [==============================] - 0s 6ms/step - loss: 0.5182 - accuracy: 0.8003 - val_loss: 0.5063 - val_accuracy: 0.8148\n",
      "Epoch 182/300\n",
      "20/20 [==============================] - 0s 6ms/step - loss: 0.5296 - accuracy: 0.7938 - val_loss: 0.4821 - val_accuracy: 0.7778\n",
      "Epoch 183/300\n",
      "20/20 [==============================] - 0s 7ms/step - loss: 0.5163 - accuracy: 0.7938 - val_loss: 0.4935 - val_accuracy: 0.8241\n",
      "Epoch 184/300\n",
      "20/20 [==============================] - 0s 9ms/step - loss: 0.5173 - accuracy: 0.8036 - val_loss: 0.4757 - val_accuracy: 0.7778\n",
      "Epoch 185/300\n",
      "20/20 [==============================] - 0s 10ms/step - loss: 0.5162 - accuracy: 0.7971 - val_loss: 0.4869 - val_accuracy: 0.7963\n",
      "Epoch 186/300\n",
      "20/20 [==============================] - 0s 10ms/step - loss: 0.5160 - accuracy: 0.7971 - val_loss: 0.4831 - val_accuracy: 0.7963\n",
      "Epoch 187/300\n",
      "20/20 [==============================] - 0s 9ms/step - loss: 0.5138 - accuracy: 0.8020 - val_loss: 0.4800 - val_accuracy: 0.7778\n",
      "Epoch 188/300\n",
      "20/20 [==============================] - 0s 10ms/step - loss: 0.5125 - accuracy: 0.7987 - val_loss: 0.4853 - val_accuracy: 0.7870\n",
      "Epoch 189/300\n",
      "20/20 [==============================] - 0s 10ms/step - loss: 0.5138 - accuracy: 0.7987 - val_loss: 0.4786 - val_accuracy: 0.7870\n",
      "Epoch 190/300\n",
      "20/20 [==============================] - 0s 9ms/step - loss: 0.5114 - accuracy: 0.7987 - val_loss: 0.4731 - val_accuracy: 0.7685\n",
      "Epoch 191/300\n",
      "20/20 [==============================] - 0s 9ms/step - loss: 0.5156 - accuracy: 0.7905 - val_loss: 0.4779 - val_accuracy: 0.7963\n",
      "Epoch 192/300\n",
      "20/20 [==============================] - 0s 10ms/step - loss: 0.5132 - accuracy: 0.8052 - val_loss: 0.4875 - val_accuracy: 0.8056\n",
      "Epoch 193/300\n",
      "20/20 [==============================] - 0s 9ms/step - loss: 0.5115 - accuracy: 0.8069 - val_loss: 0.4700 - val_accuracy: 0.7685\n",
      "Epoch 194/300\n",
      "20/20 [==============================] - 0s 11ms/step - loss: 0.5138 - accuracy: 0.7905 - val_loss: 0.4863 - val_accuracy: 0.8148\n",
      "Epoch 195/300\n",
      "20/20 [==============================] - 0s 10ms/step - loss: 0.5099 - accuracy: 0.8003 - val_loss: 0.4731 - val_accuracy: 0.8056\n",
      "Epoch 196/300\n",
      "20/20 [==============================] - 0s 10ms/step - loss: 0.5099 - accuracy: 0.7987 - val_loss: 0.4762 - val_accuracy: 0.7963\n",
      "Epoch 197/300\n",
      "20/20 [==============================] - 0s 11ms/step - loss: 0.5089 - accuracy: 0.7954 - val_loss: 0.4834 - val_accuracy: 0.7778\n",
      "Epoch 198/300\n",
      "20/20 [==============================] - 0s 10ms/step - loss: 0.5110 - accuracy: 0.7987 - val_loss: 0.4702 - val_accuracy: 0.7778\n",
      "Epoch 199/300\n",
      "20/20 [==============================] - 0s 11ms/step - loss: 0.5060 - accuracy: 0.8052 - val_loss: 0.4818 - val_accuracy: 0.7870\n",
      "Epoch 200/300\n",
      "20/20 [==============================] - 0s 11ms/step - loss: 0.5096 - accuracy: 0.8020 - val_loss: 0.4701 - val_accuracy: 0.7685\n",
      "Epoch 201/300\n",
      "20/20 [==============================] - 0s 10ms/step - loss: 0.5084 - accuracy: 0.8020 - val_loss: 0.4769 - val_accuracy: 0.7870\n",
      "Epoch 202/300\n",
      "20/20 [==============================] - 0s 11ms/step - loss: 0.5063 - accuracy: 0.8003 - val_loss: 0.4665 - val_accuracy: 0.7778\n",
      "Epoch 203/300\n",
      "20/20 [==============================] - 0s 10ms/step - loss: 0.5049 - accuracy: 0.7954 - val_loss: 0.4857 - val_accuracy: 0.8148\n",
      "Epoch 204/300\n",
      "20/20 [==============================] - 0s 8ms/step - loss: 0.5109 - accuracy: 0.8069 - val_loss: 0.4735 - val_accuracy: 0.8148\n",
      "Epoch 205/300\n",
      "20/20 [==============================] - 0s 7ms/step - loss: 0.5081 - accuracy: 0.7971 - val_loss: 0.4694 - val_accuracy: 0.8056\n",
      "Epoch 206/300\n",
      "20/20 [==============================] - 0s 7ms/step - loss: 0.5047 - accuracy: 0.7971 - val_loss: 0.4672 - val_accuracy: 0.7870\n",
      "Epoch 207/300\n",
      "20/20 [==============================] - 0s 7ms/step - loss: 0.5047 - accuracy: 0.8069 - val_loss: 0.4866 - val_accuracy: 0.8148\n",
      "Epoch 208/300\n",
      "20/20 [==============================] - 0s 6ms/step - loss: 0.5032 - accuracy: 0.8003 - val_loss: 0.4689 - val_accuracy: 0.8056\n",
      "Epoch 209/300\n",
      "20/20 [==============================] - 0s 6ms/step - loss: 0.5027 - accuracy: 0.8020 - val_loss: 0.4688 - val_accuracy: 0.7870\n",
      "Epoch 210/300\n",
      "20/20 [==============================] - 0s 7ms/step - loss: 0.5008 - accuracy: 0.8069 - val_loss: 0.4687 - val_accuracy: 0.7870\n",
      "Epoch 211/300\n",
      "20/20 [==============================] - 0s 7ms/step - loss: 0.5027 - accuracy: 0.8069 - val_loss: 0.4632 - val_accuracy: 0.7778\n",
      "Epoch 212/300\n",
      "20/20 [==============================] - 0s 7ms/step - loss: 0.5010 - accuracy: 0.8134 - val_loss: 0.4756 - val_accuracy: 0.8241\n",
      "Epoch 213/300\n",
      "20/20 [==============================] - 0s 6ms/step - loss: 0.5023 - accuracy: 0.8069 - val_loss: 0.4638 - val_accuracy: 0.7778\n",
      "Epoch 214/300\n",
      "20/20 [==============================] - 0s 6ms/step - loss: 0.4974 - accuracy: 0.8118 - val_loss: 0.4730 - val_accuracy: 0.8333\n",
      "Epoch 215/300\n",
      "20/20 [==============================] - 0s 7ms/step - loss: 0.5048 - accuracy: 0.7938 - val_loss: 0.4616 - val_accuracy: 0.7778\n",
      "Epoch 216/300\n",
      "20/20 [==============================] - 0s 7ms/step - loss: 0.5020 - accuracy: 0.8052 - val_loss: 0.4686 - val_accuracy: 0.8056\n",
      "Epoch 217/300\n",
      "20/20 [==============================] - 0s 7ms/step - loss: 0.4985 - accuracy: 0.8151 - val_loss: 0.4643 - val_accuracy: 0.8056\n",
      "Epoch 218/300\n",
      "20/20 [==============================] - 0s 7ms/step - loss: 0.4971 - accuracy: 0.8069 - val_loss: 0.4708 - val_accuracy: 0.8148\n",
      "Epoch 219/300\n",
      "20/20 [==============================] - 0s 8ms/step - loss: 0.5072 - accuracy: 0.8036 - val_loss: 0.4563 - val_accuracy: 0.7778\n",
      "Epoch 220/300\n",
      "20/20 [==============================] - 0s 6ms/step - loss: 0.4992 - accuracy: 0.8003 - val_loss: 0.4728 - val_accuracy: 0.8241\n",
      "Epoch 221/300\n",
      "20/20 [==============================] - 0s 7ms/step - loss: 0.4978 - accuracy: 0.8052 - val_loss: 0.4671 - val_accuracy: 0.8148\n",
      "Epoch 222/300\n",
      "20/20 [==============================] - 0s 7ms/step - loss: 0.5002 - accuracy: 0.8052 - val_loss: 0.4760 - val_accuracy: 0.8148\n",
      "Epoch 223/300\n",
      "20/20 [==============================] - 0s 6ms/step - loss: 0.4973 - accuracy: 0.8020 - val_loss: 0.4658 - val_accuracy: 0.8148\n",
      "Epoch 224/300\n",
      "20/20 [==============================] - 0s 6ms/step - loss: 0.4955 - accuracy: 0.8003 - val_loss: 0.4594 - val_accuracy: 0.7870\n",
      "Epoch 225/300\n",
      "20/20 [==============================] - 0s 7ms/step - loss: 0.4975 - accuracy: 0.8003 - val_loss: 0.4562 - val_accuracy: 0.7778\n",
      "Epoch 226/300\n",
      "20/20 [==============================] - 0s 7ms/step - loss: 0.4966 - accuracy: 0.8101 - val_loss: 0.4822 - val_accuracy: 0.8148\n",
      "Epoch 227/300\n",
      "20/20 [==============================] - 0s 7ms/step - loss: 0.5046 - accuracy: 0.8118 - val_loss: 0.4563 - val_accuracy: 0.7593\n",
      "Epoch 228/300\n",
      "20/20 [==============================] - 0s 6ms/step - loss: 0.5061 - accuracy: 0.7921 - val_loss: 0.4804 - val_accuracy: 0.8056\n",
      "Epoch 229/300\n",
      "20/20 [==============================] - 0s 7ms/step - loss: 0.4990 - accuracy: 0.8020 - val_loss: 0.4712 - val_accuracy: 0.8148\n",
      "Epoch 230/300\n",
      "20/20 [==============================] - 0s 6ms/step - loss: 0.4964 - accuracy: 0.8036 - val_loss: 0.4605 - val_accuracy: 0.7870\n",
      "Epoch 231/300\n",
      "20/20 [==============================] - 0s 7ms/step - loss: 0.4940 - accuracy: 0.8036 - val_loss: 0.4676 - val_accuracy: 0.8148\n",
      "Epoch 232/300\n",
      "20/20 [==============================] - 0s 7ms/step - loss: 0.4954 - accuracy: 0.8085 - val_loss: 0.4547 - val_accuracy: 0.7685\n",
      "Epoch 233/300\n",
      "20/20 [==============================] - 0s 7ms/step - loss: 0.4952 - accuracy: 0.8036 - val_loss: 0.4718 - val_accuracy: 0.8148\n",
      "Epoch 234/300\n",
      "20/20 [==============================] - 0s 7ms/step - loss: 0.4948 - accuracy: 0.8052 - val_loss: 0.4510 - val_accuracy: 0.7778\n",
      "Epoch 235/300\n",
      "20/20 [==============================] - 0s 6ms/step - loss: 0.4949 - accuracy: 0.8118 - val_loss: 0.4768 - val_accuracy: 0.8148\n",
      "Epoch 236/300\n",
      "20/20 [==============================] - 0s 6ms/step - loss: 0.4914 - accuracy: 0.8036 - val_loss: 0.4513 - val_accuracy: 0.7685\n",
      "Epoch 237/300\n",
      "20/20 [==============================] - 0s 6ms/step - loss: 0.4985 - accuracy: 0.7987 - val_loss: 0.4687 - val_accuracy: 0.7870\n",
      "Epoch 238/300\n",
      "20/20 [==============================] - 0s 7ms/step - loss: 0.4922 - accuracy: 0.8118 - val_loss: 0.4580 - val_accuracy: 0.7778\n",
      "Epoch 239/300\n",
      "20/20 [==============================] - 0s 6ms/step - loss: 0.4915 - accuracy: 0.8003 - val_loss: 0.4519 - val_accuracy: 0.7870\n",
      "Epoch 240/300\n",
      "20/20 [==============================] - 0s 6ms/step - loss: 0.5000 - accuracy: 0.8036 - val_loss: 0.4710 - val_accuracy: 0.8148\n",
      "Epoch 241/300\n",
      "20/20 [==============================] - 0s 9ms/step - loss: 0.4929 - accuracy: 0.8020 - val_loss: 0.4619 - val_accuracy: 0.7778\n",
      "Epoch 242/300\n",
      "20/20 [==============================] - 0s 8ms/step - loss: 0.4895 - accuracy: 0.8003 - val_loss: 0.4549 - val_accuracy: 0.7778\n",
      "Epoch 243/300\n",
      "20/20 [==============================] - 0s 6ms/step - loss: 0.4881 - accuracy: 0.8085 - val_loss: 0.4545 - val_accuracy: 0.7870\n",
      "Epoch 244/300\n",
      "20/20 [==============================] - 0s 7ms/step - loss: 0.4885 - accuracy: 0.8085 - val_loss: 0.4668 - val_accuracy: 0.8148\n",
      "Epoch 245/300\n",
      "20/20 [==============================] - 0s 7ms/step - loss: 0.4961 - accuracy: 0.7971 - val_loss: 0.4531 - val_accuracy: 0.7778\n",
      "Epoch 246/300\n",
      "20/20 [==============================] - 0s 7ms/step - loss: 0.4890 - accuracy: 0.8085 - val_loss: 0.4521 - val_accuracy: 0.7778\n",
      "Epoch 247/300\n",
      "20/20 [==============================] - 0s 7ms/step - loss: 0.4893 - accuracy: 0.8101 - val_loss: 0.4591 - val_accuracy: 0.7963\n",
      "Epoch 248/300\n",
      "20/20 [==============================] - 0s 7ms/step - loss: 0.4878 - accuracy: 0.8069 - val_loss: 0.4546 - val_accuracy: 0.7870\n",
      "Epoch 249/300\n",
      "20/20 [==============================] - 0s 7ms/step - loss: 0.4864 - accuracy: 0.8118 - val_loss: 0.4519 - val_accuracy: 0.7870\n",
      "Epoch 250/300\n",
      "20/20 [==============================] - 0s 6ms/step - loss: 0.4886 - accuracy: 0.8020 - val_loss: 0.4523 - val_accuracy: 0.7870\n",
      "Epoch 251/300\n",
      "20/20 [==============================] - 0s 7ms/step - loss: 0.4867 - accuracy: 0.8085 - val_loss: 0.4483 - val_accuracy: 0.7870\n",
      "Epoch 252/300\n",
      "20/20 [==============================] - 0s 6ms/step - loss: 0.4908 - accuracy: 0.8118 - val_loss: 0.4474 - val_accuracy: 0.7870\n",
      "Epoch 253/300\n",
      "20/20 [==============================] - 0s 6ms/step - loss: 0.4879 - accuracy: 0.8052 - val_loss: 0.4748 - val_accuracy: 0.8056\n",
      "Epoch 254/300\n",
      "20/20 [==============================] - 0s 6ms/step - loss: 0.4899 - accuracy: 0.8052 - val_loss: 0.4478 - val_accuracy: 0.7778\n",
      "Epoch 255/300\n",
      "20/20 [==============================] - 0s 6ms/step - loss: 0.4846 - accuracy: 0.8134 - val_loss: 0.4600 - val_accuracy: 0.8241\n",
      "Epoch 256/300\n",
      "20/20 [==============================] - 0s 6ms/step - loss: 0.4846 - accuracy: 0.8101 - val_loss: 0.4488 - val_accuracy: 0.7870\n",
      "Epoch 257/300\n",
      "20/20 [==============================] - 0s 6ms/step - loss: 0.4837 - accuracy: 0.8118 - val_loss: 0.4502 - val_accuracy: 0.7963\n",
      "Epoch 258/300\n",
      "20/20 [==============================] - 0s 6ms/step - loss: 0.4863 - accuracy: 0.8101 - val_loss: 0.4563 - val_accuracy: 0.8241\n",
      "Epoch 259/300\n",
      "20/20 [==============================] - 0s 7ms/step - loss: 0.4860 - accuracy: 0.8151 - val_loss: 0.4462 - val_accuracy: 0.7870\n",
      "Epoch 260/300\n",
      "20/20 [==============================] - 0s 6ms/step - loss: 0.4853 - accuracy: 0.8101 - val_loss: 0.4513 - val_accuracy: 0.7778\n",
      "Epoch 261/300\n",
      "20/20 [==============================] - 0s 7ms/step - loss: 0.4837 - accuracy: 0.8118 - val_loss: 0.4497 - val_accuracy: 0.7778\n",
      "Epoch 262/300\n",
      "20/20 [==============================] - 0s 6ms/step - loss: 0.4876 - accuracy: 0.8085 - val_loss: 0.4505 - val_accuracy: 0.7778\n",
      "Epoch 263/300\n",
      "20/20 [==============================] - 0s 7ms/step - loss: 0.4874 - accuracy: 0.8134 - val_loss: 0.4451 - val_accuracy: 0.7963\n",
      "Epoch 264/300\n",
      "20/20 [==============================] - 0s 7ms/step - loss: 0.4853 - accuracy: 0.8020 - val_loss: 0.4511 - val_accuracy: 0.8241\n",
      "Epoch 265/300\n",
      "20/20 [==============================] - 0s 7ms/step - loss: 0.4838 - accuracy: 0.8101 - val_loss: 0.4590 - val_accuracy: 0.7963\n",
      "Epoch 266/300\n",
      "20/20 [==============================] - 0s 7ms/step - loss: 0.4824 - accuracy: 0.8151 - val_loss: 0.4466 - val_accuracy: 0.7870\n",
      "Epoch 267/300\n",
      "20/20 [==============================] - 0s 7ms/step - loss: 0.4832 - accuracy: 0.8101 - val_loss: 0.4456 - val_accuracy: 0.7963\n",
      "Epoch 268/300\n",
      "20/20 [==============================] - 0s 6ms/step - loss: 0.4837 - accuracy: 0.8036 - val_loss: 0.4491 - val_accuracy: 0.7870\n",
      "Epoch 269/300\n",
      "20/20 [==============================] - 0s 7ms/step - loss: 0.4815 - accuracy: 0.8052 - val_loss: 0.4520 - val_accuracy: 0.7778\n",
      "Epoch 270/300\n",
      "20/20 [==============================] - 0s 8ms/step - loss: 0.4842 - accuracy: 0.8036 - val_loss: 0.4500 - val_accuracy: 0.7778\n",
      "Epoch 271/300\n",
      "20/20 [==============================] - 0s 7ms/step - loss: 0.4829 - accuracy: 0.8118 - val_loss: 0.4543 - val_accuracy: 0.7963\n",
      "Epoch 272/300\n",
      "20/20 [==============================] - 0s 6ms/step - loss: 0.4804 - accuracy: 0.8085 - val_loss: 0.4511 - val_accuracy: 0.7963\n",
      "Epoch 273/300\n",
      "20/20 [==============================] - 0s 6ms/step - loss: 0.4819 - accuracy: 0.8052 - val_loss: 0.4511 - val_accuracy: 0.7870\n",
      "Epoch 274/300\n",
      "20/20 [==============================] - 0s 7ms/step - loss: 0.4810 - accuracy: 0.8101 - val_loss: 0.4523 - val_accuracy: 0.7778\n",
      "Epoch 275/300\n",
      "20/20 [==============================] - 0s 10ms/step - loss: 0.4813 - accuracy: 0.8134 - val_loss: 0.4595 - val_accuracy: 0.8056\n",
      "Epoch 276/300\n",
      "20/20 [==============================] - 0s 12ms/step - loss: 0.4873 - accuracy: 0.8069 - val_loss: 0.4423 - val_accuracy: 0.7685\n",
      "Epoch 277/300\n",
      "20/20 [==============================] - 0s 12ms/step - loss: 0.4865 - accuracy: 0.8069 - val_loss: 0.4445 - val_accuracy: 0.7870\n",
      "Epoch 278/300\n",
      "20/20 [==============================] - 0s 10ms/step - loss: 0.4830 - accuracy: 0.8118 - val_loss: 0.4573 - val_accuracy: 0.7685\n",
      "Epoch 279/300\n",
      "20/20 [==============================] - 0s 10ms/step - loss: 0.4814 - accuracy: 0.8003 - val_loss: 0.4515 - val_accuracy: 0.7685\n",
      "Epoch 280/300\n",
      "20/20 [==============================] - 0s 10ms/step - loss: 0.4792 - accuracy: 0.8101 - val_loss: 0.4444 - val_accuracy: 0.7870\n",
      "Epoch 281/300\n",
      "20/20 [==============================] - 0s 10ms/step - loss: 0.4802 - accuracy: 0.8216 - val_loss: 0.4516 - val_accuracy: 0.8056\n",
      "Epoch 282/300\n",
      "20/20 [==============================] - 0s 10ms/step - loss: 0.4792 - accuracy: 0.8167 - val_loss: 0.4556 - val_accuracy: 0.8056\n",
      "Epoch 283/300\n",
      "20/20 [==============================] - 0s 9ms/step - loss: 0.4784 - accuracy: 0.8134 - val_loss: 0.4465 - val_accuracy: 0.7870\n",
      "Epoch 284/300\n",
      "20/20 [==============================] - 0s 10ms/step - loss: 0.4798 - accuracy: 0.8134 - val_loss: 0.4621 - val_accuracy: 0.8056\n",
      "Epoch 285/300\n",
      "20/20 [==============================] - 0s 9ms/step - loss: 0.4814 - accuracy: 0.8036 - val_loss: 0.4417 - val_accuracy: 0.7870\n",
      "Epoch 286/300\n",
      "20/20 [==============================] - 0s 10ms/step - loss: 0.4827 - accuracy: 0.8036 - val_loss: 0.4625 - val_accuracy: 0.8056\n",
      "Epoch 287/300\n",
      "20/20 [==============================] - 0s 10ms/step - loss: 0.4779 - accuracy: 0.8134 - val_loss: 0.4436 - val_accuracy: 0.7870\n",
      "Epoch 288/300\n",
      "20/20 [==============================] - 0s 10ms/step - loss: 0.4813 - accuracy: 0.8118 - val_loss: 0.4573 - val_accuracy: 0.7963\n",
      "Epoch 289/300\n",
      "20/20 [==============================] - 0s 10ms/step - loss: 0.4805 - accuracy: 0.8200 - val_loss: 0.4564 - val_accuracy: 0.8056\n",
      "Epoch 290/300\n",
      "20/20 [==============================] - 0s 10ms/step - loss: 0.4821 - accuracy: 0.8069 - val_loss: 0.4439 - val_accuracy: 0.7778\n",
      "Epoch 291/300\n",
      "20/20 [==============================] - 0s 9ms/step - loss: 0.4765 - accuracy: 0.8183 - val_loss: 0.4646 - val_accuracy: 0.8148\n",
      "Epoch 292/300\n",
      "20/20 [==============================] - 0s 9ms/step - loss: 0.4795 - accuracy: 0.7954 - val_loss: 0.4411 - val_accuracy: 0.7870\n",
      "Epoch 293/300\n",
      "20/20 [==============================] - 0s 10ms/step - loss: 0.4762 - accuracy: 0.8101 - val_loss: 0.4497 - val_accuracy: 0.7778\n",
      "Epoch 294/300\n",
      "20/20 [==============================] - 0s 10ms/step - loss: 0.4761 - accuracy: 0.8183 - val_loss: 0.4430 - val_accuracy: 0.7778\n",
      "Epoch 295/300\n",
      "20/20 [==============================] - 0s 11ms/step - loss: 0.4782 - accuracy: 0.8085 - val_loss: 0.4443 - val_accuracy: 0.7870\n",
      "Epoch 296/300\n",
      "20/20 [==============================] - 0s 10ms/step - loss: 0.4768 - accuracy: 0.8167 - val_loss: 0.4643 - val_accuracy: 0.8056\n",
      "Epoch 297/300\n",
      "20/20 [==============================] - 0s 9ms/step - loss: 0.4773 - accuracy: 0.8118 - val_loss: 0.4416 - val_accuracy: 0.7963\n",
      "Epoch 298/300\n",
      "20/20 [==============================] - 0s 7ms/step - loss: 0.4757 - accuracy: 0.8183 - val_loss: 0.4459 - val_accuracy: 0.7870\n",
      "Epoch 299/300\n",
      "20/20 [==============================] - 0s 6ms/step - loss: 0.4774 - accuracy: 0.8232 - val_loss: 0.4569 - val_accuracy: 0.7963\n",
      "Epoch 300/300\n",
      "20/20 [==============================] - 0s 6ms/step - loss: 0.4749 - accuracy: 0.8118 - val_loss: 0.4434 - val_accuracy: 0.7778\n"
     ]
    }
   ],
   "source": [
    "history = model.fit(X_train, y_train, epochs=300, batch_size=32, validation_split=0.15, verbose=1, shuffle=True)"
   ]
  },
  {
   "cell_type": "markdown",
   "metadata": {
    "id": "zaM-KB3sDQsA"
   },
   "source": [
    "# **Model Evaluation**"
   ]
  },
  {
   "cell_type": "code",
   "execution_count": null,
   "metadata": {
    "ExecuteTime": {
     "end_time": "2024-03-22T04:16:11.734838Z",
     "start_time": "2024-03-22T04:16:11.517840Z"
    },
    "colab": {
     "base_uri": "https://localhost:8080/",
     "height": 490
    },
    "id": "-8gaGev5DQsA",
    "outputId": "0494d829-255f-4814-cdf5-67d4de0ee7c7"
   },
   "outputs": [
    {
     "data": {
      "text/plain": [
       "Text(0.5, 1.0, 'Model Accuracy')"
      ]
     },
     "execution_count": 29,
     "metadata": {},
     "output_type": "execute_result"
    },
    {
     "data": {
      "image/png": "[encoded data removed]",
      "text/plain": [
       "<Figure size 640x480 with 1 Axes>"
      ]
     },
     "metadata": {},
     "output_type": "display_data"
    }
   ],
   "source": [
    "import matplotlib.pyplot as plt\n",
    "\n",
    "plt.plot(history.history['accuracy'], label='accuracy')\n",
    "plt.plot(history.history['val_accuracy'], label='val_accuracy')\n",
    "plt.xlabel('Epoch')\n",
    "plt.ylabel('Accuracy')\n",
    "plt.title('Model Accuracy')"
   ]
  },
  {
   "cell_type": "code",
   "execution_count": null,
   "metadata": {
    "ExecuteTime": {
     "end_time": "2024-03-22T04:16:11.875838Z",
     "start_time": "2024-03-22T04:16:11.736840Z"
    },
    "colab": {
     "base_uri": "https://localhost:8080/"
    },
    "id": "2AvUAnfyDQsB",
    "outputId": "ceb4cd02-b3cf-43a4-c884-2729560c8fc2"
   },
   "outputs": [
    {
     "name": "stdout",
     "output_type": "stream",
     "text": [
      "3/3 [==============================] - 0s 6ms/step - loss: 0.4973 - accuracy: 0.7625\n",
      "Accuracy: 76.25%\n"
     ]
    }
   ],
   "source": [
    "loss, accuracy = model.evaluate(X_test, y_test)\n",
    "print(f'Accuracy: {accuracy * 100:.2f}%')"
   ]
  },
  {
   "cell_type": "code",
   "execution_count": null,
   "metadata": {
    "ExecuteTime": {
     "end_time": "2024-03-22T04:16:12.173838Z",
     "start_time": "2024-03-22T04:16:11.877841Z"
    },
    "colab": {
     "base_uri": "https://localhost:8080/"
    },
    "id": "nijlhRk2DQsB",
    "outputId": "0fdac1fe-6648-4fe1-c805-882e37bbbd8d"
   },
   "outputs": [
    {
     "name": "stdout",
     "output_type": "stream",
     "text": [
      "3/3 [==============================] - 0s 11ms/step\n"
     ]
    }
   ],
   "source": [
    "# Predictions\n",
    "y_pred = model.predict(X_test)\n",
    "y_pred = np.argmax(y_pred, axis=1)\n",
    "y_test = np.argmax(y_test, axis=1)"
   ]
  },
  {
   "cell_type": "code",
   "execution_count": null,
   "metadata": {
    "ExecuteTime": {
     "end_time": "2024-03-22T04:16:12.507838Z",
     "start_time": "2024-03-22T04:16:12.175839Z"
    },
    "colab": {
     "base_uri": "https://localhost:8080/",
     "height": 561
    },
    "id": "YW5YTiDvDQsB",
    "outputId": "c1475cf2-deed-431c-dac3-1a73e59a0b7c"
   },
   "outputs": [
    {
     "data": {
      "text/plain": [
       "[Text(0, 0.5, 'Excellent'),\n",
       " Text(0, 1.5, 'Fair'),\n",
       " Text(0, 2.5, 'Good'),\n",
       " Text(0, 3.5, 'Medium'),\n",
       " Text(0, 4.5, 'Poor')]"
      ]
     },
     "execution_count": 32,
     "metadata": {},
     "output_type": "execute_result"
    },
    {
     "data": {
      "image/png": "[encoded data removed]",
      "text/plain": [
       "<Figure size 640x480 with 2 Axes>"
      ]
     },
     "metadata": {},
     "output_type": "display_data"
    }
   ],
   "source": [
    "# Confusion matrix\n",
    "from sklearn.metrics import confusion_matrix, classification_report\n",
    "import seaborn as sns\n",
    "import matplotlib.pyplot as plt\n",
    "\n",
    "cm = confusion_matrix(y_test, y_pred)\n",
    "\n",
    "ax = plt.subplot()\n",
    "sns.heatmap(cm, annot=True, fmt='g', ax=ax)\n",
    "ax.set_xlabel('Predicted labels')\n",
    "ax.set_ylabel('True labels')\n",
    "ax.set_title('Confusion Matrix')\n",
    "ax.xaxis.set_ticklabels(label_cls)\n",
    "ax.yaxis.set_ticklabels(label_cls)"
   ]
  },
  {
   "cell_type": "code",
   "execution_count": null,
   "metadata": {
    "ExecuteTime": {
     "end_time": "2024-03-22T04:16:12.538836Z",
     "start_time": "2024-03-22T04:16:12.512840Z"
    },
    "colab": {
     "base_uri": "https://localhost:8080/"
    },
    "id": "Hcp42JuHDQsB",
    "outputId": "42889404-13ae-4eb2-c37f-ed927194c61a"
   },
   "outputs": [
    {
     "name": "stdout",
     "output_type": "stream",
     "text": [
      "              precision    recall  f1-score   support\n",
      "\n",
      "   Excellent       1.00      0.86      0.92        14\n",
      "        Fair       0.73      0.69      0.71        16\n",
      "        Good       0.72      0.72      0.72        18\n",
      "      Medium       0.62      0.62      0.62        16\n",
      "        Poor       0.79      0.94      0.86        16\n",
      "\n",
      "    accuracy                           0.76        80\n",
      "   macro avg       0.77      0.77      0.77        80\n",
      "weighted avg       0.77      0.76      0.76        80\n",
      "\n"
     ]
    }
   ],
   "source": [
    "# Classification report\n",
    "print(classification_report(y_test, y_pred, target_names=label_cls))"
   ]
  },
  {
   "cell_type": "markdown",
   "metadata": {
    "id": "Wimb1khSDQsB"
   },
   "source": [
    "# **Predictions**"
   ]
  },
  {
   "cell_type": "code",
   "execution_count": null,
   "metadata": {
    "ExecuteTime": {
     "end_time": "2024-03-22T04:17:07.097068Z",
     "start_time": "2024-03-22T04:16:12.540839Z"
    },
    "colab": {
     "base_uri": "https://localhost:8080/"
    },
    "id": "crfrimARDQsB",
    "outputId": "30ff0a1c-2a16-4a72-bf52-30918739a3ba"
   },
   "outputs": [
    {
     "name": "stderr",
     "output_type": "stream",
     "text": [
      "100%|██████████| 799/799 [01:27<00:00,  9.14it/s]\n"
     ]
    }
   ],
   "source": [
    "from tqdm import tqdm\n",
    "\n",
    "df_final['predicted_wqc'] = ''\n",
    "\n",
    "for idx, row in tqdm(df_final.iterrows(), total=df_final.shape[0]):\n",
    "    features = row.drop(['wqc', 'Longitude', 'Latitude', 'predicted_wqc'])\n",
    "    coordinates = row[['Longitude', 'Latitude']]\n",
    "    features = scaler_feature.transform([features])\n",
    "    coordinates = scaler_coordinate.transform([coordinates])\n",
    "    features = [features, coordinates]\n",
    "    prediction = model.predict(features, verbose=0)\n",
    "    prediction = np.argmax(prediction, axis=1)\n",
    "    label = label_cls[prediction[0]]\n",
    "    df_final.at[idx, 'predicted_wqc'] = label"
   ]
  },
  {
   "cell_type": "code",
   "execution_count": null,
   "metadata": {
    "ExecuteTime": {
     "end_time": "2024-03-22T04:17:07.225068Z",
     "start_time": "2024-03-22T04:17:07.099068Z"
    },
    "colab": {
     "base_uri": "https://localhost:8080/",
     "height": 1000
    },
    "id": "WNPDwjPfDQsB",
    "outputId": "71c83c52-64f1-4502-b52d-2731d5a7213e"
   },
   "outputs": [
    {
     "data": {
      "application/vnd.google.colaboratory.intrinsic+json": {
       "summary": "{\n  \"name\": \"df_final_coor\",\n  \"rows\": 1428,\n  \"fields\": [\n    {\n      \"column\": \"well_code\",\n      \"properties\": {\n        \"dtype\": \"category\",\n        \"num_unique_values\": 73,\n        \"samples\": [\n          \"Q.10\",\n          \"Q.86\",\n          \"Q.143\"\n        ],\n        \"semantic_type\": \"\",\n        \"description\": \"\"\n      }\n    },\n    {\n      \"column\": \"na\",\n      \"properties\": {\n        \"dtype\": \"number\",\n        \"std\": 538.0035602779584,\n        \"min\": 0.8,\n        \"max\": 3480.0,\n        \"num_unique_values\": 571,\n        \"samples\": [\n          168.3,\n          3180.0,\n          18.4\n        ],\n        \"semantic_type\": \"\",\n        \"description\": \"\"\n      }\n    },\n    {\n      \"column\": \"hco3\",\n      \"properties\": {\n        \"dtype\": \"number\",\n        \"std\": 277.76826140229304,\n        \"min\": 0.0,\n        \"max\": 1714.66,\n        \"num_unique_values\": 280,\n        \"samples\": [\n          491.21,\n          295.95,\n          472.91\n        ],\n        \"semantic_type\": \"\",\n        \"description\": \"\"\n      }\n    },\n    {\n      \"column\": \"hardness_permanent\",\n      \"properties\": {\n        \"dtype\": \"number\",\n        \"std\": 515.911221964547,\n        \"min\": 0.0,\n        \"max\": 3380.0,\n        \"num_unique_values\": 376,\n        \"samples\": [\n          1.713,\n          470.0,\n          885.0\n        ],\n        \"semantic_type\": \"\",\n        \"description\": \"\"\n      }\n    },\n    {\n      \"column\": \"co2_free\",\n      \"properties\": {\n        \"dtype\": \"number\",\n        \"std\": 42.58681981253694,\n        \"min\": 0.0,\n        \"max\": 354.2,\n        \"num_unique_values\": 89,\n        \"samples\": [\n          354.2,\n          182.6,\n          99.0\n        ],\n        \"semantic_type\": \"\",\n        \"description\": \"\"\n      }\n    },\n    {\n      \"column\": \"sio2\",\n      \"properties\": {\n        \"dtype\": \"number\",\n        \"std\": 4.477881159379694,\n        \"min\": 0.0,\n        \"max\": 24.0,\n        \"num_unique_values\": 257,\n        \"samples\": [\n          2.09,\n          3.66,\n          2.85\n        ],\n        \"semantic_type\": \"\",\n        \"description\": \"\"\n      }\n    },\n    {\n      \"column\": \"wqc\",\n      \"properties\": {\n        \"dtype\": \"category\",\n        \"num_unique_values\": 5,\n        \"samples\": [\n          \"Poor\",\n          \"Fair\",\n          \"Good\"\n        ],\n        \"semantic_type\": \"\",\n        \"description\": \"\"\n      }\n    },\n    {\n      \"column\": \"Longitude\",\n      \"properties\": {\n        \"dtype\": \"number\",\n        \"std\": 0.2751677841825784,\n        \"min\": 20.127862800696693,\n        \"max\": 21.313841282617304,\n        \"num_unique_values\": 72,\n        \"samples\": [\n          21.222485930088645,\n          20.56441005196804,\n          21.024026329455015\n        ],\n        \"semantic_type\": \"\",\n        \"description\": \"\"\n      }\n    },\n    {\n      \"column\": \"Latitude\",\n      \"properties\": {\n        \"dtype\": \"number\",\n        \"std\": 0.32044513895175986,\n        \"min\": 105.46053692920262,\n        \"max\": 106.64860804637765,\n        \"num_unique_values\": 72,\n        \"samples\": [\n          105.47990750516048,\n          105.97386440929417,\n          106.55643862183148\n        ],\n        \"semantic_type\": \"\",\n        \"description\": \"\"\n      }\n    },\n    {\n      \"column\": \"predicted_wqc\",\n      \"properties\": {\n        \"dtype\": \"category\",\n        \"num_unique_values\": 5,\n        \"samples\": [\n          \"Poor\",\n          \"Medium\",\n          \"Fair\"\n        ],\n        \"semantic_type\": \"\",\n        \"description\": \"\"\n      }\n    },\n    {\n      \"column\": \"No\",\n      \"properties\": {\n        \"dtype\": \"number\",\n        \"std\": 3.965043418391518,\n        \"min\": 1.0,\n        \"max\": 18.0,\n        \"num_unique_values\": 17,\n        \"samples\": [\n          6.0,\n          13.0,\n          3.0\n        ],\n        \"semantic_type\": \"\",\n        \"description\": \"\"\n      }\n    },\n    {\n      \"column\": \"Well Point Number\",\n      \"properties\": {\n        \"dtype\": \"category\",\n        \"num_unique_values\": 74,\n        \"samples\": [\n          \"Q.10\",\n          \"Q.85\",\n          \"Q.143\"\n        ],\n        \"semantic_type\": \"\",\n        \"description\": \"\"\n      }\n    },\n    {\n      \"column\": \"Project Number \",\n      \"properties\": {\n        \"dtype\": \"category\",\n        \"num_unique_values\": 125,\n        \"samples\": [\n          \"Q.119b\",\n          \"Q.149\",\n          \"Q.145\"\n        ],\n        \"semantic_type\": \"\",\n        \"description\": \"\"\n      }\n    },\n    {\n      \"column\": \"Monitoring Object\",\n      \"properties\": {\n        \"dtype\": \"category\",\n        \"num_unique_values\": 13,\n        \"samples\": [\n          \"qp\",\n          \"O-S\",\n          \"Bi\\u1ec3n\"\n        ],\n        \"semantic_type\": \"\",\n        \"description\": \"\"\n      }\n    },\n    {\n      \"column\": \"Commune\",\n      \"properties\": {\n        \"dtype\": \"category\",\n        \"num_unique_values\": 64,\n        \"samples\": [\n          \"T\\u1ed1t \\u0110\\u1ed9ng\",\n          \"Chuy\\u00ean Ngo\\u1ea1i\",\n          \"TT.Di\\u00eam \\u0110i\\u1ec1n\"\n        ],\n        \"semantic_type\": \"\",\n        \"description\": \"\"\n      }\n    },\n    {\n      \"column\": \"District\",\n      \"properties\": {\n        \"dtype\": \"category\",\n        \"num_unique_values\": 50,\n        \"samples\": [\n          \"Thanh Mi\\u1ec7n\",\n          \" Thanh Tr\\u00ec\",\n          \"Q. T\\u00e2y H\\u1ed3\"\n        ],\n        \"semantic_type\": \"\",\n        \"description\": \"\"\n      }\n    },\n    {\n      \"column\": \"Province\",\n      \"properties\": {\n        \"dtype\": \"category\",\n        \"num_unique_values\": 18,\n        \"samples\": [\n          \"Th\\u00e1i B\\u00ecnh\",\n          \"V\\u0129nh Ph\\u00fac\",\n          \"Qu\\u1ea3ng Ninh\"\n        ],\n        \"semantic_type\": \"\",\n        \"description\": \"\"\n      }\n    },\n    {\n      \"column\": \"Station\",\n      \"properties\": {\n        \"dtype\": \"category\",\n        \"num_unique_values\": 12,\n        \"samples\": [\n          \"Hanoi Station\",\n          \"Dan Phuong - Hoai Duc Station\",\n          \" Quynh Phu - Diem Dien Station\"\n        ],\n        \"semantic_type\": \"\",\n        \"description\": \"\"\n      }\n    }\n  ]\n}",
       "type": "dataframe",
       "variable_name": "df_final_coor"
      },
      "text/html": [
       "\n",
       "  <div id=\"df-847e3ef1-e938-4832-8b56-2766ffb7fb24\" class=\"colab-df-container\">\n",
       "    <div>\n",
       "<style scoped>\n",
       "    .dataframe tbody tr th:only-of-type {\n",
       "        vertical-align: middle;\n",
       "    }\n",
       "\n",
       "    .dataframe tbody tr th {\n",
       "        vertical-align: top;\n",
       "    }\n",
       "\n",
       "    .dataframe thead th {\n",
       "        text-align: right;\n",
       "    }\n",
       "</style>\n",
       "<table border=\"1\" class=\"dataframe\">\n",
       "  <thead>\n",
       "    <tr style=\"text-align: right;\">\n",
       "      <th></th>\n",
       "      <th>well_code</th>\n",
       "      <th>na</th>\n",
       "      <th>hco3</th>\n",
       "      <th>hardness_permanent</th>\n",
       "      <th>co2_free</th>\n",
       "      <th>sio2</th>\n",
       "      <th>wqc</th>\n",
       "      <th>Longitude</th>\n",
       "      <th>Latitude</th>\n",
       "      <th>predicted_wqc</th>\n",
       "      <th>No</th>\n",
       "      <th>Well Point Number</th>\n",
       "      <th>Project Number</th>\n",
       "      <th>Monitoring Object</th>\n",
       "      <th>Commune</th>\n",
       "      <th>District</th>\n",
       "      <th>Province</th>\n",
       "      <th>Station</th>\n",
       "    </tr>\n",
       "  </thead>\n",
       "  <tbody>\n",
       "    <tr>\n",
       "      <th>0</th>\n",
       "      <td>B1</td>\n",
       "      <td>2501.00</td>\n",
       "      <td>149.50</td>\n",
       "      <td>32.5</td>\n",
       "      <td>8.8</td>\n",
       "      <td>0.40</td>\n",
       "      <td>Excellent</td>\n",
       "      <td>20.560557</td>\n",
       "      <td>106.568461</td>\n",
       "      <td>Excellent</td>\n",
       "      <td>6.0</td>\n",
       "      <td>B1</td>\n",
       "      <td>B1</td>\n",
       "      <td>Biển</td>\n",
       "      <td>TT.Diêm Điền</td>\n",
       "      <td>Thái Thụy</td>\n",
       "      <td>Thái Bình</td>\n",
       "      <td>Quynh Phu - Diem Dien Station</td>\n",
       "    </tr>\n",
       "    <tr>\n",
       "      <th>1</th>\n",
       "      <td>B1</td>\n",
       "      <td>1900.00</td>\n",
       "      <td>137.30</td>\n",
       "      <td>2395.0</td>\n",
       "      <td>11.0</td>\n",
       "      <td>0.32</td>\n",
       "      <td>Excellent</td>\n",
       "      <td>20.560557</td>\n",
       "      <td>106.568461</td>\n",
       "      <td>Excellent</td>\n",
       "      <td>6.0</td>\n",
       "      <td>B1</td>\n",
       "      <td>B1</td>\n",
       "      <td>Biển</td>\n",
       "      <td>TT.Diêm Điền</td>\n",
       "      <td>Thái Thụy</td>\n",
       "      <td>Thái Bình</td>\n",
       "      <td>Quynh Phu - Diem Dien Station</td>\n",
       "    </tr>\n",
       "    <tr>\n",
       "      <th>2</th>\n",
       "      <td>B1</td>\n",
       "      <td>22.15</td>\n",
       "      <td>88.48</td>\n",
       "      <td>160.0</td>\n",
       "      <td>6.6</td>\n",
       "      <td>0.32</td>\n",
       "      <td>Poor</td>\n",
       "      <td>20.560557</td>\n",
       "      <td>106.568461</td>\n",
       "      <td>Poor</td>\n",
       "      <td>6.0</td>\n",
       "      <td>B1</td>\n",
       "      <td>B1</td>\n",
       "      <td>Biển</td>\n",
       "      <td>TT.Diêm Điền</td>\n",
       "      <td>Thái Thụy</td>\n",
       "      <td>Thái Bình</td>\n",
       "      <td>Quynh Phu - Diem Dien Station</td>\n",
       "    </tr>\n",
       "    <tr>\n",
       "      <th>3</th>\n",
       "      <td>B1</td>\n",
       "      <td>86.00</td>\n",
       "      <td>164.75</td>\n",
       "      <td>330.0</td>\n",
       "      <td>11.0</td>\n",
       "      <td>0.60</td>\n",
       "      <td>Poor</td>\n",
       "      <td>20.560557</td>\n",
       "      <td>106.568461</td>\n",
       "      <td>Fair</td>\n",
       "      <td>6.0</td>\n",
       "      <td>B1</td>\n",
       "      <td>B1</td>\n",
       "      <td>Biển</td>\n",
       "      <td>TT.Diêm Điền</td>\n",
       "      <td>Thái Thụy</td>\n",
       "      <td>Thái Bình</td>\n",
       "      <td>Quynh Phu - Diem Dien Station</td>\n",
       "    </tr>\n",
       "    <tr>\n",
       "      <th>4</th>\n",
       "      <td>B1</td>\n",
       "      <td>695.80</td>\n",
       "      <td>109.84</td>\n",
       "      <td>945.0</td>\n",
       "      <td>2.2</td>\n",
       "      <td>0.00</td>\n",
       "      <td>Good</td>\n",
       "      <td>20.560557</td>\n",
       "      <td>106.568461</td>\n",
       "      <td>Good</td>\n",
       "      <td>6.0</td>\n",
       "      <td>B1</td>\n",
       "      <td>B1</td>\n",
       "      <td>Biển</td>\n",
       "      <td>TT.Diêm Điền</td>\n",
       "      <td>Thái Thụy</td>\n",
       "      <td>Thái Bình</td>\n",
       "      <td>Quynh Phu - Diem Dien Station</td>\n",
       "    </tr>\n",
       "    <tr>\n",
       "      <th>...</th>\n",
       "      <td>...</td>\n",
       "      <td>...</td>\n",
       "      <td>...</td>\n",
       "      <td>...</td>\n",
       "      <td>...</td>\n",
       "      <td>...</td>\n",
       "      <td>...</td>\n",
       "      <td>...</td>\n",
       "      <td>...</td>\n",
       "      <td>...</td>\n",
       "      <td>...</td>\n",
       "      <td>...</td>\n",
       "      <td>...</td>\n",
       "      <td>...</td>\n",
       "      <td>...</td>\n",
       "      <td>...</td>\n",
       "      <td>...</td>\n",
       "      <td>...</td>\n",
       "    </tr>\n",
       "    <tr>\n",
       "      <th>1423</th>\n",
       "      <td>TB1</td>\n",
       "      <td>3.90</td>\n",
       "      <td>112.89</td>\n",
       "      <td>123.8</td>\n",
       "      <td>4.4</td>\n",
       "      <td>0.54</td>\n",
       "      <td>Poor</td>\n",
       "      <td>20.880442</td>\n",
       "      <td>106.401212</td>\n",
       "      <td>Poor</td>\n",
       "      <td>8.0</td>\n",
       "      <td>TB1</td>\n",
       "      <td>TB1</td>\n",
       "      <td>NM</td>\n",
       "      <td>Thanh Hải</td>\n",
       "      <td>Thanh Hà</td>\n",
       "      <td>Hải Dương</td>\n",
       "      <td>Tu Loc - Nam Thanh Station</td>\n",
       "    </tr>\n",
       "    <tr>\n",
       "      <th>1424</th>\n",
       "      <td>TB1</td>\n",
       "      <td>7.10</td>\n",
       "      <td>125.09</td>\n",
       "      <td>155.0</td>\n",
       "      <td>4.4</td>\n",
       "      <td>0.68</td>\n",
       "      <td>Poor</td>\n",
       "      <td>20.880442</td>\n",
       "      <td>106.401212</td>\n",
       "      <td>Poor</td>\n",
       "      <td>8.0</td>\n",
       "      <td>TB1</td>\n",
       "      <td>TB1</td>\n",
       "      <td>NM</td>\n",
       "      <td>Thanh Hải</td>\n",
       "      <td>Thanh Hà</td>\n",
       "      <td>Hải Dương</td>\n",
       "      <td>Tu Loc - Nam Thanh Station</td>\n",
       "    </tr>\n",
       "    <tr>\n",
       "      <th>1425</th>\n",
       "      <td>TB1</td>\n",
       "      <td>5.00</td>\n",
       "      <td>67.12</td>\n",
       "      <td>127.5</td>\n",
       "      <td>0.0</td>\n",
       "      <td>0.20</td>\n",
       "      <td>Poor</td>\n",
       "      <td>20.880442</td>\n",
       "      <td>106.401212</td>\n",
       "      <td>Poor</td>\n",
       "      <td>8.0</td>\n",
       "      <td>TB1</td>\n",
       "      <td>TB1</td>\n",
       "      <td>NM</td>\n",
       "      <td>Thanh Hải</td>\n",
       "      <td>Thanh Hà</td>\n",
       "      <td>Hải Dương</td>\n",
       "      <td>Tu Loc - Nam Thanh Station</td>\n",
       "    </tr>\n",
       "    <tr>\n",
       "      <th>1426</th>\n",
       "      <td>TB1</td>\n",
       "      <td>7.95</td>\n",
       "      <td>109.84</td>\n",
       "      <td>143.8</td>\n",
       "      <td>2.2</td>\n",
       "      <td>6.00</td>\n",
       "      <td>Poor</td>\n",
       "      <td>20.880442</td>\n",
       "      <td>106.401212</td>\n",
       "      <td>Poor</td>\n",
       "      <td>8.0</td>\n",
       "      <td>TB1</td>\n",
       "      <td>TB1</td>\n",
       "      <td>NM</td>\n",
       "      <td>Thanh Hải</td>\n",
       "      <td>Thanh Hà</td>\n",
       "      <td>Hải Dương</td>\n",
       "      <td>Tu Loc - Nam Thanh Station</td>\n",
       "    </tr>\n",
       "    <tr>\n",
       "      <th>1427</th>\n",
       "      <td>TB1</td>\n",
       "      <td>8.80</td>\n",
       "      <td>118.99</td>\n",
       "      <td>102.5</td>\n",
       "      <td>2.2</td>\n",
       "      <td>2.40</td>\n",
       "      <td>Poor</td>\n",
       "      <td>20.880442</td>\n",
       "      <td>106.401212</td>\n",
       "      <td>Poor</td>\n",
       "      <td>8.0</td>\n",
       "      <td>TB1</td>\n",
       "      <td>TB1</td>\n",
       "      <td>NM</td>\n",
       "      <td>Thanh Hải</td>\n",
       "      <td>Thanh Hà</td>\n",
       "      <td>Hải Dương</td>\n",
       "      <td>Tu Loc - Nam Thanh Station</td>\n",
       "    </tr>\n",
       "  </tbody>\n",
       "</table>\n",
       "<p>1428 rows × 18 columns</p>\n",
       "</div>\n",
       "    <div class=\"colab-df-buttons\">\n",
       "\n",
       "  <div class=\"colab-df-container\">\n",
       "    <button class=\"colab-df-convert\" onclick=\"convertToInteractive('df-847e3ef1-e938-4832-8b56-2766ffb7fb24')\"\n",
       "            title=\"Convert this dataframe to an interactive table.\"\n",
       "            style=\"display:none;\">\n",
       "\n",
       "  <svg xmlns=\"http://www.w3.org/2000/svg\" height=\"24px\" viewBox=\"0 -960 960 960\">\n",
       "    <path d=\"M120-120v-720h720v720H120Zm60-500h600v-160H180v160Zm220 220h160v-160H400v160Zm0 220h160v-160H400v160ZM180-400h160v-160H180v160Zm440 0h160v-160H620v160ZM180-180h160v-160H180v160Zm440 0h160v-160H620v160Z\"/>\n",
       "  </svg>\n",
       "    </button>\n",
       "\n",
       "  <style>\n",
       "    .colab-df-container {\n",
       "      display:flex;\n",
       "      gap: 12px;\n",
       "    }\n",
       "\n",
       "    .colab-df-convert {\n",
       "      background-color: #E8F0FE;\n",
       "      border: none;\n",
       "      border-radius: 50%;\n",
       "      cursor: pointer;\n",
       "      display: none;\n",
       "      fill: #1967D2;\n",
       "      height: 32px;\n",
       "      padding: 0 0 0 0;\n",
       "      width: 32px;\n",
       "    }\n",
       "\n",
       "    .colab-df-convert:hover {\n",
       "      background-color: #E2EBFA;\n",
       "      box-shadow: 0px 1px 2px rgba(60, 64, 67, 0.3), 0px 1px 3px 1px rgba(60, 64, 67, 0.15);\n",
       "      fill: #174EA6;\n",
       "    }\n",
       "\n",
       "    .colab-df-buttons div {\n",
       "      margin-bottom: 4px;\n",
       "    }\n",
       "\n",
       "    [theme=dark] .colab-df-convert {\n",
       "      background-color: #3B4455;\n",
       "      fill: #D2E3FC;\n",
       "    }\n",
       "\n",
       "    [theme=dark] .colab-df-convert:hover {\n",
       "      background-color: #434B5C;\n",
       "      box-shadow: 0px 1px 3px 1px rgba(0, 0, 0, 0.15);\n",
       "      filter: drop-shadow(0px 1px 2px rgba(0, 0, 0, 0.3));\n",
       "      fill: #FFFFFF;\n",
       "    }\n",
       "  </style>\n",
       "\n",
       "    <script>\n",
       "      const buttonEl =\n",
       "        document.querySelector('#df-847e3ef1-e938-4832-8b56-2766ffb7fb24 button.colab-df-convert');\n",
       "      buttonEl.style.display =\n",
       "        google.colab.kernel.accessAllowed ? 'block' : 'none';\n",
       "\n",
       "      async function convertToInteractive(key) {\n",
       "        const element = document.querySelector('#df-847e3ef1-e938-4832-8b56-2766ffb7fb24');\n",
       "        const dataTable =\n",
       "          await google.colab.kernel.invokeFunction('convertToInteractive',\n",
       "                                                    [key], {});\n",
       "        if (!dataTable) return;\n",
       "\n",
       "        const docLinkHtml = 'Like what you see? Visit the ' +\n",
       "          '<a target=\"_blank\" href=https://colab.research.google.com/notebooks/data_table.ipynb>data table notebook</a>'\n",
       "          + ' to learn more about interactive tables.';\n",
       "        element.innerHTML = '';\n",
       "        dataTable['output_type'] = 'display_data';\n",
       "        await google.colab.output.renderOutput(dataTable, element);\n",
       "        const docLink = document.createElement('div');\n",
       "        docLink.innerHTML = docLinkHtml;\n",
       "        element.appendChild(docLink);\n",
       "      }\n",
       "    </script>\n",
       "  </div>\n",
       "\n",
       "\n",
       "<div id=\"df-106de013-d03a-4c37-bb1c-735a486d9e74\">\n",
       "  <button class=\"colab-df-quickchart\" onclick=\"quickchart('df-106de013-d03a-4c37-bb1c-735a486d9e74')\"\n",
       "            title=\"Suggest charts\"\n",
       "            style=\"display:none;\">\n",
       "\n",
       "<svg xmlns=\"http://www.w3.org/2000/svg\" height=\"24px\"viewBox=\"0 0 24 24\"\n",
       "     width=\"24px\">\n",
       "    <g>\n",
       "        <path d=\"M19 3H5c-1.1 0-2 .9-2 2v14c0 1.1.9 2 2 2h14c1.1 0 2-.9 2-2V5c0-1.1-.9-2-2-2zM9 17H7v-7h2v7zm4 0h-2V7h2v10zm4 0h-2v-4h2v4z\"/>\n",
       "    </g>\n",
       "</svg>\n",
       "  </button>\n",
       "\n",
       "<style>\n",
       "  .colab-df-quickchart {\n",
       "      --bg-color: #E8F0FE;\n",
       "      --fill-color: #1967D2;\n",
       "      --hover-bg-color: #E2EBFA;\n",
       "      --hover-fill-color: #174EA6;\n",
       "      --disabled-fill-color: #AAA;\n",
       "      --disabled-bg-color: #DDD;\n",
       "  }\n",
       "\n",
       "  [theme=dark] .colab-df-quickchart {\n",
       "      --bg-color: #3B4455;\n",
       "      --fill-color: #D2E3FC;\n",
       "      --hover-bg-color: #434B5C;\n",
       "      --hover-fill-color: #FFFFFF;\n",
       "      --disabled-bg-color: #3B4455;\n",
       "      --disabled-fill-color: #666;\n",
       "  }\n",
       "\n",
       "  .colab-df-quickchart {\n",
       "    background-color: var(--bg-color);\n",
       "    border: none;\n",
       "    border-radius: 50%;\n",
       "    cursor: pointer;\n",
       "    display: none;\n",
       "    fill: var(--fill-color);\n",
       "    height: 32px;\n",
       "    padding: 0;\n",
       "    width: 32px;\n",
       "  }\n",
       "\n",
       "  .colab-df-quickchart:hover {\n",
       "    background-color: var(--hover-bg-color);\n",
       "    box-shadow: 0 1px 2px rgba(60, 64, 67, 0.3), 0 1px 3px 1px rgba(60, 64, 67, 0.15);\n",
       "    fill: var(--button-hover-fill-color);\n",
       "  }\n",
       "\n",
       "  .colab-df-quickchart-complete:disabled,\n",
       "  .colab-df-quickchart-complete:disabled:hover {\n",
       "    background-color: var(--disabled-bg-color);\n",
       "    fill: var(--disabled-fill-color);\n",
       "    box-shadow: none;\n",
       "  }\n",
       "\n",
       "  .colab-df-spinner {\n",
       "    border: 2px solid var(--fill-color);\n",
       "    border-color: transparent;\n",
       "    border-bottom-color: var(--fill-color);\n",
       "    animation:\n",
       "      spin 1s steps(1) infinite;\n",
       "  }\n",
       "\n",
       "  @keyframes spin {\n",
       "    0% {\n",
       "      border-color: transparent;\n",
       "      border-bottom-color: var(--fill-color);\n",
       "      border-left-color: var(--fill-color);\n",
       "    }\n",
       "    20% {\n",
       "      border-color: transparent;\n",
       "      border-left-color: var(--fill-color);\n",
       "      border-top-color: var(--fill-color);\n",
       "    }\n",
       "    30% {\n",
       "      border-color: transparent;\n",
       "      border-left-color: var(--fill-color);\n",
       "      border-top-color: var(--fill-color);\n",
       "      border-right-color: var(--fill-color);\n",
       "    }\n",
       "    40% {\n",
       "      border-color: transparent;\n",
       "      border-right-color: var(--fill-color);\n",
       "      border-top-color: var(--fill-color);\n",
       "    }\n",
       "    60% {\n",
       "      border-color: transparent;\n",
       "      border-right-color: var(--fill-color);\n",
       "    }\n",
       "    80% {\n",
       "      border-color: transparent;\n",
       "      border-right-color: var(--fill-color);\n",
       "      border-bottom-color: var(--fill-color);\n",
       "    }\n",
       "    90% {\n",
       "      border-color: transparent;\n",
       "      border-bottom-color: var(--fill-color);\n",
       "    }\n",
       "  }\n",
       "</style>\n",
       "\n",
       "  <script>\n",
       "    async function quickchart(key) {\n",
       "      const quickchartButtonEl =\n",
       "        document.querySelector('#' + key + ' button');\n",
       "      quickchartButtonEl.disabled = true;  // To prevent multiple clicks.\n",
       "      quickchartButtonEl.classList.add('colab-df-spinner');\n",
       "      try {\n",
       "        const charts = await google.colab.kernel.invokeFunction(\n",
       "            'suggestCharts', [key], {});\n",
       "      } catch (error) {\n",
       "        console.error('Error during call to suggestCharts:', error);\n",
       "      }\n",
       "      quickchartButtonEl.classList.remove('colab-df-spinner');\n",
       "      quickchartButtonEl.classList.add('colab-df-quickchart-complete');\n",
       "    }\n",
       "    (() => {\n",
       "      let quickchartButtonEl =\n",
       "        document.querySelector('#df-106de013-d03a-4c37-bb1c-735a486d9e74 button');\n",
       "      quickchartButtonEl.style.display =\n",
       "        google.colab.kernel.accessAllowed ? 'block' : 'none';\n",
       "    })();\n",
       "  </script>\n",
       "</div>\n",
       "\n",
       "  <div id=\"id_2264af9f-0586-4912-bbe1-c7f9d7cb0d46\">\n",
       "    <style>\n",
       "      .colab-df-generate {\n",
       "        background-color: #E8F0FE;\n",
       "        border: none;\n",
       "        border-radius: 50%;\n",
       "        cursor: pointer;\n",
       "        display: none;\n",
       "        fill: #1967D2;\n",
       "        height: 32px;\n",
       "        padding: 0 0 0 0;\n",
       "        width: 32px;\n",
       "      }\n",
       "\n",
       "      .colab-df-generate:hover {\n",
       "        background-color: #E2EBFA;\n",
       "        box-shadow: 0px 1px 2px rgba(60, 64, 67, 0.3), 0px 1px 3px 1px rgba(60, 64, 67, 0.15);\n",
       "        fill: #174EA6;\n",
       "      }\n",
       "\n",
       "      [theme=dark] .colab-df-generate {\n",
       "        background-color: #3B4455;\n",
       "        fill: #D2E3FC;\n",
       "      }\n",
       "\n",
       "      [theme=dark] .colab-df-generate:hover {\n",
       "        background-color: #434B5C;\n",
       "        box-shadow: 0px 1px 3px 1px rgba(0, 0, 0, 0.15);\n",
       "        filter: drop-shadow(0px 1px 2px rgba(0, 0, 0, 0.3));\n",
       "        fill: #FFFFFF;\n",
       "      }\n",
       "    </style>\n",
       "    <button class=\"colab-df-generate\" onclick=\"generateWithVariable('df_final_coor')\"\n",
       "            title=\"Generate code using this dataframe.\"\n",
       "            style=\"display:none;\">\n",
       "\n",
       "  <svg xmlns=\"http://www.w3.org/2000/svg\" height=\"24px\"viewBox=\"0 0 24 24\"\n",
       "       width=\"24px\">\n",
       "    <path d=\"M7,19H8.4L18.45,9,17,7.55,7,17.6ZM5,21V16.75L18.45,3.32a2,2,0,0,1,2.83,0l1.4,1.43a1.91,1.91,0,0,1,.58,1.4,1.91,1.91,0,0,1-.58,1.4L9.25,21ZM18.45,9,17,7.55Zm-12,3A5.31,5.31,0,0,0,4.9,8.1,5.31,5.31,0,0,0,1,6.5,5.31,5.31,0,0,0,4.9,4.9,5.31,5.31,0,0,0,6.5,1,5.31,5.31,0,0,0,8.1,4.9,5.31,5.31,0,0,0,12,6.5,5.46,5.46,0,0,0,6.5,12Z\"/>\n",
       "  </svg>\n",
       "    </button>\n",
       "    <script>\n",
       "      (() => {\n",
       "      const buttonEl =\n",
       "        document.querySelector('#id_2264af9f-0586-4912-bbe1-c7f9d7cb0d46 button.colab-df-generate');\n",
       "      buttonEl.style.display =\n",
       "        google.colab.kernel.accessAllowed ? 'block' : 'none';\n",
       "\n",
       "      buttonEl.onclick = () => {\n",
       "        google.colab.notebook.generateWithVariable('df_final_coor');\n",
       "      }\n",
       "      })();\n",
       "    </script>\n",
       "  </div>\n",
       "\n",
       "    </div>\n",
       "  </div>\n"
      ],
      "text/plain": [
       "     well_code       na    hco3  hardness_permanent  co2_free  sio2  \\\n",
       "0           B1  2501.00  149.50                32.5       8.8  0.40   \n",
       "1           B1  1900.00  137.30              2395.0      11.0  0.32   \n",
       "2           B1    22.15   88.48               160.0       6.6  0.32   \n",
       "3           B1    86.00  164.75               330.0      11.0  0.60   \n",
       "4           B1   695.80  109.84               945.0       2.2  0.00   \n",
       "...        ...      ...     ...                 ...       ...   ...   \n",
       "1423       TB1     3.90  112.89               123.8       4.4  0.54   \n",
       "1424       TB1     7.10  125.09               155.0       4.4  0.68   \n",
       "1425       TB1     5.00   67.12               127.5       0.0  0.20   \n",
       "1426       TB1     7.95  109.84               143.8       2.2  6.00   \n",
       "1427       TB1     8.80  118.99               102.5       2.2  2.40   \n",
       "\n",
       "            wqc  Longitude    Latitude predicted_wqc   No Well Point Number  \\\n",
       "0     Excellent  20.560557  106.568461     Excellent  6.0                B1   \n",
       "1     Excellent  20.560557  106.568461     Excellent  6.0                B1   \n",
       "2          Poor  20.560557  106.568461          Poor  6.0                B1   \n",
       "3          Poor  20.560557  106.568461          Fair  6.0                B1   \n",
       "4          Good  20.560557  106.568461          Good  6.0                B1   \n",
       "...         ...        ...         ...           ...  ...               ...   \n",
       "1423       Poor  20.880442  106.401212          Poor  8.0               TB1   \n",
       "1424       Poor  20.880442  106.401212          Poor  8.0               TB1   \n",
       "1425       Poor  20.880442  106.401212          Poor  8.0               TB1   \n",
       "1426       Poor  20.880442  106.401212          Poor  8.0               TB1   \n",
       "1427       Poor  20.880442  106.401212          Poor  8.0               TB1   \n",
       "\n",
       "     Project Number  Monitoring Object       Commune   District   Province  \\\n",
       "0                 B1              Biển  TT.Diêm Điền  Thái Thụy  Thái Bình   \n",
       "1                 B1              Biển  TT.Diêm Điền  Thái Thụy  Thái Bình   \n",
       "2                 B1              Biển  TT.Diêm Điền  Thái Thụy  Thái Bình   \n",
       "3                 B1              Biển  TT.Diêm Điền  Thái Thụy  Thái Bình   \n",
       "4                 B1              Biển  TT.Diêm Điền  Thái Thụy  Thái Bình   \n",
       "...              ...               ...           ...        ...        ...   \n",
       "1423             TB1                NM     Thanh Hải   Thanh Hà  Hải Dương   \n",
       "1424             TB1                NM     Thanh Hải   Thanh Hà  Hải Dương   \n",
       "1425             TB1                NM     Thanh Hải   Thanh Hà  Hải Dương   \n",
       "1426             TB1                NM     Thanh Hải   Thanh Hà  Hải Dương   \n",
       "1427             TB1                NM     Thanh Hải   Thanh Hà  Hải Dương   \n",
       "\n",
       "                             Station  \n",
       "0      Quynh Phu - Diem Dien Station  \n",
       "1      Quynh Phu - Diem Dien Station  \n",
       "2      Quynh Phu - Diem Dien Station  \n",
       "3      Quynh Phu - Diem Dien Station  \n",
       "4      Quynh Phu - Diem Dien Station  \n",
       "...                              ...  \n",
       "1423      Tu Loc - Nam Thanh Station  \n",
       "1424      Tu Loc - Nam Thanh Station  \n",
       "1425      Tu Loc - Nam Thanh Station  \n",
       "1426      Tu Loc - Nam Thanh Station  \n",
       "1427      Tu Loc - Nam Thanh Station  \n",
       "\n",
       "[1428 rows x 18 columns]"
      ]
     },
     "execution_count": 35,
     "metadata": {},
     "output_type": "execute_result"
    }
   ],
   "source": [
    "df_coor = pd.read_excel(coordinate_file_path)\n",
    "df_coor['Longitude'] = df_coor['Longitude and Latitude'].str.split(',').str[0]\n",
    "df_coor['Latitude'] = df_coor['Longitude and Latitude'].str.split(',').str[1]\n",
    "\n",
    "df_coor.drop('Longitude and Latitude', axis=1, inplace=True)\n",
    "df_coor['Longitude'] = df_coor['Longitude'].astype('float')\n",
    "df_coor['Latitude'] = df_coor['Latitude'].astype('float')\n",
    "\n",
    "# Merge on Longitude and Latitude\n",
    "df_final_coor = pd.merge(df_final, df_coor, on=['Longitude', 'Latitude'], how='inner')\n",
    "df_final_coor['well_code'] = label_encoder_well_code.inverse_transform(df_final_coor['well_code'])\n",
    "df_final_coor"
   ]
  },
  {
   "cell_type": "code",
   "execution_count": null,
   "metadata": {
    "ExecuteTime": {
     "end_time": "2024-03-22T04:17:07.241096Z",
     "start_time": "2024-03-22T04:17:07.227068Z"
    },
    "id": "PaV_J-S7DQsB"
   },
   "outputs": [],
   "source": []
  }
 ],
 "metadata": {
  "colab": {
   "provenance": [],
   "toc_visible": true
  },
  "kernelspec": {
   "display_name": "Python 3 (ipykernel)",
   "language": "python",
   "name": "python3"
  },
  "language_info": {
   "codemirror_mode": {
    "name": "ipython",
    "version": 3
   },
   "file_extension": ".py",
   "mimetype": "text/x-python",
   "name": "python",
   "nbconvert_exporter": "python",
   "pygments_lexer": "ipython3",
   "version": "3.9.16"
  }
 },
 "nbformat": 4,
 "nbformat_minor": 4
}
