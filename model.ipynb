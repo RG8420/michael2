{
 "cells": [
  {
   "cell_type": "code",
   "execution_count": 1,
   "id": "bbfe2607-26bd-4a18-acbd-2fceb89e9b1f",
   "metadata": {},
   "outputs": [
    {
     "name": "stdout",
     "output_type": "stream",
     "text": [
      "Requirement already satisfied: pyswarm in c:\\users\\dell\\anaconda3\\lib\\site-packages (0.6)\n",
      "Requirement already satisfied: numpy in c:\\users\\dell\\anaconda3\\lib\\site-packages (from pyswarm) (1.23.5)\n"
     ]
    }
   ],
   "source": [
    "!pip install pyswarm"
   ]
  },
  {
   "cell_type": "code",
   "execution_count": 2,
   "id": "bd830da6-08ea-490b-90b4-208ea7af9b07",
   "metadata": {},
   "outputs": [],
   "source": [
    "import numpy as np\n",
    "import pandas as pd\n",
    "import matplotlib.pyplot as plt\n",
    "import seaborn as sns\n",
    "from sklearn.model_selection import train_test_split, KFold\n",
    "from sklearn.metrics import accuracy_score\n",
    "from sklearn.metrics import confusion_matrix\n",
    "from pyswarm import pso\n",
    "\n",
    "RANDOM_STATE = 8420"
   ]
  },
  {
   "cell_type": "markdown",
   "id": "9ae350ba-88d6-483c-abe5-3588d9d7a965",
   "metadata": {},
   "source": [
    "## **Preparation**"
   ]
  },
  {
   "cell_type": "code",
   "execution_count": 3,
   "id": "732cd453-9697-4828-b3cf-0cea50b01f6d",
   "metadata": {},
   "outputs": [],
   "source": [
    "vietnam_path = \"dataset/data_vietnam.npz\""
   ]
  },
  {
   "cell_type": "code",
   "execution_count": 4,
   "id": "532e826b-eb76-4f35-ba8e-057b5b65ee7c",
   "metadata": {},
   "outputs": [],
   "source": [
    "# Load arrays from the .npz file\n",
    "vietnam_data = np.load(vietnam_path)\n",
    "\n",
    "# Access individual arrays\n",
    "x_vietnam = vietnam_data['x']\n",
    "coordinate_vietnam = vietnam_data[\"coordinates\"]\n",
    "y_classification_vietnam = vietnam_data['y_classification']\n",
    "y_regression_vietnam = vietnam_data['y_regression']\n",
    "columns_vietnam = vietnam_data['columns']\n"
   ]
  },
  {
   "cell_type": "code",
   "execution_count": 5,
   "id": "12de6df9-1cc9-4e7a-896f-a64632591f8f",
   "metadata": {},
   "outputs": [],
   "source": [
    "x = x_vietnam\n",
    "coordinates = coordinate_vietnam\n",
    "y = y_classification_vietnam\n"
   ]
  },
  {
   "cell_type": "code",
   "execution_count": 6,
   "id": "5ef8c65b-8384-4baf-85f0-f148619bc76a",
   "metadata": {},
   "outputs": [],
   "source": [
    "x_train, x_test, coordinates_train, coordinates_test, y_train, y_test = train_test_split(x, coordinates, y, shuffle=True, random_state=RANDOM_STATE)"
   ]
  },
  {
   "cell_type": "code",
   "execution_count": 7,
   "id": "5ec1b957-1596-4b65-8b5a-c34d0c851f60",
   "metadata": {},
   "outputs": [],
   "source": [
    "elements_column = [\"na\", \"k\", \"ca2\", \"mg2\", \"fe3\", \"fe2\", \"al3\", \"cl\", \"so4\", \"hco3\", \"co3\", \"no2\", \"no3\"]"
   ]
  },
  {
   "cell_type": "code",
   "execution_count": 8,
   "id": "ee872663-5f26-41d0-b7ee-411dce673256",
   "metadata": {},
   "outputs": [],
   "source": [
    "df = pd.DataFrame(x_vietnam, columns=columns_vietnam)"
   ]
  },
  {
   "cell_type": "code",
   "execution_count": 9,
   "id": "fdbd0aae-1ea8-430c-a3a7-9a7817e55d0e",
   "metadata": {},
   "outputs": [
    {
     "data": {
      "text/plain": [
       "Index(['well_code', 'date_sampling', 'quarter', 'type_analyzing',\n",
       "       'date_analyzing', 'laboratory', 'number_analyzing', 'na', 'k', 'ca2',\n",
       "       'mg2', 'fe3', 'fe2', 'al3', 'cl', 'so4', 'hco3', 'co3', 'no2',\n",
       "       'hardness_general', 'no3', 'hardness_temporal', 'hardness_permanent',\n",
       "       'ph', 'co2_free', 'co2_depend', 'co2_infiltrate', 'sio2', 'color',\n",
       "       'smell', 'tatse', 'tds105'],\n",
       "      dtype='object')"
      ]
     },
     "execution_count": 9,
     "metadata": {},
     "output_type": "execute_result"
    }
   ],
   "source": [
    "df.columns"
   ]
  },
  {
   "cell_type": "code",
   "execution_count": 10,
   "id": "2aafaac6-fb3d-49fc-96ce-a0c9e14f9eda",
   "metadata": {},
   "outputs": [],
   "source": [
    "import tensorflow as tf\n",
    "from tensorflow.keras import layers, models, Input\n"
   ]
  },
  {
   "cell_type": "code",
   "execution_count": 11,
   "id": "e2346d41-14cb-45b8-b3d0-44c62a115c22",
   "metadata": {},
   "outputs": [],
   "source": [
    "tf.config.run_functions_eagerly(True)"
   ]
  },
  {
   "cell_type": "code",
   "execution_count": 12,
   "id": "91eb4e93-7fe0-4b6c-b055-6a4447cab74b",
   "metadata": {},
   "outputs": [],
   "source": [
    "import tensorflow as tf\n",
    "from tensorflow.keras import layers, models, Input"
   ]
  },
  {
   "cell_type": "markdown",
   "id": "98b41633-d98b-46a6-ad9a-58a04c01dd1d",
   "metadata": {
    "tags": []
   },
   "source": [
    "## **Model Code**"
   ]
  },
  {
   "cell_type": "markdown",
   "id": "d4a750bf-7294-4177-aedc-3fb11d00398b",
   "metadata": {
    "tags": []
   },
   "source": [
    "### **Implementation of the Haversine Layer**"
   ]
  },
  {
   "cell_type": "code",
   "execution_count": 13,
   "id": "feeaa9dd-26bd-4733-ba2d-cb40bcdaf058",
   "metadata": {},
   "outputs": [],
   "source": [
    "# Define custom Haversine layer\n",
    "class HaversineLayer(layers.Layer):\n",
    "    def call(self, inputs):\n",
    "        lat, lon = inputs[..., 0], inputs[..., 1]\n",
    "        return tf.expand_dims(tf.sqrt(lat ** 2 + lon ** 2), -1)\n"
   ]
  },
  {
   "cell_type": "code",
   "execution_count": 14,
   "id": "6e6b44c0-8a94-4938-8e81-0e2310a03465",
   "metadata": {},
   "outputs": [],
   "source": [
    "hav_inp = np.array([[1.35, 1.7],\n",
    "                    [2.72, 1.6],\n",
    "                    [3.4, 1.2]])"
   ]
  },
  {
   "cell_type": "code",
   "execution_count": 15,
   "id": "d4fb345b-f30c-4d43-9f18-a487cc8a2c1f",
   "metadata": {},
   "outputs": [
    {
     "name": "stdout",
     "output_type": "stream",
     "text": [
      "[[2.1708293]\n",
      " [3.1556933]\n",
      " [3.6055512]]\n"
     ]
    }
   ],
   "source": [
    "# Convert the numpy array to a TensorFlow tensor\n",
    "input_tensor = tf.convert_to_tensor(hav_inp, dtype=tf.float32)\n",
    "\n",
    "# Instantiate the Haversine layer\n",
    "haversine_layer = HaversineLayer()\n",
    "\n",
    "# Pass the tensor through the Haversine layer\n",
    "output_tensor = haversine_layer(input_tensor)\n",
    "\n",
    "# Print the output tensor\n",
    "print(output_tensor.numpy())"
   ]
  },
  {
   "cell_type": "code",
   "execution_count": 16,
   "id": "01addc89-b303-4c02-87c9-f60aecbf7562",
   "metadata": {},
   "outputs": [],
   "source": [
    "from tensorflow.keras.utils import to_categorical\n"
   ]
  },
  {
   "cell_type": "code",
   "execution_count": null,
   "id": "7a48a8d7-bd8b-4c6f-9dd9-6bc236074ad8",
   "metadata": {},
   "outputs": [],
   "source": []
  },
  {
   "cell_type": "code",
   "execution_count": 17,
   "id": "21b37540-f86f-4983-b54a-43285ebf366d",
   "metadata": {},
   "outputs": [],
   "source": [
    "# One-hot encode the multiclass labels\n",
    "y_train_one_hot = to_categorical(y_train)\n",
    "y_test_one_hot = to_categorical(y_test)"
   ]
  },
  {
   "cell_type": "markdown",
   "id": "b16e1285-3dbf-4149-b753-bd5f290010fe",
   "metadata": {
    "tags": []
   },
   "source": [
    "### **Implementation of the Model**"
   ]
  },
  {
   "cell_type": "code",
   "execution_count": 32,
   "id": "8eeaa158-589b-4fbe-b6f0-e7b6c5f3fe77",
   "metadata": {},
   "outputs": [],
   "source": [
    "class MyModel(tf.keras.Model):\n",
    "    def __init__(self, layer_params):\n",
    "        super(MyModel, self).__init__()\n",
    "        self.num_classes = y_train_one_hot.shape[1] # num_classes\n",
    "        self.num_embedding_dims = len(df.columns) + 1\n",
    "        \n",
    "        # Define input layers\n",
    "        self.input_features = Input(shape=(len(df.columns),), name='input_features')\n",
    "        self.input_coordinates = Input(shape=(2,), name='input_coordinates')\n",
    "        \n",
    "        # Define Embedding Layer\n",
    "        self.embedding = layers.Dense(self.num_embedding_dims, activation='relu', name='embedding')\n",
    "        \n",
    "        # Define custom Haversine layer\n",
    "        self.haversine_layer = HaversineLayer()\n",
    "        \n",
    "        # Define other layers\n",
    "        self.concat_layer = layers.Concatenate()\n",
    "        self.reshape_layer = layers.Reshape((1, self.num_embedding_dims + 1))\n",
    "        self.multi_head_attention = layers.MultiHeadAttention(num_heads=2, key_dim=self.num_embedding_dims + 1)\n",
    "        self.flatten_layer = layers.Flatten()\n",
    "        self.space_conv = layers.Conv1D(layer_params[0], 3, activation='relu')\n",
    "        self.global_pooling_layer = layers.GlobalMaxPooling1D()\n",
    "        self.dense_layer1 = layers.Dense(layer_params[1], activation='relu') # 128\n",
    "        self.dense_layer2 = layers.Dense(layer_params[2], activation='relu') # 64\n",
    "        self.output_layer = layers.Dense(self.num_classes, activation='softmax')\n",
    "        \n",
    "    def call(self, inputs):\n",
    "        # Separate inputs\n",
    "        input_features, input_coordinates = inputs\n",
    "        # print(\"Input features Shape: \", input_features.shape)\n",
    "        # print(\"Input coordinates Shape: \", input_coordinates.shape)\n",
    "        \n",
    "        # Embedding Layer\n",
    "        embedding_output = self.embedding(input_features)\n",
    "        \n",
    "        # Haversine layer\n",
    "        haversine_output = self.haversine_layer(input_coordinates)\n",
    "        # print(\"Haversine layer output shape: \", haversine_output.shape)\n",
    "        \n",
    "        # Concatenate features with haversine output\n",
    "        combined_features = self.concat_layer([embedding_output, haversine_output])\n",
    "        # print(\"Combined Features Shape: \", combined_features.shape)\n",
    "        \n",
    "        # Reshape features for attention\n",
    "        reshaped_features_for_attention = self.reshape_layer(combined_features)\n",
    "        # print(\"Reshaped Features Shape: \", reshaped_features_for_attention.shape)\n",
    "        \n",
    "        # Multi-head attention\n",
    "        multi_head_attention = self.multi_head_attention(reshaped_features_for_attention, reshaped_features_for_attention)\n",
    "        # print(\"Attention Layer Shape: \", multi_head_attention.shape)\n",
    "        \n",
    "        # Flatten and concatenate attention output with features\n",
    "        flattened_attention = self.flatten_layer(multi_head_attention)\n",
    "        # print(\"Flattened Layer shape: \", flattened_attention.shape)\n",
    "        \n",
    "        concat_features = self.concat_layer([flattened_attention, combined_features])\n",
    "        # print(\"Concat Features Shape: \", concat_features.shape)\n",
    "        \n",
    "        # Expand dimensions for convolution\n",
    "        concat_features = tf.expand_dims(concat_features, axis=-1)\n",
    "        # print(\"Expand Dims Features shape: \", concat_features.shape)\n",
    "        \n",
    "        # Convolutional layer\n",
    "        space_conv = self.space_conv(concat_features)\n",
    "        # print(\"Convolution Layer Shape: \", space_conv.shape)\n",
    "        \n",
    "        # Global max pooling\n",
    "        pooled = self.global_pooling_layer(space_conv)\n",
    "        # print(\"Pooling Layer Shape: \", pooled.shape)\n",
    "        \n",
    "        # Fully connected layers\n",
    "        dense1 = self.dense_layer1(pooled)\n",
    "        dense2 = self.dense_layer2(dense1)\n",
    "        \n",
    "        # Output layer\n",
    "        output = self.output_layer(dense2)\n",
    "        # print(\"Output Shape: \", output.shape)\n",
    "        \n",
    "        return output"
   ]
  },
  {
   "cell_type": "markdown",
   "id": "5ea61101-0a56-46af-8906-5ab843b92bc3",
   "metadata": {
    "tags": []
   },
   "source": [
    "### **Training of the Model**"
   ]
  },
  {
   "cell_type": "code",
   "execution_count": 33,
   "id": "610a76b1-0af6-408b-9233-d242c4f17dbf",
   "metadata": {},
   "outputs": [],
   "source": [
    "def create_model(layer_params):\n",
    "    model = MyModel(layer_params)\n",
    "    optimizer = tf.keras.optimizers.Adam(learning_rate=0.0001)\n",
    "    model.compile(optimizer=optimizer, loss='categorical_crossentropy', metrics=['accuracy'])\n",
    "    return model"
   ]
  },
  {
   "cell_type": "code",
   "execution_count": 34,
   "id": "f59b5b6d-1124-4831-bc25-a19dd5f7bd4a",
   "metadata": {},
   "outputs": [],
   "source": [
    "def train_network(layer_params):\n",
    "    model = create_model(layer_params)\n",
    "    hst = model.fit([x_train, coordinates_train], y_train_one_hot, epochs=2, batch_size=32, validation_split=0.15, verbose=1, shuffle=True)\n",
    "    return 1 - hst.history['accuracy'][-1]"
   ]
  },
  {
   "cell_type": "markdown",
   "id": "ebe2365e-e80e-4342-8a0c-3018ef9f018a",
   "metadata": {},
   "source": [
    "#### **Incorporation of PSO Optimization (Function imported from PySwarm Library**"
   ]
  },
  {
   "cell_type": "code",
   "execution_count": 35,
   "id": "270067a8-0289-4478-a852-6e14b46c7da9",
   "metadata": {
    "tags": []
   },
   "outputs": [
    {
     "name": "stdout",
     "output_type": "stream",
     "text": [
      "Epoch 1/2\n",
      "43/43 [==============================] - 1s 32ms/step - loss: 1.9333 - accuracy: 0.2715 - val_loss: 1.5549 - val_accuracy: 0.3485\n",
      "Epoch 2/2\n",
      "43/43 [==============================] - 1s 31ms/step - loss: 1.5181 - accuracy: 0.3463 - val_loss: 1.5002 - val_accuracy: 0.3527\n",
      "Epoch 1/2\n",
      "43/43 [==============================] - 1s 32ms/step - loss: 2.0884 - accuracy: 0.3140 - val_loss: 1.6453 - val_accuracy: 0.3485\n",
      "Epoch 2/2\n",
      "43/43 [==============================] - 1s 31ms/step - loss: 1.5328 - accuracy: 0.3302 - val_loss: 1.5038 - val_accuracy: 0.3485\n",
      "Epoch 1/2\n",
      "43/43 [==============================] - 2s 35ms/step - loss: 1.9134 - accuracy: 0.2700 - val_loss: 1.5155 - val_accuracy: 0.3485\n",
      "Epoch 2/2\n",
      "43/43 [==============================] - 1s 34ms/step - loss: 1.5213 - accuracy: 0.3316 - val_loss: 1.5105 - val_accuracy: 0.3527\n",
      "Epoch 1/2\n",
      "43/43 [==============================] - 1s 33ms/step - loss: 2.3729 - accuracy: 0.3302 - val_loss: 1.7228 - val_accuracy: 0.3485\n",
      "Epoch 2/2\n",
      "43/43 [==============================] - 1s 32ms/step - loss: 1.6228 - accuracy: 0.2942 - val_loss: 1.5145 - val_accuracy: 0.3485\n",
      "Epoch 1/2\n",
      "43/43 [==============================] - 2s 37ms/step - loss: 1.7324 - accuracy: 0.3045 - val_loss: 1.5131 - val_accuracy: 0.3485\n",
      "Epoch 2/2\n",
      "43/43 [==============================] - 1s 32ms/step - loss: 1.5291 - accuracy: 0.3324 - val_loss: 1.5082 - val_accuracy: 0.3444\n",
      "Epoch 1/2\n",
      "43/43 [==============================] - 1s 33ms/step - loss: 1.7706 - accuracy: 0.3228 - val_loss: 1.5060 - val_accuracy: 0.3485\n",
      "Epoch 2/2\n",
      "43/43 [==============================] - 1s 34ms/step - loss: 1.5176 - accuracy: 0.3390 - val_loss: 1.5068 - val_accuracy: 0.3444\n",
      "Epoch 1/2\n",
      "43/43 [==============================] - 1s 33ms/step - loss: 1.8838 - accuracy: 0.2935 - val_loss: 1.5159 - val_accuracy: 0.3485\n",
      "Epoch 2/2\n",
      "43/43 [==============================] - 1s 32ms/step - loss: 1.5227 - accuracy: 0.3324 - val_loss: 1.5043 - val_accuracy: 0.3444\n",
      "Epoch 1/2\n",
      "43/43 [==============================] - 2s 34ms/step - loss: 2.0385 - accuracy: 0.2722 - val_loss: 1.6713 - val_accuracy: 0.3444\n",
      "Epoch 2/2\n",
      "43/43 [==============================] - 1s 32ms/step - loss: 1.5358 - accuracy: 0.3324 - val_loss: 1.5026 - val_accuracy: 0.3444\n",
      "Epoch 1/2\n",
      "43/43 [==============================] - 1s 32ms/step - loss: 4.4997 - accuracy: 0.1020 - val_loss: 3.3546 - val_accuracy: 0.0954\n",
      "Epoch 2/2\n",
      "43/43 [==============================] - 1s 31ms/step - loss: 2.4885 - accuracy: 0.1108 - val_loss: 2.0635 - val_accuracy: 0.2075\n",
      "Epoch 1/2\n",
      "43/43 [==============================] - 1s 33ms/step - loss: 2.4851 - accuracy: 0.2531 - val_loss: 1.5404 - val_accuracy: 0.3444\n",
      "Epoch 2/2\n",
      "43/43 [==============================] - 1s 33ms/step - loss: 1.5317 - accuracy: 0.3338 - val_loss: 1.5236 - val_accuracy: 0.2448\n",
      "Epoch 1/2\n",
      "43/43 [==============================] - 1s 32ms/step - loss: 1.6300 - accuracy: 0.3169 - val_loss: 1.5017 - val_accuracy: 0.3527\n",
      "Epoch 2/2\n",
      "43/43 [==============================] - 1s 32ms/step - loss: 1.5172 - accuracy: 0.3346 - val_loss: 1.5021 - val_accuracy: 0.3527\n",
      "Epoch 1/2\n",
      "43/43 [==============================] - 1s 32ms/step - loss: 2.7262 - accuracy: 0.2979 - val_loss: 2.2615 - val_accuracy: 0.3444\n",
      "Epoch 2/2\n",
      "43/43 [==============================] - 1s 32ms/step - loss: 1.8538 - accuracy: 0.3243 - val_loss: 1.5902 - val_accuracy: 0.3444\n",
      "Epoch 1/2\n",
      "43/43 [==============================] - 1s 33ms/step - loss: 2.5566 - accuracy: 0.3287 - val_loss: 1.7011 - val_accuracy: 0.3444\n",
      "Epoch 2/2\n",
      "43/43 [==============================] - 1s 32ms/step - loss: 1.5385 - accuracy: 0.3316 - val_loss: 1.5114 - val_accuracy: 0.3444\n",
      "Epoch 1/2\n",
      "43/43 [==============================] - 1s 32ms/step - loss: 2.7629 - accuracy: 0.1761 - val_loss: 1.5494 - val_accuracy: 0.3278\n",
      "Epoch 2/2\n",
      "43/43 [==============================] - 1s 32ms/step - loss: 1.5372 - accuracy: 0.3302 - val_loss: 1.5073 - val_accuracy: 0.3444\n",
      "Epoch 1/2\n",
      "43/43 [==============================] - 1s 33ms/step - loss: 2.2966 - accuracy: 0.2531 - val_loss: 1.5244 - val_accuracy: 0.3444\n",
      "Epoch 2/2\n",
      "43/43 [==============================] - 1s 32ms/step - loss: 1.5266 - accuracy: 0.3309 - val_loss: 1.5062 - val_accuracy: 0.3444\n",
      "Epoch 1/2\n",
      "43/43 [==============================] - 1s 32ms/step - loss: 1.6632 - accuracy: 0.2883 - val_loss: 1.5127 - val_accuracy: 0.3444\n",
      "Epoch 2/2\n",
      "43/43 [==============================] - 1s 32ms/step - loss: 1.5199 - accuracy: 0.3324 - val_loss: 1.5050 - val_accuracy: 0.3444\n",
      "Epoch 1/2\n",
      "43/43 [==============================] - 1s 32ms/step - loss: 2.0217 - accuracy: 0.2421 - val_loss: 1.5326 - val_accuracy: 0.3444\n",
      "Epoch 2/2\n",
      "43/43 [==============================] - 1s 32ms/step - loss: 1.5230 - accuracy: 0.3324 - val_loss: 1.5060 - val_accuracy: 0.3444\n",
      "Epoch 1/2\n",
      "43/43 [==============================] - 1s 32ms/step - loss: 2.1080 - accuracy: 0.1937 - val_loss: 1.5016 - val_accuracy: 0.3444\n",
      "Epoch 2/2\n",
      "43/43 [==============================] - 1s 32ms/step - loss: 1.5166 - accuracy: 0.3316 - val_loss: 1.4979 - val_accuracy: 0.3402\n",
      "Epoch 1/2\n",
      "43/43 [==============================] - 1s 32ms/step - loss: 1.7306 - accuracy: 0.2583 - val_loss: 1.5071 - val_accuracy: 0.3444\n",
      "Epoch 2/2\n",
      "43/43 [==============================] - 1s 32ms/step - loss: 1.5128 - accuracy: 0.3309 - val_loss: 1.5014 - val_accuracy: 0.3444\n",
      "Epoch 1/2\n",
      "43/43 [==============================] - 1s 33ms/step - loss: 1.6096 - accuracy: 0.2986 - val_loss: 1.5048 - val_accuracy: 0.3444\n",
      "Epoch 2/2\n",
      "43/43 [==============================] - 1s 32ms/step - loss: 1.5156 - accuracy: 0.3309 - val_loss: 1.5155 - val_accuracy: 0.2199\n",
      "Epoch 1/2\n",
      "43/43 [==============================] - 1s 32ms/step - loss: 1.6775 - accuracy: 0.3280 - val_loss: 1.5220 - val_accuracy: 0.3444\n",
      "Epoch 2/2\n",
      "43/43 [==============================] - 1s 32ms/step - loss: 1.5262 - accuracy: 0.3316 - val_loss: 1.5119 - val_accuracy: 0.3444\n",
      "Epoch 1/2\n",
      "43/43 [==============================] - 1s 33ms/step - loss: 1.5307 - accuracy: 0.3272 - val_loss: 1.5062 - val_accuracy: 0.3444\n",
      "Epoch 2/2\n",
      "43/43 [==============================] - 1s 32ms/step - loss: 1.5180 - accuracy: 0.3324 - val_loss: 1.5143 - val_accuracy: 0.3444\n",
      "Epoch 1/2\n",
      "43/43 [==============================] - 1s 33ms/step - loss: 1.5434 - accuracy: 0.3228 - val_loss: 1.5065 - val_accuracy: 0.3485\n",
      "Epoch 2/2\n",
      "43/43 [==============================] - 1s 32ms/step - loss: 1.5178 - accuracy: 0.3287 - val_loss: 1.5123 - val_accuracy: 0.3485\n",
      "Epoch 1/2\n",
      "43/43 [==============================] - 1s 33ms/step - loss: 2.4970 - accuracy: 0.1959 - val_loss: 1.6026 - val_accuracy: 0.2116\n",
      "Epoch 2/2\n",
      "43/43 [==============================] - 1s 32ms/step - loss: 1.5313 - accuracy: 0.3133 - val_loss: 1.5111 - val_accuracy: 0.3485\n",
      "Epoch 1/2\n",
      "43/43 [==============================] - 1s 33ms/step - loss: 1.8549 - accuracy: 0.3045 - val_loss: 1.5350 - val_accuracy: 0.3444\n",
      "Epoch 2/2\n",
      "43/43 [==============================] - 1s 32ms/step - loss: 1.5243 - accuracy: 0.3309 - val_loss: 1.5062 - val_accuracy: 0.3485\n",
      "Epoch 1/2\n",
      "43/43 [==============================] - 1s 32ms/step - loss: 2.0465 - accuracy: 0.2883 - val_loss: 1.5035 - val_accuracy: 0.3444\n",
      "Epoch 2/2\n",
      "43/43 [==============================] - 1s 32ms/step - loss: 1.5200 - accuracy: 0.3324 - val_loss: 1.5043 - val_accuracy: 0.3444\n",
      "Epoch 1/2\n",
      "43/43 [==============================] - 1s 33ms/step - loss: 1.5652 - accuracy: 0.3015 - val_loss: 1.5112 - val_accuracy: 0.3444\n",
      "Epoch 2/2\n",
      "43/43 [==============================] - 1s 31ms/step - loss: 1.5231 - accuracy: 0.3331 - val_loss: 1.5142 - val_accuracy: 0.3444\n",
      "Epoch 1/2\n",
      "43/43 [==============================] - 1s 33ms/step - loss: 1.6586 - accuracy: 0.2898 - val_loss: 1.5098 - val_accuracy: 0.3485\n",
      "Epoch 2/2\n",
      "43/43 [==============================] - 1s 32ms/step - loss: 1.5176 - accuracy: 0.3294 - val_loss: 1.5023 - val_accuracy: 0.3527\n",
      "Epoch 1/2\n",
      "43/43 [==============================] - 1s 33ms/step - loss: 1.6537 - accuracy: 0.3118 - val_loss: 1.5042 - val_accuracy: 0.3485\n",
      "Epoch 2/2\n",
      "43/43 [==============================] - 1s 34ms/step - loss: 1.5180 - accuracy: 0.3294 - val_loss: 1.5026 - val_accuracy: 0.3485\n",
      "Epoch 1/2\n",
      "43/43 [==============================] - 2s 35ms/step - loss: 1.6625 - accuracy: 0.2627 - val_loss: 1.5149 - val_accuracy: 0.3444\n",
      "Epoch 2/2\n",
      "43/43 [==============================] - 1s 32ms/step - loss: 1.5192 - accuracy: 0.3324 - val_loss: 1.5050 - val_accuracy: 0.3444\n",
      "Epoch 1/2\n",
      "43/43 [==============================] - 1s 33ms/step - loss: 1.5845 - accuracy: 0.2920 - val_loss: 1.5150 - val_accuracy: 0.3444\n",
      "Epoch 2/2\n",
      "43/43 [==============================] - 1s 32ms/step - loss: 1.5231 - accuracy: 0.3353 - val_loss: 1.5109 - val_accuracy: 0.3444\n",
      "Epoch 1/2\n",
      "43/43 [==============================] - 1s 32ms/step - loss: 2.2566 - accuracy: 0.2847 - val_loss: 1.6602 - val_accuracy: 0.3485\n",
      "Epoch 2/2\n",
      "43/43 [==============================] - 1s 32ms/step - loss: 1.5477 - accuracy: 0.3177 - val_loss: 1.5089 - val_accuracy: 0.3485\n",
      "Epoch 1/2\n",
      "43/43 [==============================] - 1s 33ms/step - loss: 1.9103 - accuracy: 0.3103 - val_loss: 1.5099 - val_accuracy: 0.3402\n",
      "Epoch 2/2\n",
      "43/43 [==============================] - 1s 32ms/step - loss: 1.5165 - accuracy: 0.3368 - val_loss: 1.5008 - val_accuracy: 0.3527\n",
      "Epoch 1/2\n",
      "43/43 [==============================] - 1s 32ms/step - loss: 2.0713 - accuracy: 0.2876 - val_loss: 1.5436 - val_accuracy: 0.2116\n",
      "Epoch 2/2\n",
      "43/43 [==============================] - 1s 32ms/step - loss: 1.5242 - accuracy: 0.3096 - val_loss: 1.5022 - val_accuracy: 0.3361\n",
      "Epoch 1/2\n",
      "43/43 [==============================] - 1s 32ms/step - loss: 3.4222 - accuracy: 0.2054 - val_loss: 1.7599 - val_accuracy: 0.3237\n",
      "Epoch 2/2\n",
      "43/43 [==============================] - 1s 32ms/step - loss: 1.5679 - accuracy: 0.3155 - val_loss: 1.5106 - val_accuracy: 0.3402\n",
      "Epoch 1/2\n",
      "43/43 [==============================] - 1s 32ms/step - loss: 2.1852 - accuracy: 0.2326 - val_loss: 1.5467 - val_accuracy: 0.3402\n",
      "Epoch 2/2\n",
      "43/43 [==============================] - 1s 32ms/step - loss: 1.5324 - accuracy: 0.3250 - val_loss: 1.5111 - val_accuracy: 0.3402\n",
      "Epoch 1/2\n",
      "43/43 [==============================] - 1s 32ms/step - loss: 2.2841 - accuracy: 0.2847 - val_loss: 1.5848 - val_accuracy: 0.3444\n",
      "Epoch 2/2\n",
      "43/43 [==============================] - 1s 32ms/step - loss: 1.5333 - accuracy: 0.3258 - val_loss: 1.5163 - val_accuracy: 0.3444\n",
      "Epoch 1/2\n",
      "43/43 [==============================] - 1s 33ms/step - loss: 2.2813 - accuracy: 0.3324 - val_loss: 1.7085 - val_accuracy: 0.3527\n",
      "Epoch 2/2\n",
      "43/43 [==============================] - 1s 32ms/step - loss: 1.5833 - accuracy: 0.3316 - val_loss: 1.5096 - val_accuracy: 0.3485\n",
      "Epoch 1/2\n",
      "43/43 [==============================] - 1s 32ms/step - loss: 2.6435 - accuracy: 0.3030 - val_loss: 1.7866 - val_accuracy: 0.3485\n",
      "Epoch 2/2\n",
      "43/43 [==============================] - 1s 32ms/step - loss: 1.5759 - accuracy: 0.3302 - val_loss: 1.5125 - val_accuracy: 0.3444\n",
      "Epoch 1/2\n",
      "43/43 [==============================] - 1s 33ms/step - loss: 2.1345 - accuracy: 0.3206 - val_loss: 1.6276 - val_accuracy: 0.3485\n",
      "Epoch 2/2\n",
      "43/43 [==============================] - 1s 32ms/step - loss: 1.5344 - accuracy: 0.3309 - val_loss: 1.5124 - val_accuracy: 0.3527\n",
      "Epoch 1/2\n",
      "43/43 [==============================] - 1s 33ms/step - loss: 1.6403 - accuracy: 0.2869 - val_loss: 1.5131 - val_accuracy: 0.3444\n",
      "Epoch 2/2\n",
      "43/43 [==============================] - 1s 32ms/step - loss: 1.5279 - accuracy: 0.3250 - val_loss: 1.5068 - val_accuracy: 0.3444\n",
      "Epoch 1/2\n",
      "43/43 [==============================] - 1s 33ms/step - loss: 2.9543 - accuracy: 0.2421 - val_loss: 1.7862 - val_accuracy: 0.3444\n",
      "Epoch 2/2\n",
      "43/43 [==============================] - 1s 32ms/step - loss: 1.7375 - accuracy: 0.3324 - val_loss: 1.5866 - val_accuracy: 0.3485\n",
      "Epoch 1/2\n",
      "43/43 [==============================] - 1s 32ms/step - loss: 1.8581 - accuracy: 0.2905 - val_loss: 1.5143 - val_accuracy: 0.3361\n",
      "Epoch 2/2\n",
      "43/43 [==============================] - 1s 32ms/step - loss: 1.5214 - accuracy: 0.3375 - val_loss: 1.5068 - val_accuracy: 0.3568\n",
      "Epoch 1/2\n",
      "43/43 [==============================] - 1s 32ms/step - loss: 1.9247 - accuracy: 0.2553 - val_loss: 1.5216 - val_accuracy: 0.3444\n",
      "Epoch 2/2\n",
      "43/43 [==============================] - 1s 33ms/step - loss: 1.5190 - accuracy: 0.3272 - val_loss: 1.5106 - val_accuracy: 0.3444\n",
      "Epoch 1/2\n",
      "43/43 [==============================] - 1s 33ms/step - loss: 2.0220 - accuracy: 0.3169 - val_loss: 1.6178 - val_accuracy: 0.3444\n",
      "Epoch 2/2\n",
      "43/43 [==============================] - 1s 32ms/step - loss: 1.5621 - accuracy: 0.3280 - val_loss: 1.5044 - val_accuracy: 0.3485\n",
      "Epoch 1/2\n",
      "43/43 [==============================] - 1s 32ms/step - loss: 1.8577 - accuracy: 0.2854 - val_loss: 1.5218 - val_accuracy: 0.3444\n",
      "Epoch 2/2\n",
      "43/43 [==============================] - 1s 32ms/step - loss: 1.5195 - accuracy: 0.3316 - val_loss: 1.5061 - val_accuracy: 0.3444\n",
      "Epoch 1/2\n",
      "43/43 [==============================] - 1s 32ms/step - loss: 2.2177 - accuracy: 0.2487 - val_loss: 1.5396 - val_accuracy: 0.3320\n",
      "Epoch 2/2\n",
      "43/43 [==============================] - 1s 32ms/step - loss: 1.5359 - accuracy: 0.3221 - val_loss: 1.5155 - val_accuracy: 0.3154\n",
      "Epoch 1/2\n",
      "43/43 [==============================] - 1s 33ms/step - loss: 1.9370 - accuracy: 0.2539 - val_loss: 1.5254 - val_accuracy: 0.3029\n",
      "Epoch 2/2\n",
      "43/43 [==============================] - 1s 32ms/step - loss: 1.5281 - accuracy: 0.3081 - val_loss: 1.5035 - val_accuracy: 0.3485\n",
      "Epoch 1/2\n",
      "43/43 [==============================] - 1s 33ms/step - loss: 1.5232 - accuracy: 0.3243 - val_loss: 1.5097 - val_accuracy: 0.3527\n",
      "Epoch 2/2\n",
      "43/43 [==============================] - 1s 32ms/step - loss: 1.5183 - accuracy: 0.3243 - val_loss: 1.5226 - val_accuracy: 0.3568\n",
      "Epoch 1/2\n",
      "43/43 [==============================] - 1s 33ms/step - loss: 1.5807 - accuracy: 0.2847 - val_loss: 1.5180 - val_accuracy: 0.3444\n",
      "Epoch 2/2\n",
      "43/43 [==============================] - 1s 33ms/step - loss: 1.5279 - accuracy: 0.3316 - val_loss: 1.5104 - val_accuracy: 0.3444\n",
      "Epoch 1/2\n",
      "43/43 [==============================] - 1s 32ms/step - loss: 1.5634 - accuracy: 0.3147 - val_loss: 1.5122 - val_accuracy: 0.3112\n",
      "Epoch 2/2\n",
      "43/43 [==============================] - 1s 32ms/step - loss: 1.5209 - accuracy: 0.3236 - val_loss: 1.5121 - val_accuracy: 0.3071\n",
      "Epoch 1/2\n",
      "43/43 [==============================] - 2s 33ms/step - loss: 2.3171 - accuracy: 0.3140 - val_loss: 1.8642 - val_accuracy: 0.3444\n",
      "Epoch 2/2\n",
      "43/43 [==============================] - 1s 32ms/step - loss: 1.6399 - accuracy: 0.3302 - val_loss: 1.5068 - val_accuracy: 0.3444\n",
      "Epoch 1/2\n",
      "43/43 [==============================] - 1s 32ms/step - loss: 1.6313 - accuracy: 0.3272 - val_loss: 1.5119 - val_accuracy: 0.3444\n",
      "Epoch 2/2\n",
      "43/43 [==============================] - 1s 32ms/step - loss: 1.5168 - accuracy: 0.3302 - val_loss: 1.4987 - val_accuracy: 0.3444\n",
      "Epoch 1/2\n",
      "43/43 [==============================] - 1s 33ms/step - loss: 3.6130 - accuracy: 0.2355 - val_loss: 2.1862 - val_accuracy: 0.3444\n",
      "Epoch 2/2\n",
      "43/43 [==============================] - 1s 32ms/step - loss: 1.7494 - accuracy: 0.3096 - val_loss: 1.5109 - val_accuracy: 0.3444\n",
      "Epoch 1/2\n",
      "43/43 [==============================] - 1s 33ms/step - loss: 1.6129 - accuracy: 0.3236 - val_loss: 1.5272 - val_accuracy: 0.1992\n",
      "Epoch 2/2\n",
      "43/43 [==============================] - 1s 33ms/step - loss: 1.5307 - accuracy: 0.3074 - val_loss: 1.5180 - val_accuracy: 0.2822\n",
      "Epoch 1/2\n",
      "43/43 [==============================] - 2s 34ms/step - loss: 1.9146 - accuracy: 0.2913 - val_loss: 1.5461 - val_accuracy: 0.3527\n",
      "Epoch 2/2\n",
      "43/43 [==============================] - 1s 32ms/step - loss: 1.5322 - accuracy: 0.3324 - val_loss: 1.5071 - val_accuracy: 0.3444\n",
      "Epoch 1/2\n",
      "43/43 [==============================] - 1s 32ms/step - loss: 1.8219 - accuracy: 0.2913 - val_loss: 1.5039 - val_accuracy: 0.3444\n",
      "Epoch 2/2\n",
      "43/43 [==============================] - 1s 32ms/step - loss: 1.5203 - accuracy: 0.3324 - val_loss: 1.5022 - val_accuracy: 0.3444\n",
      "Epoch 1/2\n",
      "43/43 [==============================] - 1s 32ms/step - loss: 2.8881 - accuracy: 0.2487 - val_loss: 1.7018 - val_accuracy: 0.3444\n",
      "Epoch 2/2\n",
      "43/43 [==============================] - 1s 34ms/step - loss: 1.5481 - accuracy: 0.3103 - val_loss: 1.5155 - val_accuracy: 0.3444\n",
      "Epoch 1/2\n",
      "43/43 [==============================] - 1s 33ms/step - loss: 2.1041 - accuracy: 0.2480 - val_loss: 1.5181 - val_accuracy: 0.3444\n",
      "Epoch 2/2\n",
      "43/43 [==============================] - 1s 32ms/step - loss: 1.5263 - accuracy: 0.3316 - val_loss: 1.5074 - val_accuracy: 0.3444\n",
      "Epoch 1/2\n",
      "43/43 [==============================] - 1s 33ms/step - loss: 1.9481 - accuracy: 0.3338 - val_loss: 1.5159 - val_accuracy: 0.3361\n",
      "Epoch 2/2\n",
      "43/43 [==============================] - 1s 32ms/step - loss: 1.5164 - accuracy: 0.3368 - val_loss: 1.4995 - val_accuracy: 0.3402\n",
      "Epoch 1/2\n",
      "43/43 [==============================] - 1s 33ms/step - loss: 1.9611 - accuracy: 0.2876 - val_loss: 1.5509 - val_accuracy: 0.3485\n",
      "Epoch 2/2\n",
      "43/43 [==============================] - 1s 32ms/step - loss: 1.5352 - accuracy: 0.3309 - val_loss: 1.5028 - val_accuracy: 0.3444\n",
      "Epoch 1/2\n",
      "43/43 [==============================] - 1s 32ms/step - loss: 1.7399 - accuracy: 0.2634 - val_loss: 1.5164 - val_accuracy: 0.3444\n",
      "Epoch 2/2\n",
      "43/43 [==============================] - 1s 33ms/step - loss: 1.5168 - accuracy: 0.3324 - val_loss: 1.5043 - val_accuracy: 0.3444\n",
      "Epoch 1/2\n",
      "43/43 [==============================] - 1s 33ms/step - loss: 2.1700 - accuracy: 0.2832 - val_loss: 1.6073 - val_accuracy: 0.3444\n",
      "Epoch 2/2\n",
      "43/43 [==============================] - 1s 32ms/step - loss: 1.5429 - accuracy: 0.3324 - val_loss: 1.5039 - val_accuracy: 0.3444\n",
      "Epoch 1/2\n",
      "43/43 [==============================] - 1s 33ms/step - loss: 1.8625 - accuracy: 0.3199 - val_loss: 1.5134 - val_accuracy: 0.3444\n",
      "Epoch 2/2\n",
      "43/43 [==============================] - 1s 32ms/step - loss: 1.5372 - accuracy: 0.3089 - val_loss: 1.5117 - val_accuracy: 0.3444\n",
      "Epoch 1/2\n",
      "43/43 [==============================] - 1s 33ms/step - loss: 1.9138 - accuracy: 0.2700 - val_loss: 1.5536 - val_accuracy: 0.2282\n",
      "Epoch 2/2\n",
      "43/43 [==============================] - 1s 33ms/step - loss: 1.5334 - accuracy: 0.3089 - val_loss: 1.5062 - val_accuracy: 0.3527\n",
      "Epoch 1/2\n",
      "43/43 [==============================] - 1s 33ms/step - loss: 1.8287 - accuracy: 0.2678 - val_loss: 1.5143 - val_accuracy: 0.3444\n",
      "Epoch 2/2\n",
      "43/43 [==============================] - 1s 32ms/step - loss: 1.5243 - accuracy: 0.3324 - val_loss: 1.5075 - val_accuracy: 0.3444\n",
      "Epoch 1/2\n",
      "43/43 [==============================] - 1s 33ms/step - loss: 1.9194 - accuracy: 0.2370 - val_loss: 1.5339 - val_accuracy: 0.3444\n",
      "Epoch 2/2\n",
      "43/43 [==============================] - 1s 32ms/step - loss: 1.5322 - accuracy: 0.3324 - val_loss: 1.5027 - val_accuracy: 0.3444\n",
      "Epoch 1/2\n",
      "43/43 [==============================] - 1s 32ms/step - loss: 2.2943 - accuracy: 0.2010 - val_loss: 1.5020 - val_accuracy: 0.3444\n",
      "Epoch 2/2\n",
      "43/43 [==============================] - 1s 32ms/step - loss: 1.5158 - accuracy: 0.3338 - val_loss: 1.4976 - val_accuracy: 0.3444\n",
      "Epoch 1/2\n",
      "43/43 [==============================] - 1s 33ms/step - loss: 3.0251 - accuracy: 0.1893 - val_loss: 1.6680 - val_accuracy: 0.3444\n",
      "Epoch 2/2\n",
      "43/43 [==============================] - 1s 32ms/step - loss: 1.5402 - accuracy: 0.3133 - val_loss: 1.5167 - val_accuracy: 0.3444\n",
      "Epoch 1/2\n",
      "43/43 [==============================] - 2s 35ms/step - loss: 3.2494 - accuracy: 0.2113 - val_loss: 2.0365 - val_accuracy: 0.3444\n",
      "Epoch 2/2\n",
      "43/43 [==============================] - 1s 34ms/step - loss: 1.8044 - accuracy: 0.3177 - val_loss: 1.5831 - val_accuracy: 0.3320\n",
      "Epoch 1/2\n",
      "43/43 [==============================] - 1s 33ms/step - loss: 2.0662 - accuracy: 0.2311 - val_loss: 1.5242 - val_accuracy: 0.3444\n",
      "Epoch 2/2\n",
      "43/43 [==============================] - 1s 32ms/step - loss: 1.5267 - accuracy: 0.3236 - val_loss: 1.5304 - val_accuracy: 0.3444\n",
      "Epoch 1/2\n",
      "43/43 [==============================] - 1s 33ms/step - loss: 1.8907 - accuracy: 0.2472 - val_loss: 1.5122 - val_accuracy: 0.3402\n",
      "Epoch 2/2\n",
      "43/43 [==============================] - 1s 32ms/step - loss: 1.5199 - accuracy: 0.3331 - val_loss: 1.5060 - val_accuracy: 0.3402\n",
      "Epoch 1/2\n",
      "43/43 [==============================] - 1s 33ms/step - loss: 1.6238 - accuracy: 0.3177 - val_loss: 1.5105 - val_accuracy: 0.3527\n",
      "Epoch 2/2\n",
      "43/43 [==============================] - 1s 32ms/step - loss: 1.5181 - accuracy: 0.3434 - val_loss: 1.5090 - val_accuracy: 0.3568\n",
      "Epoch 1/2\n",
      "43/43 [==============================] - 1s 33ms/step - loss: 2.2921 - accuracy: 0.3177 - val_loss: 1.7597 - val_accuracy: 0.3444\n",
      "Epoch 2/2\n",
      "43/43 [==============================] - 1s 33ms/step - loss: 1.5843 - accuracy: 0.3213 - val_loss: 1.5043 - val_accuracy: 0.3444\n",
      "Epoch 1/2\n",
      "43/43 [==============================] - 2s 35ms/step - loss: 1.8044 - accuracy: 0.3324 - val_loss: 1.5080 - val_accuracy: 0.3278\n",
      "Epoch 2/2\n",
      "43/43 [==============================] - 2s 35ms/step - loss: 1.5203 - accuracy: 0.3199 - val_loss: 1.5085 - val_accuracy: 0.3444\n",
      "Epoch 1/2\n",
      "43/43 [==============================] - 1s 33ms/step - loss: 2.1406 - accuracy: 0.2971 - val_loss: 1.5667 - val_accuracy: 0.2116\n",
      "Epoch 2/2\n",
      "43/43 [==============================] - 1s 32ms/step - loss: 1.5317 - accuracy: 0.3162 - val_loss: 1.5063 - val_accuracy: 0.3361\n",
      "Epoch 1/2\n",
      "43/43 [==============================] - 1s 33ms/step - loss: 3.8164 - accuracy: 0.2370 - val_loss: 2.3514 - val_accuracy: 0.3444\n",
      "Epoch 2/2\n",
      "43/43 [==============================] - 1s 32ms/step - loss: 1.8878 - accuracy: 0.3324 - val_loss: 1.5238 - val_accuracy: 0.3444\n",
      "Epoch 1/2\n",
      "43/43 [==============================] - 1s 32ms/step - loss: 2.1510 - accuracy: 0.3081 - val_loss: 1.7042 - val_accuracy: 0.3444\n",
      "Epoch 2/2\n",
      "43/43 [==============================] - 1s 32ms/step - loss: 1.5673 - accuracy: 0.3155 - val_loss: 1.5061 - val_accuracy: 0.3444\n",
      "Epoch 1/2\n",
      "43/43 [==============================] - 2s 35ms/step - loss: 2.0464 - accuracy: 0.2392 - val_loss: 1.6021 - val_accuracy: 0.3444\n",
      "Epoch 2/2\n",
      "43/43 [==============================] - 1s 34ms/step - loss: 1.5361 - accuracy: 0.3331 - val_loss: 1.5080 - val_accuracy: 0.3444\n",
      "Epoch 1/2\n",
      "43/43 [==============================] - 1s 33ms/step - loss: 1.6471 - accuracy: 0.3191 - val_loss: 1.5067 - val_accuracy: 0.3402\n",
      "Epoch 2/2\n",
      "43/43 [==============================] - 2s 37ms/step - loss: 1.5187 - accuracy: 0.3302 - val_loss: 1.5035 - val_accuracy: 0.3444\n",
      "Epoch 1/2\n",
      "43/43 [==============================] - 2s 42ms/step - loss: 1.6877 - accuracy: 0.2795 - val_loss: 1.5107 - val_accuracy: 0.3444\n",
      "Epoch 2/2\n",
      "43/43 [==============================] - 2s 38ms/step - loss: 1.5216 - accuracy: 0.3324 - val_loss: 1.5048 - val_accuracy: 0.3444\n",
      "Epoch 1/2\n",
      "43/43 [==============================] - 2s 36ms/step - loss: 2.7816 - accuracy: 0.2120 - val_loss: 1.5187 - val_accuracy: 0.3402\n",
      "Epoch 2/2\n",
      "43/43 [==============================] - 2s 35ms/step - loss: 1.5312 - accuracy: 0.3346 - val_loss: 1.5085 - val_accuracy: 0.3320\n",
      "Epoch 1/2\n",
      "43/43 [==============================] - 1s 33ms/step - loss: 2.6191 - accuracy: 0.1937 - val_loss: 1.5186 - val_accuracy: 0.3485\n",
      "Epoch 2/2\n",
      "43/43 [==============================] - 1s 33ms/step - loss: 1.5377 - accuracy: 0.3331 - val_loss: 1.5072 - val_accuracy: 0.3444\n",
      "Epoch 1/2\n",
      "43/43 [==============================] - 1s 33ms/step - loss: 3.0254 - accuracy: 0.1922 - val_loss: 1.5627 - val_accuracy: 0.2116\n",
      "Epoch 2/2\n",
      "43/43 [==============================] - 1s 32ms/step - loss: 1.5357 - accuracy: 0.3265 - val_loss: 1.5070 - val_accuracy: 0.3402\n",
      "Epoch 1/2\n",
      "43/43 [==============================] - 1s 34ms/step - loss: 6.1516 - accuracy: 0.2377 - val_loss: 2.9979 - val_accuracy: 0.3444\n",
      "Epoch 2/2\n",
      "43/43 [==============================] - 1s 32ms/step - loss: 2.1518 - accuracy: 0.3331 - val_loss: 1.5308 - val_accuracy: 0.3154\n",
      "Epoch 1/2\n",
      "43/43 [==============================] - 1s 33ms/step - loss: 1.6238 - accuracy: 0.2957 - val_loss: 1.5114 - val_accuracy: 0.3444\n",
      "Epoch 2/2\n",
      "43/43 [==============================] - 1s 32ms/step - loss: 1.5202 - accuracy: 0.3324 - val_loss: 1.5082 - val_accuracy: 0.3444\n",
      "Epoch 1/2\n",
      "43/43 [==============================] - 1s 33ms/step - loss: 2.0681 - accuracy: 0.3206 - val_loss: 1.5237 - val_accuracy: 0.3485\n",
      "Epoch 2/2\n",
      "43/43 [==============================] - 1s 32ms/step - loss: 1.5239 - accuracy: 0.3346 - val_loss: 1.5033 - val_accuracy: 0.3444\n",
      "Epoch 1/2\n",
      "43/43 [==============================] - 1s 32ms/step - loss: 1.8219 - accuracy: 0.2333 - val_loss: 1.5096 - val_accuracy: 0.3402\n",
      "Epoch 2/2\n",
      "43/43 [==============================] - 1s 32ms/step - loss: 1.5238 - accuracy: 0.3184 - val_loss: 1.5042 - val_accuracy: 0.3485\n",
      "Epoch 1/2\n",
      "43/43 [==============================] - 1s 33ms/step - loss: 3.1209 - accuracy: 0.1599 - val_loss: 1.7673 - val_accuracy: 0.1245\n",
      "Epoch 2/2\n",
      "43/43 [==============================] - 1s 32ms/step - loss: 1.5545 - accuracy: 0.3346 - val_loss: 1.5055 - val_accuracy: 0.3444\n",
      "Epoch 1/2\n",
      "43/43 [==============================] - 1s 33ms/step - loss: 1.8469 - accuracy: 0.2707 - val_loss: 1.5157 - val_accuracy: 0.3444\n",
      "Epoch 2/2\n",
      "43/43 [==============================] - 1s 33ms/step - loss: 1.5238 - accuracy: 0.3338 - val_loss: 1.5179 - val_accuracy: 0.3444\n",
      "Epoch 1/2\n",
      "43/43 [==============================] - 1s 34ms/step - loss: 2.0793 - accuracy: 0.2509 - val_loss: 1.5509 - val_accuracy: 0.3444\n",
      "Epoch 2/2\n",
      "43/43 [==============================] - 1s 32ms/step - loss: 1.5265 - accuracy: 0.3397 - val_loss: 1.5024 - val_accuracy: 0.3485\n",
      "Epoch 1/2\n",
      "43/43 [==============================] - 1s 32ms/step - loss: 1.6442 - accuracy: 0.2993 - val_loss: 1.5261 - val_accuracy: 0.3444\n",
      "Epoch 2/2\n",
      "43/43 [==============================] - 1s 32ms/step - loss: 1.5270 - accuracy: 0.3177 - val_loss: 1.5187 - val_accuracy: 0.3444\n",
      "Epoch 1/2\n",
      "43/43 [==============================] - 1s 33ms/step - loss: 1.7851 - accuracy: 0.2898 - val_loss: 1.5353 - val_accuracy: 0.3154\n",
      "Epoch 2/2\n",
      "43/43 [==============================] - 1s 32ms/step - loss: 1.5193 - accuracy: 0.3133 - val_loss: 1.5071 - val_accuracy: 0.2863\n",
      "Epoch 1/2\n",
      "43/43 [==============================] - 1s 33ms/step - loss: 2.5609 - accuracy: 0.2443 - val_loss: 1.8045 - val_accuracy: 0.3444\n",
      "Epoch 2/2\n",
      "43/43 [==============================] - 1s 32ms/step - loss: 1.6541 - accuracy: 0.3272 - val_loss: 1.5176 - val_accuracy: 0.3195\n",
      "Epoch 1/2\n",
      "43/43 [==============================] - 1s 33ms/step - loss: 1.7476 - accuracy: 0.3030 - val_loss: 1.5942 - val_accuracy: 0.3444\n",
      "Epoch 2/2\n",
      "43/43 [==============================] - 1s 32ms/step - loss: 1.5747 - accuracy: 0.3324 - val_loss: 1.5140 - val_accuracy: 0.3444\n",
      "Epoch 1/2\n",
      "43/43 [==============================] - 1s 33ms/step - loss: 1.6480 - accuracy: 0.2971 - val_loss: 1.5140 - val_accuracy: 0.3444\n",
      "Epoch 2/2\n",
      "43/43 [==============================] - 1s 32ms/step - loss: 1.5176 - accuracy: 0.3375 - val_loss: 1.5064 - val_accuracy: 0.3651\n",
      "Epoch 1/2\n",
      "43/43 [==============================] - 1s 33ms/step - loss: 1.5577 - accuracy: 0.3199 - val_loss: 1.5000 - val_accuracy: 0.3444\n",
      "Epoch 2/2\n",
      "43/43 [==============================] - 1s 32ms/step - loss: 1.5114 - accuracy: 0.3309 - val_loss: 1.4957 - val_accuracy: 0.3444\n",
      "Epoch 1/2\n",
      "43/43 [==============================] - 1s 32ms/step - loss: 4.3168 - accuracy: 0.1489 - val_loss: 2.2732 - val_accuracy: 0.3444\n",
      "Epoch 2/2\n",
      "43/43 [==============================] - 1s 31ms/step - loss: 1.7067 - accuracy: 0.3302 - val_loss: 1.5198 - val_accuracy: 0.3402\n",
      "Epoch 1/2\n",
      "43/43 [==============================] - 1s 32ms/step - loss: 2.7154 - accuracy: 0.3067 - val_loss: 1.5669 - val_accuracy: 0.3527\n",
      "Epoch 2/2\n",
      "43/43 [==============================] - 1s 32ms/step - loss: 1.5364 - accuracy: 0.3265 - val_loss: 1.4994 - val_accuracy: 0.3444\n",
      "Epoch 1/2\n",
      "43/43 [==============================] - 1s 33ms/step - loss: 1.7647 - accuracy: 0.2957 - val_loss: 1.5176 - val_accuracy: 0.3444\n",
      "Epoch 2/2\n",
      "43/43 [==============================] - 1s 32ms/step - loss: 1.5290 - accuracy: 0.3338 - val_loss: 1.5268 - val_accuracy: 0.3444\n",
      "Epoch 1/2\n",
      "43/43 [==============================] - 1s 32ms/step - loss: 1.6450 - accuracy: 0.3001 - val_loss: 1.5008 - val_accuracy: 0.3320\n",
      "Epoch 2/2\n",
      "43/43 [==============================] - 1s 32ms/step - loss: 1.5153 - accuracy: 0.3236 - val_loss: 1.5022 - val_accuracy: 0.3444\n",
      "Epoch 1/2\n",
      "43/43 [==============================] - 1s 32ms/step - loss: 1.8899 - accuracy: 0.3155 - val_loss: 1.5272 - val_accuracy: 0.3444\n",
      "Epoch 2/2\n",
      "43/43 [==============================] - 1s 31ms/step - loss: 1.5238 - accuracy: 0.3324 - val_loss: 1.5037 - val_accuracy: 0.3444\n",
      "Epoch 1/2\n",
      "43/43 [==============================] - 1s 33ms/step - loss: 1.6393 - accuracy: 0.2759 - val_loss: 1.5144 - val_accuracy: 0.3444\n",
      "Epoch 2/2\n",
      "43/43 [==============================] - 1s 32ms/step - loss: 1.5274 - accuracy: 0.3324 - val_loss: 1.5075 - val_accuracy: 0.3444\n",
      "Epoch 1/2\n",
      "43/43 [==============================] - 1s 33ms/step - loss: 1.6109 - accuracy: 0.2847 - val_loss: 1.5125 - val_accuracy: 0.3402\n",
      "Epoch 2/2\n",
      "43/43 [==============================] - 1s 32ms/step - loss: 1.5248 - accuracy: 0.3272 - val_loss: 1.5128 - val_accuracy: 0.3112\n",
      "Epoch 1/2\n",
      "43/43 [==============================] - 1s 32ms/step - loss: 1.6308 - accuracy: 0.2847 - val_loss: 1.5072 - val_accuracy: 0.3444\n",
      "Epoch 2/2\n",
      "43/43 [==============================] - 1s 32ms/step - loss: 1.5190 - accuracy: 0.3324 - val_loss: 1.5037 - val_accuracy: 0.3444\n",
      "Epoch 1/2\n",
      "43/43 [==============================] - 1s 32ms/step - loss: 1.9583 - accuracy: 0.2333 - val_loss: 1.5193 - val_accuracy: 0.3444\n",
      "Epoch 2/2\n",
      "43/43 [==============================] - 1s 32ms/step - loss: 1.5258 - accuracy: 0.3324 - val_loss: 1.5070 - val_accuracy: 0.3444\n",
      "Epoch 1/2\n",
      "43/43 [==============================] - 1s 33ms/step - loss: 3.2225 - accuracy: 0.2421 - val_loss: 1.7525 - val_accuracy: 0.3237\n",
      "Epoch 2/2\n",
      "43/43 [==============================] - 1s 32ms/step - loss: 1.5655 - accuracy: 0.2861 - val_loss: 1.5085 - val_accuracy: 0.3237\n",
      "Epoch 1/2\n",
      "43/43 [==============================] - 1s 32ms/step - loss: 2.9011 - accuracy: 0.1878 - val_loss: 1.6047 - val_accuracy: 0.3485\n",
      "Epoch 2/2\n",
      "43/43 [==============================] - 1s 32ms/step - loss: 1.5479 - accuracy: 0.3338 - val_loss: 1.5102 - val_accuracy: 0.3527\n",
      "Epoch 1/2\n",
      "43/43 [==============================] - 1s 32ms/step - loss: 2.2056 - accuracy: 0.2803 - val_loss: 1.5217 - val_accuracy: 0.3237\n",
      "Epoch 2/2\n",
      "43/43 [==============================] - 1s 32ms/step - loss: 1.5365 - accuracy: 0.3111 - val_loss: 1.5007 - val_accuracy: 0.3444\n",
      "Epoch 1/2\n",
      "43/43 [==============================] - 1s 32ms/step - loss: 3.2037 - accuracy: 0.2186 - val_loss: 1.9205 - val_accuracy: 0.3444\n",
      "Epoch 2/2\n",
      "43/43 [==============================] - 1s 32ms/step - loss: 1.6029 - accuracy: 0.3324 - val_loss: 1.5121 - val_accuracy: 0.3444\n",
      "Epoch 1/2\n",
      "43/43 [==============================] - 1s 33ms/step - loss: 1.7021 - accuracy: 0.3243 - val_loss: 1.5096 - val_accuracy: 0.3693\n",
      "Epoch 2/2\n",
      "43/43 [==============================] - 1s 33ms/step - loss: 1.5201 - accuracy: 0.3316 - val_loss: 1.4961 - val_accuracy: 0.3444\n",
      "Epoch 1/2\n",
      "43/43 [==============================] - 1s 32ms/step - loss: 2.5711 - accuracy: 0.2377 - val_loss: 1.7429 - val_accuracy: 0.3444\n",
      "Epoch 2/2\n",
      "43/43 [==============================] - 1s 32ms/step - loss: 1.5807 - accuracy: 0.3324 - val_loss: 1.5142 - val_accuracy: 0.3444\n",
      "Epoch 1/2\n",
      "43/43 [==============================] - 1s 33ms/step - loss: 2.4250 - accuracy: 0.2333 - val_loss: 1.5154 - val_accuracy: 0.3444\n",
      "Epoch 2/2\n",
      "43/43 [==============================] - 1s 32ms/step - loss: 1.5159 - accuracy: 0.3037 - val_loss: 1.4986 - val_accuracy: 0.3444\n",
      "Epoch 1/2\n",
      "43/43 [==============================] - 1s 33ms/step - loss: 1.6447 - accuracy: 0.2766 - val_loss: 1.5136 - val_accuracy: 0.3485\n",
      "Epoch 2/2\n",
      "43/43 [==============================] - 1s 31ms/step - loss: 1.5213 - accuracy: 0.3331 - val_loss: 1.5231 - val_accuracy: 0.3444\n",
      "Epoch 1/2\n",
      "43/43 [==============================] - 1s 32ms/step - loss: 1.7678 - accuracy: 0.2531 - val_loss: 1.5458 - val_accuracy: 0.2158\n",
      "Epoch 2/2\n",
      "43/43 [==============================] - 1s 32ms/step - loss: 1.5264 - accuracy: 0.3081 - val_loss: 1.5108 - val_accuracy: 0.3195\n",
      "Epoch 1/2\n",
      "43/43 [==============================] - 1s 33ms/step - loss: 2.8888 - accuracy: 0.2289 - val_loss: 1.7396 - val_accuracy: 0.3444\n",
      "Epoch 2/2\n",
      "43/43 [==============================] - 1s 32ms/step - loss: 1.5686 - accuracy: 0.3390 - val_loss: 1.5029 - val_accuracy: 0.3527\n",
      "Epoch 1/2\n",
      "43/43 [==============================] - 1s 33ms/step - loss: 1.7811 - accuracy: 0.2583 - val_loss: 1.5125 - val_accuracy: 0.3402\n",
      "Epoch 2/2\n",
      "43/43 [==============================] - 1s 32ms/step - loss: 1.5215 - accuracy: 0.3302 - val_loss: 1.5096 - val_accuracy: 0.3361\n",
      "Epoch 1/2\n",
      "43/43 [==============================] - 1s 33ms/step - loss: 2.5502 - accuracy: 0.2091 - val_loss: 1.7329 - val_accuracy: 0.3444\n",
      "Epoch 2/2\n",
      "43/43 [==============================] - 1s 32ms/step - loss: 1.6147 - accuracy: 0.3243 - val_loss: 1.5137 - val_accuracy: 0.3195\n",
      "Epoch 1/2\n",
      "43/43 [==============================] - 1s 32ms/step - loss: 2.6342 - accuracy: 0.1577 - val_loss: 1.5376 - val_accuracy: 0.3444\n",
      "Epoch 2/2\n",
      "43/43 [==============================] - 1s 31ms/step - loss: 1.5284 - accuracy: 0.3324 - val_loss: 1.5146 - val_accuracy: 0.3444\n",
      "Epoch 1/2\n",
      "43/43 [==============================] - 1s 32ms/step - loss: 2.8026 - accuracy: 0.2318 - val_loss: 1.6329 - val_accuracy: 0.3527\n",
      "Epoch 2/2\n",
      "43/43 [==============================] - 1s 32ms/step - loss: 1.5842 - accuracy: 0.3280 - val_loss: 1.5188 - val_accuracy: 0.3527\n",
      "Epoch 1/2\n",
      "43/43 [==============================] - 1s 32ms/step - loss: 1.5925 - accuracy: 0.3287 - val_loss: 1.5156 - val_accuracy: 0.3444\n",
      "Epoch 2/2\n",
      "43/43 [==============================] - 1s 32ms/step - loss: 1.5222 - accuracy: 0.3294 - val_loss: 1.5065 - val_accuracy: 0.3444\n",
      "Epoch 1/2\n",
      "43/43 [==============================] - 1s 33ms/step - loss: 4.3669 - accuracy: 0.2751 - val_loss: 2.7214 - val_accuracy: 0.3444\n",
      "Epoch 2/2\n",
      "43/43 [==============================] - 1s 32ms/step - loss: 1.8323 - accuracy: 0.3397 - val_loss: 1.5048 - val_accuracy: 0.3527\n",
      "Epoch 1/2\n",
      "43/43 [==============================] - 1s 32ms/step - loss: 1.9514 - accuracy: 0.3125 - val_loss: 1.5942 - val_accuracy: 0.3444\n",
      "Epoch 2/2\n",
      "43/43 [==============================] - 1s 32ms/step - loss: 1.5637 - accuracy: 0.3338 - val_loss: 1.5143 - val_accuracy: 0.3444\n",
      "Epoch 1/2\n",
      "43/43 [==============================] - 1s 32ms/step - loss: 1.9813 - accuracy: 0.2737 - val_loss: 1.5301 - val_accuracy: 0.2863\n",
      "Epoch 2/2\n",
      "43/43 [==============================] - 1s 35ms/step - loss: 1.5235 - accuracy: 0.3324 - val_loss: 1.5129 - val_accuracy: 0.3444\n",
      "Epoch 1/2\n",
      "43/43 [==============================] - 1s 32ms/step - loss: 1.6024 - accuracy: 0.3118 - val_loss: 1.5206 - val_accuracy: 0.3444\n",
      "Epoch 2/2\n",
      "43/43 [==============================] - 1s 32ms/step - loss: 1.5267 - accuracy: 0.3177 - val_loss: 1.5051 - val_accuracy: 0.3444\n",
      "Epoch 1/2\n",
      "43/43 [==============================] - 1s 33ms/step - loss: 1.7408 - accuracy: 0.2472 - val_loss: 1.5250 - val_accuracy: 0.3444\n",
      "Epoch 2/2\n",
      "43/43 [==============================] - 1s 32ms/step - loss: 1.5261 - accuracy: 0.3236 - val_loss: 1.5039 - val_accuracy: 0.3320\n",
      "Epoch 1/2\n",
      "43/43 [==============================] - 1s 32ms/step - loss: 1.9509 - accuracy: 0.3045 - val_loss: 1.5398 - val_accuracy: 0.3444\n",
      "Epoch 2/2\n",
      "43/43 [==============================] - 1s 32ms/step - loss: 1.5248 - accuracy: 0.3324 - val_loss: 1.4996 - val_accuracy: 0.3444\n",
      "Epoch 1/2\n",
      "43/43 [==============================] - 1s 33ms/step - loss: 1.5553 - accuracy: 0.3294 - val_loss: 1.5038 - val_accuracy: 0.3444\n",
      "Epoch 2/2\n",
      "43/43 [==============================] - 2s 37ms/step - loss: 1.5220 - accuracy: 0.3324 - val_loss: 1.5074 - val_accuracy: 0.3444\n",
      "Epoch 1/2\n",
      "43/43 [==============================] - 2s 37ms/step - loss: 2.9249 - accuracy: 0.2142 - val_loss: 1.5478 - val_accuracy: 0.2199\n",
      "Epoch 2/2\n",
      "43/43 [==============================] - 1s 35ms/step - loss: 1.5317 - accuracy: 0.3302 - val_loss: 1.5118 - val_accuracy: 0.3444\n",
      "Epoch 1/2\n",
      "43/43 [==============================] - 2s 36ms/step - loss: 1.9355 - accuracy: 0.2509 - val_loss: 1.5217 - val_accuracy: 0.3444\n",
      "Epoch 2/2\n",
      "43/43 [==============================] - 1s 34ms/step - loss: 1.5173 - accuracy: 0.3324 - val_loss: 1.5047 - val_accuracy: 0.3444\n",
      "Epoch 1/2\n",
      "43/43 [==============================] - 1s 32ms/step - loss: 1.5853 - accuracy: 0.3089 - val_loss: 1.5147 - val_accuracy: 0.3444\n",
      "Epoch 2/2\n",
      "43/43 [==============================] - 1s 32ms/step - loss: 1.5228 - accuracy: 0.3199 - val_loss: 1.5338 - val_accuracy: 0.3402\n",
      "Epoch 1/2\n",
      "43/43 [==============================] - 1s 32ms/step - loss: 2.0332 - accuracy: 0.2164 - val_loss: 1.5782 - val_accuracy: 0.3444\n",
      "Epoch 2/2\n",
      "43/43 [==============================] - 1s 33ms/step - loss: 1.5441 - accuracy: 0.3324 - val_loss: 1.5034 - val_accuracy: 0.3444\n",
      "Epoch 1/2\n",
      "43/43 [==============================] - 1s 33ms/step - loss: 2.1089 - accuracy: 0.2715 - val_loss: 1.5200 - val_accuracy: 0.3278\n",
      "Epoch 2/2\n",
      "43/43 [==============================] - 2s 38ms/step - loss: 1.5188 - accuracy: 0.3302 - val_loss: 1.5027 - val_accuracy: 0.3527\n",
      "Epoch 1/2\n",
      "43/43 [==============================] - 1s 34ms/step - loss: 1.8941 - accuracy: 0.2957 - val_loss: 1.5113 - val_accuracy: 0.3444\n",
      "Epoch 2/2\n",
      "43/43 [==============================] - 1s 32ms/step - loss: 1.5157 - accuracy: 0.3265 - val_loss: 1.5151 - val_accuracy: 0.3444\n",
      "Epoch 1/2\n",
      "43/43 [==============================] - 2s 36ms/step - loss: 1.6058 - accuracy: 0.2942 - val_loss: 1.5086 - val_accuracy: 0.3154\n",
      "Epoch 2/2\n",
      "43/43 [==============================] - 1s 33ms/step - loss: 1.5172 - accuracy: 0.3206 - val_loss: 1.5044 - val_accuracy: 0.3361\n",
      "Epoch 1/2\n",
      "43/43 [==============================] - 1s 33ms/step - loss: 2.9209 - accuracy: 0.3324 - val_loss: 1.9757 - val_accuracy: 0.3444\n",
      "Epoch 2/2\n",
      "43/43 [==============================] - 1s 32ms/step - loss: 1.6440 - accuracy: 0.3324 - val_loss: 1.5109 - val_accuracy: 0.3444\n",
      "Epoch 1/2\n",
      "43/43 [==============================] - 1s 33ms/step - loss: 1.8568 - accuracy: 0.2766 - val_loss: 1.5108 - val_accuracy: 0.3444\n",
      "Epoch 2/2\n",
      "43/43 [==============================] - 1s 32ms/step - loss: 1.5188 - accuracy: 0.3316 - val_loss: 1.5068 - val_accuracy: 0.3444\n",
      "Epoch 1/2\n",
      "43/43 [==============================] - 1s 33ms/step - loss: 2.0182 - accuracy: 0.3206 - val_loss: 1.6972 - val_accuracy: 0.3402\n",
      "Epoch 2/2\n",
      "43/43 [==============================] - 1s 32ms/step - loss: 1.6170 - accuracy: 0.3316 - val_loss: 1.5271 - val_accuracy: 0.3195\n",
      "Epoch 1/2\n",
      "43/43 [==============================] - 1s 33ms/step - loss: 1.5726 - accuracy: 0.3221 - val_loss: 1.5154 - val_accuracy: 0.3444\n",
      "Epoch 2/2\n",
      "43/43 [==============================] - 1s 32ms/step - loss: 1.5207 - accuracy: 0.3331 - val_loss: 1.5137 - val_accuracy: 0.3278\n",
      "Epoch 1/2\n",
      "43/43 [==============================] - 1s 32ms/step - loss: 1.5422 - accuracy: 0.3213 - val_loss: 1.5213 - val_accuracy: 0.3444\n",
      "Epoch 2/2\n",
      "43/43 [==============================] - 1s 32ms/step - loss: 1.5232 - accuracy: 0.3324 - val_loss: 1.5044 - val_accuracy: 0.3485\n",
      "Epoch 1/2\n",
      "43/43 [==============================] - 1s 32ms/step - loss: 1.9821 - accuracy: 0.2949 - val_loss: 1.5100 - val_accuracy: 0.3485\n",
      "Epoch 2/2\n",
      "43/43 [==============================] - 1s 31ms/step - loss: 1.5188 - accuracy: 0.3463 - val_loss: 1.5063 - val_accuracy: 0.3361\n",
      "Epoch 1/2\n",
      "43/43 [==============================] - 1s 33ms/step - loss: 2.8232 - accuracy: 0.1944 - val_loss: 1.6254 - val_accuracy: 0.3444\n",
      "Epoch 2/2\n",
      "43/43 [==============================] - 1s 32ms/step - loss: 1.5430 - accuracy: 0.2905 - val_loss: 1.5168 - val_accuracy: 0.3485\n",
      "Epoch 1/2\n",
      "43/43 [==============================] - 1s 32ms/step - loss: 1.6196 - accuracy: 0.3103 - val_loss: 1.5127 - val_accuracy: 0.3444\n",
      "Epoch 2/2\n",
      "43/43 [==============================] - 1s 32ms/step - loss: 1.5241 - accuracy: 0.3309 - val_loss: 1.5013 - val_accuracy: 0.3444\n",
      "Epoch 1/2\n",
      "43/43 [==============================] - 1s 33ms/step - loss: 2.7589 - accuracy: 0.2142 - val_loss: 1.5685 - val_accuracy: 0.2241\n",
      "Epoch 2/2\n",
      "43/43 [==============================] - 1s 32ms/step - loss: 1.5224 - accuracy: 0.3199 - val_loss: 1.5059 - val_accuracy: 0.3444\n",
      "Epoch 1/2\n",
      "43/43 [==============================] - 1s 33ms/step - loss: 2.4815 - accuracy: 0.1255 - val_loss: 1.5821 - val_accuracy: 0.2116\n",
      "Epoch 2/2\n",
      "43/43 [==============================] - 1s 32ms/step - loss: 1.5262 - accuracy: 0.3228 - val_loss: 1.5073 - val_accuracy: 0.3444\n",
      "Epoch 1/2\n",
      "43/43 [==============================] - 1s 32ms/step - loss: 1.8009 - accuracy: 0.2619 - val_loss: 1.5206 - val_accuracy: 0.3444\n",
      "Epoch 2/2\n",
      "43/43 [==============================] - 1s 32ms/step - loss: 1.5198 - accuracy: 0.3324 - val_loss: 1.5039 - val_accuracy: 0.3444\n",
      "Epoch 1/2\n",
      "43/43 [==============================] - 2s 35ms/step - loss: 1.6394 - accuracy: 0.3030 - val_loss: 1.5222 - val_accuracy: 0.3444\n",
      "Epoch 2/2\n",
      "43/43 [==============================] - 2s 42ms/step - loss: 1.5228 - accuracy: 0.3324 - val_loss: 1.5321 - val_accuracy: 0.3237\n",
      "Epoch 1/2\n",
      "43/43 [==============================] - 2s 37ms/step - loss: 2.1340 - accuracy: 0.2803 - val_loss: 1.5340 - val_accuracy: 0.3444\n",
      "Epoch 2/2\n",
      "43/43 [==============================] - 1s 32ms/step - loss: 1.5240 - accuracy: 0.3324 - val_loss: 1.5078 - val_accuracy: 0.3444\n",
      "Epoch 1/2\n",
      "43/43 [==============================] - 1s 32ms/step - loss: 2.0360 - accuracy: 0.2414 - val_loss: 1.5180 - val_accuracy: 0.3444\n",
      "Epoch 2/2\n",
      "43/43 [==============================] - 1s 31ms/step - loss: 1.5233 - accuracy: 0.3302 - val_loss: 1.5034 - val_accuracy: 0.3444\n",
      "Epoch 1/2\n",
      "43/43 [==============================] - 1s 32ms/step - loss: 1.6534 - accuracy: 0.3199 - val_loss: 1.5175 - val_accuracy: 0.3361\n",
      "Epoch 2/2\n",
      "43/43 [==============================] - 1s 33ms/step - loss: 1.5245 - accuracy: 0.3309 - val_loss: 1.5083 - val_accuracy: 0.3361\n",
      "Epoch 1/2\n",
      "43/43 [==============================] - 2s 36ms/step - loss: 1.8822 - accuracy: 0.3265 - val_loss: 1.5160 - val_accuracy: 0.3361\n",
      "Epoch 2/2\n",
      "43/43 [==============================] - 1s 34ms/step - loss: 1.5228 - accuracy: 0.3324 - val_loss: 1.5028 - val_accuracy: 0.3444\n",
      "Epoch 1/2\n",
      "43/43 [==============================] - 1s 33ms/step - loss: 1.8684 - accuracy: 0.2781 - val_loss: 1.5197 - val_accuracy: 0.3444\n",
      "Epoch 2/2\n",
      "43/43 [==============================] - 1s 32ms/step - loss: 1.5316 - accuracy: 0.3147 - val_loss: 1.5137 - val_accuracy: 0.3444\n",
      "Epoch 1/2\n",
      "43/43 [==============================] - 1s 33ms/step - loss: 1.6082 - accuracy: 0.3118 - val_loss: 1.5159 - val_accuracy: 0.3444\n",
      "Epoch 2/2\n",
      "43/43 [==============================] - 1s 32ms/step - loss: 1.5256 - accuracy: 0.3324 - val_loss: 1.5129 - val_accuracy: 0.3444\n",
      "Epoch 1/2\n",
      "43/43 [==============================] - 2s 34ms/step - loss: 1.6103 - accuracy: 0.2986 - val_loss: 1.5345 - val_accuracy: 0.2116\n",
      "Epoch 2/2\n",
      "43/43 [==============================] - 1s 32ms/step - loss: 1.5354 - accuracy: 0.3133 - val_loss: 1.5131 - val_accuracy: 0.3237\n",
      "Epoch 1/2\n",
      "43/43 [==============================] - 1s 33ms/step - loss: 2.6961 - accuracy: 0.1988 - val_loss: 1.6888 - val_accuracy: 0.3444\n",
      "Epoch 2/2\n",
      "43/43 [==============================] - 1s 34ms/step - loss: 1.5670 - accuracy: 0.3324 - val_loss: 1.5098 - val_accuracy: 0.3444\n",
      "Stopping search: maximum iterations reached --> 30\n"
     ]
    }
   ],
   "source": [
    "lb = [16, 32, 64]\n",
    "ub = [64, 128, 128]\n",
    "\n",
    "xopt, fopt = pso(train_network, lb, ub, swarmsize=5, omega=0.5, phip=0.5, phig=1.0, maxiter=30, minstep=1)"
   ]
  },
  {
   "cell_type": "markdown",
   "id": "ae574c1f-ddcb-455d-a57f-bfd58ec28e39",
   "metadata": {},
   "source": [
    "#### **Results of the PSO Optimized Hyperparameters**"
   ]
  },
  {
   "cell_type": "code",
   "execution_count": 37,
   "id": "77f2ebb1-4dc9-4549-9c5a-c4fe880a0e21",
   "metadata": {},
   "outputs": [
    {
     "name": "stdout",
     "output_type": "stream",
     "text": [
      "The otpimized parameters are:\n",
      "Hidden Channels Space Convolution:  35\n",
      "Hidden Dims Dense Layer1:  110\n",
      "Hidden Dims Dense Layer2:  100\n"
     ]
    }
   ],
   "source": [
    "# The optimized parameters\n",
    "print(\"The otpimized parameters are:\")\n",
    "print(\"Hidden Channels Space Convolution: \", int(xopt[0]))\n",
    "print(\"Hidden Dims Dense Layer1: \", int(xopt[1]))\n",
    "print(\"Hidden Dims Dense Layer2: \", int(xopt[2]))"
   ]
  },
  {
   "cell_type": "markdown",
   "id": "e7e94eea-9878-4b8a-a371-329ffc12734c",
   "metadata": {
    "tags": []
   },
   "source": [
    "### **Running of the Model with Optimized Hyperparameters**"
   ]
  },
  {
   "cell_type": "code",
   "execution_count": 40,
   "id": "26ef80f8-2591-4f6a-bf1b-039e0a372fc1",
   "metadata": {},
   "outputs": [],
   "source": [
    "layer_params = [35, 110, 100]\n",
    "\n",
    "# Instantiate the model\n",
    "model = MyModel(layer_params)"
   ]
  },
  {
   "cell_type": "code",
   "execution_count": 41,
   "id": "edeea8f7-8e05-4fab-b412-f196f2b0a03d",
   "metadata": {},
   "outputs": [],
   "source": [
    "# Compile the model\n",
    "optimizer = tf.keras.optimizers.Adam(learning_rate=0.0001)\n",
    "model.compile(optimizer=optimizer, loss='categorical_crossentropy', metrics=['accuracy'])\n"
   ]
  },
  {
   "cell_type": "code",
   "execution_count": 42,
   "id": "6003c195-20e1-46d1-83ec-8c9961daa2ff",
   "metadata": {
    "tags": []
   },
   "outputs": [
    {
     "name": "stdout",
     "output_type": "stream",
     "text": [
      "Epoch 1/10\n",
      "43/43 [==============================] - 1s 33ms/step - loss: 2.9121 - accuracy: 0.2487 - val_loss: 1.6479 - val_accuracy: 0.3444\n",
      "Epoch 2/10\n",
      "43/43 [==============================] - 1s 32ms/step - loss: 1.5408 - accuracy: 0.3324 - val_loss: 1.5012 - val_accuracy: 0.3444\n",
      "Epoch 3/10\n",
      "43/43 [==============================] - 1s 32ms/step - loss: 1.5151 - accuracy: 0.3324 - val_loss: 1.5046 - val_accuracy: 0.3444\n",
      "Epoch 4/10\n",
      "43/43 [==============================] - 1s 32ms/step - loss: 1.5115 - accuracy: 0.3368 - val_loss: 1.4933 - val_accuracy: 0.3527\n",
      "Epoch 5/10\n",
      "43/43 [==============================] - 1s 32ms/step - loss: 1.5093 - accuracy: 0.3419 - val_loss: 1.4947 - val_accuracy: 0.3527\n",
      "Epoch 6/10\n",
      "43/43 [==============================] - 1s 32ms/step - loss: 1.5069 - accuracy: 0.3441 - val_loss: 1.4924 - val_accuracy: 0.3734\n",
      "Epoch 7/10\n",
      "43/43 [==============================] - 1s 32ms/step - loss: 1.5070 - accuracy: 0.3595 - val_loss: 1.4871 - val_accuracy: 0.3610\n",
      "Epoch 8/10\n",
      "43/43 [==============================] - 1s 32ms/step - loss: 1.5063 - accuracy: 0.3566 - val_loss: 1.4846 - val_accuracy: 0.3734\n",
      "Epoch 9/10\n",
      "43/43 [==============================] - 1s 32ms/step - loss: 1.5037 - accuracy: 0.3639 - val_loss: 1.4865 - val_accuracy: 0.3900\n",
      "Epoch 10/10\n",
      "43/43 [==============================] - 1s 32ms/step - loss: 1.4980 - accuracy: 0.3712 - val_loss: 1.4809 - val_accuracy: 0.3734\n"
     ]
    }
   ],
   "source": [
    "# Train the model\n",
    "history = model.fit([x_train, coordinates_train], y_train_one_hot, epochs=10, batch_size=32, validation_split=0.15, verbose=1, shuffle=True)"
   ]
  },
  {
   "cell_type": "code",
   "execution_count": 43,
   "id": "ed032d12-bcf4-42f0-834d-e3016d63322d",
   "metadata": {},
   "outputs": [
    {
     "name": "stdout",
     "output_type": "stream",
     "text": [
      "Model: \"my_model_174\"\n",
      "_________________________________________________________________\n",
      " Layer (type)                Output Shape              Param #   \n",
      "=================================================================\n",
      " embedding (Dense)           multiple                  1089      \n",
      "                                                                 \n",
      " haversine_layer_175 (Havers  multiple                 0         \n",
      " ineLayer)                                                       \n",
      "                                                                 \n",
      " concatenate_174 (Concatenat  multiple                 0         \n",
      " e)                                                              \n",
      "                                                                 \n",
      " reshape_174 (Reshape)       multiple                  0         \n",
      "                                                                 \n",
      " multi_head_attention_174 (M  multiple                 9486      \n",
      " ultiHeadAttention)                                              \n",
      "                                                                 \n",
      " flatten_174 (Flatten)       multiple                  0         \n",
      "                                                                 \n",
      " conv1d_174 (Conv1D)         multiple                  140       \n",
      "                                                                 \n",
      " global_max_pooling1d_174 (G  multiple                 0         \n",
      " lobalMaxPooling1D)                                              \n",
      "                                                                 \n",
      " dense_522 (Dense)           multiple                  3960      \n",
      "                                                                 \n",
      " dense_523 (Dense)           multiple                  11100     \n",
      "                                                                 \n",
      " dense_524 (Dense)           multiple                  505       \n",
      "                                                                 \n",
      "=================================================================\n",
      "Total params: 26,280\n",
      "Trainable params: 26,280\n",
      "Non-trainable params: 0\n",
      "_________________________________________________________________\n"
     ]
    }
   ],
   "source": [
    "model.summary()"
   ]
  },
  {
   "cell_type": "markdown",
   "id": "4a9d45f1-c005-401c-a183-7e9d586be798",
   "metadata": {},
   "source": [
    "### **Visualization of the Results**"
   ]
  },
  {
   "cell_type": "code",
   "execution_count": 44,
   "id": "474c3db3-bfa3-4521-af3f-7c2d649d4f0f",
   "metadata": {},
   "outputs": [
    {
     "data": {
      "image/png": "[encoded data removed]",
      "text/plain": [
       "<Figure size 640x480 with 1 Axes>"
      ]
     },
     "metadata": {},
     "output_type": "display_data"
    }
   ],
   "source": [
    "# Plot training and validation loss\n",
    "plt.plot(history.history['loss'], label='Training Loss')\n",
    "plt.plot(history.history['val_loss'], label='Validation Loss')\n",
    "plt.title('Training and Validation Loss')\n",
    "plt.xlabel('Epoch')\n",
    "plt.ylabel('Loss')\n",
    "plt.legend()\n",
    "plt.show()"
   ]
  },
  {
   "cell_type": "code",
   "execution_count": 45,
   "id": "2f4f1314-c94b-4b22-b018-bd3e86556880",
   "metadata": {},
   "outputs": [
    {
     "name": "stdout",
     "output_type": "stream",
     "text": [
      "17/17 [==============================] - 0s 8ms/step\n"
     ]
    }
   ],
   "source": [
    "# Predict classes for test set\n",
    "y_pred = model.predict([x_test, coordinates_test])\n",
    "y_pred_classes = np.argmax(y_pred, axis=1)"
   ]
  },
  {
   "cell_type": "code",
   "execution_count": 46,
   "id": "2991d417-82a4-4991-8257-c32bc3e987e9",
   "metadata": {},
   "outputs": [],
   "source": [
    "# Convert one-hot encoded labels to class labels\n",
    "y_test_classes = np.argmax(y_test_one_hot, axis=1)"
   ]
  },
  {
   "cell_type": "code",
   "execution_count": 47,
   "id": "d05eb2ba-0779-4199-bc4f-52493600a172",
   "metadata": {},
   "outputs": [],
   "source": [
    "# Create confusion matrix\n",
    "conf_matrix = confusion_matrix(y_test_classes, y_pred_classes)"
   ]
  },
  {
   "cell_type": "code",
   "execution_count": 48,
   "id": "b0fe8064-fbff-44d1-bd07-531fb2fa85f5",
   "metadata": {},
   "outputs": [],
   "source": [
    "classes = [0, 1, 2, 3, 4]"
   ]
  },
  {
   "cell_type": "code",
   "execution_count": 49,
   "id": "fa724872-1333-45e6-8f92-09105893694f",
   "metadata": {},
   "outputs": [
    {
     "data": {
      "image/png": "[encoded data removed]",
      "text/plain": [
       "<Figure size 1000x800 with 2 Axes>"
      ]
     },
     "metadata": {},
     "output_type": "display_data"
    }
   ],
   "source": [
    "# Plot confusion matrix\n",
    "plt.figure(figsize=(10, 8))\n",
    "plt.imshow(conf_matrix, cmap=plt.cm.Blues)\n",
    "plt.title('Confusion Matrix')\n",
    "plt.colorbar()\n",
    "plt.xlabel('Predicted Label')\n",
    "plt.ylabel('True Label')\n",
    "plt.xticks(np.arange(len(classes)), classes, rotation=45)\n",
    "plt.yticks(np.arange(len(classes)), classes)\n",
    "plt.show()"
   ]
  },
  {
   "cell_type": "markdown",
   "id": "e803867d-85f0-4571-a2c0-f17677e38b91",
   "metadata": {
    "tags": []
   },
   "source": [
    "## **Ablation Studies**"
   ]
  },
  {
   "cell_type": "markdown",
   "id": "d7a39404-3175-4227-b9de-cb70df285fd7",
   "metadata": {
    "tags": []
   },
   "source": [
    "### **Haversine Layer**"
   ]
  },
  {
   "cell_type": "code",
   "execution_count": 48,
   "id": "1d183d52-d36f-47f4-8b87-6afb02c8c6da",
   "metadata": {},
   "outputs": [],
   "source": [
    "class MyModelASHaversine(tf.keras.Model):\n",
    "    def __init__(self, num_classes):\n",
    "        super(MyModelASHaversine, self).__init__()\n",
    "        self.num_classes = num_classes\n",
    "        self.num_embedding_dims = len(df.columns) + 1\n",
    "        \n",
    "        # Define input layers\n",
    "        self.input_features = Input(shape=(len(df.columns),), name='input_features')\n",
    "        self.input_coordinates = Input(shape=(2,), name='input_coordinates')\n",
    "        \n",
    "        # Define Embedding Layer\n",
    "        self.embedding = layers.Dense(self.num_embedding_dims, activation='relu', name='embedding')\n",
    "        \n",
    "        # Define custom Haversine layer\n",
    "        self.haversine_layer = HaversineLayer()\n",
    "        \n",
    "        # Define other layers\n",
    "        self.concat_layer = layers.Concatenate()\n",
    "        self.reshape_layer = layers.Reshape((1, self.num_embedding_dims + 1))\n",
    "        self.multi_head_attention = layers.MultiHeadAttention(num_heads=2, key_dim=self.num_embedding_dims + 1)\n",
    "        self.flatten_layer = layers.Flatten()\n",
    "        self.space_conv = layers.Conv1D(64, 3, activation='relu')\n",
    "        self.global_pooling_layer = layers.GlobalMaxPooling1D()\n",
    "        self.dense_layer1 = layers.Dense(128, activation='relu')\n",
    "        self.dense_layer2 = layers.Dense(64, activation='relu')\n",
    "        self.output_layer = layers.Dense(num_classes, activation='softmax')\n",
    "        \n",
    "    def call(self, inputs):\n",
    "        # Separate inputs\n",
    "        input_features, input_coordinates = inputs\n",
    "        \n",
    "        # Embedding Layer\n",
    "        embedding_output = self.embedding(input_features)\n",
    "        \n",
    "        # Haversine layer\n",
    "        haversine_output = input_coordinates\n",
    "        \n",
    "        # Concatenate features with haversine output\n",
    "        combined_features = self.concat_layer([input_features[:, :embedding_output.shape[1]-1], haversine_output])\n",
    "        \n",
    "        # Reshape features for attention\n",
    "        reshaped_features_for_attention = self.reshape_layer(combined_features)\n",
    "        \n",
    "        # Multi-head attention\n",
    "        multi_head_attention = self.multi_head_attention(reshaped_features_for_attention, reshaped_features_for_attention)\n",
    "        \n",
    "        # Flatten and concatenate attention output with features\n",
    "        flattened_attention = self.flatten_layer(multi_head_attention)\n",
    "        \n",
    "        concat_features = self.concat_layer([flattened_attention, combined_features])\n",
    "        \n",
    "        # Expand dimensions for convolution\n",
    "        concat_features = tf.expand_dims(concat_features, axis=-1)\n",
    "        \n",
    "        # Convolutional layer\n",
    "        space_conv = self.space_conv(concat_features)\n",
    "        \n",
    "        # Global max pooling\n",
    "        pooled = self.global_pooling_layer(space_conv)\n",
    "        \n",
    "        # Fully connected layers\n",
    "        dense1 = self.dense_layer1(pooled)\n",
    "        dense2 = self.dense_layer2(dense1)\n",
    "        \n",
    "        # Output layer\n",
    "        output = self.output_layer(dense2)\n",
    "        \n",
    "        return output"
   ]
  },
  {
   "cell_type": "code",
   "execution_count": 49,
   "id": "aa33facc-a36f-43da-8f20-fd92b0e956d2",
   "metadata": {},
   "outputs": [],
   "source": [
    "from tensorflow.keras.utils import to_categorical\n"
   ]
  },
  {
   "cell_type": "code",
   "execution_count": 50,
   "id": "28751837-3cec-4aef-b68f-b947cb5097c5",
   "metadata": {},
   "outputs": [],
   "source": [
    "# One-hot encode the multiclass labels\n",
    "y_train_one_hot = to_categorical(y_train)\n",
    "y_test_one_hot = to_categorical(y_test)"
   ]
  },
  {
   "cell_type": "code",
   "execution_count": 51,
   "id": "4a83911d-1433-4434-a0ea-0b8c4fa31be4",
   "metadata": {},
   "outputs": [],
   "source": [
    "# Instantiate the model\n",
    "model = MyModelASHaversine(num_classes=y_train_one_hot.shape[1])"
   ]
  },
  {
   "cell_type": "code",
   "execution_count": 52,
   "id": "4ee9a146-2af7-4d62-b4c3-17cf012e53d8",
   "metadata": {},
   "outputs": [],
   "source": [
    "# Compile the model\n",
    "optimizer = tf.keras.optimizers.Adam(learning_rate=0.0001)\n",
    "model.compile(optimizer=optimizer, loss='categorical_crossentropy', metrics=['accuracy'])\n"
   ]
  },
  {
   "cell_type": "code",
   "execution_count": 53,
   "id": "db69fdef-ae6e-47e2-84c8-1f21b928d0ad",
   "metadata": {
    "collapsed": true,
    "jupyter": {
     "outputs_hidden": true
    },
    "tags": []
   },
   "outputs": [
    {
     "name": "stdout",
     "output_type": "stream",
     "text": [
      "WARNING:tensorflow:Gradients do not exist for variables ['my_model_as_haversine/embedding/kernel:0', 'my_model_as_haversine/embedding/bias:0'] when minimizing the loss. If you're using `model.compile()`, did you forget to provide a `loss` argument?\n",
      " 1/43 [..............................] - ETA: 2s - loss: 6.3869 - accuracy: 0.1562WARNING:tensorflow:Gradients do not exist for variables ['my_model_as_haversine/embedding/kernel:0', 'my_model_as_haversine/embedding/bias:0'] when minimizing the loss. If you're using `model.compile()`, did you forget to provide a `loss` argument?\n",
      "WARNING:tensorflow:Gradients do not exist for variables ['my_model_as_haversine/embedding/kernel:0', 'my_model_as_haversine/embedding/bias:0'] when minimizing the loss. If you're using `model.compile()`, did you forget to provide a `loss` argument?\n",
      " 3/43 [=>............................] - ETA: 1s - loss: 6.1820 - accuracy: 0.1146WARNING:tensorflow:Gradients do not exist for variables ['my_model_as_haversine/embedding/kernel:0', 'my_model_as_haversine/embedding/bias:0'] when minimizing the loss. If you're using `model.compile()`, did you forget to provide a `loss` argument?\n"
     ]
    },
    {
     "name": "stderr",
     "output_type": "stream",
     "text": [
      "C:\\Users\\DELL\\anaconda3\\lib\\site-packages\\tensorflow\\python\\data\\ops\\structured_function.py:264: UserWarning: Even though the `tf.config.experimental_run_functions_eagerly` option is set, this option does not apply to tf.data functions. To force eager execution of tf.data functions, please use `tf.data.experimental.enable_debug_mode()`.\n",
      "  warnings.warn(\n"
     ]
    },
    {
     "name": "stdout",
     "output_type": "stream",
     "text": [
      "WARNING:tensorflow:Gradients do not exist for variables ['my_model_as_haversine/embedding/kernel:0', 'my_model_as_haversine/embedding/bias:0'] when minimizing the loss. If you're using `model.compile()`, did you forget to provide a `loss` argument?\n",
      " 5/43 [==>...........................] - ETA: 1s - loss: 5.4561 - accuracy: 0.1750WARNING:tensorflow:Gradients do not exist for variables ['my_model_as_haversine/embedding/kernel:0', 'my_model_as_haversine/embedding/bias:0'] when minimizing the loss. If you're using `model.compile()`, did you forget to provide a `loss` argument?\n",
      "WARNING:tensorflow:Gradients do not exist for variables ['my_model_as_haversine/embedding/kernel:0', 'my_model_as_haversine/embedding/bias:0'] when minimizing the loss. If you're using `model.compile()`, did you forget to provide a `loss` argument?\n",
      " 7/43 [===>..........................] - ETA: 1s - loss: 5.7778 - accuracy: 0.2098WARNING:tensorflow:Gradients do not exist for variables ['my_model_as_haversine/embedding/kernel:0', 'my_model_as_haversine/embedding/bias:0'] when minimizing the loss. If you're using `model.compile()`, did you forget to provide a `loss` argument?\n",
      "WARNING:tensorflow:Gradients do not exist for variables ['my_model_as_haversine/embedding/kernel:0', 'my_model_as_haversine/embedding/bias:0'] when minimizing the loss. If you're using `model.compile()`, did you forget to provide a `loss` argument?\n",
      " 9/43 [=====>........................] - ETA: 1s - loss: 5.9243 - accuracy: 0.2153WARNING:tensorflow:Gradients do not exist for variables ['my_model_as_haversine/embedding/kernel:0', 'my_model_as_haversine/embedding/bias:0'] when minimizing the loss. If you're using `model.compile()`, did you forget to provide a `loss` argument?\n",
      "WARNING:tensorflow:Gradients do not exist for variables ['my_model_as_haversine/embedding/kernel:0', 'my_model_as_haversine/embedding/bias:0'] when minimizing the loss. If you're using `model.compile()`, did you forget to provide a `loss` argument?\n",
      "11/43 [======>.......................] - ETA: 0s - loss: 5.6933 - accuracy: 0.2386WARNING:tensorflow:Gradients do not exist for variables ['my_model_as_haversine/embedding/kernel:0', 'my_model_as_haversine/embedding/bias:0'] when minimizing the loss. If you're using `model.compile()`, did you forget to provide a `loss` argument?\n",
      "WARNING:tensorflow:Gradients do not exist for variables ['my_model_as_haversine/embedding/kernel:0', 'my_model_as_haversine/embedding/bias:0'] when minimizing the loss. If you're using `model.compile()`, did you forget to provide a `loss` argument?\n",
      "13/43 [========>.....................] - ETA: 0s - loss: 5.4865 - accuracy: 0.2620WARNING:tensorflow:Gradients do not exist for variables ['my_model_as_haversine/embedding/kernel:0', 'my_model_as_haversine/embedding/bias:0'] when minimizing the loss. If you're using `model.compile()`, did you forget to provide a `loss` argument?\n",
      "WARNING:tensorflow:Gradients do not exist for variables ['my_model_as_haversine/embedding/kernel:0', 'my_model_as_haversine/embedding/bias:0'] when minimizing the loss. If you're using `model.compile()`, did you forget to provide a `loss` argument?\n",
      "15/43 [=========>....................] - ETA: 0s - loss: 5.2965 - accuracy: 0.2667WARNING:tensorflow:Gradients do not exist for variables ['my_model_as_haversine/embedding/kernel:0', 'my_model_as_haversine/embedding/bias:0'] when minimizing the loss. If you're using `model.compile()`, did you forget to provide a `loss` argument?\n",
      "WARNING:tensorflow:Gradients do not exist for variables ['my_model_as_haversine/embedding/kernel:0', 'my_model_as_haversine/embedding/bias:0'] when minimizing the loss. If you're using `model.compile()`, did you forget to provide a `loss` argument?\n",
      "17/43 [==========>...................] - ETA: 0s - loss: 5.0862 - accuracy: 0.2757WARNING:tensorflow:Gradients do not exist for variables ['my_model_as_haversine/embedding/kernel:0', 'my_model_as_haversine/embedding/bias:0'] when minimizing the loss. If you're using `model.compile()`, did you forget to provide a `loss` argument?\n",
      "WARNING:tensorflow:Gradients do not exist for variables ['my_model_as_haversine/embedding/kernel:0', 'my_model_as_haversine/embedding/bias:0'] when minimizing the loss. If you're using `model.compile()`, did you forget to provide a `loss` argument?\n",
      "19/43 [============>.................] - ETA: 0s - loss: 4.9321 - accuracy: 0.2730WARNING:tensorflow:Gradients do not exist for variables ['my_model_as_haversine/embedding/kernel:0', 'my_model_as_haversine/embedding/bias:0'] when minimizing the loss. If you're using `model.compile()`, did you forget to provide a `loss` argument?\n",
      "WARNING:tensorflow:Gradients do not exist for variables ['my_model_as_haversine/embedding/kernel:0', 'my_model_as_haversine/embedding/bias:0'] when minimizing the loss. If you're using `model.compile()`, did you forget to provide a `loss` argument?\n",
      "21/43 [=============>................] - ETA: 0s - loss: 4.6652 - accuracy: 0.2560WARNING:tensorflow:Gradients do not exist for variables ['my_model_as_haversine/embedding/kernel:0', 'my_model_as_haversine/embedding/bias:0'] when minimizing the loss. If you're using `model.compile()`, did you forget to provide a `loss` argument?\n",
      "WARNING:tensorflow:Gradients do not exist for variables ['my_model_as_haversine/embedding/kernel:0', 'my_model_as_haversine/embedding/bias:0'] when minimizing the loss. If you're using `model.compile()`, did you forget to provide a `loss` argument?\n",
      "23/43 [===============>..............] - ETA: 0s - loss: 4.4656 - accuracy: 0.2500WARNING:tensorflow:Gradients do not exist for variables ['my_model_as_haversine/embedding/kernel:0', 'my_model_as_haversine/embedding/bias:0'] when minimizing the loss. If you're using `model.compile()`, did you forget to provide a `loss` argument?\n",
      "WARNING:tensorflow:Gradients do not exist for variables ['my_model_as_haversine/embedding/kernel:0', 'my_model_as_haversine/embedding/bias:0'] when minimizing the loss. If you're using `model.compile()`, did you forget to provide a `loss` argument?\n",
      "25/43 [================>.............] - ETA: 0s - loss: 4.3316 - accuracy: 0.2438WARNING:tensorflow:Gradients do not exist for variables ['my_model_as_haversine/embedding/kernel:0', 'my_model_as_haversine/embedding/bias:0'] when minimizing the loss. If you're using `model.compile()`, did you forget to provide a `loss` argument?\n",
      "WARNING:tensorflow:Gradients do not exist for variables ['my_model_as_haversine/embedding/kernel:0', 'my_model_as_haversine/embedding/bias:0'] when minimizing the loss. If you're using `model.compile()`, did you forget to provide a `loss` argument?\n",
      "27/43 [=================>............] - ETA: 0s - loss: 4.1895 - accuracy: 0.2373WARNING:tensorflow:Gradients do not exist for variables ['my_model_as_haversine/embedding/kernel:0', 'my_model_as_haversine/embedding/bias:0'] when minimizing the loss. If you're using `model.compile()`, did you forget to provide a `loss` argument?\n",
      "WARNING:tensorflow:Gradients do not exist for variables ['my_model_as_haversine/embedding/kernel:0', 'my_model_as_haversine/embedding/bias:0'] when minimizing the loss. If you're using `model.compile()`, did you forget to provide a `loss` argument?\n",
      "29/43 [===================>..........] - ETA: 0s - loss: 4.0500 - accuracy: 0.2338WARNING:tensorflow:Gradients do not exist for variables ['my_model_as_haversine/embedding/kernel:0', 'my_model_as_haversine/embedding/bias:0'] when minimizing the loss. If you're using `model.compile()`, did you forget to provide a `loss` argument?\n",
      "WARNING:tensorflow:Gradients do not exist for variables ['my_model_as_haversine/embedding/kernel:0', 'my_model_as_haversine/embedding/bias:0'] when minimizing the loss. If you're using `model.compile()`, did you forget to provide a `loss` argument?\n",
      "31/43 [====================>.........] - ETA: 0s - loss: 3.9102 - accuracy: 0.2278WARNING:tensorflow:Gradients do not exist for variables ['my_model_as_haversine/embedding/kernel:0', 'my_model_as_haversine/embedding/bias:0'] when minimizing the loss. If you're using `model.compile()`, did you forget to provide a `loss` argument?\n",
      "WARNING:tensorflow:Gradients do not exist for variables ['my_model_as_haversine/embedding/kernel:0', 'my_model_as_haversine/embedding/bias:0'] when minimizing the loss. If you're using `model.compile()`, did you forget to provide a `loss` argument?\n",
      "33/43 [======================>.......] - ETA: 0s - loss: 3.7755 - accuracy: 0.2339WARNING:tensorflow:Gradients do not exist for variables ['my_model_as_haversine/embedding/kernel:0', 'my_model_as_haversine/embedding/bias:0'] when minimizing the loss. If you're using `model.compile()`, did you forget to provide a `loss` argument?\n",
      "WARNING:tensorflow:Gradients do not exist for variables ['my_model_as_haversine/embedding/kernel:0', 'my_model_as_haversine/embedding/bias:0'] when minimizing the loss. If you're using `model.compile()`, did you forget to provide a `loss` argument?\n",
      "35/43 [=======================>......] - ETA: 0s - loss: 3.6632 - accuracy: 0.2393WARNING:tensorflow:Gradients do not exist for variables ['my_model_as_haversine/embedding/kernel:0', 'my_model_as_haversine/embedding/bias:0'] when minimizing the loss. If you're using `model.compile()`, did you forget to provide a `loss` argument?\n",
      "WARNING:tensorflow:Gradients do not exist for variables ['my_model_as_haversine/embedding/kernel:0', 'my_model_as_haversine/embedding/bias:0'] when minimizing the loss. If you're using `model.compile()`, did you forget to provide a `loss` argument?\n",
      "37/43 [========================>.....] - ETA: 0s - loss: 3.5525 - accuracy: 0.2424WARNING:tensorflow:Gradients do not exist for variables ['my_model_as_haversine/embedding/kernel:0', 'my_model_as_haversine/embedding/bias:0'] when minimizing the loss. If you're using `model.compile()`, did you forget to provide a `loss` argument?\n",
      "WARNING:tensorflow:Gradients do not exist for variables ['my_model_as_haversine/embedding/kernel:0', 'my_model_as_haversine/embedding/bias:0'] when minimizing the loss. If you're using `model.compile()`, did you forget to provide a `loss` argument?\n",
      "39/43 [==========================>...] - ETA: 0s - loss: 3.4550 - accuracy: 0.2452WARNING:tensorflow:Gradients do not exist for variables ['my_model_as_haversine/embedding/kernel:0', 'my_model_as_haversine/embedding/bias:0'] when minimizing the loss. If you're using `model.compile()`, did you forget to provide a `loss` argument?\n",
      "WARNING:tensorflow:Gradients do not exist for variables ['my_model_as_haversine/embedding/kernel:0', 'my_model_as_haversine/embedding/bias:0'] when minimizing the loss. If you're using `model.compile()`, did you forget to provide a `loss` argument?\n",
      "41/43 [===========================>..] - ETA: 0s - loss: 3.3697 - accuracy: 0.2447WARNING:tensorflow:Gradients do not exist for variables ['my_model_as_haversine/embedding/kernel:0', 'my_model_as_haversine/embedding/bias:0'] when minimizing the loss. If you're using `model.compile()`, did you forget to provide a `loss` argument?\n",
      "WARNING:tensorflow:Gradients do not exist for variables ['my_model_as_haversine/embedding/kernel:0', 'my_model_as_haversine/embedding/bias:0'] when minimizing the loss. If you're using `model.compile()`, did you forget to provide a `loss` argument?\n",
      "43/43 [==============================] - 2s 35ms/step - loss: 3.3058 - accuracy: 0.2428 - val_loss: 1.6830 - val_accuracy: 0.2075\n"
     ]
    }
   ],
   "source": [
    "# Train the model\n",
    "history = model.fit([x_train, coordinates_train], y_train_one_hot, epochs=2000, batch_size=32, validation_split=0.15, verbose=1, shuffle=True)"
   ]
  },
  {
   "cell_type": "markdown",
   "id": "709da455-aab5-41b9-9123-d9181a2d972c",
   "metadata": {
    "tags": []
   },
   "source": [
    "### **Attention Layer**"
   ]
  },
  {
   "cell_type": "code",
   "execution_count": 54,
   "id": "c3a94a1e-fc25-43f4-9240-4589ba6a9eea",
   "metadata": {},
   "outputs": [],
   "source": [
    "class MyModelASAttention(tf.keras.Model):\n",
    "    def __init__(self, num_classes):\n",
    "        super(MyModelASAttention, self).__init__()\n",
    "        self.num_classes = num_classes\n",
    "        self.num_embedding_dims = len(df.columns) + 1\n",
    "        \n",
    "        # Define input layers\n",
    "        self.input_features = Input(shape=(len(df.columns),), name='input_features')\n",
    "        self.input_coordinates = Input(shape=(2,), name='input_coordinates')\n",
    "        \n",
    "        # Define Embedding Layer\n",
    "        self.embedding = layers.Dense(self.num_embedding_dims, activation='relu', name='embedding')\n",
    "        \n",
    "        # Define custom Haversine layer\n",
    "        self.haversine_layer = HaversineLayer()\n",
    "        \n",
    "        # Define other layers\n",
    "        self.concat_layer = layers.Concatenate()\n",
    "        self.reshape_layer = layers.Reshape((1, self.num_embedding_dims + 1))\n",
    "        # self.multi_head_attention = layers.MultiHeadAttention(num_heads=2, key_dim=len(df.columns) + 1)\n",
    "        self.flatten_layer = layers.Flatten()\n",
    "        self.space_conv = layers.Conv1D(64, 3, activation='relu')\n",
    "        self.global_pooling_layer = layers.GlobalMaxPooling1D()\n",
    "        self.dense_layer1 = layers.Dense(128, activation='relu')\n",
    "        self.dense_layer2 = layers.Dense(64, activation='relu')\n",
    "        self.output_layer = layers.Dense(num_classes, activation='softmax')\n",
    "        \n",
    "    def call(self, inputs):\n",
    "        # Separate inputs\n",
    "        input_features, input_coordinates = inputs\n",
    "        \n",
    "        # Embedding Layer\n",
    "        embedding_output = self.embedding(input_features)\n",
    "        \n",
    "        # Haversine layer\n",
    "        haversine_output = self.haversine_layer(input_coordinates)\n",
    "        \n",
    "        # Concatenate features with haversine output\n",
    "        combined_features = self.concat_layer([embedding_output, haversine_output])\n",
    "        \n",
    "        # Reshape features for attention\n",
    "        reshaped_features_for_attention = self.reshape_layer(combined_features)\n",
    "        \n",
    "        # Multi-head attention\n",
    "        # multi_head_attention = self.multi_head_attention(reshaped_features_for_attention, reshaped_features_for_attention)\n",
    "        \n",
    "        # Flatten and concatenate attention output with features\n",
    "        flattened_attention = self.flatten_layer(reshaped_features_for_attention)\n",
    "        \n",
    "        concat_features = self.concat_layer([flattened_attention, combined_features])\n",
    "        \n",
    "        # Expand dimensions for convolution\n",
    "        concat_features = tf.expand_dims(concat_features, axis=-1)\n",
    "        \n",
    "        # Convolutional layer\n",
    "        space_conv = self.space_conv(concat_features)\n",
    "        \n",
    "        # Global max pooling\n",
    "        pooled = self.global_pooling_layer(space_conv)\n",
    "        \n",
    "        # Fully connected layers\n",
    "        dense1 = self.dense_layer1(pooled)\n",
    "        dense2 = self.dense_layer2(dense1)\n",
    "        \n",
    "        # Output layer\n",
    "        output = self.output_layer(dense2)\n",
    "        # print(\"Output Shape: \", output.shape)\n",
    "        \n",
    "        return output"
   ]
  },
  {
   "cell_type": "code",
   "execution_count": 55,
   "id": "36584029-f876-42f6-bdc5-eb3b7802814b",
   "metadata": {},
   "outputs": [],
   "source": [
    "# Instantiate the model\n",
    "model = MyModelASAttention(num_classes=y_train_one_hot.shape[1])"
   ]
  },
  {
   "cell_type": "code",
   "execution_count": 56,
   "id": "240573c4-6ec9-4fdf-8336-169d99aefb82",
   "metadata": {},
   "outputs": [],
   "source": [
    "# Compile the model\n",
    "optimizer = tf.keras.optimizers.Adam(learning_rate=0.0001)\n",
    "model.compile(optimizer=optimizer, loss='categorical_crossentropy', metrics=['accuracy'])\n"
   ]
  },
  {
   "cell_type": "code",
   "execution_count": 57,
   "id": "cb84a7ce-d6ad-475b-a399-690d969b3e88",
   "metadata": {},
   "outputs": [
    {
     "name": "stdout",
     "output_type": "stream",
     "text": [
      "43/43 [==============================] - 1s 23ms/step - loss: 2.8642 - accuracy: 0.2091 - val_loss: 1.6570 - val_accuracy: 0.2075\n"
     ]
    }
   ],
   "source": [
    "# Train the model\n",
    "history = model.fit([x_train, coordinates_train], y_train_one_hot, epochs=2000, batch_size=32, validation_split=0.15, verbose=1, shuffle=True)"
   ]
  },
  {
   "cell_type": "markdown",
   "id": "e7c22ba6-7352-4956-855d-2c672fcbfe47",
   "metadata": {
    "tags": []
   },
   "source": [
    "### **Dimensional Expansion**"
   ]
  },
  {
   "cell_type": "code",
   "execution_count": 58,
   "id": "5b3e0eb1-a719-4aa7-a196-1591adf94108",
   "metadata": {},
   "outputs": [],
   "source": [
    "class MyModelASDimExp(tf.keras.Model):\n",
    "    def __init__(self, num_classes):\n",
    "        super(MyModelASDimExp, self).__init__()\n",
    "        self.num_classes = num_classes\n",
    "        self.num_embedding_dims = len(df.columns) + 1\n",
    "        \n",
    "        # Define input layers\n",
    "        self.input_features = Input(shape=(len(df.columns),), name='input_features')\n",
    "        self.input_coordinates = Input(shape=(2,), name='input_coordinates')\n",
    "        \n",
    "        # Define Embedding Layer\n",
    "        self.embedding = layers.Dense(self.num_embedding_dims, activation='relu', name='embedding')\n",
    "        \n",
    "        # Define custom Haversine layer\n",
    "        self.haversine_layer = HaversineLayer()\n",
    "        \n",
    "        # Define other layers\n",
    "        self.concat_layer = layers.Concatenate()\n",
    "        self.reshape_layer = layers.Reshape((1, self.num_embedding_dims + 1))\n",
    "        self.multi_head_attention = layers.MultiHeadAttention(num_heads=2, key_dim=self.num_embedding_dims + 1)\n",
    "        self.flatten_layer = layers.Flatten()\n",
    "        self.space_conv = layers.Conv1D(64, 3, activation='relu')\n",
    "        self.global_pooling_layer = layers.GlobalMaxPooling1D()\n",
    "        self.dense_layer1 = layers.Dense(128, activation='relu')\n",
    "        self.dense_layer2 = layers.Dense(64, activation='relu')\n",
    "        self.output_layer = layers.Dense(num_classes, activation='softmax')\n",
    "        \n",
    "    def call(self, inputs):\n",
    "        # Separate inputs\n",
    "        input_features, input_coordinates = inputs\n",
    "        \n",
    "        # Embedding Layer\n",
    "        embedding_output = self.embedding(input_features)\n",
    "        \n",
    "        # Haversine layer\n",
    "        haversine_output = self.haversine_layer(input_coordinates)\n",
    "        \n",
    "        # Concatenate features with haversine output\n",
    "        combined_features = self.concat_layer([embedding_output, haversine_output])\n",
    "        \n",
    "        # Reshape features for attention\n",
    "        reshaped_features_for_attention = self.reshape_layer(combined_features)\n",
    "        \n",
    "        # Multi-head attention\n",
    "        multi_head_attention = self.multi_head_attention(reshaped_features_for_attention, reshaped_features_for_attention)\n",
    "        \n",
    "        # Flatten and concatenate attention output with features\n",
    "        flattened_attention = self.flatten_layer(multi_head_attention)\n",
    "        \n",
    "        # concat_features = self.concat_layer([flattened_attention, combined_features])\n",
    "        \n",
    "        # Expand dimensions for convolution\n",
    "        concat_features = tf.expand_dims(flattened_attention, axis=-1)\n",
    "        \n",
    "        # Convolutional layer\n",
    "        space_conv = self.space_conv(concat_features)\n",
    "        \n",
    "        # Global max pooling\n",
    "        pooled = self.global_pooling_layer(space_conv)\n",
    "        \n",
    "        # Fully connected layers\n",
    "        dense1 = self.dense_layer1(pooled)\n",
    "        dense2 = self.dense_layer2(dense1)\n",
    "        \n",
    "        # Output layer\n",
    "        output = self.output_layer(dense2)\n",
    "        # print(\"Output Shape: \", output.shape)\n",
    "        \n",
    "        return output"
   ]
  },
  {
   "cell_type": "code",
   "execution_count": 59,
   "id": "57f9bc8c-d6b3-4b7f-98e2-b7a14e613c40",
   "metadata": {},
   "outputs": [],
   "source": [
    "# Instantiate the model\n",
    "model = MyModelASDimExp(num_classes=y_train_one_hot.shape[1])"
   ]
  },
  {
   "cell_type": "code",
   "execution_count": 60,
   "id": "0687d04f-3a89-4741-be27-5ddd324fdde7",
   "metadata": {},
   "outputs": [],
   "source": [
    "# Compile the model\n",
    "optimizer = tf.keras.optimizers.Adam(learning_rate=0.0001)\n",
    "model.compile(optimizer=optimizer, loss='categorical_crossentropy', metrics=['accuracy'])\n"
   ]
  },
  {
   "cell_type": "code",
   "execution_count": 61,
   "id": "2dc60b1c-6522-49ef-b690-982c709394a8",
   "metadata": {},
   "outputs": [
    {
     "name": "stdout",
     "output_type": "stream",
     "text": [
      "43/43 [==============================] - 1s 32ms/step - loss: 1.5978 - accuracy: 0.2597 - val_loss: 1.5176 - val_accuracy: 0.3444\n"
     ]
    }
   ],
   "source": [
    "# Train the model\n",
    "history = model.fit([x_train, coordinates_train], y_train_one_hot, epochs=2000, batch_size=32, validation_split=0.15, verbose=1, shuffle=True)"
   ]
  },
  {
   "cell_type": "markdown",
   "id": "a2f5bdb4-4ee1-4dd1-97c6-417f75526692",
   "metadata": {
    "tags": []
   },
   "source": [
    "### **Spatial Convolution**"
   ]
  },
  {
   "cell_type": "code",
   "execution_count": 70,
   "id": "319679b4-8744-4a4e-b4cb-ec257ef2aa96",
   "metadata": {},
   "outputs": [],
   "source": [
    "class MyModelASSpatialConv(tf.keras.Model):\n",
    "    def __init__(self, num_classes):\n",
    "        super(MyModelASSpatialConv, self).__init__()\n",
    "        self.num_classes = num_classes\n",
    "        self.num_embedding_dims = len(df.columns) + 1\n",
    "        \n",
    "        # Define input layers\n",
    "        self.input_features = Input(shape=(len(df.columns),), name='input_features')\n",
    "        self.input_coordinates = Input(shape=(2,), name='input_coordinates')\n",
    "        \n",
    "        # Define Embedding Layer\n",
    "        self.embedding = layers.Dense(self.num_embedding_dims, activation='relu', name='embedding')\n",
    "        \n",
    "        # Define custom Haversine layer\n",
    "        self.haversine_layer = HaversineLayer()\n",
    "        \n",
    "        # Define other layers\n",
    "        self.concat_layer = layers.Concatenate()\n",
    "        self.reshape_layer = layers.Reshape((1, self.num_embedding_dims + 1))\n",
    "        self.multi_head_attention = layers.MultiHeadAttention(num_heads=2, key_dim=self.num_embedding_dims + 1)\n",
    "        self.flatten_layer = layers.Flatten()\n",
    "        self.space_conv = layers.Conv1D(64, 3, activation='relu')\n",
    "        self.global_pooling_layer = layers.GlobalMaxPooling1D()\n",
    "        self.dense_layer1 = layers.Dense(128, activation='relu')\n",
    "        self.dense_layer2 = layers.Dense(64, activation='relu')\n",
    "        self.output_layer = layers.Dense(num_classes, activation='softmax')\n",
    "        \n",
    "    def call(self, inputs):\n",
    "        # Separate inputs\n",
    "        input_features, input_coordinates = inputs\n",
    "        \n",
    "        # Embedding Layer\n",
    "        embedding_output = self.embedding(input_features)\n",
    "        \n",
    "        # Haversine layer\n",
    "        haversine_output = self.haversine_layer(input_coordinates)\n",
    "        \n",
    "        # Concatenate features with haversine output\n",
    "        combined_features = self.concat_layer([embedding_output, haversine_output])\n",
    "        \n",
    "        # Reshape features for attention\n",
    "        reshaped_features_for_attention = self.reshape_layer(combined_features)\n",
    "        \n",
    "        # Multi-head attention\n",
    "        multi_head_attention = self.multi_head_attention(reshaped_features_for_attention, reshaped_features_for_attention)\n",
    "        \n",
    "        # Flatten and concatenate attention output with features\n",
    "        flattened_attention = self.flatten_layer(multi_head_attention)\n",
    "        \n",
    "        concat_features = self.concat_layer([flattened_attention, combined_features])\n",
    "        \n",
    "        # Expand dimensions for convolution\n",
    "        # concat_features = tf.expand_dims(concat_features, axis=-1)\n",
    "        \n",
    "        # Convolutional layer\n",
    "        # space_conv = self.space_conv(concat_features)\n",
    "        \n",
    "        # Global max pooling\n",
    "        # pooled = self.global_pooling_layer(space_conv)\n",
    "        \n",
    "        # Fully connected layers\n",
    "        dense1 = self.dense_layer1(concat_features)\n",
    "        dense2 = self.dense_layer2(dense1)\n",
    "        \n",
    "        # Output layer\n",
    "        output = self.output_layer(dense2)\n",
    "        # print(\"Output Shape: \", output.shape)\n",
    "        \n",
    "        return output"
   ]
  },
  {
   "cell_type": "code",
   "execution_count": 71,
   "id": "629db5a3-1203-4f91-bccc-daa5052c3bec",
   "metadata": {},
   "outputs": [],
   "source": [
    "# Instantiate the model\n",
    "model = MyModelASSpatialConv(num_classes=y_train_one_hot.shape[1])"
   ]
  },
  {
   "cell_type": "code",
   "execution_count": 72,
   "id": "c10074d4-b9d9-412b-804c-5c480fe2f387",
   "metadata": {},
   "outputs": [],
   "source": [
    "# Compile the model\n",
    "optimizer = tf.keras.optimizers.Adam(learning_rate=0.0001)\n",
    "model.compile(optimizer=optimizer, loss='categorical_crossentropy', metrics=['accuracy'])\n"
   ]
  },
  {
   "cell_type": "code",
   "execution_count": 73,
   "id": "45522b88-453c-47b2-9d08-a3d39e07a4e8",
   "metadata": {},
   "outputs": [
    {
     "name": "stdout",
     "output_type": "stream",
     "text": [
      "43/43 [==============================] - 1s 27ms/step - loss: 7.4441 - accuracy: 0.1431 - val_loss: 3.4829 - val_accuracy: 0.0996\n"
     ]
    }
   ],
   "source": [
    "# Train the model\n",
    "history = model.fit([x_train, coordinates_train], y_train_one_hot, epochs=2000, batch_size=32, validation_split=0.15, verbose=1, shuffle=True)"
   ]
  },
  {
   "cell_type": "markdown",
   "id": "3b0a2ca3-485d-4278-b143-b9f5cb77d3b7",
   "metadata": {
    "tags": []
   },
   "source": [
    "### **Spatial Pooling**"
   ]
  },
  {
   "cell_type": "code",
   "execution_count": 66,
   "id": "49b2689d-7c82-47d5-b717-db7d86565571",
   "metadata": {},
   "outputs": [],
   "source": [
    "class MyModelASSpatialPool(tf.keras.Model):\n",
    "    def __init__(self, num_classes):\n",
    "        super(MyModelASSpatialPool, self).__init__()\n",
    "        self.num_classes = num_classes\n",
    "        self.num_embedding_dims = len(df.columns) + 1\n",
    "        \n",
    "        # Define input layers\n",
    "        self.input_features = Input(shape=(len(df.columns),), name='input_features')\n",
    "        self.input_coordinates = Input(shape=(2,), name='input_coordinates')\n",
    "        \n",
    "        # Define Embedding Layer\n",
    "        self.embedding = layers.Dense(self.num_embedding_dims, activation='relu', name='embedding')\n",
    "        \n",
    "        # Define custom Haversine layer\n",
    "        self.haversine_layer = HaversineLayer()\n",
    "        \n",
    "        # Define other layers\n",
    "        self.concat_layer = layers.Concatenate()\n",
    "        self.reshape_layer = layers.Reshape((1, self.num_embedding_dims + 1))\n",
    "        self.multi_head_attention = layers.MultiHeadAttention(num_heads=2, key_dim=self.num_embedding_dims + 1)\n",
    "        self.flatten_layer = layers.Flatten()\n",
    "        self.space_conv = layers.Conv1D(64, 3, activation='relu')\n",
    "        self.global_pooling_layer = layers.GlobalMaxPooling1D()\n",
    "        self.dense_layer1 = layers.Dense(128, activation='relu')\n",
    "        self.dense_layer2 = layers.Dense(64, activation='relu')\n",
    "        self.output_layer = layers.Dense(num_classes, activation='softmax')\n",
    "        \n",
    "    def call(self, inputs):\n",
    "        # Separate inputs\n",
    "        input_features, input_coordinates = inputs\n",
    "        \n",
    "        # Embedding Layer\n",
    "        embedding_output = self.embedding(input_features)\n",
    "        \n",
    "        # Haversine layer\n",
    "        haversine_output = self.haversine_layer(input_coordinates)\n",
    "        \n",
    "        # Concatenate features with haversine output\n",
    "        combined_features = self.concat_layer([embedding_output, haversine_output])\n",
    "        \n",
    "        # Reshape features for attention\n",
    "        reshaped_features_for_attention = self.reshape_layer(combined_features)\n",
    "        \n",
    "        # Multi-head attention\n",
    "        multi_head_attention = self.multi_head_attention(reshaped_features_for_attention, reshaped_features_for_attention)\n",
    "        \n",
    "        # Flatten and concatenate attention output with features\n",
    "        flattened_attention = self.flatten_layer(multi_head_attention)\n",
    "        \n",
    "        concat_features = self.concat_layer([flattened_attention, combined_features])\n",
    "        \n",
    "        # Expand dimensions for convolution\n",
    "        concat_features = tf.expand_dims(concat_features, axis=-1)\n",
    "        \n",
    "        # Convolutional layer\n",
    "        space_conv = self.space_conv(concat_features)\n",
    "        \n",
    "        pooled = tf.reshape(space_conv, (space_conv.shape[0], space_conv.shape[1] * space_conv.shape[2]))\n",
    "        \n",
    "        # Global max pooling\n",
    "        # pooled = self.global_pooling_layer(space_conv)\n",
    "        \n",
    "        # Fully connected layers\n",
    "        dense1 = self.dense_layer1(pooled)\n",
    "        dense2 = self.dense_layer2(dense1)\n",
    "        \n",
    "        # Output layer\n",
    "        output = self.output_layer(dense2)\n",
    "        # print(\"Output Shape: \", output.shape)\n",
    "        \n",
    "        return output"
   ]
  },
  {
   "cell_type": "code",
   "execution_count": 67,
   "id": "e48a6f9a-43bf-4a7a-958d-ea779c6dce5d",
   "metadata": {},
   "outputs": [],
   "source": [
    "# Instantiate the model\n",
    "model = MyModelASSpatialPool(num_classes=y_train_one_hot.shape[1])"
   ]
  },
  {
   "cell_type": "code",
   "execution_count": 68,
   "id": "42a135e8-3032-4a95-b398-48d5ee2d06d3",
   "metadata": {},
   "outputs": [],
   "source": [
    "# Compile the model\n",
    "optimizer = tf.keras.optimizers.Adam(learning_rate=0.0001)\n",
    "model.compile(optimizer=optimizer, loss='categorical_crossentropy', metrics=['accuracy'])\n"
   ]
  },
  {
   "cell_type": "code",
   "execution_count": 69,
   "id": "b72aa6c2-8ad0-4d71-a102-6a7ec8d77001",
   "metadata": {},
   "outputs": [
    {
     "name": "stdout",
     "output_type": "stream",
     "text": [
      "43/43 [==============================] - 1s 33ms/step - loss: 1.5281 - accuracy: 0.3485 - val_loss: 1.4901 - val_accuracy: 0.3734\n"
     ]
    }
   ],
   "source": [
    "# Train the model\n",
    "history = model.fit([x_train, coordinates_train], y_train_one_hot, epochs=2000, batch_size=32, validation_split=0.15, verbose=1, shuffle=True)"
   ]
  },
  {
   "cell_type": "code",
   "execution_count": null,
   "id": "d5760fca-5bf7-4ae4-b287-763566cae2fa",
   "metadata": {},
   "outputs": [],
   "source": []
  }
 ],
 "metadata": {
  "kernelspec": {
   "display_name": "Python 3 (ipykernel)",
   "language": "python",
   "name": "python3"
  },
  "language_info": {
   "codemirror_mode": {
    "name": "ipython",
    "version": 3
   },
   "file_extension": ".py",
   "mimetype": "text/x-python",
   "name": "python",
   "nbconvert_exporter": "python",
   "pygments_lexer": "ipython3",
   "version": "3.9.16"
  }
 },
 "nbformat": 4,
 "nbformat_minor": 5
}
