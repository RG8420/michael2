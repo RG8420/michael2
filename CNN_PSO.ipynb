{
  "cells": [
    {
      "cell_type": "markdown",
      "metadata": {
        "id": "vTtEB5I2Qxwe"
      },
      "source": [
        "# Mounting Drive"
      ]
    },
    {
      "cell_type": "code",
      "execution_count": null,
      "metadata": {
        "ExecuteTime": {
          "end_time": "2024-04-03T14:24:44.718915Z",
          "start_time": "2024-04-03T14:24:44.712915Z"
        },
        "id": "A7Zu-kdjQnwn"
      },
      "outputs": [],
      "source": [
        "from google.colab import drive\n",
        "\n",
        "  drive.mount(\"./gdrive\", force_remount=True)\n",
        "\n",
        " %cd \"./gdrive/My Drive/Colab_Notebooks/PSO/\"\n",
        "\n",
        " !ls -l"
      ]
    },
    {
      "cell_type": "markdown",
      "metadata": {
        "id": "__I0o1iyQuaO"
      },
      "source": []
    },
    {
      "cell_type": "markdown",
      "metadata": {
        "id": "jwpFl1XHQ2TL"
      },
      "source": [
        "# Importing Libraries"
      ]
    },
    {
      "cell_type": "code",
      "execution_count": null,
      "metadata": {
        "ExecuteTime": {
          "end_time": "2024-04-03T14:24:45.047913Z",
          "start_time": "2024-04-03T14:24:44.800914Z"
        },
        "id": "qAOKEHmERIXN"
      },
      "outputs": [],
      "source": [
        "#library\n",
        "import pandas as pd\n",
        "import numpy as np\n",
        "import random as rnd\n",
        "import os\n",
        "import re\n",
        "import time\n",
        "import seaborn as sns\n",
        "import matplotlib.pyplot as plt\n",
        "%matplotlib inline\n",
        "\n",
        "#Visualization\n",
        "import matplotlib as mpl\n",
        "import matplotlib.pyplot as plt\n",
        "import matplotlib.pylab as pylab\n",
        "import seaborn as sns\n",
        "from pandas.plotting import scatter_matrix\n",
        "\n",
        "# Importing other tools\n",
        "from sklearn import model_selection\n",
        "from sklearn.metrics import confusion_matrix, classification_report, make_scorer\n",
        "from sklearn.metrics import accuracy_score, recall_score, precision_recall_curve\n",
        "\n",
        "import warnings\n",
        "warnings.filterwarnings('ignore')"
      ]
    },
    {
      "cell_type": "markdown",
      "metadata": {
        "id": "gJWGzH-QRI2b"
      },
      "source": [
        "## Data cleaning and preprocessing"
      ]
    },
    {
      "cell_type": "code",
      "execution_count": null,
      "metadata": {
        "ExecuteTime": {
          "end_time": "2024-04-03T14:24:47.854011Z",
          "start_time": "2024-04-03T14:24:45.050914Z"
        },
        "id": "YdEV3iNBRS8Q"
      },
      "outputs": [],
      "source": [
        "coordinate_file_path = 'Vietnam CordinateFile.xlsx'\n",
        "daluong_file_path = 'VietnamDatasets.xlsx'\n",
        "\n",
        "df_coordinate = pd.read_excel(coordinate_file_path)\n",
        "df_daluong = pd.read_excel(daluong_file_path)"
      ]
    },
    {
      "cell_type": "code",
      "execution_count": null,
      "metadata": {
        "ExecuteTime": {
          "end_time": "2024-04-03T14:24:47.869915Z",
          "start_time": "2024-04-03T14:24:47.855915Z"
        },
        "jupyter": {
          "outputs_hidden": false
        },
        "id": "km4xcR1JE3dq"
      },
      "outputs": [],
      "source": [
        "coordinate_columns = ['Well Point Number', 'Longitude and Latitude']\n",
        "daluong_columns = ['well_code', 'na', 'k', 'ca2', 'mg2', 'fe3', 'fe2', 'cl', 'so4', 'hco3',\n",
        "                   'co3', 'no2', 'hardness_general', 'no3', 'hardness_temporal',\n",
        "                   'hardness_permanent', 'ph', 'co2_free', 'co2_depend', 'co2_infiltrate',\n",
        "                   'sio2', 'tds105']\n",
        "\n",
        "df_coordinate = df_coordinate[coordinate_columns]\n",
        "df_daluong = df_daluong[daluong_columns]"
      ]
    },
    {
      "cell_type": "markdown",
      "metadata": {
        "id": "6oCRqMpcRa4i"
      },
      "source": [
        "## Removing Duplicates"
      ]
    },
    {
      "cell_type": "code",
      "execution_count": null,
      "metadata": {
        "ExecuteTime": {
          "end_time": "2024-04-03T14:24:47.900914Z",
          "start_time": "2024-04-03T14:24:47.872916Z"
        },
        "id": "UVICL8eVReNr"
      },
      "outputs": [],
      "source": [
        "# Check for missing values and display the report\n",
        "daluong_mean_columns = ['fe2', 'fe3', 'no2', 'no3', 'co2_infiltrate', 'sio2']\n",
        "for col in daluong_mean_columns:\n",
        "    df_daluong[col].fillna(df_daluong[col].mean(), inplace=True)\n",
        "\n",
        "# Drop rows with missing values show the results with indicative rows that are dropped.\n",
        "df_daluong.dropna(subset=daluong_columns, inplace=True)\n",
        "\n",
        "df_daluong.drop_duplicates(inplace=True)"
      ]
    },
    {
      "cell_type": "markdown",
      "metadata": {
        "id": "RvvFsQLjRe2a"
      },
      "source": [
        "## Data Validation and Encoding"
      ]
    },
    {
      "cell_type": "code",
      "execution_count": null,
      "metadata": {
        "ExecuteTime": {
          "end_time": "2024-04-03T14:24:47.916939Z",
          "start_time": "2024-04-03T14:24:47.902916Z"
        },
        "id": "LxGXuh4ARmJo"
      },
      "outputs": [],
      "source": [
        "df_coordinate[['Longitude', 'Latitude']] = df_coordinate['Longitude and Latitude'].str.split(',', expand=True)\n",
        "df_coordinate.drop('Longitude and Latitude', axis=1, inplace=True)\n",
        "df_coordinate.rename({'Well Point Number': 'well_code'}, axis=1, inplace=True)"
      ]
    },
    {
      "cell_type": "code",
      "execution_count": null,
      "metadata": {
        "ExecuteTime": {
          "end_time": "2024-04-03T14:24:47.947940Z",
          "start_time": "2024-04-03T14:24:47.919915Z"
        },
        "jupyter": {
          "outputs_hidden": false
        },
        "id": "uUT0XSNeE3dr"
      },
      "outputs": [],
      "source": [
        "def remove_outliers_iqr(dataframe, column):\n",
        "    '''\n",
        "    Remove outliers using the IQR method\n",
        "    :param dataframe:\n",
        "    :param column:\n",
        "    :return:\n",
        "    '''\n",
        "    Q1 = dataframe[column].quantile(0.05)\n",
        "    Q3 = dataframe[column].quantile(0.95)\n",
        "    IQR = Q3 - Q1\n",
        "    df = dataframe[~((dataframe[column] < (Q1 - 1.5 * IQR)) | (dataframe[column] > (Q3 + 1.5 * IQR)))]\n",
        "    return df\n",
        "\n",
        "\n",
        "df_daluong = remove_outliers_iqr(df_daluong, 'cl')"
      ]
    },
    {
      "cell_type": "code",
      "execution_count": null,
      "metadata": {
        "ExecuteTime": {
          "end_time": "2024-04-03T14:24:48.102914Z",
          "start_time": "2024-04-03T14:24:47.950915Z"
        },
        "jupyter": {
          "outputs_hidden": false
        },
        "id": "jeVkCb5YE3dr"
      },
      "outputs": [],
      "source": [
        "df_daluong_tmp = df_daluong.copy(deep=True)\n",
        "def binarize(column, threshold):\n",
        "    '''\n",
        "    Binarize the column based on the threshold\n",
        "    :param column:\n",
        "    :param threshold:\n",
        "    :return:\n",
        "    '''\n",
        "    return column.apply(lambda x: 1 if x <= threshold else 0)\n",
        "\n",
        "\n",
        "def binarize_inclusive(column, lower_bound, upper_bound):\n",
        "    '''\n",
        "    Binarize the column based on the lower and upper bounds\n",
        "    :param column:\n",
        "    :param lower_bound:\n",
        "    :param upper_bound:\n",
        "    :return:\n",
        "    '''\n",
        "    return column.apply(lambda x: 1 if (x >= lower_bound and x <= upper_bound) else 0)\n",
        "\n",
        "df_daluong_tmp['ph'] = binarize_inclusive(df_daluong_tmp['ph'], 5.5, 8.5)\n",
        "df_daluong_tmp['fe2'] = binarize(df_daluong_tmp['fe2'], 5)\n",
        "df_daluong_tmp['fe3'] = binarize(df_daluong_tmp['fe3'], 5)\n",
        "df_daluong_tmp['cl'] = binarize(df_daluong_tmp['cl'], 250)\n",
        "df_daluong_tmp['so4'] = binarize(df_daluong_tmp['so4'], 400)\n",
        "df_daluong_tmp['tds105'] = binarize(df_daluong_tmp['tds105'], 400)\n",
        "df_daluong_tmp['hardness_general'] = binarize(df_daluong_tmp['hardness_general'], 500)\n",
        "df_daluong_tmp['na'] = binarize(df_daluong_tmp['na'], 200)\n",
        "df_daluong_tmp['k'] = binarize(df_daluong_tmp['k'], 12)\n",
        "df_daluong_tmp['mg2'] = binarize(df_daluong_tmp['mg2'], 50)\n",
        "df_daluong_tmp['ca2'] = binarize(df_daluong_tmp['ca2'], 75)\n",
        "df_daluong_tmp['no3'] = binarize(df_daluong_tmp['no3'], 15)\n",
        "df_daluong_tmp['no2'] = binarize(df_daluong_tmp['no2'], 1)\n",
        "df_daluong_tmp['hco3'] = binarize(df_daluong_tmp['hco3'], 350)\n",
        "df_daluong_tmp['co3'] = binarize(df_daluong_tmp['co3'], 1)\n",
        "df_daluong_tmp['hardness_temporal'] = 1\n",
        "df_daluong_tmp['hardness_permanent'] = 1\n",
        "df_daluong_tmp['co2_free'] = 1\n",
        "df_daluong_tmp['co2_depend'] = 1\n",
        "df_daluong_tmp['co2_infiltrate'] = 1\n",
        "df_daluong_tmp['sio2'] = 1\n",
        "\n",
        "df_daluong['is_drinkable'] = df_daluong_tmp.drop('well_code', axis=1).apply(lambda row: int(row.nunique() == 1), axis=1)"
      ]
    },
    {
      "cell_type": "code",
      "execution_count": null,
      "metadata": {
        "ExecuteTime": {
          "end_time": "2024-04-03T14:24:48.367914Z",
          "start_time": "2024-04-03T14:24:48.105915Z"
        },
        "jupyter": {
          "outputs_hidden": false
        },
        "id": "TiYhya3qE3dr"
      },
      "outputs": [],
      "source": [
        "values = [200, 12, 75, 50, 5, 5, 250, 400, 350, 1, 1, 15, 8.5, 400, 500, 242, 393, 51, 127, 16, 5]\n",
        "wi = [((1 / sum(values)) / value) for value in values]\n",
        "\n",
        "\n",
        "def calculate_norm(dataframe, column, scale):\n",
        "    if column == 'ph':\n",
        "        return [100 * ((i - scale) / (8.5 - scale)) for i in dataframe[column]]\n",
        "    else:\n",
        "        return [100 * (i / scale) for i in dataframe[column]]\n",
        "\n",
        "\n",
        "norm_values = dict()  # Empty dictionary to hold all the norm values\n",
        "\n",
        "columns = ['ph', 'fe2', 'fe3', 'so4', 'tds105', 'hardness_general', 'no2', 'no3', 'ca2', 'mg2', 'co2_free',\n",
        "           'co2_depend', 'co2_infiltrate', 'sio2', 'na', 'k', 'hco3', 'co3', 'cl', 'hardness_temporal',\n",
        "           'hardness_permanent']\n",
        "\n",
        "scales = [7, 5, 5, 400, 400, 500, 1, 15, 75, 50, 51, 127, 16, 42, 200, 12, 350, 1, 250, 242, 393]\n",
        "\n",
        "for column, scale in zip(columns, scales):\n",
        "    norm_values[column] = calculate_norm(df_daluong, column, scale)\n",
        "\n",
        "df_daluong['wqi'] = 0\n",
        "for i in range(len(df_daluong)):\n",
        "    df_daluong['wqi'].iloc[i] = sum(norm_values[column][i] * weight for column, weight in zip(columns, wi)) / sum(wi)\n",
        "# Scaling the wqi values between 0 and 100\n",
        "df_daluong['wqi'] = (df_daluong['wqi'] - df_daluong['wqi'].min()) / (df_daluong['wqi'].max() - df_daluong['wqi'].min()) * 100"
      ]
    },
    {
      "cell_type": "code",
      "execution_count": null,
      "metadata": {
        "ExecuteTime": {
          "end_time": "2024-04-03T14:24:48.383915Z",
          "start_time": "2024-04-03T14:24:48.369915Z"
        },
        "jupyter": {
          "outputs_hidden": false
        },
        "id": "rr4H8NnqE3dr"
      },
      "outputs": [],
      "source": [
        "# Quantile to classify the water quality\n",
        "quantiles = df_daluong['wqi'].quantile([0, 0.2, 0.4, 0.6, 0.8, 1]).values\n",
        "\n",
        "# Function to classify based on dynamic quantile ranges\n",
        "def water_quality_class_quantile(x):\n",
        "    if x <= quantiles[1]:\n",
        "        return \"Poor\"\n",
        "    elif quantiles[1] < x <= quantiles[2]:\n",
        "        return \"Fair\"\n",
        "    elif quantiles[2] < x <= quantiles[3]:\n",
        "        return \"Medium\"\n",
        "    elif quantiles[3] < x <= quantiles[4]:\n",
        "        return \"Good\"\n",
        "    elif quantiles[4] < x:\n",
        "        return \"Excellent\"\n",
        "\n",
        "df_daluong['wqc'] = df_daluong['wqi'].apply(water_quality_class_quantile)"
      ]
    },
    {
      "cell_type": "code",
      "execution_count": null,
      "metadata": {
        "ExecuteTime": {
          "end_time": "2024-04-03T14:24:48.414914Z",
          "start_time": "2024-04-03T14:24:48.388917Z"
        },
        "jupyter": {
          "outputs_hidden": false
        },
        "id": "w9pkZiTCE3dr"
      },
      "outputs": [],
      "source": [
        "features_df = df_daluong[['well_code', 'na', 'hco3', 'hardness_permanent', 'co2_free', 'sio2', 'wqc']]\n",
        "df_final = pd.merge(features_df, df_coordinate, on='well_code', how='inner')\n",
        "\n",
        "df_final['Longitude'] = df_final['Longitude'].astype('float')\n",
        "df_final['Latitude'] = df_final['Latitude'].astype('float')\n",
        "\n",
        "df_final.dropna(inplace=True)"
      ]
    },
    {
      "cell_type": "code",
      "execution_count": null,
      "metadata": {
        "ExecuteTime": {
          "end_time": "2024-04-03T14:24:51.392014Z",
          "start_time": "2024-04-03T14:24:48.419916Z"
        },
        "jupyter": {
          "outputs_hidden": false
        },
        "id": "Z9pFkh47E3dr"
      },
      "outputs": [],
      "source": [
        "# Encode the target variable\n",
        "from sklearn.preprocessing import LabelEncoder\n",
        "from keras.utils import to_categorical\n",
        "\n",
        "label_encoder_well_code = LabelEncoder()\n",
        "df_final['well_code'] = label_encoder_well_code.fit_transform(df_final['well_code'])\n",
        "\n",
        "X = df_final.drop(['wqc'], axis=1)\n",
        "y_target = df_final['wqc']"
      ]
    },
    {
      "cell_type": "code",
      "execution_count": null,
      "metadata": {
        "ExecuteTime": {
          "end_time": "2024-04-03T14:24:51.407956Z",
          "start_time": "2024-04-03T14:24:51.392984Z"
        },
        "jupyter": {
          "outputs_hidden": false
        },
        "id": "w7HxW8EjE3dr"
      },
      "outputs": [],
      "source": [
        "label_encoder = LabelEncoder()\n",
        "y_target = label_encoder.fit_transform(y_target)\n",
        "y_target = to_categorical(y_target)\n",
        "\n",
        "label_cls = label_encoder.classes_"
      ]
    },
    {
      "cell_type": "markdown",
      "metadata": {
        "id": "v5GBWgJERo-S"
      },
      "source": [
        "## Data Split"
      ]
    },
    {
      "cell_type": "code",
      "execution_count": null,
      "metadata": {
        "ExecuteTime": {
          "end_time": "2024-04-03T14:24:51.469954Z",
          "start_time": "2024-04-03T14:24:51.409955Z"
        },
        "id": "y5F_RrjTRxen"
      },
      "outputs": [],
      "source": [
        "# Split the data into training and testing sets\n",
        "from sklearn.model_selection import train_test_split\n",
        "\n",
        "X_train, X_test, y_train, y_test = train_test_split(X, y_target, test_size=0.1, random_state=0, stratify=y_target)"
      ]
    },
    {
      "cell_type": "markdown",
      "metadata": {
        "id": "W3zkFRv6RxyZ"
      },
      "source": [
        "## Data Normalization"
      ]
    },
    {
      "cell_type": "code",
      "execution_count": null,
      "metadata": {
        "ExecuteTime": {
          "end_time": "2024-04-03T14:24:51.485981Z",
          "start_time": "2024-04-03T14:24:51.471955Z"
        },
        "id": "axPkQhw8R02n"
      },
      "outputs": [],
      "source": [
        "# Normalize the features\n",
        "from sklearn.preprocessing import MinMaxScaler\n",
        "\n",
        "scaler_feature = MinMaxScaler()\n",
        "X_train = scaler_feature.fit_transform(X_train)\n",
        "X_test = scaler_feature.transform(X_test)"
      ]
    },
    {
      "cell_type": "markdown",
      "metadata": {
        "id": "PCN2pdSpR1H7"
      },
      "source": [
        "# Model Inputs"
      ]
    },
    {
      "cell_type": "code",
      "execution_count": null,
      "metadata": {
        "ExecuteTime": {
          "end_time": "2024-04-03T14:24:51.501980Z",
          "start_time": "2024-04-03T14:24:51.488957Z"
        },
        "jupyter": {
          "outputs_hidden": false
        },
        "id": "tjWW62SkE3ds"
      },
      "outputs": [],
      "source": [
        "X_train = X_train.reshape(X_train.shape[0], X_train.shape[1], 1)\n",
        "X_test = X_test.reshape(X_test.shape[0], X_test.shape[1], 1)"
      ]
    },
    {
      "cell_type": "markdown",
      "metadata": {
        "id": "vrsX9m8sS9wy"
      },
      "source": [
        "# Model Creation"
      ]
    },
    {
      "cell_type": "code",
      "execution_count": null,
      "metadata": {
        "ExecuteTime": {
          "end_time": "2024-04-03T14:24:51.517989Z",
          "start_time": "2024-04-03T14:24:51.503956Z"
        },
        "jupyter": {
          "outputs_hidden": false
        },
        "id": "Ddb3i0jLE3ds"
      },
      "outputs": [],
      "source": [
        "import tensorflow as tf\n",
        "from pyswarm import pso\n",
        "\n",
        "def create_model(layer_params):\n",
        "    model = tf.keras.models.Sequential()\n",
        "    model.add(tf.keras.layers.Conv1D(layer_params[0], 3))\n",
        "    model.add(tf.keras.layers.MaxPooling1D(pool_size=2, padding='same'))\n",
        "    model.add(tf.keras.layers.Conv1D(layer_params[1]*2, 3))\n",
        "    model.add(tf.keras.layers.MaxPooling1D(pool_size=2, padding='same'))\n",
        "    model.add(tf.keras.layers.Flatten())\n",
        "    model.add(tf.keras.layers.Dense(units=int(layer_params[2]), activation='relu'))\n",
        "    model.add(tf.keras.layers.Dense(units=5, activation='softmax'))\n",
        "\n",
        "    optimizer = tf.keras.optimizers.Adam(learning_rate=0.0001)\n",
        "    model.compile(optimizer=optimizer, loss='categorical_crossentropy', metrics=['accuracy'])\n",
        "    return model"
      ]
    },
    {
      "cell_type": "markdown",
      "metadata": {
        "collapsed": false,
        "jupyter": {
          "outputs_hidden": false
        },
        "id": "SaVXXZdFE3ds"
      },
      "source": [
        "# PSO Optimization"
      ]
    },
    {
      "cell_type": "code",
      "execution_count": null,
      "metadata": {
        "ExecuteTime": {
          "end_time": "2024-04-03T14:24:51.533956Z",
          "start_time": "2024-04-03T14:24:51.522957Z"
        },
        "jupyter": {
          "outputs_hidden": false
        },
        "id": "4JCGHtFFE3ds"
      },
      "outputs": [],
      "source": [
        "def train_network(layer_params):\n",
        "    mlp = create_model(layer_params)\n",
        "    hst = mlp.fit(X_train, y_train, validation_data=(X_test, y_test), batch_size=32, epochs=20, verbose=0)\n",
        "    return 1 - hst.history['accuracy'][-1]"
      ]
    },
    {
      "cell_type": "code",
      "execution_count": null,
      "metadata": {
        "ExecuteTime": {
          "end_time": "2024-04-03T14:43:00.626036Z",
          "start_time": "2024-04-03T14:24:51.537957Z"
        },
        "id": "PBKr8Z9hS1k6",
        "outputId": "cfa43c30-d541-487d-c44e-51035107d582"
      },
      "outputs": [
        {
          "name": "stdout",
          "output_type": "stream",
          "text": [
            "Stopping search: Swarm best position change less than 1\n"
          ]
        }
      ],
      "source": [
        "lb = [16, 32, 64]\n",
        "ub = [64, 128, 128]\n",
        "\n",
        "xopt, fopt = pso(train_network, lb, ub, swarmsize=5, omega=0.5, phip=0.5, phig=1.0, maxiter=30, minstep=1)"
      ]
    },
    {
      "cell_type": "code",
      "execution_count": null,
      "metadata": {
        "ExecuteTime": {
          "end_time": "2024-04-03T14:43:00.644037Z",
          "start_time": "2024-04-03T14:43:00.629037Z"
        },
        "id": "LqRrMIpYWaTt",
        "outputId": "8293f025-8213-4ac4-bed3-96d15849479e"
      },
      "outputs": [
        {
          "name": "stdout",
          "output_type": "stream",
          "text": [
            "The otpimized parameters are:\n",
            "first filter 1D:  64\n",
            "second filter 1D:  108\n",
            "dense units:  81\n"
          ]
        }
      ],
      "source": [
        "# The optimized parameters\n",
        "print(\"The otpimized parameters are:\")\n",
        "print(\"first filter 1D: \", int(xopt[0]))\n",
        "print(\"second filter 1D: \", int(xopt[1]))\n",
        "print(\"dense units: \", int(xopt[2]))"
      ]
    },
    {
      "cell_type": "markdown",
      "metadata": {
        "id": "BufKymZwTJyK"
      },
      "source": [
        "# Training the Model on a given particle (Hyperparmeters of the model)"
      ]
    },
    {
      "cell_type": "code",
      "execution_count": null,
      "metadata": {
        "ExecuteTime": {
          "end_time": "2024-04-03T14:46:00.219218Z",
          "start_time": "2024-04-03T14:45:14.765897Z"
        },
        "id": "5YPXJJSdS_8d",
        "outputId": "c3959bca-d3ba-408b-a320-7fe38cfff175"
      },
      "outputs": [
        {
          "name": "stdout",
          "output_type": "stream",
          "text": [
            "Epoch 1/200\n",
            "23/23 [==============================] - 2s 37ms/step - loss: 1.5985 - accuracy: 0.2712 - val_loss: 1.5839 - val_accuracy: 0.4125\n",
            "Epoch 2/200\n",
            "23/23 [==============================] - 0s 16ms/step - loss: 1.5711 - accuracy: 0.4339 - val_loss: 1.5573 - val_accuracy: 0.4375\n",
            "Epoch 3/200\n",
            "23/23 [==============================] - 0s 13ms/step - loss: 1.5436 - accuracy: 0.4618 - val_loss: 1.5262 - val_accuracy: 0.4500\n",
            "Epoch 4/200\n",
            "23/23 [==============================] - 0s 9ms/step - loss: 1.5115 - accuracy: 0.4812 - val_loss: 1.4915 - val_accuracy: 0.4875\n",
            "Epoch 5/200\n",
            "23/23 [==============================] - 0s 8ms/step - loss: 1.4750 - accuracy: 0.5076 - val_loss: 1.4510 - val_accuracy: 0.5625\n",
            "Epoch 6/200\n",
            "23/23 [==============================] - 0s 11ms/step - loss: 1.4340 - accuracy: 0.5160 - val_loss: 1.4046 - val_accuracy: 0.5125\n",
            "Epoch 7/200\n",
            "23/23 [==============================] - 0s 11ms/step - loss: 1.3852 - accuracy: 0.5271 - val_loss: 1.3522 - val_accuracy: 0.5500\n",
            "Epoch 8/200\n",
            "23/23 [==============================] - 0s 10ms/step - loss: 1.3340 - accuracy: 0.5424 - val_loss: 1.2967 - val_accuracy: 0.5750\n",
            "Epoch 9/200\n",
            "23/23 [==============================] - 0s 11ms/step - loss: 1.2815 - accuracy: 0.5549 - val_loss: 1.2443 - val_accuracy: 0.6000\n",
            "Epoch 10/200\n",
            "23/23 [==============================] - 0s 10ms/step - loss: 1.2303 - accuracy: 0.5688 - val_loss: 1.1932 - val_accuracy: 0.5625\n",
            "Epoch 11/200\n",
            "23/23 [==============================] - 0s 10ms/step - loss: 1.1786 - accuracy: 0.5688 - val_loss: 1.1457 - val_accuracy: 0.5625\n",
            "Epoch 12/200\n",
            "23/23 [==============================] - 0s 10ms/step - loss: 1.1325 - accuracy: 0.5786 - val_loss: 1.1040 - val_accuracy: 0.6125\n",
            "Epoch 13/200\n",
            "23/23 [==============================] - 0s 9ms/step - loss: 1.0910 - accuracy: 0.5814 - val_loss: 1.0669 - val_accuracy: 0.5875\n",
            "Epoch 14/200\n",
            "23/23 [==============================] - 0s 9ms/step - loss: 1.0522 - accuracy: 0.6050 - val_loss: 1.0310 - val_accuracy: 0.6250\n",
            "Epoch 15/200\n",
            "23/23 [==============================] - 0s 10ms/step - loss: 1.0182 - accuracy: 0.5994 - val_loss: 1.0004 - val_accuracy: 0.6625\n",
            "Epoch 16/200\n",
            "23/23 [==============================] - 0s 10ms/step - loss: 0.9856 - accuracy: 0.6203 - val_loss: 0.9733 - val_accuracy: 0.6875\n",
            "Epoch 17/200\n",
            "23/23 [==============================] - 0s 14ms/step - loss: 0.9567 - accuracy: 0.6356 - val_loss: 0.9467 - val_accuracy: 0.6750\n",
            "Epoch 18/200\n",
            "23/23 [==============================] - 0s 11ms/step - loss: 0.9311 - accuracy: 0.6300 - val_loss: 0.9256 - val_accuracy: 0.6875\n",
            "Epoch 19/200\n",
            "23/23 [==============================] - 0s 11ms/step - loss: 0.9093 - accuracy: 0.6481 - val_loss: 0.9042 - val_accuracy: 0.6750\n",
            "Epoch 20/200\n",
            "23/23 [==============================] - 0s 10ms/step - loss: 0.8829 - accuracy: 0.6745 - val_loss: 0.8847 - val_accuracy: 0.6625\n",
            "Epoch 21/200\n",
            "23/23 [==============================] - 0s 8ms/step - loss: 0.8620 - accuracy: 0.6718 - val_loss: 0.8658 - val_accuracy: 0.6875\n",
            "Epoch 22/200\n",
            "23/23 [==============================] - 0s 10ms/step - loss: 0.8408 - accuracy: 0.6885 - val_loss: 0.8485 - val_accuracy: 0.6875\n",
            "Epoch 23/200\n",
            "23/23 [==============================] - 0s 9ms/step - loss: 0.8225 - accuracy: 0.6829 - val_loss: 0.8409 - val_accuracy: 0.6500\n",
            "Epoch 24/200\n",
            "23/23 [==============================] - 0s 10ms/step - loss: 0.8060 - accuracy: 0.6912 - val_loss: 0.8166 - val_accuracy: 0.6875\n",
            "Epoch 25/200\n",
            "23/23 [==============================] - 0s 9ms/step - loss: 0.7865 - accuracy: 0.7010 - val_loss: 0.8046 - val_accuracy: 0.6625\n",
            "Epoch 26/200\n",
            "23/23 [==============================] - 0s 9ms/step - loss: 0.7709 - accuracy: 0.7107 - val_loss: 0.7934 - val_accuracy: 0.7000\n",
            "Epoch 27/200\n",
            "23/23 [==============================] - 0s 9ms/step - loss: 0.7543 - accuracy: 0.7204 - val_loss: 0.7744 - val_accuracy: 0.7250\n",
            "Epoch 28/200\n",
            "23/23 [==============================] - 0s 9ms/step - loss: 0.7421 - accuracy: 0.7274 - val_loss: 0.7636 - val_accuracy: 0.7250\n",
            "Epoch 29/200\n",
            "23/23 [==============================] - 0s 9ms/step - loss: 0.7270 - accuracy: 0.7399 - val_loss: 0.7540 - val_accuracy: 0.7125\n",
            "Epoch 30/200\n",
            "23/23 [==============================] - 0s 9ms/step - loss: 0.7141 - accuracy: 0.7483 - val_loss: 0.7385 - val_accuracy: 0.7500\n",
            "Epoch 31/200\n",
            "23/23 [==============================] - 0s 10ms/step - loss: 0.7036 - accuracy: 0.7524 - val_loss: 0.7263 - val_accuracy: 0.7625\n",
            "Epoch 32/200\n",
            "23/23 [==============================] - 0s 9ms/step - loss: 0.6905 - accuracy: 0.7455 - val_loss: 0.7238 - val_accuracy: 0.7375\n",
            "Epoch 33/200\n",
            "23/23 [==============================] - 0s 9ms/step - loss: 0.6798 - accuracy: 0.7552 - val_loss: 0.7101 - val_accuracy: 0.7500\n",
            "Epoch 34/200\n",
            "23/23 [==============================] - 0s 9ms/step - loss: 0.6688 - accuracy: 0.7538 - val_loss: 0.7057 - val_accuracy: 0.7625\n",
            "Epoch 35/200\n",
            "23/23 [==============================] - 0s 9ms/step - loss: 0.6557 - accuracy: 0.7608 - val_loss: 0.7056 - val_accuracy: 0.7250\n",
            "Epoch 36/200\n",
            "23/23 [==============================] - 0s 8ms/step - loss: 0.6482 - accuracy: 0.7636 - val_loss: 0.6923 - val_accuracy: 0.7625\n",
            "Epoch 37/200\n",
            "23/23 [==============================] - 0s 9ms/step - loss: 0.6372 - accuracy: 0.7691 - val_loss: 0.6824 - val_accuracy: 0.7625\n",
            "Epoch 38/200\n",
            "23/23 [==============================] - 0s 8ms/step - loss: 0.6305 - accuracy: 0.7789 - val_loss: 0.6767 - val_accuracy: 0.7750\n",
            "Epoch 39/200\n",
            "23/23 [==============================] - 0s 9ms/step - loss: 0.6200 - accuracy: 0.7691 - val_loss: 0.6710 - val_accuracy: 0.7500\n",
            "Epoch 40/200\n",
            "23/23 [==============================] - 0s 9ms/step - loss: 0.6139 - accuracy: 0.7872 - val_loss: 0.6701 - val_accuracy: 0.7625\n",
            "Epoch 41/200\n",
            "23/23 [==============================] - 0s 10ms/step - loss: 0.6044 - accuracy: 0.7803 - val_loss: 0.6567 - val_accuracy: 0.7750\n",
            "Epoch 42/200\n",
            "23/23 [==============================] - 0s 10ms/step - loss: 0.5976 - accuracy: 0.7830 - val_loss: 0.6562 - val_accuracy: 0.7625\n",
            "Epoch 43/200\n",
            "23/23 [==============================] - 0s 11ms/step - loss: 0.5909 - accuracy: 0.7858 - val_loss: 0.6539 - val_accuracy: 0.7625\n",
            "Epoch 44/200\n",
            "23/23 [==============================] - 0s 9ms/step - loss: 0.5842 - accuracy: 0.7886 - val_loss: 0.6511 - val_accuracy: 0.7500\n",
            "Epoch 45/200\n",
            "23/23 [==============================] - 0s 10ms/step - loss: 0.5805 - accuracy: 0.7844 - val_loss: 0.6428 - val_accuracy: 0.7750\n",
            "Epoch 46/200\n",
            "23/23 [==============================] - 0s 8ms/step - loss: 0.5713 - accuracy: 0.7900 - val_loss: 0.6552 - val_accuracy: 0.7375\n",
            "Epoch 47/200\n",
            "23/23 [==============================] - 0s 10ms/step - loss: 0.5708 - accuracy: 0.7858 - val_loss: 0.6370 - val_accuracy: 0.7750\n",
            "Epoch 48/200\n",
            "23/23 [==============================] - 0s 9ms/step - loss: 0.5651 - accuracy: 0.7928 - val_loss: 0.6348 - val_accuracy: 0.7625\n",
            "Epoch 49/200\n",
            "23/23 [==============================] - 0s 9ms/step - loss: 0.5598 - accuracy: 0.7928 - val_loss: 0.6343 - val_accuracy: 0.7500\n",
            "Epoch 50/200\n",
            "23/23 [==============================] - 0s 9ms/step - loss: 0.5548 - accuracy: 0.7955 - val_loss: 0.6250 - val_accuracy: 0.7625\n",
            "Epoch 51/200\n",
            "23/23 [==============================] - 0s 9ms/step - loss: 0.5497 - accuracy: 0.7969 - val_loss: 0.6469 - val_accuracy: 0.7250\n",
            "Epoch 52/200\n",
            "23/23 [==============================] - 0s 10ms/step - loss: 0.5489 - accuracy: 0.7955 - val_loss: 0.6222 - val_accuracy: 0.7625\n",
            "Epoch 53/200\n",
            "23/23 [==============================] - 0s 9ms/step - loss: 0.5413 - accuracy: 0.8122 - val_loss: 0.6138 - val_accuracy: 0.7875\n",
            "Epoch 54/200\n",
            "23/23 [==============================] - 0s 10ms/step - loss: 0.5361 - accuracy: 0.8053 - val_loss: 0.6254 - val_accuracy: 0.7375\n",
            "Epoch 55/200\n",
            "23/23 [==============================] - 0s 8ms/step - loss: 0.5346 - accuracy: 0.7928 - val_loss: 0.6354 - val_accuracy: 0.7375\n",
            "Epoch 56/200\n",
            "23/23 [==============================] - 0s 8ms/step - loss: 0.5278 - accuracy: 0.8011 - val_loss: 0.6069 - val_accuracy: 0.8000\n",
            "Epoch 57/200\n",
            "23/23 [==============================] - 0s 9ms/step - loss: 0.5281 - accuracy: 0.7983 - val_loss: 0.6007 - val_accuracy: 0.8000\n",
            "Epoch 58/200\n",
            "23/23 [==============================] - 0s 9ms/step - loss: 0.5241 - accuracy: 0.8067 - val_loss: 0.6181 - val_accuracy: 0.7500\n",
            "Epoch 59/200\n",
            "23/23 [==============================] - 0s 11ms/step - loss: 0.5195 - accuracy: 0.8011 - val_loss: 0.6383 - val_accuracy: 0.7500\n",
            "Epoch 60/200\n",
            "23/23 [==============================] - 0s 9ms/step - loss: 0.5199 - accuracy: 0.8053 - val_loss: 0.6134 - val_accuracy: 0.7750\n",
            "Epoch 61/200\n",
            "23/23 [==============================] - 0s 11ms/step - loss: 0.5147 - accuracy: 0.8081 - val_loss: 0.5992 - val_accuracy: 0.8125\n",
            "Epoch 62/200\n",
            "23/23 [==============================] - 0s 10ms/step - loss: 0.5141 - accuracy: 0.8095 - val_loss: 0.6009 - val_accuracy: 0.7875\n",
            "Epoch 63/200\n",
            "23/23 [==============================] - 0s 9ms/step - loss: 0.5080 - accuracy: 0.8122 - val_loss: 0.6099 - val_accuracy: 0.7625\n",
            "Epoch 64/200\n",
            "23/23 [==============================] - 0s 9ms/step - loss: 0.5063 - accuracy: 0.8150 - val_loss: 0.6021 - val_accuracy: 0.7750\n",
            "Epoch 65/200\n",
            "23/23 [==============================] - 0s 8ms/step - loss: 0.5037 - accuracy: 0.8164 - val_loss: 0.6093 - val_accuracy: 0.7625\n",
            "Epoch 66/200\n",
            "23/23 [==============================] - 0s 9ms/step - loss: 0.5017 - accuracy: 0.8136 - val_loss: 0.6064 - val_accuracy: 0.7625\n",
            "Epoch 67/200\n",
            "23/23 [==============================] - 0s 8ms/step - loss: 0.4982 - accuracy: 0.8248 - val_loss: 0.6168 - val_accuracy: 0.7500\n",
            "Epoch 68/200\n",
            "23/23 [==============================] - 0s 9ms/step - loss: 0.4968 - accuracy: 0.8136 - val_loss: 0.5876 - val_accuracy: 0.8375\n",
            "Epoch 69/200\n",
            "23/23 [==============================] - 0s 8ms/step - loss: 0.4986 - accuracy: 0.8136 - val_loss: 0.5984 - val_accuracy: 0.7750\n",
            "Epoch 70/200\n",
            "23/23 [==============================] - 0s 10ms/step - loss: 0.4941 - accuracy: 0.8178 - val_loss: 0.5987 - val_accuracy: 0.7875\n",
            "Epoch 71/200\n",
            "23/23 [==============================] - 0s 11ms/step - loss: 0.4910 - accuracy: 0.8178 - val_loss: 0.6046 - val_accuracy: 0.7750\n",
            "Epoch 72/200\n",
            "23/23 [==============================] - 0s 9ms/step - loss: 0.4902 - accuracy: 0.8150 - val_loss: 0.5850 - val_accuracy: 0.8125\n",
            "Epoch 73/200\n",
            "23/23 [==============================] - 0s 9ms/step - loss: 0.4933 - accuracy: 0.8122 - val_loss: 0.5978 - val_accuracy: 0.7875\n",
            "Epoch 74/200\n",
            "23/23 [==============================] - 0s 9ms/step - loss: 0.4855 - accuracy: 0.8150 - val_loss: 0.5972 - val_accuracy: 0.7750\n",
            "Epoch 75/200\n",
            "23/23 [==============================] - 0s 8ms/step - loss: 0.4846 - accuracy: 0.8206 - val_loss: 0.5931 - val_accuracy: 0.7875\n",
            "Epoch 76/200\n",
            "23/23 [==============================] - 0s 9ms/step - loss: 0.4812 - accuracy: 0.8206 - val_loss: 0.6078 - val_accuracy: 0.7625\n",
            "Epoch 77/200\n",
            "23/23 [==============================] - 0s 9ms/step - loss: 0.4836 - accuracy: 0.8248 - val_loss: 0.5936 - val_accuracy: 0.8000\n",
            "Epoch 78/200\n",
            "23/23 [==============================] - 0s 9ms/step - loss: 0.4782 - accuracy: 0.8178 - val_loss: 0.6040 - val_accuracy: 0.7750\n",
            "Epoch 79/200\n",
            "23/23 [==============================] - 0s 8ms/step - loss: 0.4790 - accuracy: 0.8164 - val_loss: 0.5915 - val_accuracy: 0.8000\n",
            "Epoch 80/200\n",
            "23/23 [==============================] - 0s 9ms/step - loss: 0.4753 - accuracy: 0.8234 - val_loss: 0.5844 - val_accuracy: 0.8125\n",
            "Epoch 81/200\n",
            "23/23 [==============================] - 0s 11ms/step - loss: 0.4776 - accuracy: 0.8164 - val_loss: 0.6034 - val_accuracy: 0.7750\n",
            "Epoch 82/200\n",
            "23/23 [==============================] - 0s 10ms/step - loss: 0.4745 - accuracy: 0.8220 - val_loss: 0.5871 - val_accuracy: 0.8125\n",
            "Epoch 83/200\n",
            "23/23 [==============================] - 0s 9ms/step - loss: 0.4730 - accuracy: 0.8178 - val_loss: 0.6051 - val_accuracy: 0.7625\n",
            "Epoch 84/200\n",
            "23/23 [==============================] - 0s 8ms/step - loss: 0.4764 - accuracy: 0.8164 - val_loss: 0.5970 - val_accuracy: 0.7625\n",
            "Epoch 85/200\n",
            "23/23 [==============================] - 0s 9ms/step - loss: 0.4673 - accuracy: 0.8220 - val_loss: 0.5945 - val_accuracy: 0.7875\n",
            "Epoch 86/200\n",
            "23/23 [==============================] - 0s 8ms/step - loss: 0.4690 - accuracy: 0.8192 - val_loss: 0.5844 - val_accuracy: 0.8125\n",
            "Epoch 87/200\n",
            "23/23 [==============================] - 0s 9ms/step - loss: 0.4658 - accuracy: 0.8178 - val_loss: 0.5940 - val_accuracy: 0.7875\n",
            "Epoch 88/200\n",
            "23/23 [==============================] - 0s 10ms/step - loss: 0.4687 - accuracy: 0.8220 - val_loss: 0.5839 - val_accuracy: 0.8250\n",
            "Epoch 89/200\n",
            "23/23 [==============================] - 0s 8ms/step - loss: 0.4701 - accuracy: 0.8081 - val_loss: 0.5823 - val_accuracy: 0.8250\n",
            "Epoch 90/200\n",
            "23/23 [==============================] - 0s 10ms/step - loss: 0.4655 - accuracy: 0.8095 - val_loss: 0.5782 - val_accuracy: 0.8125\n",
            "Epoch 91/200\n",
            "23/23 [==============================] - 0s 11ms/step - loss: 0.4633 - accuracy: 0.8275 - val_loss: 0.6091 - val_accuracy: 0.7625\n",
            "Epoch 92/200\n",
            "23/23 [==============================] - 0s 10ms/step - loss: 0.4654 - accuracy: 0.8081 - val_loss: 0.5736 - val_accuracy: 0.8125\n",
            "Epoch 93/200\n",
            "23/23 [==============================] - 0s 10ms/step - loss: 0.4613 - accuracy: 0.8206 - val_loss: 0.6019 - val_accuracy: 0.7875\n",
            "Epoch 94/200\n",
            "23/23 [==============================] - 0s 13ms/step - loss: 0.4599 - accuracy: 0.8206 - val_loss: 0.5760 - val_accuracy: 0.8125\n",
            "Epoch 95/200\n",
            "23/23 [==============================] - 0s 14ms/step - loss: 0.4612 - accuracy: 0.8303 - val_loss: 0.5954 - val_accuracy: 0.7875\n",
            "Epoch 96/200\n",
            "23/23 [==============================] - 0s 10ms/step - loss: 0.4584 - accuracy: 0.8206 - val_loss: 0.5980 - val_accuracy: 0.7750\n",
            "Epoch 97/200\n",
            "23/23 [==============================] - 0s 12ms/step - loss: 0.4591 - accuracy: 0.8234 - val_loss: 0.5983 - val_accuracy: 0.7750\n",
            "Epoch 98/200\n",
            "23/23 [==============================] - 0s 9ms/step - loss: 0.4575 - accuracy: 0.8234 - val_loss: 0.6043 - val_accuracy: 0.7875\n",
            "Epoch 99/200\n",
            "23/23 [==============================] - 0s 11ms/step - loss: 0.4545 - accuracy: 0.8192 - val_loss: 0.5847 - val_accuracy: 0.8125\n",
            "Epoch 100/200\n",
            "23/23 [==============================] - 0s 8ms/step - loss: 0.4544 - accuracy: 0.8248 - val_loss: 0.5991 - val_accuracy: 0.7875\n",
            "Epoch 101/200\n",
            "23/23 [==============================] - 0s 8ms/step - loss: 0.4533 - accuracy: 0.8234 - val_loss: 0.5986 - val_accuracy: 0.7875\n",
            "Epoch 102/200\n",
            "23/23 [==============================] - 0s 9ms/step - loss: 0.4530 - accuracy: 0.8248 - val_loss: 0.5829 - val_accuracy: 0.8125\n",
            "Epoch 103/200\n",
            "23/23 [==============================] - 0s 9ms/step - loss: 0.4528 - accuracy: 0.8275 - val_loss: 0.5927 - val_accuracy: 0.7875\n",
            "Epoch 104/200\n",
            "23/23 [==============================] - 0s 8ms/step - loss: 0.4555 - accuracy: 0.8206 - val_loss: 0.6186 - val_accuracy: 0.7625\n",
            "Epoch 105/200\n",
            "23/23 [==============================] - 0s 8ms/step - loss: 0.4513 - accuracy: 0.8206 - val_loss: 0.5945 - val_accuracy: 0.7750\n",
            "Epoch 106/200\n",
            "23/23 [==============================] - 0s 8ms/step - loss: 0.4507 - accuracy: 0.8136 - val_loss: 0.5671 - val_accuracy: 0.8375\n",
            "Epoch 107/200\n",
            "23/23 [==============================] - 0s 8ms/step - loss: 0.4532 - accuracy: 0.8234 - val_loss: 0.5881 - val_accuracy: 0.8125\n",
            "Epoch 108/200\n",
            "23/23 [==============================] - 0s 8ms/step - loss: 0.4492 - accuracy: 0.8192 - val_loss: 0.5981 - val_accuracy: 0.7875\n",
            "Epoch 109/200\n",
            "23/23 [==============================] - 0s 10ms/step - loss: 0.4490 - accuracy: 0.8248 - val_loss: 0.6104 - val_accuracy: 0.7625\n",
            "Epoch 110/200\n",
            "23/23 [==============================] - 0s 8ms/step - loss: 0.4523 - accuracy: 0.8206 - val_loss: 0.6192 - val_accuracy: 0.7625\n",
            "Epoch 111/200\n",
            "23/23 [==============================] - 0s 8ms/step - loss: 0.4505 - accuracy: 0.8206 - val_loss: 0.6017 - val_accuracy: 0.7875\n",
            "Epoch 112/200\n",
            "23/23 [==============================] - 0s 8ms/step - loss: 0.4528 - accuracy: 0.8220 - val_loss: 0.5930 - val_accuracy: 0.7875\n",
            "Epoch 113/200\n",
            "23/23 [==============================] - 0s 8ms/step - loss: 0.4471 - accuracy: 0.8275 - val_loss: 0.5704 - val_accuracy: 0.8375\n",
            "Epoch 114/200\n",
            "23/23 [==============================] - 0s 9ms/step - loss: 0.4457 - accuracy: 0.8178 - val_loss: 0.5943 - val_accuracy: 0.8000\n",
            "Epoch 115/200\n",
            "23/23 [==============================] - 0s 8ms/step - loss: 0.4447 - accuracy: 0.8275 - val_loss: 0.6008 - val_accuracy: 0.7875\n",
            "Epoch 116/200\n",
            "23/23 [==============================] - 0s 9ms/step - loss: 0.4471 - accuracy: 0.8303 - val_loss: 0.6133 - val_accuracy: 0.7625\n",
            "Epoch 117/200\n",
            "23/23 [==============================] - 0s 8ms/step - loss: 0.4465 - accuracy: 0.8248 - val_loss: 0.5983 - val_accuracy: 0.7875\n",
            "Epoch 118/200\n",
            "23/23 [==============================] - 0s 8ms/step - loss: 0.4547 - accuracy: 0.8150 - val_loss: 0.5733 - val_accuracy: 0.8125\n",
            "Epoch 119/200\n",
            "23/23 [==============================] - 0s 11ms/step - loss: 0.4426 - accuracy: 0.8206 - val_loss: 0.5883 - val_accuracy: 0.8250\n",
            "Epoch 120/200\n",
            "23/23 [==============================] - 0s 8ms/step - loss: 0.4398 - accuracy: 0.8303 - val_loss: 0.5995 - val_accuracy: 0.7750\n",
            "Epoch 121/200\n",
            "23/23 [==============================] - 0s 8ms/step - loss: 0.4417 - accuracy: 0.8248 - val_loss: 0.6045 - val_accuracy: 0.7750\n",
            "Epoch 122/200\n",
            "23/23 [==============================] - 0s 8ms/step - loss: 0.4393 - accuracy: 0.8261 - val_loss: 0.5683 - val_accuracy: 0.8375\n",
            "Epoch 123/200\n",
            "23/23 [==============================] - 0s 9ms/step - loss: 0.4429 - accuracy: 0.8275 - val_loss: 0.5950 - val_accuracy: 0.7875\n",
            "Epoch 124/200\n",
            "23/23 [==============================] - 0s 8ms/step - loss: 0.4398 - accuracy: 0.8275 - val_loss: 0.6028 - val_accuracy: 0.7750\n",
            "Epoch 125/200\n",
            "23/23 [==============================] - 0s 9ms/step - loss: 0.4404 - accuracy: 0.8192 - val_loss: 0.5622 - val_accuracy: 0.8375\n",
            "Epoch 126/200\n",
            "23/23 [==============================] - 0s 9ms/step - loss: 0.4476 - accuracy: 0.8108 - val_loss: 0.5962 - val_accuracy: 0.7875\n",
            "Epoch 127/200\n",
            "23/23 [==============================] - 0s 8ms/step - loss: 0.4388 - accuracy: 0.8275 - val_loss: 0.5762 - val_accuracy: 0.8250\n",
            "Epoch 128/200\n",
            "23/23 [==============================] - 0s 10ms/step - loss: 0.4379 - accuracy: 0.8275 - val_loss: 0.5940 - val_accuracy: 0.7875\n",
            "Epoch 129/200\n",
            "23/23 [==============================] - 0s 9ms/step - loss: 0.4377 - accuracy: 0.8261 - val_loss: 0.6070 - val_accuracy: 0.7625\n",
            "Epoch 130/200\n",
            "23/23 [==============================] - 0s 8ms/step - loss: 0.4367 - accuracy: 0.8234 - val_loss: 0.5822 - val_accuracy: 0.8125\n",
            "Epoch 131/200\n",
            "23/23 [==============================] - 0s 8ms/step - loss: 0.4355 - accuracy: 0.8206 - val_loss: 0.5833 - val_accuracy: 0.8250\n",
            "Epoch 132/200\n",
            "23/23 [==============================] - 0s 8ms/step - loss: 0.4391 - accuracy: 0.8261 - val_loss: 0.6085 - val_accuracy: 0.7625\n",
            "Epoch 133/200\n",
            "23/23 [==============================] - 0s 9ms/step - loss: 0.4352 - accuracy: 0.8234 - val_loss: 0.5764 - val_accuracy: 0.8000\n",
            "Epoch 134/200\n",
            "23/23 [==============================] - 0s 8ms/step - loss: 0.4352 - accuracy: 0.8303 - val_loss: 0.5953 - val_accuracy: 0.8000\n",
            "Epoch 135/200\n",
            "23/23 [==============================] - 0s 8ms/step - loss: 0.4357 - accuracy: 0.8248 - val_loss: 0.5851 - val_accuracy: 0.8125\n",
            "Epoch 136/200\n",
            "23/23 [==============================] - 0s 9ms/step - loss: 0.4337 - accuracy: 0.8192 - val_loss: 0.6102 - val_accuracy: 0.7625\n",
            "Epoch 137/200\n",
            "23/23 [==============================] - 0s 8ms/step - loss: 0.4363 - accuracy: 0.8234 - val_loss: 0.5897 - val_accuracy: 0.8000\n",
            "Epoch 138/200\n",
            "23/23 [==============================] - 0s 12ms/step - loss: 0.4348 - accuracy: 0.8275 - val_loss: 0.5853 - val_accuracy: 0.8250\n",
            "Epoch 139/200\n",
            "23/23 [==============================] - 0s 11ms/step - loss: 0.4345 - accuracy: 0.8303 - val_loss: 0.5888 - val_accuracy: 0.8125\n",
            "Epoch 140/200\n",
            "23/23 [==============================] - 0s 9ms/step - loss: 0.4317 - accuracy: 0.8261 - val_loss: 0.6117 - val_accuracy: 0.7500\n",
            "Epoch 141/200\n",
            "23/23 [==============================] - 0s 8ms/step - loss: 0.4340 - accuracy: 0.8192 - val_loss: 0.5747 - val_accuracy: 0.8375\n",
            "Epoch 142/200\n",
            "23/23 [==============================] - 0s 9ms/step - loss: 0.4334 - accuracy: 0.8331 - val_loss: 0.5838 - val_accuracy: 0.8125\n",
            "Epoch 143/200\n",
            "23/23 [==============================] - 0s 9ms/step - loss: 0.4320 - accuracy: 0.8261 - val_loss: 0.5741 - val_accuracy: 0.8250\n",
            "Epoch 144/200\n",
            "23/23 [==============================] - 0s 12ms/step - loss: 0.4361 - accuracy: 0.8303 - val_loss: 0.5818 - val_accuracy: 0.8250\n",
            "Epoch 145/200\n",
            "23/23 [==============================] - 0s 9ms/step - loss: 0.4351 - accuracy: 0.8317 - val_loss: 0.6336 - val_accuracy: 0.7500\n",
            "Epoch 146/200\n",
            "23/23 [==============================] - 0s 8ms/step - loss: 0.4326 - accuracy: 0.8192 - val_loss: 0.6065 - val_accuracy: 0.7625\n",
            "Epoch 147/200\n",
            "23/23 [==============================] - 0s 9ms/step - loss: 0.4318 - accuracy: 0.8317 - val_loss: 0.5916 - val_accuracy: 0.7875\n",
            "Epoch 148/200\n",
            "23/23 [==============================] - 0s 9ms/step - loss: 0.4296 - accuracy: 0.8317 - val_loss: 0.5813 - val_accuracy: 0.8125\n",
            "Epoch 149/200\n",
            "23/23 [==============================] - 0s 11ms/step - loss: 0.4290 - accuracy: 0.8289 - val_loss: 0.5700 - val_accuracy: 0.8250\n",
            "Epoch 150/200\n",
            "23/23 [==============================] - 0s 10ms/step - loss: 0.4321 - accuracy: 0.8303 - val_loss: 0.6182 - val_accuracy: 0.7625\n",
            "Epoch 151/200\n",
            "23/23 [==============================] - 0s 9ms/step - loss: 0.4282 - accuracy: 0.8345 - val_loss: 0.5904 - val_accuracy: 0.7875\n",
            "Epoch 152/200\n",
            "23/23 [==============================] - 0s 9ms/step - loss: 0.4284 - accuracy: 0.8234 - val_loss: 0.6044 - val_accuracy: 0.7625\n",
            "Epoch 153/200\n",
            "23/23 [==============================] - 0s 8ms/step - loss: 0.4277 - accuracy: 0.8234 - val_loss: 0.6009 - val_accuracy: 0.7750\n",
            "Epoch 154/200\n",
            "23/23 [==============================] - 0s 9ms/step - loss: 0.4284 - accuracy: 0.8234 - val_loss: 0.5992 - val_accuracy: 0.7625\n",
            "Epoch 155/200\n",
            "23/23 [==============================] - 0s 8ms/step - loss: 0.4266 - accuracy: 0.8275 - val_loss: 0.6196 - val_accuracy: 0.7500\n",
            "Epoch 156/200\n",
            "23/23 [==============================] - 0s 9ms/step - loss: 0.4292 - accuracy: 0.8261 - val_loss: 0.5841 - val_accuracy: 0.8000\n",
            "Epoch 157/200\n",
            "23/23 [==============================] - 0s 8ms/step - loss: 0.4282 - accuracy: 0.8275 - val_loss: 0.5685 - val_accuracy: 0.8375\n",
            "Epoch 158/200\n",
            "23/23 [==============================] - 0s 10ms/step - loss: 0.4309 - accuracy: 0.8275 - val_loss: 0.5818 - val_accuracy: 0.8500\n",
            "Epoch 159/200\n",
            "23/23 [==============================] - 0s 12ms/step - loss: 0.4266 - accuracy: 0.8220 - val_loss: 0.5738 - val_accuracy: 0.8375\n",
            "Epoch 160/200\n",
            "23/23 [==============================] - 0s 9ms/step - loss: 0.4297 - accuracy: 0.8303 - val_loss: 0.5763 - val_accuracy: 0.8500\n",
            "Epoch 161/200\n",
            "23/23 [==============================] - 0s 9ms/step - loss: 0.4272 - accuracy: 0.8248 - val_loss: 0.5737 - val_accuracy: 0.8375\n",
            "Epoch 162/200\n",
            "23/23 [==============================] - 0s 8ms/step - loss: 0.4253 - accuracy: 0.8275 - val_loss: 0.5852 - val_accuracy: 0.7875\n",
            "Epoch 163/200\n",
            "23/23 [==============================] - 0s 9ms/step - loss: 0.4282 - accuracy: 0.8303 - val_loss: 0.5919 - val_accuracy: 0.7875\n",
            "Epoch 164/200\n",
            "23/23 [==============================] - 0s 9ms/step - loss: 0.4247 - accuracy: 0.8317 - val_loss: 0.5780 - val_accuracy: 0.8375\n",
            "Epoch 165/200\n",
            "23/23 [==============================] - 0s 9ms/step - loss: 0.4242 - accuracy: 0.8387 - val_loss: 0.5964 - val_accuracy: 0.7625\n",
            "Epoch 166/200\n",
            "23/23 [==============================] - 0s 9ms/step - loss: 0.4247 - accuracy: 0.8261 - val_loss: 0.6173 - val_accuracy: 0.7625\n",
            "Epoch 167/200\n",
            "23/23 [==============================] - 0s 9ms/step - loss: 0.4254 - accuracy: 0.8261 - val_loss: 0.6108 - val_accuracy: 0.7625\n",
            "Epoch 168/200\n",
            "23/23 [==============================] - 0s 8ms/step - loss: 0.4226 - accuracy: 0.8345 - val_loss: 0.5937 - val_accuracy: 0.7875\n",
            "Epoch 169/200\n",
            "23/23 [==============================] - 0s 10ms/step - loss: 0.4225 - accuracy: 0.8373 - val_loss: 0.5856 - val_accuracy: 0.8000\n",
            "Epoch 170/200\n",
            "23/23 [==============================] - 0s 8ms/step - loss: 0.4224 - accuracy: 0.8331 - val_loss: 0.6238 - val_accuracy: 0.7625\n",
            "Epoch 171/200\n",
            "23/23 [==============================] - 0s 8ms/step - loss: 0.4215 - accuracy: 0.8275 - val_loss: 0.5705 - val_accuracy: 0.8375\n",
            "Epoch 172/200\n",
            "23/23 [==============================] - 0s 8ms/step - loss: 0.4213 - accuracy: 0.8289 - val_loss: 0.6061 - val_accuracy: 0.7625\n",
            "Epoch 173/200\n",
            "23/23 [==============================] - 0s 8ms/step - loss: 0.4193 - accuracy: 0.8331 - val_loss: 0.5720 - val_accuracy: 0.8375\n",
            "Epoch 174/200\n",
            "23/23 [==============================] - 0s 9ms/step - loss: 0.4202 - accuracy: 0.8275 - val_loss: 0.5995 - val_accuracy: 0.7750\n",
            "Epoch 175/200\n",
            "23/23 [==============================] - 0s 9ms/step - loss: 0.4217 - accuracy: 0.8303 - val_loss: 0.6128 - val_accuracy: 0.7500\n",
            "Epoch 176/200\n",
            "23/23 [==============================] - 0s 9ms/step - loss: 0.4184 - accuracy: 0.8261 - val_loss: 0.5724 - val_accuracy: 0.8000\n",
            "Epoch 177/200\n",
            "23/23 [==============================] - 0s 8ms/step - loss: 0.4241 - accuracy: 0.8234 - val_loss: 0.5667 - val_accuracy: 0.8250\n",
            "Epoch 178/200\n",
            "23/23 [==============================] - 0s 9ms/step - loss: 0.4217 - accuracy: 0.8206 - val_loss: 0.6369 - val_accuracy: 0.7625\n",
            "Epoch 179/200\n",
            "23/23 [==============================] - 0s 10ms/step - loss: 0.4196 - accuracy: 0.8289 - val_loss: 0.5824 - val_accuracy: 0.8125\n",
            "Epoch 180/200\n",
            "23/23 [==============================] - 0s 9ms/step - loss: 0.4188 - accuracy: 0.8261 - val_loss: 0.5837 - val_accuracy: 0.8000\n",
            "Epoch 181/200\n",
            "23/23 [==============================] - 0s 8ms/step - loss: 0.4190 - accuracy: 0.8359 - val_loss: 0.5882 - val_accuracy: 0.8000\n",
            "Epoch 182/200\n",
            "23/23 [==============================] - 0s 9ms/step - loss: 0.4182 - accuracy: 0.8303 - val_loss: 0.5882 - val_accuracy: 0.8000\n",
            "Epoch 183/200\n",
            "23/23 [==============================] - 0s 8ms/step - loss: 0.4179 - accuracy: 0.8248 - val_loss: 0.5773 - val_accuracy: 0.8250\n",
            "Epoch 184/200\n",
            "23/23 [==============================] - 0s 9ms/step - loss: 0.4170 - accuracy: 0.8289 - val_loss: 0.5832 - val_accuracy: 0.8250\n",
            "Epoch 185/200\n",
            "23/23 [==============================] - 0s 9ms/step - loss: 0.4180 - accuracy: 0.8234 - val_loss: 0.5958 - val_accuracy: 0.7750\n",
            "Epoch 186/200\n",
            "23/23 [==============================] - 0s 9ms/step - loss: 0.4178 - accuracy: 0.8192 - val_loss: 0.5663 - val_accuracy: 0.8125\n",
            "Epoch 187/200\n",
            "23/23 [==============================] - 0s 8ms/step - loss: 0.4210 - accuracy: 0.8220 - val_loss: 0.5927 - val_accuracy: 0.7750\n",
            "Epoch 188/200\n",
            "23/23 [==============================] - 0s 9ms/step - loss: 0.4205 - accuracy: 0.8331 - val_loss: 0.6214 - val_accuracy: 0.7625\n",
            "Epoch 189/200\n",
            "23/23 [==============================] - 0s 10ms/step - loss: 0.4151 - accuracy: 0.8275 - val_loss: 0.5840 - val_accuracy: 0.8000\n",
            "Epoch 190/200\n",
            "23/23 [==============================] - 0s 9ms/step - loss: 0.4198 - accuracy: 0.8373 - val_loss: 0.5952 - val_accuracy: 0.7750\n",
            "Epoch 191/200\n",
            "23/23 [==============================] - 0s 8ms/step - loss: 0.4166 - accuracy: 0.8317 - val_loss: 0.6066 - val_accuracy: 0.7625\n",
            "Epoch 192/200\n",
            "23/23 [==============================] - 0s 8ms/step - loss: 0.4144 - accuracy: 0.8317 - val_loss: 0.5727 - val_accuracy: 0.8375\n",
            "Epoch 193/200\n",
            "23/23 [==============================] - 0s 9ms/step - loss: 0.4171 - accuracy: 0.8303 - val_loss: 0.5737 - val_accuracy: 0.8125\n",
            "Epoch 194/200\n",
            "23/23 [==============================] - 0s 8ms/step - loss: 0.4172 - accuracy: 0.8220 - val_loss: 0.6041 - val_accuracy: 0.7625\n",
            "Epoch 195/200\n",
            "23/23 [==============================] - 0s 9ms/step - loss: 0.4142 - accuracy: 0.8303 - val_loss: 0.5739 - val_accuracy: 0.8375\n",
            "Epoch 196/200\n",
            "23/23 [==============================] - 0s 11ms/step - loss: 0.4130 - accuracy: 0.8261 - val_loss: 0.6049 - val_accuracy: 0.7750\n",
            "Epoch 197/200\n",
            "23/23 [==============================] - 0s 9ms/step - loss: 0.4150 - accuracy: 0.8331 - val_loss: 0.5871 - val_accuracy: 0.8000\n",
            "Epoch 198/200\n",
            "23/23 [==============================] - 0s 8ms/step - loss: 0.4133 - accuracy: 0.8331 - val_loss: 0.5850 - val_accuracy: 0.8125\n",
            "Epoch 199/200\n",
            "23/23 [==============================] - 0s 10ms/step - loss: 0.4141 - accuracy: 0.8331 - val_loss: 0.5875 - val_accuracy: 0.8000\n",
            "Epoch 200/200\n",
            "23/23 [==============================] - 0s 9ms/step - loss: 0.4148 - accuracy: 0.8359 - val_loss: 0.6041 - val_accuracy: 0.7750\n"
          ]
        }
      ],
      "source": [
        "# Train the network with the optimized parameters\n",
        "model = create_model(xopt)\n",
        "history = model.fit(X_train, y_train, validation_data=(X_test, y_test), batch_size=32, epochs=200)"
      ]
    },
    {
      "cell_type": "markdown",
      "metadata": {
        "id": "bXuez8n6TSrv"
      },
      "source": [
        "# Evaluation of the model"
      ]
    },
    {
      "cell_type": "code",
      "execution_count": null,
      "metadata": {
        "ExecuteTime": {
          "end_time": "2024-04-03T14:46:39.923478Z",
          "start_time": "2024-04-03T14:46:39.630673Z"
        },
        "id": "89maIFccTW_D",
        "outputId": "a2f6a962-7900-4f67-a2fe-6ff0d18cc5d2"
      },
      "outputs": [
        {
          "data": {
            "text/plain": [
              "Text(0.5, 1.0, 'Model Accuracy')"
            ]
          },
          "execution_count": 22,
          "metadata": {},
          "output_type": "execute_result"
        },
        {
          "data": {
            "image/png": "[encoded data removed]",
            "text/plain": [
              "<Figure size 640x480 with 1 Axes>"
            ]
          },
          "metadata": {},
          "output_type": "display_data"
        }
      ],
      "source": [
        "import matplotlib.pyplot as plt\n",
        "\n",
        "plt.plot(history.history['accuracy'], label='accuracy')\n",
        "plt.plot(history.history['val_accuracy'], label='val_accuracy')\n",
        "plt.xlabel('Epoch')\n",
        "plt.ylabel('Accuracy')\n",
        "plt.title('Model Accuracy')"
      ]
    },
    {
      "cell_type": "code",
      "execution_count": null,
      "metadata": {
        "ExecuteTime": {
          "end_time": "2024-04-03T14:46:43.611948Z",
          "start_time": "2024-04-03T14:46:43.502948Z"
        },
        "jupyter": {
          "outputs_hidden": false
        },
        "id": "6e8m-LnpE3dt",
        "outputId": "5d51dea9-04d2-4a5a-f587-f300584c9d0b"
      },
      "outputs": [
        {
          "name": "stdout",
          "output_type": "stream",
          "text": [
            "3/3 [==============================] - 0s 7ms/step - loss: 0.6041 - accuracy: 0.7750\n",
            "Accuracy: 77.50%\n"
          ]
        }
      ],
      "source": [
        "loss, accuracy = model.evaluate(X_test, y_test)\n",
        "print(f'Accuracy: {accuracy * 100:.2f}%')"
      ]
    },
    {
      "cell_type": "code",
      "execution_count": null,
      "metadata": {
        "ExecuteTime": {
          "end_time": "2024-04-03T14:46:44.732594Z",
          "start_time": "2024-04-03T14:46:44.543007Z"
        },
        "jupyter": {
          "outputs_hidden": false
        },
        "id": "38eLO7pfE3dt",
        "outputId": "e830afc3-d6b7-4e77-aae3-58e58d76193a"
      },
      "outputs": [
        {
          "name": "stdout",
          "output_type": "stream",
          "text": [
            "3/3 [==============================] - 0s 3ms/step\n"
          ]
        }
      ],
      "source": [
        "# Predictions\n",
        "y_pred = model.predict(X_test)\n",
        "y_pred = np.argmax(y_pred, axis=1)\n",
        "y_test = np.argmax(y_test, axis=1)"
      ]
    },
    {
      "cell_type": "code",
      "execution_count": null,
      "metadata": {
        "ExecuteTime": {
          "end_time": "2024-04-03T14:46:45.716030Z",
          "start_time": "2024-04-03T14:46:45.409973Z"
        },
        "jupyter": {
          "outputs_hidden": false
        },
        "id": "OeeDPCJJE3dt",
        "outputId": "f2854abe-2a3c-43fa-f879-5a3e521c5fce"
      },
      "outputs": [
        {
          "data": {
            "text/plain": [
              "[Text(0, 0.5, 'Excellent'),\n",
              " Text(0, 1.5, 'Fair'),\n",
              " Text(0, 2.5, 'Good'),\n",
              " Text(0, 3.5, 'Medium'),\n",
              " Text(0, 4.5, 'Poor')]"
            ]
          },
          "execution_count": 25,
          "metadata": {},
          "output_type": "execute_result"
        },
        {
          "data": {
            "image/png": "[encoded data removed]",
            "text/plain": [
              "<Figure size 640x480 with 2 Axes>"
            ]
          },
          "metadata": {},
          "output_type": "display_data"
        }
      ],
      "source": [
        "# Confusion matrix\n",
        "from sklearn.metrics import confusion_matrix, classification_report\n",
        "import seaborn as sns\n",
        "import matplotlib.pyplot as plt\n",
        "\n",
        "cm = confusion_matrix(y_test, y_pred)\n",
        "\n",
        "ax = plt.subplot()\n",
        "sns.heatmap(cm, annot=True, fmt='g', ax=ax)\n",
        "ax.set_xlabel('Predicted labels')\n",
        "ax.set_ylabel('True labels')\n",
        "ax.set_title('Confusion Matrix')\n",
        "ax.xaxis.set_ticklabels(label_cls)\n",
        "ax.yaxis.set_ticklabels(label_cls)"
      ]
    },
    {
      "cell_type": "code",
      "execution_count": null,
      "metadata": {
        "ExecuteTime": {
          "end_time": "2024-04-03T14:46:47.044972Z",
          "start_time": "2024-04-03T14:46:47.024973Z"
        },
        "jupyter": {
          "outputs_hidden": false
        },
        "id": "SNwQpRn5E3dt",
        "outputId": "643948c9-0d4d-4f47-cd21-f5a5a5c4fa8d"
      },
      "outputs": [
        {
          "name": "stdout",
          "output_type": "stream",
          "text": [
            "              precision    recall  f1-score   support\n",
            "\n",
            "   Excellent       1.00      0.93      0.96        14\n",
            "        Fair       0.75      0.75      0.75        16\n",
            "        Good       0.77      0.56      0.65        18\n",
            "      Medium       0.58      0.69      0.63        16\n",
            "        Poor       0.84      1.00      0.91        16\n",
            "\n",
            "    accuracy                           0.78        80\n",
            "   macro avg       0.79      0.78      0.78        80\n",
            "weighted avg       0.78      0.78      0.77        80\n"
          ]
        }
      ],
      "source": [
        "# Classification report\n",
        "print(classification_report(y_test, y_pred, target_names=label_cls))"
      ]
    },
    {
      "cell_type": "markdown",
      "metadata": {
        "collapsed": false,
        "jupyter": {
          "outputs_hidden": false
        },
        "id": "BK_i9UieE3dw"
      },
      "source": [
        "# **Predictions**"
      ]
    },
    {
      "cell_type": "code",
      "execution_count": null,
      "metadata": {
        "jupyter": {
          "outputs_hidden": false
        },
        "id": "Vp-X0GHAE3dx"
      },
      "outputs": [],
      "source": [
        "# from tqdm import tqdm\n",
        "#\n",
        "# df_final['predicted_wqc'] = ''\n",
        "#\n",
        "# for idx, row in tqdm(df_final.iterrows(), total=df_final.shape[0]):\n",
        "#     features = row.drop(['wqc', 'predicted_wqc'])\n",
        "#     features = scaler_feature.transform([features])\n",
        "#     prediction = model.predict(features, verbose=0)\n",
        "#     prediction = np.argmax(prediction, axis=1)\n",
        "#     label = label_cls[prediction[0]]\n",
        "#     df_final.at[idx, 'predicted_wqc'] = label"
      ]
    }
  ],
  "metadata": {
    "colab": {
      "provenance": [],
      "gpuType": "T4"
    },
    "kernelspec": {
      "display_name": "Python 3",
      "name": "python3"
    },
    "language_info": {
      "codemirror_mode": {
        "name": "ipython",
        "version": 3
      },
      "file_extension": ".py",
      "mimetype": "text/x-python",
      "name": "python",
      "nbconvert_exporter": "python",
      "pygments_lexer": "ipython3",
      "version": "3.9.8"
    },
    "accelerator": "GPU"
  },
  "nbformat": 4,
  "nbformat_minor": 0
}